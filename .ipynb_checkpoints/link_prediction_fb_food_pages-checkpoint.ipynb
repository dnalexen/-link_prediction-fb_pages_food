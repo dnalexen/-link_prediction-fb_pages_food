{
 "cells": [
  {
   "cell_type": "markdown",
   "metadata": {
    "id": "bRryyOWYhTEg"
   },
   "source": [
    "## 1- Introduction"
   ]
  },
  {
   "cell_type": "markdown",
   "metadata": {
    "id": "jNDV4wY0vYi7"
   },
   "source": [
    "Source dataset: http://networkrepository.com/fb-pages-food.php"
   ]
  },
  {
   "cell_type": "markdown",
   "metadata": {
    "id": "PP_EfiynvYjK"
   },
   "source": [
    "The goal of this project is to predict whether or not two restaurants facebook pages will mutually like them in the future."
   ]
  },
  {
   "cell_type": "markdown",
   "metadata": {
    "id": "PzeEbNmNvYjb"
   },
   "source": [
    "The dataset is composed of two files:\n",
    "- 'fb-pages-food.nodes' contains the information on the nodes or the restaurants facebook pages,\n",
    "- 'fb-pages-food.edges' contains the existing edges between the nodes: there is an edge between two nodes if these two nodes or pages have mutually liked them."
   ]
  },
  {
   "cell_type": "markdown",
   "metadata": {
    "id": "jALU9MSqhY7t"
   },
   "source": [
    "## 2- Environment preparation and Import of Libraries"
   ]
  },
  {
   "cell_type": "code",
   "execution_count": 1,
   "metadata": {
    "colab": {
     "base_uri": "https://localhost:8080/",
     "height": 785
    },
    "executionInfo": {
     "elapsed": 29139,
     "status": "ok",
     "timestamp": 1601281001513,
     "user": {
      "displayName": "A D",
      "photoUrl": "",
      "userId": "14584707532892118607"
     },
     "user_tz": -120
    },
    "id": "Tknf-FQ-v3lF",
    "outputId": "414aa5c5-e523-4276-c915-4955d7df0857"
   },
   "outputs": [
    {
     "name": "stdout",
     "output_type": "stream",
     "text": [
      "Collecting node2vec\n",
      "  Downloading https://files.pythonhosted.org/packages/c0/da/7f0c49433ef91033e21d523e82be1570074a5d6ab8c74f8771774e9d2fd1/node2vec-0.3.2-py3-none-any.whl\n",
      "Requirement already satisfied: gensim in /usr/local/lib/python3.6/dist-packages (from node2vec) (3.6.0)\n",
      "Requirement already satisfied: numpy in /usr/local/lib/python3.6/dist-packages (from node2vec) (1.18.5)\n",
      "Requirement already satisfied: tqdm in /usr/local/lib/python3.6/dist-packages (from node2vec) (4.41.1)\n",
      "Requirement already satisfied: joblib>=0.13.2 in /usr/local/lib/python3.6/dist-packages (from node2vec) (0.16.0)\n",
      "Requirement already satisfied: networkx in /usr/local/lib/python3.6/dist-packages (from node2vec) (2.5)\n",
      "Requirement already satisfied: six>=1.5.0 in /usr/local/lib/python3.6/dist-packages (from gensim->node2vec) (1.15.0)\n",
      "Requirement already satisfied: smart-open>=1.2.1 in /usr/local/lib/python3.6/dist-packages (from gensim->node2vec) (2.1.1)\n",
      "Requirement already satisfied: scipy>=0.18.1 in /usr/local/lib/python3.6/dist-packages (from gensim->node2vec) (1.4.1)\n",
      "Requirement already satisfied: decorator>=4.3.0 in /usr/local/lib/python3.6/dist-packages (from networkx->node2vec) (4.4.2)\n",
      "Requirement already satisfied: boto3 in /usr/local/lib/python3.6/dist-packages (from smart-open>=1.2.1->gensim->node2vec) (1.14.63)\n",
      "Requirement already satisfied: requests in /usr/local/lib/python3.6/dist-packages (from smart-open>=1.2.1->gensim->node2vec) (2.23.0)\n",
      "Requirement already satisfied: boto in /usr/local/lib/python3.6/dist-packages (from smart-open>=1.2.1->gensim->node2vec) (2.49.0)\n",
      "Requirement already satisfied: s3transfer<0.4.0,>=0.3.0 in /usr/local/lib/python3.6/dist-packages (from boto3->smart-open>=1.2.1->gensim->node2vec) (0.3.3)\n",
      "Requirement already satisfied: jmespath<1.0.0,>=0.7.1 in /usr/local/lib/python3.6/dist-packages (from boto3->smart-open>=1.2.1->gensim->node2vec) (0.10.0)\n",
      "Requirement already satisfied: botocore<1.18.0,>=1.17.63 in /usr/local/lib/python3.6/dist-packages (from boto3->smart-open>=1.2.1->gensim->node2vec) (1.17.63)\n",
      "Requirement already satisfied: certifi>=2017.4.17 in /usr/local/lib/python3.6/dist-packages (from requests->smart-open>=1.2.1->gensim->node2vec) (2020.6.20)\n",
      "Requirement already satisfied: chardet<4,>=3.0.2 in /usr/local/lib/python3.6/dist-packages (from requests->smart-open>=1.2.1->gensim->node2vec) (3.0.4)\n",
      "Requirement already satisfied: idna<3,>=2.5 in /usr/local/lib/python3.6/dist-packages (from requests->smart-open>=1.2.1->gensim->node2vec) (2.10)\n",
      "Requirement already satisfied: urllib3!=1.25.0,!=1.25.1,<1.26,>=1.21.1 in /usr/local/lib/python3.6/dist-packages (from requests->smart-open>=1.2.1->gensim->node2vec) (1.24.3)\n",
      "Requirement already satisfied: python-dateutil<3.0.0,>=2.1 in /usr/local/lib/python3.6/dist-packages (from botocore<1.18.0,>=1.17.63->boto3->smart-open>=1.2.1->gensim->node2vec) (2.8.1)\n",
      "Requirement already satisfied: docutils<0.16,>=0.10 in /usr/local/lib/python3.6/dist-packages (from botocore<1.18.0,>=1.17.63->boto3->smart-open>=1.2.1->gensim->node2vec) (0.15.2)\n",
      "Installing collected packages: node2vec\n",
      "Successfully installed node2vec-0.3.2\n",
      "Collecting h2o\n",
      "\u001b[?25l  Downloading https://files.pythonhosted.org/packages/b7/83/53eb19ffd83e99ccd77bd1ee9f87b2a663f75f5cb725cdac3eaa004de197/h2o-3.30.1.2.tar.gz (129.4MB)\n",
      "\u001b[K     |████████████████████████████████| 129.4MB 74kB/s \n",
      "\u001b[?25hRequirement already satisfied: requests in /usr/local/lib/python3.6/dist-packages (from h2o) (2.23.0)\n",
      "Requirement already satisfied: tabulate in /usr/local/lib/python3.6/dist-packages (from h2o) (0.8.7)\n",
      "Requirement already satisfied: future in /usr/local/lib/python3.6/dist-packages (from h2o) (0.16.0)\n",
      "Collecting colorama>=0.3.8\n",
      "  Downloading https://files.pythonhosted.org/packages/c9/dc/45cdef1b4d119eb96316b3117e6d5708a08029992b2fee2c143c7a0a5cc5/colorama-0.4.3-py2.py3-none-any.whl\n",
      "Requirement already satisfied: chardet<4,>=3.0.2 in /usr/local/lib/python3.6/dist-packages (from requests->h2o) (3.0.4)\n",
      "Requirement already satisfied: idna<3,>=2.5 in /usr/local/lib/python3.6/dist-packages (from requests->h2o) (2.10)\n",
      "Requirement already satisfied: urllib3!=1.25.0,!=1.25.1,<1.26,>=1.21.1 in /usr/local/lib/python3.6/dist-packages (from requests->h2o) (1.24.3)\n",
      "Requirement already satisfied: certifi>=2017.4.17 in /usr/local/lib/python3.6/dist-packages (from requests->h2o) (2020.6.20)\n",
      "Building wheels for collected packages: h2o\n",
      "  Building wheel for h2o (setup.py) ... \u001b[?25l\u001b[?25hdone\n",
      "  Created wheel for h2o: filename=h2o-3.30.1.2-py2.py3-none-any.whl size=129446949 sha256=ec7f7ba3c55d8a0588e648a077bddf613cd7f9d0c24f4d86c9e2894708366071\n",
      "  Stored in directory: /root/.cache/pip/wheels/c6/be/83/a33a3c1c97fce1d136222bf4ed6d79da405ef6103f5b434c1e\n",
      "Successfully built h2o\n",
      "Installing collected packages: colorama, h2o\n",
      "Successfully installed colorama-0.4.3 h2o-3.30.1.2\n"
     ]
    }
   ],
   "source": [
    "!pip install node2vec\n",
    "!pip install h2o"
   ]
  },
  {
   "cell_type": "code",
   "execution_count": 2,
   "metadata": {
    "colab": {
     "base_uri": "https://localhost:8080/",
     "height": 1000
    },
    "executionInfo": {
     "elapsed": 6966,
     "status": "ok",
     "timestamp": 1601281022769,
     "user": {
      "displayName": "A D",
      "photoUrl": "",
      "userId": "14584707532892118607"
     },
     "user_tz": -120
    },
    "id": "tESeziy_YPk3",
    "outputId": "51dc8609-48c3-49c1-bbc7-4a8651450c44"
   },
   "outputs": [
    {
     "name": "stdout",
     "output_type": "stream",
     "text": [
      "Collecting stellargraph\n",
      "\u001b[?25l  Downloading https://files.pythonhosted.org/packages/74/78/16b23ef04cf6fb24a7dea9fd0e03c8308a56681cc5efe29f16186210ba04/stellargraph-1.2.1-py3-none-any.whl (435kB)\n",
      "\r",
      "\u001b[K     |▊                               | 10kB 15.1MB/s eta 0:00:01\r",
      "\u001b[K     |█▌                              | 20kB 1.8MB/s eta 0:00:01\r",
      "\u001b[K     |██▎                             | 30kB 2.2MB/s eta 0:00:01\r",
      "\u001b[K     |███                             | 40kB 2.5MB/s eta 0:00:01\r",
      "\u001b[K     |███▊                            | 51kB 2.1MB/s eta 0:00:01\r",
      "\u001b[K     |████▌                           | 61kB 2.3MB/s eta 0:00:01\r",
      "\u001b[K     |█████▎                          | 71kB 2.5MB/s eta 0:00:01\r",
      "\u001b[K     |██████                          | 81kB 2.8MB/s eta 0:00:01\r",
      "\u001b[K     |██████▊                         | 92kB 3.0MB/s eta 0:00:01\r",
      "\u001b[K     |███████▌                        | 102kB 2.8MB/s eta 0:00:01\r",
      "\u001b[K     |████████▎                       | 112kB 2.8MB/s eta 0:00:01\r",
      "\u001b[K     |█████████                       | 122kB 2.8MB/s eta 0:00:01\r",
      "\u001b[K     |█████████▉                      | 133kB 2.8MB/s eta 0:00:01\r",
      "\u001b[K     |██████████▌                     | 143kB 2.8MB/s eta 0:00:01\r",
      "\u001b[K     |███████████▎                    | 153kB 2.8MB/s eta 0:00:01\r",
      "\u001b[K     |████████████                    | 163kB 2.8MB/s eta 0:00:01\r",
      "\u001b[K     |████████████▉                   | 174kB 2.8MB/s eta 0:00:01\r",
      "\u001b[K     |█████████████▌                  | 184kB 2.8MB/s eta 0:00:01\r",
      "\u001b[K     |██████████████▎                 | 194kB 2.8MB/s eta 0:00:01\r",
      "\u001b[K     |███████████████                 | 204kB 2.8MB/s eta 0:00:01\r",
      "\u001b[K     |███████████████▉                | 215kB 2.8MB/s eta 0:00:01\r",
      "\u001b[K     |████████████████▋               | 225kB 2.8MB/s eta 0:00:01\r",
      "\u001b[K     |█████████████████▎              | 235kB 2.8MB/s eta 0:00:01\r",
      "\u001b[K     |██████████████████              | 245kB 2.8MB/s eta 0:00:01\r",
      "\u001b[K     |██████████████████▉             | 256kB 2.8MB/s eta 0:00:01\r",
      "\u001b[K     |███████████████████▋            | 266kB 2.8MB/s eta 0:00:01\r",
      "\u001b[K     |████████████████████▎           | 276kB 2.8MB/s eta 0:00:01\r",
      "\u001b[K     |█████████████████████           | 286kB 2.8MB/s eta 0:00:01\r",
      "\u001b[K     |█████████████████████▉          | 296kB 2.8MB/s eta 0:00:01\r",
      "\u001b[K     |██████████████████████▋         | 307kB 2.8MB/s eta 0:00:01\r",
      "\u001b[K     |███████████████████████▍        | 317kB 2.8MB/s eta 0:00:01\r",
      "\u001b[K     |████████████████████████        | 327kB 2.8MB/s eta 0:00:01\r",
      "\u001b[K     |████████████████████████▉       | 337kB 2.8MB/s eta 0:00:01\r",
      "\u001b[K     |█████████████████████████▋      | 348kB 2.8MB/s eta 0:00:01\r",
      "\u001b[K     |██████████████████████████▍     | 358kB 2.8MB/s eta 0:00:01\r",
      "\u001b[K     |███████████████████████████     | 368kB 2.8MB/s eta 0:00:01\r",
      "\u001b[K     |███████████████████████████▉    | 378kB 2.8MB/s eta 0:00:01\r",
      "\u001b[K     |████████████████████████████▋   | 389kB 2.8MB/s eta 0:00:01\r",
      "\u001b[K     |█████████████████████████████▍  | 399kB 2.8MB/s eta 0:00:01\r",
      "\u001b[K     |██████████████████████████████▏ | 409kB 2.8MB/s eta 0:00:01\r",
      "\u001b[K     |██████████████████████████████▉ | 419kB 2.8MB/s eta 0:00:01\r",
      "\u001b[K     |███████████████████████████████▋| 430kB 2.8MB/s eta 0:00:01\r",
      "\u001b[K     |████████████████████████████████| 440kB 2.8MB/s \n",
      "\u001b[?25hRequirement already satisfied: scipy>=1.1.0 in /usr/local/lib/python3.6/dist-packages (from stellargraph) (1.4.1)\n",
      "Requirement already satisfied: matplotlib>=2.2 in /usr/local/lib/python3.6/dist-packages (from stellargraph) (3.2.2)\n",
      "Requirement already satisfied: tensorflow>=2.1.0 in /usr/local/lib/python3.6/dist-packages (from stellargraph) (2.3.0)\n",
      "Requirement already satisfied: scikit-learn>=0.20 in /usr/local/lib/python3.6/dist-packages (from stellargraph) (0.22.2.post1)\n",
      "Requirement already satisfied: gensim>=3.4.0 in /usr/local/lib/python3.6/dist-packages (from stellargraph) (3.6.0)\n",
      "Requirement already satisfied: pandas>=0.24 in /usr/local/lib/python3.6/dist-packages (from stellargraph) (1.0.5)\n",
      "Requirement already satisfied: networkx>=2.2 in /usr/local/lib/python3.6/dist-packages (from stellargraph) (2.5)\n",
      "Requirement already satisfied: numpy>=1.14 in /usr/local/lib/python3.6/dist-packages (from stellargraph) (1.18.5)\n",
      "Requirement already satisfied: python-dateutil>=2.1 in /usr/local/lib/python3.6/dist-packages (from matplotlib>=2.2->stellargraph) (2.8.1)\n",
      "Requirement already satisfied: kiwisolver>=1.0.1 in /usr/local/lib/python3.6/dist-packages (from matplotlib>=2.2->stellargraph) (1.2.0)\n",
      "Requirement already satisfied: pyparsing!=2.0.4,!=2.1.2,!=2.1.6,>=2.0.1 in /usr/local/lib/python3.6/dist-packages (from matplotlib>=2.2->stellargraph) (2.4.7)\n",
      "Requirement already satisfied: cycler>=0.10 in /usr/local/lib/python3.6/dist-packages (from matplotlib>=2.2->stellargraph) (0.10.0)\n",
      "Requirement already satisfied: tensorboard<3,>=2.3.0 in /usr/local/lib/python3.6/dist-packages (from tensorflow>=2.1.0->stellargraph) (2.3.0)\n",
      "Requirement already satisfied: tensorflow-estimator<2.4.0,>=2.3.0 in /usr/local/lib/python3.6/dist-packages (from tensorflow>=2.1.0->stellargraph) (2.3.0)\n",
      "Requirement already satisfied: termcolor>=1.1.0 in /usr/local/lib/python3.6/dist-packages (from tensorflow>=2.1.0->stellargraph) (1.1.0)\n",
      "Requirement already satisfied: astunparse==1.6.3 in /usr/local/lib/python3.6/dist-packages (from tensorflow>=2.1.0->stellargraph) (1.6.3)\n",
      "Requirement already satisfied: h5py<2.11.0,>=2.10.0 in /usr/local/lib/python3.6/dist-packages (from tensorflow>=2.1.0->stellargraph) (2.10.0)\n",
      "Requirement already satisfied: grpcio>=1.8.6 in /usr/local/lib/python3.6/dist-packages (from tensorflow>=2.1.0->stellargraph) (1.32.0)\n",
      "Requirement already satisfied: wheel>=0.26 in /usr/local/lib/python3.6/dist-packages (from tensorflow>=2.1.0->stellargraph) (0.35.1)\n",
      "Requirement already satisfied: six>=1.12.0 in /usr/local/lib/python3.6/dist-packages (from tensorflow>=2.1.0->stellargraph) (1.15.0)\n",
      "Requirement already satisfied: protobuf>=3.9.2 in /usr/local/lib/python3.6/dist-packages (from tensorflow>=2.1.0->stellargraph) (3.12.4)\n",
      "Requirement already satisfied: google-pasta>=0.1.8 in /usr/local/lib/python3.6/dist-packages (from tensorflow>=2.1.0->stellargraph) (0.2.0)\n",
      "Requirement already satisfied: keras-preprocessing<1.2,>=1.1.1 in /usr/local/lib/python3.6/dist-packages (from tensorflow>=2.1.0->stellargraph) (1.1.2)\n",
      "Requirement already satisfied: gast==0.3.3 in /usr/local/lib/python3.6/dist-packages (from tensorflow>=2.1.0->stellargraph) (0.3.3)\n",
      "Requirement already satisfied: wrapt>=1.11.1 in /usr/local/lib/python3.6/dist-packages (from tensorflow>=2.1.0->stellargraph) (1.12.1)\n",
      "Requirement already satisfied: absl-py>=0.7.0 in /usr/local/lib/python3.6/dist-packages (from tensorflow>=2.1.0->stellargraph) (0.10.0)\n",
      "Requirement already satisfied: opt-einsum>=2.3.2 in /usr/local/lib/python3.6/dist-packages (from tensorflow>=2.1.0->stellargraph) (3.3.0)\n",
      "Requirement already satisfied: joblib>=0.11 in /usr/local/lib/python3.6/dist-packages (from scikit-learn>=0.20->stellargraph) (0.16.0)\n",
      "Requirement already satisfied: smart-open>=1.2.1 in /usr/local/lib/python3.6/dist-packages (from gensim>=3.4.0->stellargraph) (2.1.1)\n",
      "Requirement already satisfied: pytz>=2017.2 in /usr/local/lib/python3.6/dist-packages (from pandas>=0.24->stellargraph) (2018.9)\n",
      "Requirement already satisfied: decorator>=4.3.0 in /usr/local/lib/python3.6/dist-packages (from networkx>=2.2->stellargraph) (4.4.2)\n",
      "Requirement already satisfied: requests<3,>=2.21.0 in /usr/local/lib/python3.6/dist-packages (from tensorboard<3,>=2.3.0->tensorflow>=2.1.0->stellargraph) (2.23.0)\n",
      "Requirement already satisfied: google-auth-oauthlib<0.5,>=0.4.1 in /usr/local/lib/python3.6/dist-packages (from tensorboard<3,>=2.3.0->tensorflow>=2.1.0->stellargraph) (0.4.1)\n",
      "Requirement already satisfied: tensorboard-plugin-wit>=1.6.0 in /usr/local/lib/python3.6/dist-packages (from tensorboard<3,>=2.3.0->tensorflow>=2.1.0->stellargraph) (1.7.0)\n",
      "Requirement already satisfied: google-auth<2,>=1.6.3 in /usr/local/lib/python3.6/dist-packages (from tensorboard<3,>=2.3.0->tensorflow>=2.1.0->stellargraph) (1.17.2)\n",
      "Requirement already satisfied: setuptools>=41.0.0 in /usr/local/lib/python3.6/dist-packages (from tensorboard<3,>=2.3.0->tensorflow>=2.1.0->stellargraph) (50.3.0)\n",
      "Requirement already satisfied: markdown>=2.6.8 in /usr/local/lib/python3.6/dist-packages (from tensorboard<3,>=2.3.0->tensorflow>=2.1.0->stellargraph) (3.2.2)\n",
      "Requirement already satisfied: werkzeug>=0.11.15 in /usr/local/lib/python3.6/dist-packages (from tensorboard<3,>=2.3.0->tensorflow>=2.1.0->stellargraph) (1.0.1)\n",
      "Requirement already satisfied: boto3 in /usr/local/lib/python3.6/dist-packages (from smart-open>=1.2.1->gensim>=3.4.0->stellargraph) (1.14.63)\n",
      "Requirement already satisfied: boto in /usr/local/lib/python3.6/dist-packages (from smart-open>=1.2.1->gensim>=3.4.0->stellargraph) (2.49.0)\n",
      "Requirement already satisfied: urllib3!=1.25.0,!=1.25.1,<1.26,>=1.21.1 in /usr/local/lib/python3.6/dist-packages (from requests<3,>=2.21.0->tensorboard<3,>=2.3.0->tensorflow>=2.1.0->stellargraph) (1.24.3)\n",
      "Requirement already satisfied: chardet<4,>=3.0.2 in /usr/local/lib/python3.6/dist-packages (from requests<3,>=2.21.0->tensorboard<3,>=2.3.0->tensorflow>=2.1.0->stellargraph) (3.0.4)\n",
      "Requirement already satisfied: certifi>=2017.4.17 in /usr/local/lib/python3.6/dist-packages (from requests<3,>=2.21.0->tensorboard<3,>=2.3.0->tensorflow>=2.1.0->stellargraph) (2020.6.20)\n",
      "Requirement already satisfied: idna<3,>=2.5 in /usr/local/lib/python3.6/dist-packages (from requests<3,>=2.21.0->tensorboard<3,>=2.3.0->tensorflow>=2.1.0->stellargraph) (2.10)\n",
      "Requirement already satisfied: requests-oauthlib>=0.7.0 in /usr/local/lib/python3.6/dist-packages (from google-auth-oauthlib<0.5,>=0.4.1->tensorboard<3,>=2.3.0->tensorflow>=2.1.0->stellargraph) (1.3.0)\n",
      "Requirement already satisfied: pyasn1-modules>=0.2.1 in /usr/local/lib/python3.6/dist-packages (from google-auth<2,>=1.6.3->tensorboard<3,>=2.3.0->tensorflow>=2.1.0->stellargraph) (0.2.8)\n",
      "Requirement already satisfied: cachetools<5.0,>=2.0.0 in /usr/local/lib/python3.6/dist-packages (from google-auth<2,>=1.6.3->tensorboard<3,>=2.3.0->tensorflow>=2.1.0->stellargraph) (4.1.1)\n",
      "Requirement already satisfied: rsa<5,>=3.1.4; python_version >= \"3\" in /usr/local/lib/python3.6/dist-packages (from google-auth<2,>=1.6.3->tensorboard<3,>=2.3.0->tensorflow>=2.1.0->stellargraph) (4.6)\n",
      "Requirement already satisfied: importlib-metadata; python_version < \"3.8\" in /usr/local/lib/python3.6/dist-packages (from markdown>=2.6.8->tensorboard<3,>=2.3.0->tensorflow>=2.1.0->stellargraph) (1.7.0)\n",
      "Requirement already satisfied: jmespath<1.0.0,>=0.7.1 in /usr/local/lib/python3.6/dist-packages (from boto3->smart-open>=1.2.1->gensim>=3.4.0->stellargraph) (0.10.0)\n",
      "Requirement already satisfied: s3transfer<0.4.0,>=0.3.0 in /usr/local/lib/python3.6/dist-packages (from boto3->smart-open>=1.2.1->gensim>=3.4.0->stellargraph) (0.3.3)\n",
      "Requirement already satisfied: botocore<1.18.0,>=1.17.63 in /usr/local/lib/python3.6/dist-packages (from boto3->smart-open>=1.2.1->gensim>=3.4.0->stellargraph) (1.17.63)\n",
      "Requirement already satisfied: oauthlib>=3.0.0 in /usr/local/lib/python3.6/dist-packages (from requests-oauthlib>=0.7.0->google-auth-oauthlib<0.5,>=0.4.1->tensorboard<3,>=2.3.0->tensorflow>=2.1.0->stellargraph) (3.1.0)\n",
      "Requirement already satisfied: pyasn1<0.5.0,>=0.4.6 in /usr/local/lib/python3.6/dist-packages (from pyasn1-modules>=0.2.1->google-auth<2,>=1.6.3->tensorboard<3,>=2.3.0->tensorflow>=2.1.0->stellargraph) (0.4.8)\n",
      "Requirement already satisfied: zipp>=0.5 in /usr/local/lib/python3.6/dist-packages (from importlib-metadata; python_version < \"3.8\"->markdown>=2.6.8->tensorboard<3,>=2.3.0->tensorflow>=2.1.0->stellargraph) (3.1.0)\n",
      "Requirement already satisfied: docutils<0.16,>=0.10 in /usr/local/lib/python3.6/dist-packages (from botocore<1.18.0,>=1.17.63->boto3->smart-open>=1.2.1->gensim>=3.4.0->stellargraph) (0.15.2)\n",
      "Installing collected packages: stellargraph\n",
      "Successfully installed stellargraph-1.2.1\n",
      "Requirement already satisfied: node2vec in /usr/local/lib/python3.6/dist-packages (0.3.2)\n",
      "Requirement already satisfied: tqdm in /usr/local/lib/python3.6/dist-packages (from node2vec) (4.41.1)\n",
      "Requirement already satisfied: joblib>=0.13.2 in /usr/local/lib/python3.6/dist-packages (from node2vec) (0.16.0)\n",
      "Requirement already satisfied: networkx in /usr/local/lib/python3.6/dist-packages (from node2vec) (2.5)\n",
      "Requirement already satisfied: gensim in /usr/local/lib/python3.6/dist-packages (from node2vec) (3.6.0)\n",
      "Requirement already satisfied: numpy in /usr/local/lib/python3.6/dist-packages (from node2vec) (1.18.5)\n",
      "Requirement already satisfied: decorator>=4.3.0 in /usr/local/lib/python3.6/dist-packages (from networkx->node2vec) (4.4.2)\n",
      "Requirement already satisfied: scipy>=0.18.1 in /usr/local/lib/python3.6/dist-packages (from gensim->node2vec) (1.4.1)\n",
      "Requirement already satisfied: smart-open>=1.2.1 in /usr/local/lib/python3.6/dist-packages (from gensim->node2vec) (2.1.1)\n",
      "Requirement already satisfied: six>=1.5.0 in /usr/local/lib/python3.6/dist-packages (from gensim->node2vec) (1.15.0)\n",
      "Requirement already satisfied: boto in /usr/local/lib/python3.6/dist-packages (from smart-open>=1.2.1->gensim->node2vec) (2.49.0)\n",
      "Requirement already satisfied: boto3 in /usr/local/lib/python3.6/dist-packages (from smart-open>=1.2.1->gensim->node2vec) (1.14.63)\n",
      "Requirement already satisfied: requests in /usr/local/lib/python3.6/dist-packages (from smart-open>=1.2.1->gensim->node2vec) (2.23.0)\n",
      "Requirement already satisfied: botocore<1.18.0,>=1.17.63 in /usr/local/lib/python3.6/dist-packages (from boto3->smart-open>=1.2.1->gensim->node2vec) (1.17.63)\n",
      "Requirement already satisfied: s3transfer<0.4.0,>=0.3.0 in /usr/local/lib/python3.6/dist-packages (from boto3->smart-open>=1.2.1->gensim->node2vec) (0.3.3)\n",
      "Requirement already satisfied: jmespath<1.0.0,>=0.7.1 in /usr/local/lib/python3.6/dist-packages (from boto3->smart-open>=1.2.1->gensim->node2vec) (0.10.0)\n",
      "Requirement already satisfied: chardet<4,>=3.0.2 in /usr/local/lib/python3.6/dist-packages (from requests->smart-open>=1.2.1->gensim->node2vec) (3.0.4)\n",
      "Requirement already satisfied: idna<3,>=2.5 in /usr/local/lib/python3.6/dist-packages (from requests->smart-open>=1.2.1->gensim->node2vec) (2.10)\n",
      "Requirement already satisfied: urllib3!=1.25.0,!=1.25.1,<1.26,>=1.21.1 in /usr/local/lib/python3.6/dist-packages (from requests->smart-open>=1.2.1->gensim->node2vec) (1.24.3)\n",
      "Requirement already satisfied: certifi>=2017.4.17 in /usr/local/lib/python3.6/dist-packages (from requests->smart-open>=1.2.1->gensim->node2vec) (2020.6.20)\n",
      "Requirement already satisfied: docutils<0.16,>=0.10 in /usr/local/lib/python3.6/dist-packages (from botocore<1.18.0,>=1.17.63->boto3->smart-open>=1.2.1->gensim->node2vec) (0.15.2)\n",
      "Requirement already satisfied: python-dateutil<3.0.0,>=2.1 in /usr/local/lib/python3.6/dist-packages (from botocore<1.18.0,>=1.17.63->boto3->smart-open>=1.2.1->gensim->node2vec) (2.8.1)\n"
     ]
    }
   ],
   "source": [
    "!pip install stellargraph\n",
    "!pip install node2vec"
   ]
  },
  {
   "cell_type": "code",
   "execution_count": 3,
   "metadata": {
    "executionInfo": {
     "elapsed": 5667,
     "status": "ok",
     "timestamp": 1601281040435,
     "user": {
      "displayName": "A D",
      "photoUrl": "",
      "userId": "14584707532892118607"
     },
     "user_tz": -120
    },
    "id": "9Rw_qejzvYjx"
   },
   "outputs": [],
   "source": [
    "# import libraries\n",
    "import h2o\n",
    "import lightgbm as lgbm\n",
    "import matplotlib.pyplot as plt\n",
    "import multiprocessing\n",
    "import networkx as nx\n",
    "import numpy as np\n",
    "import pandas as pd\n",
    "import plotly.express as px\n",
    "import plotly.figure_factory as ff\n",
    "import plotly.graph_objects as go\n",
    "import random\n",
    "import re\n",
    "import stellargraph as sg\n",
    "import tensorflow as tf\n",
    "\n",
    "from gensim.models import Word2Vec\n",
    "from matplotlib import pyplot as plt\n",
    "from node2vec import Node2Vec\n",
    "from sklearn.decomposition import PCA\n",
    "from sklearn.utils import shuffle\n",
    "from sklearn.linear_model import LogisticRegression\n",
    "from sklearn.svm import SVC\n",
    "from sklearn.metrics import classification_report, roc_auc_score, confusion_matrix\n",
    "from sklearn.model_selection import train_test_split\n",
    "from tensorflow.keras.callbacks import EarlyStopping\n",
    "from tqdm import tqdm\n",
    "from stellargraph import StellarGraph, datasets\n",
    "from stellargraph.data import EdgeSplitter\n",
    "from stellargraph.data import BiasedRandomWalk"
   ]
  },
  {
   "cell_type": "code",
   "execution_count": 4,
   "metadata": {
    "colab": {
     "base_uri": "https://localhost:8080/",
     "height": 34
    },
    "executionInfo": {
     "elapsed": 63977,
     "status": "ok",
     "timestamp": 1601281118328,
     "user": {
      "displayName": "A D",
      "photoUrl": "",
      "userId": "14584707532892118607"
     },
     "user_tz": -120
    },
    "id": "QYFJX8V4vsDK",
    "outputId": "9d67f4db-d01a-4674-eb63-7dc6d856baa4"
   },
   "outputs": [
    {
     "name": "stdout",
     "output_type": "stream",
     "text": [
      "Mounted at /content/gdrive\n"
     ]
    }
   ],
   "source": [
    "from google.colab import drive\n",
    "drive.mount('/content/gdrive')"
   ]
  },
  {
   "cell_type": "code",
   "execution_count": 5,
   "metadata": {
    "colab": {
     "base_uri": "https://localhost:8080/",
     "height": 34
    },
    "executionInfo": {
     "elapsed": 824,
     "status": "ok",
     "timestamp": 1601281127670,
     "user": {
      "displayName": "A D",
      "photoUrl": "",
      "userId": "14584707532892118607"
     },
     "user_tz": -120
    },
    "id": "gU31JCslwdHa",
    "outputId": "a72cf788-4b64-483a-da60-1cde90706df8"
   },
   "outputs": [
    {
     "name": "stdout",
     "output_type": "stream",
     "text": [
      "/content/gdrive/My Drive/Vivadata/graph_learning/fb_pages_food\n"
     ]
    }
   ],
   "source": [
    "%cd /content/gdrive/My Drive/Vivadata/graph_learning/fb_pages_food"
   ]
  },
  {
   "cell_type": "markdown",
   "metadata": {
    "id": "lj-PEFcyhpPe"
   },
   "source": [
    "## 3- Loading and Exploration of the data"
   ]
  },
  {
   "cell_type": "markdown",
   "metadata": {
    "id": "LtIGwIcMVUHm"
   },
   "source": [
    "### 3-1 Loading the data"
   ]
  },
  {
   "cell_type": "code",
   "execution_count": 6,
   "metadata": {
    "executionInfo": {
     "elapsed": 1539,
     "status": "ok",
     "timestamp": 1601281139282,
     "user": {
      "displayName": "A D",
      "photoUrl": "",
      "userId": "14584707532892118607"
     },
     "user_tz": -120
    },
    "id": "oK7c4rUwvYlV"
   },
   "outputs": [],
   "source": [
    "# read fb-pages-food.nodes and fb-pages-food.edges\n",
    "nodes_df = pd.read_csv('data/fb-pages-food.nodes')\n",
    "edges_df = pd.read_csv('data/fb-pages-food.edges', names=['node_1', 'node_2'])"
   ]
  },
  {
   "cell_type": "code",
   "execution_count": 7,
   "metadata": {
    "colab": {
     "base_uri": "https://localhost:8080/",
     "height": 419
    },
    "executionInfo": {
     "elapsed": 1070,
     "status": "ok",
     "timestamp": 1601281143894,
     "user": {
      "displayName": "A D",
      "photoUrl": "",
      "userId": "14584707532892118607"
     },
     "user_tz": -120
    },
    "id": "ESrMpJTnvYmm",
    "outputId": "7bd0a085-191d-4736-ed9c-d6017705a233"
   },
   "outputs": [
    {
     "data": {
      "text/html": [
       "<div>\n",
       "<style scoped>\n",
       "    .dataframe tbody tr th:only-of-type {\n",
       "        vertical-align: middle;\n",
       "    }\n",
       "\n",
       "    .dataframe tbody tr th {\n",
       "        vertical-align: top;\n",
       "    }\n",
       "\n",
       "    .dataframe thead th {\n",
       "        text-align: right;\n",
       "    }\n",
       "</style>\n",
       "<table border=\"1\" class=\"dataframe\">\n",
       "  <thead>\n",
       "    <tr style=\"text-align: right;\">\n",
       "      <th></th>\n",
       "      <th>id</th>\n",
       "      <th>name</th>\n",
       "      <th>new_id</th>\n",
       "    </tr>\n",
       "  </thead>\n",
       "  <tbody>\n",
       "    <tr>\n",
       "      <th>0</th>\n",
       "      <td>402449106435352</td>\n",
       "      <td>Josh Marks</td>\n",
       "      <td>386</td>\n",
       "    </tr>\n",
       "    <tr>\n",
       "      <th>1</th>\n",
       "      <td>368969274888</td>\n",
       "      <td>Blue Ribbon Restaurants</td>\n",
       "      <td>473</td>\n",
       "    </tr>\n",
       "    <tr>\n",
       "      <th>2</th>\n",
       "      <td>765596333518863</td>\n",
       "      <td>Pat Neely</td>\n",
       "      <td>1</td>\n",
       "    </tr>\n",
       "    <tr>\n",
       "      <th>3</th>\n",
       "      <td>136870209668885</td>\n",
       "      <td>La Griglia</td>\n",
       "      <td>542</td>\n",
       "    </tr>\n",
       "    <tr>\n",
       "      <th>4</th>\n",
       "      <td>840078802741859</td>\n",
       "      <td>Jose Garces</td>\n",
       "      <td>189</td>\n",
       "    </tr>\n",
       "    <tr>\n",
       "      <th>...</th>\n",
       "      <td>...</td>\n",
       "      <td>...</td>\n",
       "      <td>...</td>\n",
       "    </tr>\n",
       "    <tr>\n",
       "      <th>615</th>\n",
       "      <td>305811056194084</td>\n",
       "      <td>Jumia Food</td>\n",
       "      <td>163</td>\n",
       "    </tr>\n",
       "    <tr>\n",
       "      <th>616</th>\n",
       "      <td>106556872725754</td>\n",
       "      <td>Luke Thomas</td>\n",
       "      <td>381</td>\n",
       "    </tr>\n",
       "    <tr>\n",
       "      <th>617</th>\n",
       "      <td>244033175685576</td>\n",
       "      <td>Clodagh McKenna</td>\n",
       "      <td>140</td>\n",
       "    </tr>\n",
       "    <tr>\n",
       "      <th>618</th>\n",
       "      <td>119127748110871</td>\n",
       "      <td>Chef Michelle Bernstein</td>\n",
       "      <td>157</td>\n",
       "    </tr>\n",
       "    <tr>\n",
       "      <th>619</th>\n",
       "      <td>105059292862854</td>\n",
       "      <td>SORTEDfood</td>\n",
       "      <td>114</td>\n",
       "    </tr>\n",
       "  </tbody>\n",
       "</table>\n",
       "<p>620 rows × 3 columns</p>\n",
       "</div>"
      ],
      "text/plain": [
       "                  id                     name  new_id\n",
       "0    402449106435352               Josh Marks     386\n",
       "1       368969274888  Blue Ribbon Restaurants     473\n",
       "2    765596333518863                Pat Neely       1\n",
       "3    136870209668885               La Griglia     542\n",
       "4    840078802741859              Jose Garces     189\n",
       "..               ...                      ...     ...\n",
       "615  305811056194084               Jumia Food     163\n",
       "616  106556872725754              Luke Thomas     381\n",
       "617  244033175685576          Clodagh McKenna     140\n",
       "618  119127748110871  Chef Michelle Bernstein     157\n",
       "619  105059292862854               SORTEDfood     114\n",
       "\n",
       "[620 rows x 3 columns]"
      ]
     },
     "execution_count": 7,
     "metadata": {
      "tags": []
     },
     "output_type": "execute_result"
    }
   ],
   "source": [
    "# explore the data\n",
    "nodes_df"
   ]
  },
  {
   "cell_type": "code",
   "execution_count": 8,
   "metadata": {
    "colab": {
     "base_uri": "https://localhost:8080/",
     "height": 419
    },
    "executionInfo": {
     "elapsed": 1085,
     "status": "ok",
     "timestamp": 1601281147460,
     "user": {
      "displayName": "A D",
      "photoUrl": "",
      "userId": "14584707532892118607"
     },
     "user_tz": -120
    },
    "id": "Zy6nqrtsvYn1",
    "outputId": "adc8c990-56d4-43ea-8c3f-7848cb17c20c"
   },
   "outputs": [
    {
     "data": {
      "text/html": [
       "<div>\n",
       "<style scoped>\n",
       "    .dataframe tbody tr th:only-of-type {\n",
       "        vertical-align: middle;\n",
       "    }\n",
       "\n",
       "    .dataframe tbody tr th {\n",
       "        vertical-align: top;\n",
       "    }\n",
       "\n",
       "    .dataframe thead th {\n",
       "        text-align: right;\n",
       "    }\n",
       "</style>\n",
       "<table border=\"1\" class=\"dataframe\">\n",
       "  <thead>\n",
       "    <tr style=\"text-align: right;\">\n",
       "      <th></th>\n",
       "      <th>node_1</th>\n",
       "      <th>node_2</th>\n",
       "    </tr>\n",
       "  </thead>\n",
       "  <tbody>\n",
       "    <tr>\n",
       "      <th>0</th>\n",
       "      <td>0</td>\n",
       "      <td>276</td>\n",
       "    </tr>\n",
       "    <tr>\n",
       "      <th>1</th>\n",
       "      <td>0</td>\n",
       "      <td>58</td>\n",
       "    </tr>\n",
       "    <tr>\n",
       "      <th>2</th>\n",
       "      <td>0</td>\n",
       "      <td>132</td>\n",
       "    </tr>\n",
       "    <tr>\n",
       "      <th>3</th>\n",
       "      <td>0</td>\n",
       "      <td>603</td>\n",
       "    </tr>\n",
       "    <tr>\n",
       "      <th>4</th>\n",
       "      <td>0</td>\n",
       "      <td>398</td>\n",
       "    </tr>\n",
       "    <tr>\n",
       "      <th>...</th>\n",
       "      <td>...</td>\n",
       "      <td>...</td>\n",
       "    </tr>\n",
       "    <tr>\n",
       "      <th>2097</th>\n",
       "      <td>597</td>\n",
       "      <td>611</td>\n",
       "    </tr>\n",
       "    <tr>\n",
       "      <th>2098</th>\n",
       "      <td>601</td>\n",
       "      <td>603</td>\n",
       "    </tr>\n",
       "    <tr>\n",
       "      <th>2099</th>\n",
       "      <td>601</td>\n",
       "      <td>616</td>\n",
       "    </tr>\n",
       "    <tr>\n",
       "      <th>2100</th>\n",
       "      <td>603</td>\n",
       "      <td>616</td>\n",
       "    </tr>\n",
       "    <tr>\n",
       "      <th>2101</th>\n",
       "      <td>311</td>\n",
       "      <td>613</td>\n",
       "    </tr>\n",
       "  </tbody>\n",
       "</table>\n",
       "<p>2102 rows × 2 columns</p>\n",
       "</div>"
      ],
      "text/plain": [
       "      node_1  node_2\n",
       "0          0     276\n",
       "1          0      58\n",
       "2          0     132\n",
       "3          0     603\n",
       "4          0     398\n",
       "...      ...     ...\n",
       "2097     597     611\n",
       "2098     601     603\n",
       "2099     601     616\n",
       "2100     603     616\n",
       "2101     311     613\n",
       "\n",
       "[2102 rows x 2 columns]"
      ]
     },
     "execution_count": 8,
     "metadata": {
      "tags": []
     },
     "output_type": "execute_result"
    }
   ],
   "source": [
    "edges_df"
   ]
  },
  {
   "cell_type": "code",
   "execution_count": 9,
   "metadata": {
    "colab": {
     "base_uri": "https://localhost:8080/",
     "height": 170
    },
    "executionInfo": {
     "elapsed": 1134,
     "status": "ok",
     "timestamp": 1601281151549,
     "user": {
      "displayName": "A D",
      "photoUrl": "",
      "userId": "14584707532892118607"
     },
     "user_tz": -120
    },
    "id": "TsaOWxNgvS9q",
    "outputId": "9b002ada-2838-40ce-9b93-6ed54a2b5c6c"
   },
   "outputs": [
    {
     "name": "stdout",
     "output_type": "stream",
     "text": [
      "<class 'pandas.core.frame.DataFrame'>\n",
      "RangeIndex: 2102 entries, 0 to 2101\n",
      "Data columns (total 2 columns):\n",
      " #   Column  Non-Null Count  Dtype\n",
      "---  ------  --------------  -----\n",
      " 0   node_1  2102 non-null   int64\n",
      " 1   node_2  2102 non-null   int64\n",
      "dtypes: int64(2)\n",
      "memory usage: 33.0 KB\n"
     ]
    }
   ],
   "source": [
    "edges_df.info()"
   ]
  },
  {
   "cell_type": "markdown",
   "metadata": {
    "id": "YgyI7Cd8L8im"
   },
   "source": [
    "### 3-2 Plot graph G"
   ]
  },
  {
   "cell_type": "code",
   "execution_count": 10,
   "metadata": {
    "executionInfo": {
     "elapsed": 1001,
     "status": "ok",
     "timestamp": 1601281159590,
     "user": {
      "displayName": "A D",
      "photoUrl": "",
      "userId": "14584707532892118607"
     },
     "user_tz": -120
    },
    "id": "aEz-NZSnr8BJ"
   },
   "outputs": [],
   "source": [
    "# build a graph G\n",
    "G = nx.from_pandas_edgelist(edges_df, \"node_1\", \"node_2\", create_using=nx.Graph())"
   ]
  },
  {
   "cell_type": "code",
   "execution_count": 11,
   "metadata": {
    "colab": {
     "base_uri": "https://localhost:8080/",
     "height": 68
    },
    "executionInfo": {
     "elapsed": 1033,
     "status": "ok",
     "timestamp": 1601281170951,
     "user": {
      "displayName": "A D",
      "photoUrl": "",
      "userId": "14584707532892118607"
     },
     "user_tz": -120
    },
    "id": "DbnLf8spvYpi",
    "outputId": "80a9f766-2280-477e-abb0-c2b5221aa56d"
   },
   "outputs": [
    {
     "name": "stdout",
     "output_type": "stream",
     "text": [
      "There are 620 nodes in the graph G.\n",
      "There are 2102 edges in the graph G.\n",
      "The graph G is connected.\n"
     ]
    }
   ],
   "source": [
    "print(f'There are {G.number_of_nodes()} nodes in the graph G.')\n",
    "print(f'There are {G.number_of_edges()} edges in the graph G.')\n",
    "if nx.is_connected(G):\n",
    "    print('The graph G is connected.')\n",
    "else:\n",
    "    print('The graph G is not connected.')"
   ]
  },
  {
   "cell_type": "code",
   "execution_count": 13,
   "metadata": {
    "executionInfo": {
     "elapsed": 4140,
     "status": "ok",
     "timestamp": 1601281199108,
     "user": {
      "displayName": "A D",
      "photoUrl": "",
      "userId": "14584707532892118607"
     },
     "user_tz": -120
    },
    "id": "ouuQkPoIEEom"
   },
   "outputs": [],
   "source": [
    "# Add edges as disconnected lines in a single trace and nodes as a scatter trace\n",
    "pos = nx.spring_layout(G, seed=0)\n",
    "edge_x = []\n",
    "edge_y = []\n",
    "for edge in G.edges():\n",
    "    x0, y0 = pos[edge[0]]\n",
    "    x1, y1 = pos[edge[1]]\n",
    "    edge_x.append(x0)\n",
    "    edge_x.append(x1)\n",
    "    edge_x.append(None)\n",
    "    edge_y.append(y0)\n",
    "    edge_y.append(y1)\n",
    "    edge_y.append(None)\n",
    "\n",
    "edge_trace = go.Scatter(\n",
    "    x=edge_x, y=edge_y,\n",
    "    line=dict(width=0.5, color='#888'),\n",
    "    hoverinfo='none',\n",
    "    mode='lines')\n",
    "\n",
    "node_x = []\n",
    "node_y = []\n",
    "for node in G.nodes():\n",
    "    x, y = pos[node]\n",
    "    node_x.append(x)\n",
    "    node_y.append(y)\n",
    "\n",
    "node_trace = go.Scatter(\n",
    "    x=node_x, y=node_y,\n",
    "    mode='markers',\n",
    "    hoverinfo='text',\n",
    "    marker=dict(\n",
    "        showscale=True,\n",
    "        # colorscale options\n",
    "        #'Greys' | 'YlGnBu' | 'Greens' | 'YlOrRd' | 'Bluered' | 'RdBu' |\n",
    "        #'Reds' | 'Blues' | 'Picnic' | 'Rainbow' | 'Portland' | 'Jet' |\n",
    "        #'Hot' | 'Blackbody' | 'Earth' | 'Electric' | 'Viridis' |\n",
    "        colorscale='YlGnBu',\n",
    "        reversescale=True,\n",
    "        color=[],\n",
    "        size=10,\n",
    "        colorbar=dict(\n",
    "            thickness=15,\n",
    "            title='Node Connections',\n",
    "            xanchor='left',\n",
    "            titleside='right'\n",
    "        ),\n",
    "        line_width=2))"
   ]
  },
  {
   "cell_type": "code",
   "execution_count": 14,
   "metadata": {
    "executionInfo": {
     "elapsed": 668,
     "status": "ok",
     "timestamp": 1601281204663,
     "user": {
      "displayName": "A D",
      "photoUrl": "",
      "userId": "14584707532892118607"
     },
     "user_tz": -120
    },
    "id": "sA7cefmkEc3Z"
   },
   "outputs": [],
   "source": [
    "# Color Node Points\n",
    "node_adjacencies = []\n",
    "node_text = []\n",
    "for node, adjacencies in enumerate(G.adjacency()):\n",
    "    node_adjacencies.append(len(adjacencies[1]))\n",
    "    node_text.append('Node ' + str(adjacencies[0]) + ', ' '# of connections: '+str(len(adjacencies[1])))\n",
    "\n",
    "node_trace.marker.color = node_adjacencies\n",
    "node_trace.text = node_text"
   ]
  },
  {
   "cell_type": "code",
   "execution_count": 15,
   "metadata": {
    "colab": {
     "base_uri": "https://localhost:8080/",
     "height": 542
    },
    "executionInfo": {
     "elapsed": 2230,
     "status": "ok",
     "timestamp": 1601281208968,
     "user": {
      "displayName": "A D",
      "photoUrl": "",
      "userId": "14584707532892118607"
     },
     "user_tz": -120
    },
    "id": "OtLHK35KJwZt",
    "outputId": "e4945dbe-dff7-4b5f-a0a2-7ef4a8be3b7a"
   },
   "outputs": [
    {
     "data": {
      "text/html": [
       "<html>\n",
       "<head><meta charset=\"utf-8\" /></head>\n",
       "<body>\n",
       "    <div>\n",
       "            <script src=\"https://cdnjs.cloudflare.com/ajax/libs/mathjax/2.7.5/MathJax.js?config=TeX-AMS-MML_SVG\"></script><script type=\"text/javascript\">if (window.MathJax) {MathJax.Hub.Config({SVG: {font: \"STIX-Web\"}});}</script>\n",
       "                <script type=\"text/javascript\">window.PlotlyConfig = {MathJaxConfig: 'local'};</script>\n",
       "        <script src=\"https://cdn.plot.ly/plotly-latest.min.js\"></script>    \n",
       "            <div id=\"eb4b1524-cbb5-4f25-bd27-f3ecc23a1e5c\" class=\"plotly-graph-div\" style=\"height:525px; width:100%;\"></div>\n",
       "            <script type=\"text/javascript\">\n",
       "                \n",
       "                    window.PLOTLYENV=window.PLOTLYENV || {};\n",
       "                    \n",
       "                if (document.getElementById(\"eb4b1524-cbb5-4f25-bd27-f3ecc23a1e5c\")) {\n",
       "                    Plotly.newPlot(\n",
       "                        'eb4b1524-cbb5-4f25-bd27-f3ecc23a1e5c',\n",
       "                        [{\"hoverinfo\": \"none\", \"line\": {\"color\": \"#888\", \"width\": 0.5}, \"mode\": \"lines\", \"type\": \"scatter\", \"x\": [0.1525689959526062, 0.1903471052646637, null, 0.1525689959526062, 0.1379760056734085, null, 0.1525689959526062, 0.15542742609977722, null, 0.1525689959526062, 0.07630245387554169, null, 0.1525689959526062, 0.20073974132537842, null, 0.1525689959526062, 0.13265976309776306, null, 0.1903471052646637, 0.2042030245065689, null, 0.1903471052646637, 0.17953309416770935, null, 0.1903471052646637, 0.1903471052646637, null, 0.1903471052646637, 0.2433902621269226, null, 0.1903471052646637, 0.22562678158283234, null, 0.1903471052646637, 0.1895727962255478, null, 0.1903471052646637, 0.20073974132537842, null, 0.1903471052646637, 0.18404272198677063, null, 0.1903471052646637, 0.13265976309776306, null, 0.1379760056734085, 0.07456914335489273, null, 0.1379760056734085, 0.0658191442489624, null, 0.1379760056734085, 0.0488005056977272, null, 0.1379760056734085, 0.0773618072271347, null, 0.1379760056734085, 0.01857851631939411, null, 0.1379760056734085, 0.10694535821676254, null, 0.1379760056734085, 0.09537920355796814, null, 0.1379760056734085, 0.3686954975128174, null, 0.1379760056734085, 0.09186612069606781, null, 0.1379760056734085, 0.07630245387554169, null, 0.1379760056734085, 0.029840223491191864, null, 0.1379760056734085, 0.09128154814243317, null, 0.1379760056734085, 0.14111515879631042, null, 0.1379760056734085, 0.0687268003821373, null, 0.15542742609977722, 0.07931913435459137, null, 0.07630245387554169, 0.07479197531938553, null, 0.07630245387554169, 0.03139883652329445, null, 0.07630245387554169, 0.05030599236488342, null, 0.07630245387554169, 0.0773618072271347, null, 0.07630245387554169, 0.0035542079713195562, null, 0.07630245387554169, 0.05231720209121704, null, 0.07630245387554169, 0.07931913435459137, null, 0.07630245387554169, 0.030183719471096992, null, 0.07630245387554169, 0.0724325031042099, null, 0.07630245387554169, 0.07041926681995392, null, 0.07630245387554169, 0.10413484275341034, null, 0.07630245387554169, 0.05796584486961365, null, 0.07630245387554169, 0.019090885296463966, null, 0.07630245387554169, 0.03798501566052437, null, 0.07630245387554169, 0.09186612069606781, null, 0.07630245387554169, 0.11434563249349594, null, 0.07630245387554169, 0.09097643196582794, null, 0.07630245387554169, -0.026107890531420708, null, 0.07630245387554169, 0.06627228111028671, null, 0.07630245387554169, 0.0702376738190651, null, 0.07630245387554169, 0.03001329116523266, null, 0.07630245387554169, 0.04495400935411453, null, 0.07630245387554169, 0.10648907721042633, null, 0.07630245387554169, 0.10694535821676254, null, 0.07630245387554169, 0.09128154814243317, null, 0.20073974132537842, 0.2042030245065689, null, 0.20073974132537842, 0.27836668491363525, null, 0.20073974132537842, 0.22616636753082275, null, 0.20073974132537842, 0.19330444931983948, null, 0.20073974132537842, 0.2091938704252243, null, 0.20073974132537842, 0.18404272198677063, null, 0.20073974132537842, 0.13265976309776306, null, 0.13265976309776306, 0.2042030245065689, null, 0.13265976309776306, 0.17953309416770935, null, 0.13265976309776306, 0.010574374347925186, null, 0.13265976309776306, 0.11538110673427582, null, 0.13265976309776306, 0.16198520362377167, null, 0.13265976309776306, 0.19330444931983948, null, 0.13265976309776306, 0.13578461110591888, null, 0.13265976309776306, 0.010610331781208515, null, 0.13265976309776306, 0.15910682082176208, null, 0.13265976309776306, 0.1895727962255478, null, 0.13265976309776306, 0.2091938704252243, null, 0.13265976309776306, 0.12502719461917877, null, 0.13265976309776306, 0.22562678158283234, null, 0.13265976309776306, 0.18404272198677063, null, -0.055740099400281906, 0.01857851631939411, null, -0.055740099400281906, 0.029840223491191864, null, 0.01857851631939411, 0.03593268245458603, null, 0.01857851631939411, -0.10820550471544266, null, 0.01857851631939411, -0.03930675983428955, null, 0.01857851631939411, 0.043594520539045334, null, 0.01857851631939411, 0.04072155803442001, null, 0.01857851631939411, -0.031428467482328415, null, 0.01857851631939411, -0.0754704400897026, null, 0.01857851631939411, -0.008030775934457779, null, 0.01857851631939411, 0.018494095653295517, null, 0.01857851631939411, 0.0658191442489624, null, 0.01857851631939411, -0.0731813982129097, null, 0.01857851631939411, 0.04201740771532059, null, 0.01857851631939411, -0.05688982456922531, null, 0.01857851631939411, 0.11055456846952438, null, 0.01857851631939411, 0.07479197531938553, null, 0.01857851631939411, 0.13645443320274353, null, 0.01857851631939411, 0.10278399288654327, null, 0.01857851631939411, -0.1019207164645195, null, 0.01857851631939411, 0.03139883652329445, null, 0.01857851631939411, 0.05030599236488342, null, 0.01857851631939411, 0.05666948854923248, null, 0.01857851631939411, 0.01249073725193739, null, 0.01857851631939411, 0.0013677467359229922, null, 0.01857851631939411, -0.009404502809047699, null, 0.01857851631939411, 0.0687268003821373, null, 0.01857851631939411, 0.03597131371498108, null, 0.01857851631939411, 0.0773618072271347, null, 0.01857851631939411, -0.01881977543234825, null, 0.01857851631939411, 0.0312288049608469, null, 0.01857851631939411, 0.053220950067043304, null, 0.01857851631939411, -0.04371339827775955, null, 0.01857851631939411, 0.0940312072634697, null, 0.01857851631939411, 0.044128499925136566, null, 0.01857851631939411, -0.026666227728128433, null, 0.01857851631939411, 0.04407772794365883, null, 0.01857851631939411, 0.06376970559358597, null, 0.01857851631939411, 0.08259515464305878, null, 0.01857851631939411, -0.09265070408582687, null, 0.01857851631939411, -0.019937174394726753, null, 0.01857851631939411, 0.014396728947758675, null, 0.01857851631939411, -0.010814477689564228, null, 0.01857851631939411, 0.02132723666727543, null, 0.01857851631939411, -0.08209588378667831, null, 0.01857851631939411, -0.03751037269830704, null, 0.01857851631939411, -0.09093606472015381, null, 0.01857851631939411, -0.03935503959655762, null, 0.01857851631939411, 0.05231720209121704, null, 0.01857851631939411, -0.013539220206439495, null, 0.01857851631939411, 0.07931913435459137, null, 0.01857851631939411, 0.030183719471096992, null, 0.01857851631939411, 0.007464433088898659, null, 0.01857851631939411, 0.11999084055423737, null, 0.01857851631939411, 0.05011247098445892, null, 0.01857851631939411, -0.04059438779950142, null, 0.01857851631939411, 0.0724325031042099, null, 0.01857851631939411, 0.0741327777504921, null, 0.01857851631939411, 0.10886329412460327, null, 0.01857851631939411, 0.07041926681995392, null, 0.01857851631939411, 0.016587670892477036, null, 0.01857851631939411, 0.04482199624180794, null, 0.01857851631939411, -0.003652757266536355, null, 0.01857851631939411, 0.060869958251714706, null, 0.01857851631939411, 0.0278007909655571, null, 0.01857851631939411, 0.05796584486961365, null, 0.01857851631939411, 0.06256047636270523, null, 0.01857851631939411, -0.03199492022395134, null, 0.01857851631939411, 0.08662266284227371, null, 0.01857851631939411, -0.06599997729063034, null, 0.01857851631939411, 0.11547856777906418, null, 0.01857851631939411, 0.10413484275341034, null, 0.01857851631939411, 0.036201875656843185, null, 0.01857851631939411, -0.01975102536380291, null, 0.01857851631939411, 0.03798501566052437, null, 0.01857851631939411, -0.11182243376970291, null, 0.01857851631939411, 0.05571543797850609, null, 0.01857851631939411, 0.06887981295585632, null, 0.01857851631939411, -0.09921000152826309, null, 0.01857851631939411, 0.08425354212522507, null, 0.01857851631939411, -0.007255698088556528, null, 0.01857851631939411, 0.09186612069606781, null, 0.01857851631939411, 0.05467139929533005, null, 0.01857851631939411, 0.018971864134073257, null, 0.01857851631939411, 0.013849955052137375, null, 0.01857851631939411, 0.06897236406803131, null, 0.01857851631939411, 0.019090885296463966, null, 0.01857851631939411, -0.0074866763316094875, null, 0.01857851631939411, 0.04499755799770355, null, 0.01857851631939411, 0.09097643196582794, null, 0.01857851631939411, 0.06306464225053787, null, 0.01857851631939411, 0.08691021800041199, null, 0.01857851631939411, 0.049302466213703156, null, 0.01857851631939411, 0.09238434582948685, null, 0.01857851631939411, -0.10244559496641159, null, 0.01857851631939411, 0.10020938515663147, null, 0.01857851631939411, 0.065378837287426, null, 0.01857851631939411, -0.015780232846736908, null, 0.01857851631939411, -0.06330200284719467, null, 0.01857851631939411, 0.0694192498922348, null, 0.01857851631939411, 0.0702376738190651, null, 0.01857851631939411, 0.01857851631939411, null, 0.01857851631939411, 0.09460313618183136, null, 0.01857851631939411, 0.06714054197072983, null, 0.01857851631939411, 0.0021560147870332003, null, 0.01857851631939411, 0.09448333829641342, null, 0.01857851631939411, 0.11588447540998459, null, 0.01857851631939411, 0.03001329116523266, null, 0.01857851631939411, -0.030457990244030952, null, 0.01857851631939411, 0.04495400935411453, null, 0.01857851631939411, 0.027139024809002876, null, 0.01857851631939411, -0.0089553939178586, null, 0.01857851631939411, -0.07918819040060043, null, 0.01857851631939411, 0.0912223532795906, null, 0.01857851631939411, -0.09234698116779327, null, 0.01857851631939411, 0.11253390461206436, null, 0.01857851631939411, -0.10206680744886398, null, 0.01857851631939411, -0.0405023954808712, null, 0.01857851631939411, 0.10648907721042633, null, 0.01857851631939411, 0.14111515879631042, null, 0.01857851631939411, 0.06627228111028671, null, 0.01857851631939411, -0.04170786216855049, null, 0.01857851631939411, 0.10694535821676254, null, 0.01857851631939411, -0.04479677230119705, null, 0.01857851631939411, 0.03332895040512085, null, 0.01857851631939411, 0.04629499465227127, null, 0.01857851631939411, 0.012477041222155094, null, 0.01857851631939411, -0.07343235611915588, null, 0.01857851631939411, 0.029840223491191864, null, 0.01857851631939411, -0.08796628564596176, null, 0.01857851631939411, 0.013216703198850155, null, 0.01857851631939411, -0.022661356255412102, null, 0.01857851631939411, 0.09128154814243317, null, 0.029840223491191864, 0.043594520539045334, null, 0.029840223491191864, -0.008030775934457779, null, 0.029840223491191864, 0.0658191442489624, null, 0.029840223491191864, -0.0731813982129097, null, 0.029840223491191864, 0.07479197531938553, null, 0.029840223491191864, -0.1019207164645195, null, 0.029840223491191864, 0.03139883652329445, null, 0.029840223491191864, 0.05666948854923248, null, 0.029840223491191864, 0.0687268003821373, null, 0.029840223491191864, 0.0773618072271347, null, 0.029840223491191864, 0.0940312072634697, null, 0.029840223491191864, 0.08259515464305878, null, 0.029840223491191864, -0.03751037269830704, null, 0.029840223491191864, -0.09093606472015381, null, 0.029840223491191864, -0.03935503959655762, null, 0.029840223491191864, 0.05231720209121704, null, 0.029840223491191864, 0.030183719471096992, null, 0.029840223491191864, 0.0724325031042099, null, 0.029840223491191864, 0.0741327777504921, null, 0.029840223491191864, 0.07041926681995392, null, 0.029840223491191864, 0.016587670892477036, null, 0.029840223491191864, 0.06714054197072983, null, 0.029840223491191864, 0.027139024809002876, null, 0.029840223491191864, -0.0405023954808712, null, 0.029840223491191864, 0.05796584486961365, null, 0.029840223491191864, 0.019090885296463966, null, 0.029840223491191864, 0.11547856777906418, null, 0.029840223491191864, 0.03798501566052437, null, 0.029840223491191864, 0.04499755799770355, null, 0.029840223491191864, 0.09238434582948685, null, 0.029840223491191864, 0.09186612069606781, null, 0.029840223491191864, 0.09097643196582794, null, 0.029840223491191864, 0.036201875656843185, null, 0.029840223491191864, -0.0089553939178586, null, 0.029840223491191864, 0.0912223532795906, null, 0.029840223491191864, 0.11253390461206436, null, 0.029840223491191864, 0.06627228111028671, null, 0.029840223491191864, -0.04479677230119705, null, 0.029840223491191864, 0.03332895040512085, null, 0.029840223491191864, 0.0694192498922348, null, 0.029840223491191864, 0.018971864134073257, null, 0.029840223491191864, 0.04495400935411453, null, 0.029840223491191864, -0.022661356255412102, null, 0.029840223491191864, 0.10648907721042633, null, 0.03593268245458603, 0.05231720209121704, null, 0.03593268245458603, 0.06887981295585632, null, 0.05231720209121704, 0.16349036991596222, null, 0.05231720209121704, 0.07456914335489273, null, 0.05231720209121704, 0.005998335778713226, null, 0.05231720209121704, 0.07479197531938553, null, 0.05231720209121704, 0.0687268003821373, null, 0.05231720209121704, 0.0488005056977272, null, 0.05231720209121704, 0.0773618072271347, null, 0.05231720209121704, 0.0940312072634697, null, 0.05231720209121704, 0.06376970559358597, null, 0.05231720209121704, -0.019937174394726753, null, 0.05231720209121704, -0.03751037269830704, null, 0.05231720209121704, 0.04482199624180794, null, 0.05231720209121704, 0.05796584486961365, null, 0.05231720209121704, 0.07957680523395538, null, 0.05231720209121704, 0.06657794117927551, null, 0.05231720209121704, 0.05927802994847298, null, 0.05231720209121704, 0.09186612069606781, null, 0.05231720209121704, -0.0405023954808712, null, 0.05231720209121704, 0.09664979577064514, null, 0.05231720209121704, 0.06306464225053787, null, 0.05231720209121704, 0.012477041222155094, null, 0.05231720209121704, 0.05011247098445892, null, 0.05231720209121704, 0.06887981295585632, null, 0.05231720209121704, 0.08691021800041199, null, 0.05231720209121704, 0.08551585674285889, null, 0.05231720209121704, 0.07931913435459137, null, 0.05231720209121704, 0.07817395031452179, null, 0.06887981295585632, 0.07479197531938553, null, 0.06887981295585632, 0.08812970668077469, null, 0.06887981295585632, 0.07041926681995392, null, 0.06887981295585632, 0.10536835342645645, null, 0.06887981295585632, 0.07291451841592789, null, 0.06887981295585632, 0.07817395031452179, null, 0.06887981295585632, 0.049302466213703156, null, 0.06887981295585632, 0.03877221792936325, null, 0.209589883685112, 0.16721609234809875, null, 0.209589883685112, 0.2137453258037567, null, 0.209589883685112, 0.2517535984516144, null, 0.209589883685112, 0.11588447540998459, null, 0.209589883685112, 0.16815496981143951, null, 0.209589883685112, 0.2886342406272888, null, 0.209589883685112, 0.27947261929512024, null, 0.209589883685112, 0.2535308003425598, null, 0.209589883685112, 0.23844774067401886, null, 0.209589883685112, 0.11147519946098328, null, 0.16721609234809875, 0.2562547028064728, null, 0.16721609234809875, 0.2535308003425598, null, 0.16721609234809875, 0.18935155868530273, null, 0.16721609234809875, 0.2137453258037567, null, 0.16721609234809875, -0.04479677230119705, null, 0.16721609234809875, 0.2545206546783447, null, 0.2137453258037567, 0.23844774067401886, null, 0.2137453258037567, 0.18935155868530273, null, 0.2137453258037567, 0.27947261929512024, null, 0.2137453258037567, 0.32237133383750916, null, 0.2137453258037567, 0.3091089129447937, null, 0.2137453258037567, 0.2545206546783447, null, 0.2137453258037567, 0.16815496981143951, null, 0.2137453258037567, 0.020581068471074104, null, 0.2517535984516144, 0.32237133383750916, null, 0.2517535984516144, 0.3224884867668152, null, 0.2517535984516144, 0.11588447540998459, null, 0.2517535984516144, 0.2545206546783447, null, 0.2517535984516144, 0.2886342406272888, null, 0.2517535984516144, 0.18935155868530273, null, 0.11588447540998459, 0.22297166287899017, null, 0.11588447540998459, 0.10971999168395996, null, 0.11588447540998459, 0.03139883652329445, null, 0.11588447540998459, 0.13328997790813446, null, 0.11588447540998459, 0.04143243655562401, null, 0.11588447540998459, 0.14697441458702087, null, 0.11588447540998459, 0.11999084055423737, null, 0.11588447540998459, 0.08877000212669373, null, 0.11588447540998459, 0.05796584486961365, null, 0.11588447540998459, 0.04002397879958153, null, 0.11588447540998459, 0.09537920355796814, null, 0.11588447540998459, 0.03332895040512085, null, 0.11588447540998459, 0.16805709898471832, null, 0.11588447540998459, 0.024035409092903137, null, 0.11588447540998459, 0.11718061566352844, null, 0.11588447540998459, 0.09128154814243317, null, 0.16815496981143951, 0.2562547028064728, null, 0.16815496981143951, 0.2535308003425598, null, 0.16815496981143951, 0.18935155868530273, null, 0.16815496981143951, -0.04479677230119705, null, 0.16815496981143951, 0.2545206546783447, null, 0.2886342406272888, 0.18935155868530273, null, 0.27947261929512024, 0.2562547028064728, null, 0.27947261929512024, 0.2535308003425598, null, 0.27947261929512024, 0.3971080780029297, null, 0.27947261929512024, 0.18935155868530273, null, 0.27947261929512024, 0.402385413646698, null, 0.27947261929512024, 0.24557501077651978, null, 0.27947261929512024, 0.2545206546783447, null, 0.27947261929512024, 0.1282038688659668, null, 0.27947261929512024, 0.27947261929512024, null, 0.27947261929512024, 0.3091089129447937, null, 0.2535308003425598, 0.2562547028064728, null, 0.2535308003425598, 0.3224884867668152, null, 0.2535308003425598, 0.23844774067401886, null, 0.2535308003425598, 0.18935155868530273, null, 0.23844774067401886, 0.2562547028064728, null, 0.23844774067401886, 0.3224884867668152, null, 0.23844774067401886, 0.2545206546783447, null, 0.23844774067401886, 0.3091089129447937, null, 0.23844774067401886, 0.18935155868530273, null, 0.23844774067401886, 0.0912223532795906, null, 0.11147519946098328, -0.05158960819244385, null, 0.16349036991596222, 0.11999084055423737, null, 0.16349036991596222, 0.0773618072271347, null, 0.16349036991596222, 0.07041926681995392, null, 0.16349036991596222, 0.28292185068130493, null, 0.11999084055423737, 0.07456914335489273, null, 0.11999084055423737, 0.0687268003821373, null, 0.11999084055423737, 0.0773618072271347, null, 0.11999084055423737, -0.026666227728128433, null, 0.11999084055423737, 0.10459242761135101, null, 0.11999084055423737, 0.08551585674285889, null, 0.11999084055423737, 0.11253390461206436, null, 0.11999084055423737, 0.25185415148735046, null, 0.11999084055423737, 0.1282038688659668, null, 0.11999084055423737, 0.1220640242099762, null, 0.11999084055423737, 0.20409467816352844, null, 0.11999084055423737, 0.0996837168931961, null, 0.0773618072271347, 0.043594520539045334, null, 0.0773618072271347, 0.0658191442489624, null, 0.0773618072271347, 0.07479197531938553, null, 0.0773618072271347, 0.03139883652329445, null, 0.0773618072271347, 0.05666948854923248, null, 0.0773618072271347, 0.0687268003821373, null, 0.0773618072271347, 0.0488005056977272, null, 0.0773618072271347, 0.05796584486961365, null, 0.0773618072271347, 0.07957680523395538, null, 0.0773618072271347, 0.0940312072634697, null, 0.0773618072271347, 0.1309903860092163, null, 0.0773618072271347, 0.11434563249349594, null, 0.0773618072271347, 0.0035542079713195562, null, 0.0773618072271347, 0.018971864134073257, null, 0.0773618072271347, 0.05927802994847298, null, 0.0773618072271347, 0.08662266284227371, null, 0.0773618072271347, 0.09537920355796814, null, 0.0773618072271347, 0.11547856777906418, null, 0.0773618072271347, 0.043111711740493774, null, 0.0773618072271347, 0.09288067370653152, null, 0.0773618072271347, 0.06376970559358597, null, 0.0773618072271347, 0.04495400935411453, null, 0.0773618072271347, 0.0381401926279068, null, 0.0773618072271347, 0.10648907721042633, null, 0.0773618072271347, 0.10694535821676254, null, 0.0773618072271347, 0.09097643196582794, null, 0.0773618072271347, 0.03798501566052437, null, 0.0773618072271347, 0.08831719309091568, null, 0.0773618072271347, 0.05011247098445892, null, 0.0773618072271347, 0.06714054197072983, null, 0.0773618072271347, 0.07931913435459137, null, 0.0773618072271347, 0.06657794117927551, null, 0.0773618072271347, 0.030183719471096992, null, 0.0773618072271347, 0.09186612069606781, null, 0.0773618072271347, 0.08691021800041199, null, 0.0773618072271347, 0.08591116964817047, null, 0.0773618072271347, 0.0724325031042099, null, 0.0773618072271347, 0.12779448926448822, null, 0.0773618072271347, 0.08551585674285889, null, 0.0773618072271347, 0.09128154814243317, null, 0.0773618072271347, 0.03877221792936325, null, 0.0773618072271347, 0.05467139929533005, null, 0.0773618072271347, 0.0741327777504921, null, 0.0773618072271347, 0.07041926681995392, null, 0.07041926681995392, 0.07479197531938553, null, 0.07041926681995392, 0.0687268003821373, null, 0.07041926681995392, 0.0488005056977272, null, 0.07041926681995392, 0.0940312072634697, null, 0.07041926681995392, 0.09288067370653152, null, 0.07041926681995392, 0.06376970559358597, null, 0.07041926681995392, -0.019937174394726753, null, 0.07041926681995392, 0.08551585674285889, null, 0.07041926681995392, 0.05011247098445892, null, 0.07041926681995392, 0.05927802994847298, null, 0.07041926681995392, 0.06657794117927551, null, 0.07041926681995392, 0.06306464225053787, null, 0.07041926681995392, 0.10648907721042633, null, 0.07041926681995392, 0.03877221792936325, null, 0.07041926681995392, 0.10694535821676254, null, -0.10820550471544266, -0.19689549505710602, null, -0.10820550471544266, -0.003652757266536355, null, -0.10820550471544266, -0.18896764516830444, null, -0.19689549505710602, -0.15041199326515198, null, -0.003652757266536355, 0.043594520539045334, null, -0.003652757266536355, 0.018494095653295517, null, -0.003652757266536355, 0.03139883652329445, null, -0.003652757266536355, 0.05666948854923248, null, -0.003652757266536355, 0.0013677467359229922, null, -0.003652757266536355, -0.009404502809047699, null, -0.003652757266536355, 0.0488005056977272, null, -0.003652757266536355, 0.04407772794365883, null, -0.003652757266536355, -0.010814477689564228, null, -0.003652757266536355, 0.0021560147870332003, null, -0.003652757266536355, 0.0702376738190651, null, -0.003652757266536355, 0.027139024809002876, null, -0.003652757266536355, 0.013216703198850155, null, -0.003652757266536355, 0.03798501566052437, null, -0.003652757266536355, 0.018971864134073257, null, -0.18896764516830444, -0.15041199326515198, null, -0.3380126655101776, -0.3152138292789459, null, -0.3152138292789459, -0.2943844199180603, null, -0.3968712091445923, -0.399475634098053, null, -0.3968712091445923, -0.3597925305366516, null, -0.3968712091445923, -0.41753003001213074, null, -0.3968712091445923, -0.3741953670978546, null, -0.3968712091445923, -0.39930230379104614, null, -0.399475634098053, -0.3597925305366516, null, -0.399475634098053, -0.39691922068595886, null, -0.399475634098053, -0.3625209331512451, null, -0.399475634098053, -0.366539865732193, null, -0.399475634098053, -0.37773117423057556, null, -0.399475634098053, -0.3741953670978546, null, -0.3597925305366516, -0.39691922068595886, null, -0.3597925305366516, -0.2664807438850403, null, -0.3597925305366516, -0.41753003001213074, null, -0.3597925305366516, -0.3741953670978546, null, -0.41753003001213074, -0.3741953670978546, null, -0.3741953670978546, -0.29074180126190186, null, -0.3741953670978546, -0.3625209331512451, null, -0.3741953670978546, -0.366539865732193, null, -0.3741953670978546, -0.37773117423057556, null, -0.3741953670978546, -0.39691922068595886, null, -0.3741953670978546, -0.3543638586997986, null, -0.39930230379104614, -0.2683577537536621, null, -0.39930230379104614, -0.38789424300193787, null, -0.39930230379104614, -0.529219388961792, null, -0.39930230379104614, -0.3577687442302704, null, -0.39930230379104614, -0.4012240171432495, null, -0.39930230379104614, -0.3960433900356293, null, -0.39930230379104614, -0.4367685914039612, null, -0.39930230379104614, -0.5196969509124756, null, -0.39930230379104614, -0.42096731066703796, null, -0.39930230379104614, -0.4496851861476898, null, -0.39930230379104614, -0.36105942726135254, null, -0.39930230379104614, -0.4340667128562927, null, -0.39930230379104614, -0.23260806500911713, null, -0.39930230379104614, -0.3366221785545349, null, -0.39930230379104614, -0.3664356768131256, null, -0.39930230379104614, -0.2640726864337921, null, -0.39930230379104614, -0.43491941690444946, null, -0.39930230379104614, -0.5076401233673096, null, -0.39930230379104614, -0.48554158210754395, null, -0.39930230379104614, -0.3625209331512451, null, -0.39930230379104614, -0.5109477639198303, null, -0.39930230379104614, -0.42880675196647644, null, -0.39930230379104614, -0.38206619024276733, null, -0.39930230379104614, -0.464677631855011, null, -0.39930230379104614, -0.4190755784511566, null, -0.39930230379104614, -0.43769675493240356, null, -0.39930230379104614, -0.35143470764160156, null, -0.39930230379104614, -0.5211102962493896, null, -0.39930230379104614, -0.38329270482063293, null, -0.39930230379104614, -0.39726659655570984, null, -0.39930230379104614, -0.4108901619911194, null, -0.39930230379104614, -0.37195414304733276, null, -0.39930230379104614, -0.49665307998657227, null, -0.39930230379104614, -0.370029091835022, null, -0.39930230379104614, -0.41812020540237427, null, -0.39930230379104614, -0.33240845799446106, null, -0.39930230379104614, -0.40979936718940735, null, -0.39930230379104614, -0.4730702340602875, null, -0.39930230379104614, -0.38392406702041626, null, -0.39930230379104614, -0.48149195313453674, null, -0.39930230379104614, -0.46742039918899536, null, -0.39930230379104614, -0.4715462923049927, null, -0.39930230379104614, -0.4592437148094177, null, -0.39930230379104614, -0.3518569767475128, null, -0.39930230379104614, -0.36900579929351807, null, -0.39930230379104614, -0.3508598506450653, null, -0.39930230379104614, -0.19388729333877563, null, -0.39930230379104614, -0.3632647395133972, null, -0.39930230379104614, -0.3407164216041565, null, -0.39930230379104614, -0.366095632314682, null, -0.39930230379104614, -0.45522773265838623, null, -0.39930230379104614, -0.3968055546283722, null, -0.39930230379104614, -0.45391735434532166, null, -0.39930230379104614, -0.4749460220336914, null, -0.39930230379104614, -0.5029696822166443, null, -0.39930230379104614, -0.4271285831928253, null, -0.39930230379104614, -0.4654960632324219, null, -0.39930230379104614, -0.4430118203163147, null, -0.03930675983428955, -0.06842874735593796, null, -0.03930675983428955, -0.0662330761551857, null, -0.03930675983428955, -0.07413864880800247, null, -0.03930675983428955, 0.0658191442489624, null, -0.03930675983428955, -0.06139116361737251, null, -0.03930675983428955, -0.05185340344905853, null, -0.06842874735593796, -0.09451726824045181, null, -0.06842874735593796, -0.010814477689564228, null, -0.06842874735593796, 0.0021560147870332003, null, -0.0662330761551857, -0.061941009014844894, null, -0.0662330761551857, -0.07413864880800247, null, -0.0662330761551857, -0.05185340344905853, null, -0.07413864880800247, -0.05185340344905853, null, -0.07413864880800247, -0.06139116361737251, null, 0.0658191442489624, 0.10381321609020233, null, 0.0658191442489624, 0.09238434582948685, null, 0.0658191442489624, 0.06657794117927551, null, 0.0658191442489624, 0.05927802994847298, null, 0.0658191442489624, 0.06376970559358597, null, 0.0658191442489624, 0.10648907721042633, null, 0.0658191442489624, -0.01975102536380291, null, 0.0658191442489624, 0.0687268003821373, null, 0.0658191442489624, 0.0488005056977272, null, 0.0658191442489624, 0.10694535821676254, null, 0.0658191442489624, 0.07479197531938553, null, 0.0658191442489624, 0.08691021800041199, null, 0.0658191442489624, -0.022661356255412102, null, 0.0658191442489624, 0.08551585674285889, null, 0.0658191442489624, 0.07931913435459137, null, 0.0658191442489624, 0.09610363841056824, null, 0.0658191442489624, 0.10886329412460327, null, -0.06139116361737251, -0.061941009014844894, null, -0.05185340344905853, -0.061941009014844894, null, 0.32688984274864197, 0.5317838788032532, null, 0.32688984274864197, 0.09537920355796814, null, 0.32688984274864197, 0.45056262612342834, null, 0.32688984274864197, 0.14435923099517822, null, 0.32688984274864197, 0.5045966506004333, null, 0.5317838788032532, 0.7066318392753601, null, 0.09537920355796814, 0.043594520539045334, null, 0.09537920355796814, 0.07456914335489273, null, 0.09537920355796814, -0.0731813982129097, null, 0.09537920355796814, 0.03139883652329445, null, 0.09537920355796814, 0.05666948854923248, null, 0.09537920355796814, 0.03597131371498108, null, 0.09537920355796814, 0.0940312072634697, null, 0.09537920355796814, 0.0741327777504921, null, 0.09537920355796814, 0.06714054197072983, null, 0.09537920355796814, 0.027139024809002876, null, 0.09537920355796814, 0.05796584486961365, null, 0.09537920355796814, 0.04208487644791603, null, 0.09537920355796814, 0.03798501566052437, null, 0.09537920355796814, 0.04499755799770355, null, 0.09537920355796814, 0.09186612069606781, null, 0.09537920355796814, 0.018971864134073257, null, 0.09537920355796814, 0.04495400935411453, null, 0.09537920355796814, 0.10648907721042633, null, 0.45056262612342834, 0.5045966506004333, null, 0.14435923099517822, 0.2243274301290512, null, 0.14435923099517822, 0.2100532054901123, null, 0.14435923099517822, 0.1532818228006363, null, 0.14435923099517822, -0.0708993673324585, null, 0.14435923099517822, 0.08541112393140793, null, 0.14435923099517822, 0.07451703399419785, null, 0.5045966506004333, 0.6100857257843018, null, 0.5045966506004333, 0.6119064092636108, null, 0.043594520539045334, 0.05796584486961365, null, 0.043594520539045334, 0.027139024809002876, null, 0.043594520539045334, 0.1309903860092163, null, 0.043594520539045334, 0.06657794117927551, null, 0.043594520539045334, 0.02196623384952545, null, 0.043594520539045334, 0.053504493087530136, null, 0.043594520539045334, 0.043111711740493774, null, 0.043594520539045334, 0.06376970559358597, null, 0.043594520539045334, 0.06627228111028671, null, 0.043594520539045334, 0.0488005056977272, null, 0.043594520539045334, 0.04072155803442001, null, 0.043594520539045334, 0.03798501566052437, null, 0.043594520539045334, 0.03332895040512085, null, 0.043594520539045334, 0.05011247098445892, null, 0.043594520539045334, 0.07479197531938553, null, 0.043594520539045334, 0.0021560147870332003, null, 0.043594520539045334, 0.00698787672445178, null, 0.043594520539045334, 0.0312288049608469, null, 0.043594520539045334, 0.07456914335489273, null, 0.043594520539045334, 0.013216703198850155, null, 0.043594520539045334, 0.03139883652329445, null, 0.043594520539045334, 0.05467139929533005, null, 0.043594520539045334, 0.024035409092903137, null, 0.05796584486961365, -0.03940201923251152, null, 0.05796584486961365, 0.03139883652329445, null, 0.05796584486961365, 0.05666948854923248, null, 0.05796584486961365, -0.009404502809047699, null, 0.05796584486961365, 0.0488005056977272, null, 0.05796584486961365, 0.0312288049608469, null, 0.05796584486961365, 0.10459242761135101, null, 0.05796584486961365, 0.07931913435459137, null, 0.05796584486961365, 0.030183719471096992, null, 0.05796584486961365, 0.05011247098445892, null, 0.05796584486961365, 0.027139024809002876, null, 0.05796584486961365, 0.06657794117927551, null, 0.05796584486961365, 0.043111711740493774, null, 0.05796584486961365, 0.04495400935411453, null, 0.05796584486961365, 0.018971864134073257, null, 0.05796584486961365, 0.11547856777906418, null, 0.05796584486961365, 0.06627228111028671, null, 0.05796584486961365, 0.09097643196582794, null, 0.05796584486961365, 0.03798501566052437, null, 0.05796584486961365, 0.04499755799770355, null, 0.05796584486961365, 0.03001329116523266, null, 0.05796584486961365, 0.09186612069606781, null, 0.05796584486961365, 0.08425354212522507, null, 0.05796584486961365, 0.13089030981063843, null, 0.027139024809002876, 0.07456914335489273, null, 0.027139024809002876, 0.03139883652329445, null, 0.027139024809002876, 0.05030599236488342, null, 0.027139024809002876, 0.05666948854923248, null, 0.027139024809002876, 0.0013677467359229922, null, 0.027139024809002876, -0.009404502809047699, null, 0.027139024809002876, 0.0488005056977272, null, 0.027139024809002876, 0.09288067370653152, null, 0.027139024809002876, 0.06376970559358597, null, 0.027139024809002876, 0.0381401926279068, null, 0.027139024809002876, 0.0035542079713195562, null, 0.027139024809002876, 0.00698787672445178, null, 0.027139024809002876, 0.010574374347925186, null, 0.027139024809002876, 0.053504493087530136, null, 0.027139024809002876, 0.02196623384952545, null, 0.027139024809002876, 0.10381321609020233, null, 0.027139024809002876, 0.06657794117927551, null, 0.027139024809002876, 0.043111711740493774, null, 0.027139024809002876, 0.03798501566052437, null, 0.027139024809002876, 0.03332895040512085, null, 0.027139024809002876, -0.036004144698381424, null, 0.027139024809002876, 0.08831719309091568, null, 0.027139024809002876, 0.04208487644791603, null, 0.027139024809002876, 0.0021560147870332003, null, 0.027139024809002876, 0.010610331781208515, null, 0.027139024809002876, 0.03001329116523266, null, 0.027139024809002876, -0.10294215381145477, null, 0.027139024809002876, 0.09186612069606781, null, 0.027139024809002876, 0.013216703198850155, null, 0.027139024809002876, 0.09128154814243317, null, 0.027139024809002876, 0.05467139929533005, null, 0.1309903860092163, 0.07957680523395538, null, 0.06657794117927551, 0.005998335778713226, null, 0.06657794117927551, 0.07479197531938553, null, 0.06657794117927551, 0.03139883652329445, null, 0.06657794117927551, 0.0687268003821373, null, 0.06657794117927551, 0.04407772794365883, null, 0.06657794117927551, 0.0035542079713195562, null, 0.06657794117927551, 0.030183719471096992, null, 0.06657794117927551, 0.05011247098445892, null, 0.06657794117927551, 0.0724325031042099, null, 0.06657794117927551, 0.182865709066391, null, 0.06657794117927551, 0.10648907721042633, null, 0.06657794117927551, 0.018971864134073257, null, 0.06657794117927551, 0.065378837287426, null, 0.06657794117927551, 0.04499755799770355, null, 0.06657794117927551, 0.10694535821676254, null, 0.06657794117927551, 0.03798501566052437, null, 0.06657794117927551, 0.03332895040512085, null, 0.06657794117927551, 0.07531435787677765, null, 0.06657794117927551, 0.05467139929533005, null, 0.02196623384952545, 0.03139883652329445, null, 0.02196623384952545, 0.05666948854923248, null, 0.02196623384952545, 0.03798501566052437, null, 0.053504493087530136, 0.03139883652329445, null, 0.053504493087530136, 0.05666948854923248, null, 0.053504493087530136, 0.0940312072634697, null, 0.053504493087530136, 0.016587670892477036, null, 0.053504493087530136, 0.04208487644791603, null, 0.053504493087530136, 0.0702376738190651, null, 0.053504493087530136, 0.03001329116523266, null, 0.053504493087530136, 0.03798501566052437, null, 0.053504493087530136, 0.10648907721042633, null, 0.053504493087530136, 0.018971864134073257, null, 0.053504493087530136, 0.04499755799770355, null, 0.053504493087530136, 0.06714054197072983, null, 0.043111711740493774, -0.03940201923251152, null, 0.043111711740493774, 0.03139883652329445, null, 0.043111711740493774, 0.05666948854923248, null, 0.043111711740493774, 0.03597131371498108, null, 0.043111711740493774, 0.0312288049608469, null, 0.043111711740493774, 0.0724325031042099, null, 0.043111711740493774, 0.019090885296463966, null, 0.043111711740493774, 0.04208487644791603, null, 0.043111711740493774, 0.03798501566052437, null, 0.043111711740493774, 0.04499755799770355, null, 0.043111711740493774, 0.11434563249349594, null, 0.043111711740493774, 0.09097643196582794, null, 0.043111711740493774, 0.03332895040512085, null, 0.043111711740493774, 0.09664762765169144, null, 0.043111711740493774, 0.018971864134073257, null, 0.043111711740493774, -0.030457990244030952, null, 0.043111711740493774, 0.04495400935411453, null, 0.06376970559358597, 0.005998335778713226, null, 0.06376970559358597, 0.07479197531938553, null, 0.06376970559358597, 0.03139883652329445, null, 0.06376970559358597, 0.0687268003821373, null, 0.06376970559358597, 0.04407772794365883, null, 0.06376970559358597, 0.182865709066391, null, 0.06376970559358597, 0.0035542079713195562, null, 0.06376970559358597, 0.10648907721042633, null, 0.06376970559358597, 0.018971864134073257, null, 0.06376970559358597, 0.065378837287426, null, 0.06376970559358597, 0.030183719471096992, null, 0.06376970559358597, 0.04499755799770355, null, 0.06376970559358597, 0.10694535821676254, null, 0.06376970559358597, 0.03798501566052437, null, 0.06376970559358597, 0.03332895040512085, null, 0.06376970559358597, 0.07531435787677765, null, 0.06376970559358597, 0.05011247098445892, null, 0.06376970559358597, 0.0724325031042099, null, 0.06376970559358597, 0.05467139929533005, null, 0.06627228111028671, 0.0488005056977272, null, 0.06627228111028671, 0.0940312072634697, null, 0.06627228111028671, 0.04407772794365883, null, 0.06627228111028671, 0.10459242761135101, null, 0.06627228111028671, 0.0381401926279068, null, 0.06627228111028671, 0.05011247098445892, null, 0.06627228111028671, 0.09479488432407379, null, 0.06627228111028671, 0.03798501566052437, null, 0.06627228111028671, 0.09186612069606781, null, 0.06627228111028671, 0.05927802994847298, null, 0.06627228111028671, 0.08425354212522507, null, 0.06627228111028671, 0.0702376738190651, null, 0.06627228111028671, 0.04495400935411453, null, 0.06627228111028671, 0.09128154814243317, null, 0.06627228111028671, 0.018971864134073257, null, 0.0488005056977272, -0.008030775934457779, null, 0.0488005056977272, 0.018494095653295517, null, 0.0488005056977272, 0.11055456846952438, null, 0.0488005056977272, 0.07479197531938553, null, 0.0488005056977272, 0.03139883652329445, null, 0.0488005056977272, 0.05666948854923248, null, 0.0488005056977272, 0.0013677467359229922, null, 0.0488005056977272, -0.009404502809047699, null, 0.0488005056977272, 0.0687268003821373, null, 0.0488005056977272, 0.016587670892477036, null, 0.0488005056977272, -0.010814477689564228, null, 0.0488005056977272, 0.10648907721042633, null, 0.0488005056977272, 0.018971864134073257, null, 0.0488005056977272, 0.0912223532795906, null, 0.0488005056977272, 0.11547856777906418, null, 0.0488005056977272, 0.04407772794365883, null, 0.0488005056977272, -0.0405023954808712, null, 0.0488005056977272, 0.04499755799770355, null, 0.0488005056977272, 0.08259515464305878, null, 0.0488005056977272, 0.0940312072634697, null, 0.0488005056977272, 0.0702376738190651, null, 0.0488005056977272, 0.10694535821676254, null, 0.0488005056977272, 0.007464433088898659, null, 0.0488005056977272, 0.03798501566052437, null, 0.0488005056977272, 0.03332895040512085, null, 0.0488005056977272, 0.09460313618183136, null, 0.0488005056977272, 0.06714054197072983, null, 0.0488005056977272, 0.0021560147870332003, null, 0.0488005056977272, 0.04495400935411453, null, 0.0488005056977272, 0.030183719471096992, null, 0.0488005056977272, 0.09186612069606781, null, 0.0488005056977272, 0.013216703198850155, null, 0.0488005056977272, 0.05467139929533005, null, 0.04072155803442001, 0.05666948854923248, null, 0.04072155803442001, 0.03798501566052437, null, 0.04072155803442001, 0.03139883652329445, null, 0.04072155803442001, 0.04629499465227127, null, 0.04072155803442001, 0.018971864134073257, null, 0.04072155803442001, 0.04201740771532059, null, 0.04072155803442001, 0.0912223532795906, null, 0.04072155803442001, 0.07479197531938553, null, 0.03798501566052437, 0.07456914335489273, null, 0.03798501566052437, 0.04201740771532059, null, 0.03798501566052437, 0.005998335778713226, null, 0.03798501566052437, 0.07479197531938553, null, 0.03798501566052437, 0.03139883652329445, null, 0.03798501566052437, 0.05030599236488342, null, 0.03798501566052437, 0.05666948854923248, null, 0.03798501566052437, 0.0687268003821373, null, 0.03798501566052437, 0.0312288049608469, null, 0.03798501566052437, 0.09288067370653152, null, 0.03798501566052437, 0.0381401926279068, null, 0.03798501566052437, 0.08560413867235184, null, 0.03798501566052437, 0.04143243655562401, null, 0.03798501566052437, 0.00698787672445178, null, 0.03798501566052437, -0.03396870568394661, null, 0.03798501566052437, 0.08551585674285889, null, 0.03798501566052437, 0.07931913435459137, null, 0.03798501566052437, 0.010574374347925186, null, 0.03798501566052437, 0.05011247098445892, null, 0.03798501566052437, 0.016587670892477036, null, 0.03798501566052437, 0.04208487644791603, null, 0.03798501566052437, 0.0021560147870332003, null, 0.03798501566052437, 0.07957680523395538, null, 0.03798501566052437, 0.11434563249349594, null, 0.03798501566052437, 0.018971864134073257, null, 0.03798501566052437, 0.08831719309091568, null, 0.03798501566052437, -0.05200120806694031, null, 0.03798501566052437, 0.04499755799770355, null, 0.03798501566052437, 0.10694535821676254, null, 0.03798501566052437, 0.03332895040512085, null, 0.03798501566052437, 0.12366516888141632, null, 0.03798501566052437, 0.010610331781208515, null, 0.03798501566052437, 0.05467139929533005, null, 0.03798501566052437, -0.026107890531420708, null, 0.03798501566052437, 0.013216703198850155, null, 0.03798501566052437, 0.09128154814243317, null, 0.03798501566052437, -0.05112600699067116, null, 0.03798501566052437, 0.024035409092903137, null, 0.03332895040512085, 0.03139883652329445, null, 0.03332895040512085, 0.05666948854923248, null, 0.03332895040512085, 0.0940312072634697, null, 0.03332895040512085, 0.04143243655562401, null, 0.03332895040512085, 0.14697441458702087, null, 0.03332895040512085, 0.0741327777504921, null, 0.03332895040512085, -0.07268059253692627, null, 0.03332895040512085, 0.0028423545882105827, null, 0.03332895040512085, 0.04499755799770355, null, 0.03332895040512085, -0.017149262130260468, null, 0.03332895040512085, -0.006663299631327391, null, 0.03332895040512085, -0.004758699797093868, null, 0.03332895040512085, 0.018971864134073257, null, 0.03332895040512085, -0.04170786216855049, null, 0.03332895040512085, 0.024035409092903137, null, 0.05011247098445892, 0.04201740771532059, null, 0.05011247098445892, 0.07479197531938553, null, 0.05011247098445892, 0.03139883652329445, null, 0.05011247098445892, 0.05666948854923248, null, 0.05011247098445892, 0.0687268003821373, null, 0.05011247098445892, 0.053220950067043304, null, 0.05011247098445892, 0.08259515464305878, null, 0.05011247098445892, -0.03396870568394661, null, 0.05011247098445892, 0.07931913435459137, null, 0.05011247098445892, 0.030183719471096992, null, 0.05011247098445892, 0.10648907721042633, null, 0.05011247098445892, 0.018971864134073257, null, 0.05011247098445892, 0.05927802994847298, null, 0.05011247098445892, -0.03246842324733734, null, 0.05011247098445892, 0.11253390461206436, null, 0.05011247098445892, -0.015780232846736908, null, 0.05011247098445892, 0.17772400379180908, null, 0.05011247098445892, 0.019090885296463966, null, 0.05011247098445892, -0.05200120806694031, null, 0.05011247098445892, 0.12330617755651474, null, 0.05011247098445892, 0.03001329116523266, null, 0.07479197531938553, 0.05030599236488342, null, 0.07479197531938553, 0.09238434582948685, null, 0.07479197531938553, 0.0940312072634697, null, 0.07479197531938553, 0.05666948854923248, null, 0.07479197531938553, 0.10648907721042633, null, 0.07479197531938553, 0.018971864134073257, null, 0.07479197531938553, 0.05927802994847298, null, 0.07479197531938553, 0.08662266284227371, null, 0.07479197531938553, 0.15309187769889832, null, 0.07479197531938553, 0.04407772794365883, null, 0.07479197531938553, 0.08691021800041199, null, 0.07479197531938553, 0.09288067370653152, null, 0.07479197531938553, 0.030183719471096992, null, 0.07479197531938553, -0.01975102536380291, null, 0.07479197531938553, 0.04495400935411453, null, 0.07479197531938553, 0.0687268003821373, null, 0.07479197531938553, 0.10694535821676254, null, 0.07479197531938553, 0.06306464225053787, null, 0.07479197531938553, 0.07931913435459137, null, 0.07479197531938553, 0.0996837168931961, null, 0.07479197531938553, 0.10278399288654327, null, 0.07479197531938553, 0.08877000212669373, null, 0.07479197531938553, 0.1282038688659668, null, 0.07479197531938553, 0.09186612069606781, null, 0.07479197531938553, 0.013216703198850155, null, 0.07479197531938553, 0.0724325031042099, null, 0.07479197531938553, 0.08551585674285889, null, 0.07479197531938553, 0.09128154814243317, null, 0.07479197531938553, 0.13089030981063843, null, 0.07479197531938553, 0.13328997790813446, null, 0.07479197531938553, 0.05467139929533005, null, 0.07479197531938553, 0.03139883652329445, null, 0.0021560147870332003, 0.03139883652329445, null, 0.0021560147870332003, 0.05666948854923248, null, 0.0021560147870332003, 0.0013677467359229922, null, 0.0021560147870332003, 0.04407772794365883, null, 0.0021560147870332003, -0.010814477689564228, null, 0.0021560147870332003, 0.018971864134073257, null, 0.0021560147870332003, 0.04499755799770355, null, 0.00698787672445178, 0.03139883652329445, null, 0.00698787672445178, 0.05666948854923248, null, 0.0312288049608469, 0.03139883652329445, null, 0.0312288049608469, 0.05666948854923248, null, 0.0312288049608469, 0.09238434582948685, null, 0.0312288049608469, 0.0028423545882105827, null, 0.0312288049608469, 0.018971864134073257, null, 0.0312288049608469, -0.006663299631327391, null, 0.0312288049608469, 0.024035409092903137, null, 0.07456914335489273, 0.04407772794365883, null, 0.07456914335489273, 0.060869958251714706, null, 0.07456914335489273, 0.09448333829641342, null, 0.07456914335489273, 0.0035542079713195562, null, 0.07456914335489273, 0.04499755799770355, null, 0.07456914335489273, 0.11055456846952438, null, 0.07456914335489273, 0.03139883652329445, null, 0.013216703198850155, -0.0731813982129097, null, 0.013216703198850155, 0.03139883652329445, null, 0.013216703198850155, 0.05666948854923248, null, 0.013216703198850155, 0.0013677467359229922, null, 0.013216703198850155, -0.009404502809047699, null, 0.013216703198850155, 0.04407772794365883, null, 0.013216703198850155, 0.04499755799770355, null, 0.013216703198850155, 0.09097643196582794, null, 0.013216703198850155, 0.018971864134073257, null, 0.03139883652329445, 0.04201740771532059, null, 0.03139883652329445, -0.03940201923251152, null, 0.03139883652329445, 0.005998335778713226, null, 0.03139883652329445, 0.016587670892477036, null, 0.03139883652329445, 0.0013677467359229922, null, 0.03139883652329445, 0.05030599236488342, null, 0.03139883652329445, 0.05666948854923248, null, 0.03139883652329445, 0.0028423545882105827, null, 0.03139883652329445, 0.018971864134073257, null, 0.03139883652329445, 0.05927802994847298, null, 0.03139883652329445, 0.024011539295315742, null, 0.03139883652329445, 0.04208487644791603, null, 0.03139883652329445, -0.05200120806694031, null, 0.03139883652329445, -0.03396870568394661, null, 0.03139883652329445, 0.07931913435459137, null, 0.03139883652329445, 0.04143243655562401, null, 0.03139883652329445, -0.01975102536380291, null, 0.03139883652329445, 0.09097643196582794, null, 0.03139883652329445, -0.013539220206439495, null, 0.03139883652329445, 0.07531435787677765, null, 0.03139883652329445, 0.10070253163576126, null, 0.03139883652329445, 0.0996837168931961, null, 0.03139883652329445, 0.1282038688659668, null, 0.03139883652329445, -0.05503140762448311, null, 0.03139883652329445, -0.030457990244030952, null, 0.03139883652329445, 0.049302466213703156, null, 0.03139883652329445, -0.0310670118778944, null, 0.03139883652329445, 0.05467139929533005, null, 0.03139883652329445, -0.006663299631327391, null, 0.03139883652329445, 0.024035409092903137, null, 0.05467139929533005, 0.08831719309091568, null, 0.024035409092903137, 0.10971999168395996, null, 0.024035409092903137, -0.04873187839984894, null, 0.024035409092903137, 0.0075654760003089905, null, 0.024035409092903137, 0.05666948854923248, null, 0.024035409092903137, 0.03597131371498108, null, 0.024035409092903137, 0.0027386194560676813, null, 0.024035409092903137, -0.04371339827775955, null, 0.024035409092903137, 0.10070253163576126, null, 0.024035409092903137, 0.014396728947758675, null, 0.024035409092903137, 0.025750156491994858, null, 0.024035409092903137, -0.031917475163936615, null, 0.024035409092903137, 0.0741327777504921, null, 0.024035409092903137, 0.024011539295315742, null, 0.024035409092903137, -0.019675368443131447, null, 0.024035409092903137, -0.0634521022439003, null, 0.024035409092903137, 0.04208487644791603, null, 0.024035409092903137, -0.16848698258399963, null, 0.024035409092903137, 0.07704158872365952, null, 0.024035409092903137, 0.04002397879958153, null, 0.024035409092903137, -0.0310670118778944, null, 0.024035409092903137, 0.09664762765169144, null, 0.024035409092903137, 0.018971864134073257, null, 0.024035409092903137, -0.002725609578192234, null, 0.024035409092903137, 0.00392206059768796, null, 0.024035409092903137, 0.2344995141029358, null, 0.024035409092903137, 0.020581068471074104, null, 0.024035409092903137, -0.037686314433813095, null, 0.10752585530281067, 0.11313962191343307, null, 0.10752585530281067, 0.09181234985589981, null, 0.11313962191343307, 0.11234594881534576, null, 0.11313962191343307, 0.09610363841056824, null, 0.11313962191343307, 0.13983026146888733, null, 0.09181234985589981, 0.04143243655562401, null, 0.09181234985589981, 0.14697441458702087, null, 0.09181234985589981, 0.08877000212669373, null, 0.09181234985589981, 0.13195538520812988, null, 0.09181234985589981, 0.09184660762548447, null, 0.09181234985589981, 0.06256047636270523, null, -0.014645596034824848, 0.00466504693031311, null, -0.014645596034824848, 0.005061720032244921, null, -0.014645596034824848, 0.0008168173371814191, null, -0.014645596034824848, -0.00808453094214201, null, -0.014645596034824848, -0.02597271464765072, null, -0.014645596034824848, -0.005128304939717054, null, 0.00466504693031311, 0.005061720032244921, null, 0.00466504693031311, -0.02597271464765072, null, 0.00466504693031311, 0.0008168173371814191, null, 0.00466504693031311, -0.00808453094214201, null, 0.00466504693031311, -0.005128304939717054, null, 0.005061720032244921, 0.026176372542977333, null, 0.005061720032244921, 0.013077082112431526, null, 0.005061720032244921, 0.0008168173371814191, null, 0.005061720032244921, 0.01470690406858921, null, 0.005061720032244921, -0.02597271464765072, null, 0.005061720032244921, -0.005128304939717054, null, 0.005061720032244921, 0.03425481542944908, null, 0.005061720032244921, -0.00808453094214201, null, 0.0008168173371814191, 0.043039869517087936, null, 0.0008168173371814191, 0.006346456706523895, null, 0.0008168173371814191, 0.01470690406858921, null, 0.0008168173371814191, -0.02597271464765072, null, 0.0008168173371814191, 0.03425481542944908, null, 0.0008168173371814191, -0.005128304939717054, null, 0.0008168173371814191, 0.026176372542977333, null, 0.0008168173371814191, -0.06957775354385376, null, 0.0008168173371814191, -0.00808453094214201, null, -0.00808453094214201, 0.01470690406858921, null, -0.00808453094214201, -0.02597271464765072, null, -0.02597271464765072, -0.06957775354385376, null, -0.02597271464765072, -0.005128304939717054, null, 0.249916672706604, 0.3691515624523163, null, 0.249916672706604, 0.09610363841056824, null, 0.249916672706604, 0.31419286131858826, null, 0.3691515624523163, 0.28725263476371765, null, 0.3691515624523163, 0.4527096748352051, null, 0.3691515624523163, 0.44099506735801697, null, 0.3691515624523163, 0.4298062026500702, null, 0.09610363841056824, -0.0708993673324585, null, 0.09610363841056824, 0.13445374369621277, null, 0.09610363841056824, 0.1532818228006363, null, 0.043039869517087936, 0.06661270558834076, null, 0.05666948854923248, 0.10971999168395996, null, 0.05666948854923248, 0.005998335778713226, null, 0.05666948854923248, 0.05030599236488342, null, 0.05666948854923248, 0.09238434582948685, null, 0.05666948854923248, 0.15659889578819275, null, 0.05666948854923248, 0.06954110413789749, null, 0.05666948854923248, 0.018971864134073257, null, 0.05666948854923248, 0.04208487644791603, null, 0.05666948854923248, 0.10381321609020233, null, 0.05666948854923248, 0.08691021800041199, null, 0.05666948854923248, 0.08560413867235184, null, 0.05666948854923248, 0.07957680523395538, null, 0.05666948854923248, 0.0940312072634697, null, 0.05666948854923248, -0.04170786216855049, null, 0.05666948854923248, 0.04143243655562401, null, 0.05666948854923248, 0.10694535821676254, null, 0.05666948854923248, -0.07268059253692627, null, 0.05666948854923248, 0.09184660762548447, null, 0.05666948854923248, 0.08831719309091568, null, 0.05666948854923248, 0.06714054197072983, null, 0.05666948854923248, 0.0996837168931961, null, 0.05666948854923248, 0.08877000212669373, null, 0.05666948854923248, 0.1282038688659668, null, 0.05666948854923248, 0.09128154814243317, null, 0.05666948854923248, 0.13328997790813446, null, 0.04629499465227127, 0.05927802994847298, null, 0.04629499465227127, 0.0912223532795906, null, 0.018971864134073257, 0.04201740771532059, null, 0.018971864134073257, 0.05030599236488342, null, 0.018971864134073257, 0.10070253163576126, null, 0.018971864134073257, 0.07931913435459137, null, 0.018971864134073257, 0.024011539295315742, null, 0.018971864134073257, -0.07268059253692627, null, 0.018971864134073257, 0.07531435787677765, null, 0.018971864134073257, -0.01975102536380291, null, 0.018971864134073257, -0.05503140762448311, null, 0.018971864134073257, -0.0310670118778944, null, 0.018971864134073257, -0.10193600505590439, null, 0.018971864134073257, -0.04170786216855049, null, 0.04201740771532059, 0.024011539295315742, null, 0.04201740771532059, 0.0996837168931961, null, 0.04201740771532059, 0.06897236406803131, null, 0.04201740771532059, 0.1282038688659668, null, 0.04201740771532059, -0.026107890531420708, null, 0.04201740771532059, -0.009404502809047699, null, 0.0912223532795906, 0.09288067370653152, null, 0.0912223532795906, 0.02132723666727543, null, 0.0912223532795906, 0.07931913435459137, null, 0.0912223532795906, 0.14114102721214294, null, 0.0912223532795906, -0.0074866763316094875, null, 0.0912223532795906, 0.06306464225053787, null, 0.0912223532795906, 0.10020938515663147, null, 0.0912223532795906, 0.05927802994847298, null, 0.0912223532795906, 0.08662266284227371, null, -0.33428797125816345, -0.34445661306381226, null, -0.33428797125816345, -0.31938284635543823, null, -0.33428797125816345, -0.32966503500938416, null, -0.33428797125816345, -0.3029448986053467, null, -0.33428797125816345, -0.3381568193435669, null, -0.33428797125816345, -0.3216743767261505, null, -0.33428797125816345, -0.3029448986053467, null, -0.33428797125816345, -0.32982566952705383, null, -0.33428797125816345, -0.3425496220588684, null, -0.33428797125816345, -0.3139071762561798, null, -0.33428797125816345, -0.34138116240501404, null, -0.33428797125816345, -0.34979701042175293, null, -0.34445661306381226, -0.3447451591491699, null, -0.34445661306381226, -0.34979701042175293, null, -0.34445661306381226, -0.3216743767261505, null, -0.34445661306381226, -0.3425496220588684, null, -0.34445661306381226, -0.3029448986053467, null, -0.34445661306381226, -0.32966503500938416, null, -0.34445661306381226, -0.32982566952705383, null, -0.34445661306381226, -0.34138116240501404, null, -0.34445661306381226, -0.3381568193435669, null, -0.34445661306381226, -0.31938284635543823, null, -0.34445661306381226, -0.3029448986053467, null, -0.34445661306381226, -0.3139071762561798, null, -0.31938284635543823, -0.34979701042175293, null, -0.31938284635543823, -0.3216743767261505, null, -0.31938284635543823, -0.3425496220588684, null, -0.31938284635543823, -0.3029448986053467, null, -0.31938284635543823, -0.32966503500938416, null, -0.31938284635543823, -0.32982566952705383, null, -0.31938284635543823, -0.34138116240501404, null, -0.31938284635543823, -0.3029448986053467, null, -0.31938284635543823, -0.3381568193435669, null, -0.31938284635543823, -0.3139071762561798, null, -0.32966503500938416, -0.34979701042175293, null, -0.32966503500938416, -0.3216743767261505, null, -0.32966503500938416, -0.3425496220588684, null, -0.32966503500938416, -0.3029448986053467, null, -0.32966503500938416, -0.3029448986053467, null, -0.32966503500938416, -0.3381568193435669, null, -0.32966503500938416, -0.32982566952705383, null, -0.32966503500938416, -0.3139071762561798, null, -0.32966503500938416, -0.34138116240501404, null, -0.3029448986053467, -0.2754420042037964, null, -0.3029448986053467, -0.22561924159526825, null, -0.3029448986053467, -0.2681345045566559, null, -0.3029448986053467, -0.3301398754119873, null, -0.3029448986053467, -0.3175632059574127, null, -0.3029448986053467, -0.2853374183177948, null, -0.3029448986053467, -0.3216743767261505, null, -0.3029448986053467, -0.29373809695243835, null, -0.3029448986053467, -0.3425496220588684, null, -0.3029448986053467, -0.28844526410102844, null, -0.3029448986053467, -0.33769363164901733, null, -0.3029448986053467, -0.27065980434417725, null, -0.3029448986053467, -0.32982566952705383, null, -0.3029448986053467, -0.3212457299232483, null, -0.3029448986053467, -0.2943844199180603, null, -0.3029448986053467, -0.3381568193435669, null, -0.3029448986053467, -0.28987422585487366, null, -0.3029448986053467, -0.3139071762561798, null, -0.3381568193435669, -0.3447451591491699, null, -0.3381568193435669, -0.34979701042175293, null, -0.3381568193435669, -0.3216743767261505, null, -0.3381568193435669, -0.3425496220588684, null, -0.3381568193435669, -0.3029448986053467, null, -0.3381568193435669, -0.32982566952705383, null, -0.3381568193435669, -0.34138116240501404, null, -0.3381568193435669, -0.3139071762561798, null, -0.3216743767261505, -0.34979701042175293, null, -0.3216743767261505, -0.32982566952705383, null, -0.3216743767261505, -0.3029448986053467, null, -0.3216743767261505, -0.3425496220588684, null, -0.3216743767261505, -0.3139071762561798, null, -0.3029448986053467, -0.2754420042037964, null, -0.3029448986053467, -0.22561924159526825, null, -0.3029448986053467, -0.2681345045566559, null, -0.3029448986053467, -0.3301398754119873, null, -0.3029448986053467, -0.3175632059574127, null, -0.3029448986053467, -0.2853374183177948, null, -0.3029448986053467, -0.29373809695243835, null, -0.3029448986053467, -0.3425496220588684, null, -0.3029448986053467, -0.28844526410102844, null, -0.3029448986053467, -0.33769363164901733, null, -0.3029448986053467, -0.27065980434417725, null, -0.3029448986053467, -0.32982566952705383, null, -0.3029448986053467, -0.3212457299232483, null, -0.3029448986053467, -0.2943844199180603, null, -0.3029448986053467, -0.28987422585487366, null, -0.3029448986053467, -0.3139071762561798, null, -0.32982566952705383, -0.34979701042175293, null, -0.32982566952705383, -0.3199741542339325, null, -0.32982566952705383, -0.3425496220588684, null, -0.32982566952705383, -0.3139071762561798, null, -0.32982566952705383, -0.34138116240501404, null, -0.3425496220588684, -0.34979701042175293, null, -0.3425496220588684, -0.3139071762561798, null, -0.3425496220588684, -0.34138116240501404, null, -0.3139071762561798, -0.34979701042175293, null, -0.3139071762561798, -0.2681345045566559, null, -0.3139071762561798, -0.3175632059574127, null, -0.3139071762561798, -0.3019019067287445, null, -0.3139071762561798, -0.34138116240501404, null, -0.3139071762561798, -0.2943844199180603, null, -0.34979701042175293, -0.34979701042175293, null, -0.0754704400897026, -0.13399092853069305, null, -0.0754704400897026, -0.05112600699067116, null, -0.0754704400897026, -0.019937174394726753, null, -0.0754704400897026, -0.04170786216855049, null, -0.13399092853069305, -0.16581113636493683, null, -0.13399092853069305, -0.03751037269830704, null, -0.13399092853069305, -0.05200120806694031, null, -0.13399092853069305, -0.23019595444202423, null, -0.05112600699067116, -0.008030775934457779, null, -0.05112600699067116, -0.09265070408582687, null, -0.05112600699067116, -0.019937174394726753, null, -0.05112600699067116, -0.03935503959655762, null, -0.05112600699067116, -0.0405023954808712, null, -0.05112600699067116, -0.06330200284719467, null, -0.019937174394726753, -0.06349718570709229, null, -0.019937174394726753, -0.021214989945292473, null, -0.019937174394726753, -0.08551520109176636, null, -0.019937174394726753, -0.06330200284719467, null, -0.019937174394726753, -0.03870449587702751, null, -0.019937174394726753, -0.03935503959655762, null, -0.019937174394726753, 0.012477041222155094, null, -0.019937174394726753, 0.03877221792936325, null, -0.04170786216855049, -0.03935503959655762, null, -0.04170786216855049, -0.07268059253692627, null, -0.04170786216855049, -0.09921000152826309, null, 0.17676980793476105, 0.11547856777906418, null, 0.17676980793476105, 0.11434563249349594, null, 0.17676980793476105, 0.2989680767059326, null, 0.17676980793476105, 0.0724325031042099, null, 0.17676980793476105, 0.0741327777504921, null, 0.17676980793476105, 0.20427681505680084, null, 0.11547856777906418, 0.18982139229774475, null, 0.11547856777906418, 0.09097643196582794, null, 0.11547856777906418, 0.09128154814243317, null, 0.11434563249349594, 0.09288067370653152, null, 0.11434563249349594, 0.07931913435459137, null, 0.11434563249349594, 0.09128154814243317, null, 0.0724325031042099, 0.07931913435459137, null, 0.0724325031042099, -0.04479677230119705, null, 0.0724325031042099, 0.09128154814243317, null, 0.0724325031042099, 0.07531435787677765, null, 0.0741327777504921, 0.05030599236488342, null, 0.0741327777504921, 0.04208487644791603, null, 0.20427681505680084, 0.09238434582948685, null, -0.3447451591491699, -0.3212457299232483, null, -0.3447451591491699, -0.28844526410102844, null, -0.3212457299232483, -0.3301398754119873, null, -0.3212457299232483, -0.2853374183177948, null, -0.3212457299232483, -0.3625209331512451, null, -0.3212457299232483, -0.3199741542339325, null, -0.3212457299232483, -0.28844526410102844, null, -0.3212457299232483, -0.33769363164901733, null, -0.3212457299232483, -0.2943844199180603, null, -0.28844526410102844, -0.2754420042037964, null, -0.28844526410102844, -0.22561924159526825, null, -0.28844526410102844, -0.3175632059574127, null, -0.28844526410102844, -0.2853374183177948, null, -0.28844526410102844, -0.3199741542339325, null, -0.28844526410102844, -0.28987422585487366, null, -0.28844526410102844, -0.27065980434417725, null, -0.28844526410102844, -0.2943844199180603, null, -0.23505862057209015, -0.2809549868106842, null, -0.23505862057209015, -0.18158435821533203, null, -0.23505862057209015, -0.11136520653963089, null, -0.23505862057209015, -0.23505862057209015, null, -0.23505862057209015, -0.2844654321670532, null, -0.2809549868106842, -0.18158435821533203, null, -0.2809549868106842, -0.2844654321670532, null, -0.18158435821533203, -0.11136520653963089, null, -0.18158435821533203, -0.2844654321670532, null, -0.18158435821533203, 0.030183719471096992, null, -0.18158435821533203, -0.287546843290329, null, -0.11136520653963089, 0.024011539295315742, null, -0.11136520653963089, -0.0634521022439003, null, -0.11136520653963089, 0.020581068471074104, null, -0.11136520653963089, -0.0310670118778944, null, 0.04407772794365883, 0.0013677467359229922, null, 0.04407772794365883, 0.08591116964817047, null, 0.04407772794365883, 0.03001329116523266, null, 0.04407772794365883, 0.08425354212522507, null, 0.04407772794365883, 0.0381401926279068, null, 0.04407772794365883, 0.10459242761135101, null, 0.060869958251714706, 0.0687268003821373, null, 0.060869958251714706, 0.0035542079713195562, null, 0.060869958251714706, 0.08551585674285889, null, 0.060869958251714706, 0.09128154814243317, null, 0.0035542079713195562, -0.19388729333877563, null, 0.0035542079713195562, 0.11473549157381058, null, 0.0035542079713195562, 0.065378837287426, null, 0.04499755799770355, 0.0013677467359229922, null, 0.04499755799770355, 0.0381401926279068, null, 0.04499755799770355, 0.010574374347925186, null, 0.04499755799770355, 0.08831719309091568, null, 0.04499755799770355, 0.10381321609020233, null, 0.04499755799770355, 0.0702376738190651, null, 0.04499755799770355, 0.09097643196582794, null, 0.04499755799770355, 0.010610331781208515, null, 0.04499755799770355, 0.09128154814243317, null, 0.11055456846952438, 0.06714054197072983, null, 0.11055456846952438, 0.10381321609020233, null, 0.3624359965324402, 0.3537563383579254, null, 0.3624359965324402, 0.37876906991004944, null, 0.3624359965324402, 0.4033573269844055, null, 0.3624359965324402, 0.4171462059020996, null, 0.3624359965324402, 0.3085179924964905, null, 0.3624359965324402, 0.27479851245880127, null, 0.3537563383579254, 0.2824532985687256, null, 0.3537563383579254, 0.36813846230506897, null, 0.3537563383579254, 0.37876906991004944, null, 0.3537563383579254, 0.4171462059020996, null, 0.3537563383579254, 0.3085179924964905, null, 0.3537563383579254, 0.4033573269844055, null, 0.3537563383579254, 0.37670934200286865, null, 0.3537563383579254, 0.27479851245880127, null, 0.37876906991004944, 0.4759030044078827, null, 0.37876906991004944, 0.43048062920570374, null, 0.37876906991004944, 0.2824532985687256, null, 0.37876906991004944, 0.36813846230506897, null, 0.37876906991004944, 0.3085179924964905, null, 0.37876906991004944, 0.4033573269844055, null, 0.37876906991004944, 0.4336608052253723, null, 0.37876906991004944, 0.4171462059020996, null, 0.37876906991004944, 0.38362738490104675, null, 0.37876906991004944, 0.37670934200286865, null, 0.37876906991004944, 0.27479851245880127, null, 0.4033573269844055, 0.36813846230506897, null, 0.4033573269844055, 0.4923083782196045, null, 0.4033573269844055, 0.3085179924964905, null, 0.4033573269844055, 0.4033573269844055, null, 0.4033573269844055, 0.42462974786758423, null, 0.3085179924964905, 0.36813846230506897, null, 0.3085179924964905, 0.38362738490104675, null, 0.3085179924964905, 0.42462974786758423, null, 0.3085179924964905, 0.37670934200286865, null, 0.3085179924964905, 0.07451703399419785, null, 0.27479851245880127, 0.36813846230506897, null, 0.27479851245880127, 0.07451703399419785, null, 0.20143616199493408, 0.13195538520812988, null, 0.13195538520812988, 0.10971999168395996, null, 0.13195538520812988, 0.04143243655562401, null, 0.13195538520812988, 0.14697441458702087, null, 0.13195538520812988, 0.08877000212669373, null, 0.13195538520812988, 0.18051981925964355, null, 0.13195538520812988, 0.17785237729549408, null, 0.13195538520812988, 0.11718061566352844, null, -0.5455626249313354, -0.42096731066703796, null, -0.42096731066703796, -0.2683577537536621, null, -0.42096731066703796, -0.3366221785545349, null, -0.42096731066703796, -0.46742039918899536, null, -0.42096731066703796, -0.42880675196647644, null, -0.42096731066703796, -0.49665307998657227, null, -0.42096731066703796, -0.4496851861476898, null, -0.42096731066703796, -0.3573310077190399, null, 0.43048062920570374, 0.36813846230506897, null, 0.43048062920570374, 0.37670934200286865, null, 0.36813846230506897, 0.2824532985687256, null, 0.36813846230506897, 0.4336608052253723, null, 0.36813846230506897, 0.42462974786758423, null, 0.36813846230506897, 0.37670934200286865, null, 0.36813846230506897, 0.38362738490104675, null, 0.37670934200286865, 0.2824532985687256, null, 0.37670934200286865, 0.4336608052253723, null, -0.14488214254379272, -0.09451726824045181, null, -0.09451726824045181, -0.11027934402227402, null, -0.09451726824045181, 0.01249073725193739, null, -0.09451726824045181, -0.12840484082698822, null, -0.09451726824045181, -0.1260508894920349, null, 0.5182254910469055, 0.42462974786758423, null, -0.2683577537536621, -0.19964076578617096, null, -0.2683577537536621, -0.3508598506450653, null, -0.2683577537536621, -0.38789424300193787, null, -0.2683577537536621, -0.3826066851615906, null, -0.2683577537536621, -0.3518569767475128, null, -0.2683577537536621, -0.3573310077190399, null, -0.2683577537536621, -0.09093606472015381, null, -0.2683577537536621, -0.3632647395133972, null, -0.2683577537536621, -0.0731813982129097, null, -0.2683577537536621, -0.4012240171432495, null, -0.2683577537536621, -0.38329270482063293, null, -0.2683577537536621, -0.2312576323747635, null, -0.2683577537536621, -0.3577687442302704, null, -0.2683577537536621, -0.2640726864337921, null, -0.2683577537536621, -0.366095632314682, null, -0.2683577537536621, -0.23260806500911713, null, -0.2683577537536621, -0.04479677230119705, null, -0.2683577537536621, -0.07268059253692627, null, -0.2683577537536621, -0.3968055546283722, null, -0.2683577537536621, -0.36279746890068054, null, -0.2683577537536621, -0.36900579929351807, null, -0.2683577537536621, -0.12420840561389923, null, -0.2683577537536621, -0.35143470764160156, null, -0.19964076578617096, -0.1019207164645195, null, -0.19964076578617096, -0.12420840561389923, null, -0.19964076578617096, -0.12515123188495636, null, -0.3508598506450653, -0.38789424300193787, null, -0.3508598506450653, -0.3366221785545349, null, -0.3508598506450653, -0.37195414304733276, null, -0.3508598506450653, -0.3968055546283722, null, -0.38789424300193787, -0.4592437148094177, null, -0.38789424300193787, -0.4496851861476898, null, -0.38789424300193787, -0.4730702340602875, null, -0.38789424300193787, -0.3968055546283722, null, -0.38789424300193787, -0.3518569767475128, null, -0.38789424300193787, -0.3366221785545349, null, -0.38789424300193787, -0.3664356768131256, null, -0.38789424300193787, -0.4340667128562927, null, -0.38789424300193787, -0.41812020540237427, null, -0.38789424300193787, -0.3407164216041565, null, -0.38789424300193787, -0.3960433900356293, null, -0.38789424300193787, -0.36900579929351807, null, -0.38789424300193787, -0.3577687442302704, null, -0.38789424300193787, -0.38392406702041626, null, -0.38789424300193787, -0.2640726864337921, null, -0.38789424300193787, -0.4108901619911194, null, -0.38789424300193787, -0.4190755784511566, null, -0.38789424300193787, -0.3573310077190399, null, -0.38789424300193787, -0.4749460220336914, null, -0.38789424300193787, -0.43769675493240356, null, -0.38789424300193787, -0.4012240171432495, null, -0.38789424300193787, -0.370029091835022, null, -0.38789424300193787, -0.4654960632324219, null, -0.3826066851615906, -0.3960433900356293, null, -0.3826066851615906, -0.4367685914039612, null, -0.3826066851615906, -0.4496851861476898, null, -0.3826066851615906, -0.3366221785545349, null, -0.3826066851615906, -0.366095632314682, null, -0.3518569767475128, -0.3417891561985016, null, -0.3518569767475128, -0.3366221785545349, null, -0.3518569767475128, -0.39726659655570984, null, -0.3518569767475128, -0.41812020540237427, null, -0.3518569767475128, -0.3573310077190399, null, -0.3573310077190399, -0.3960433900356293, null, -0.3573310077190399, -0.36105942726135254, null, -0.3573310077190399, -0.23260806500911713, null, -0.3573310077190399, -0.3366221785545349, null, -0.3573310077190399, -0.2640726864337921, null, -0.3573310077190399, -0.39726659655570984, null, -0.3573310077190399, -0.40979936718940735, null, -0.3573310077190399, -0.45391735434532166, null, -0.3573310077190399, -0.4271285831928253, null, -0.3573310077190399, -0.4430118203163147, null, -0.3573310077190399, -0.36900579929351807, null, -0.09093606472015381, -0.1019207164645195, null, -0.09093606472015381, -0.07709013670682907, null, -0.09093606472015381, 0.04143243655562401, null, -0.09093606472015381, -0.06330200284719467, null, -0.09093606472015381, -0.12515123188495636, null, -0.3632647395133972, -0.3960433900356293, null, -0.3632647395133972, -0.3366221785545349, null, -0.3632647395133972, -0.40979936718940735, null, -0.3632647395133972, -0.366095632314682, null, -0.0731813982129097, -0.10206680744886398, null, -0.0731813982129097, -0.06330200284719467, null, -0.0731813982129097, -0.1019207164645195, null, -0.0731813982129097, -0.12420840561389923, null, -0.0731813982129097, -0.07709013670682907, null, -0.0731813982129097, 0.013849955052137375, null, -0.0731813982129097, -0.026666227728128433, null, -0.0731813982129097, -0.12515123188495636, null, -0.4012240171432495, -0.48554158210754395, null, -0.4012240171432495, -0.38392406702041626, null, -0.4012240171432495, -0.4749460220336914, null, -0.4012240171432495, -0.4592437148094177, null, -0.4012240171432495, -0.45522773265838623, null, -0.4012240171432495, -0.370029091835022, null, -0.4012240171432495, -0.3366221785545349, null, -0.38329270482063293, -0.3366221785545349, null, -0.38329270482063293, -0.46742039918899536, null, -0.2312576323747635, -0.1019207164645195, null, -0.3577687442302704, -0.3968055546283722, null, -0.3577687442302704, -0.3366221785545349, null, -0.2640726864337921, -0.36105942726135254, null, -0.2640726864337921, -0.3366221785545349, null, -0.2640726864337921, -0.3664356768131256, null, -0.2640726864337921, -0.37195414304733276, null, -0.2640726864337921, -0.3407164216041565, null, -0.2640726864337921, 0.07451703399419785, null, -0.2640726864337921, -0.3968055546283722, null, -0.2640726864337921, -0.38206619024276733, null, -0.366095632314682, -0.3960433900356293, null, -0.366095632314682, -0.3366221785545349, null, -0.366095632314682, -0.40979936718940735, null, -0.366095632314682, -0.366095632314682, null, -0.23260806500911713, 0.08541112393140793, null, -0.23260806500911713, -0.3366221785545349, null, -0.23260806500911713, -0.3407164216041565, null, -0.23260806500911713, -0.3968055546283722, null, -0.04479677230119705, -0.1507723033428192, null, -0.04479677230119705, -0.1019207164645195, null, -0.04479677230119705, -0.12420840561389923, null, -0.04479677230119705, -0.12515123188495636, null, -0.04479677230119705, -0.09517718851566315, null, -0.07268059253692627, -0.1019207164645195, null, -0.07268059253692627, 0.06954110413789749, null, -0.07268059253692627, -0.05503140762448311, null, -0.3968055546283722, -0.36105942726135254, null, -0.3968055546283722, -0.4340667128562927, null, -0.3968055546283722, -0.3366221785545349, null, -0.3968055546283722, -0.3664356768131256, null, -0.3968055546283722, -0.43491941690444946, null, -0.3968055546283722, -0.4190755784511566, null, -0.3968055546283722, -0.43769675493240356, null, -0.3968055546283722, -0.35143470764160156, null, -0.3968055546283722, -0.39726659655570984, null, -0.3968055546283722, -0.37195414304733276, null, -0.3968055546283722, -0.370029091835022, null, -0.3968055546283722, -0.41812020540237427, null, -0.3968055546283722, -0.40979936718940735, null, -0.3968055546283722, -0.5099421143531799, null, -0.3968055546283722, -0.48149195313453674, null, -0.3968055546283722, -0.5233275294303894, null, -0.3968055546283722, -0.5193350315093994, null, -0.3968055546283722, -0.5152105689048767, null, -0.3968055546283722, -0.3407164216041565, null, -0.3968055546283722, -0.36279746890068054, null, -0.3968055546283722, -0.45391735434532166, null, -0.3968055546283722, -0.4430118203163147, null, -0.36279746890068054, -0.3366221785545349, null, -0.36279746890068054, -0.43769675493240356, null, -0.36279746890068054, -0.37195414304733276, null, -0.36279746890068054, -0.3407164216041565, null, -0.36900579929351807, -0.3366221785545349, null, -0.36900579929351807, -0.4271285831928253, null, -0.12420840561389923, -0.1019207164645195, null, -0.12420840561389923, 0.10070253163576126, null, -0.12420840561389923, -0.09234698116779327, null, -0.12420840561389923, -0.23384138941764832, null, -0.12420840561389923, -0.12515123188495636, null, -0.35143470764160156, -0.3366221785545349, null, -0.008030775934457779, -0.013539220206439495, null, -0.008030775934457779, -0.0074866763316094875, null, -0.008030775934457779, 0.02132723666727543, null, -0.008030775934457779, -0.0405023954808712, null, -0.013539220206439495, 0.005998335778713226, null, -0.013539220206439495, -0.03751037269830704, null, -0.013539220206439495, 0.010610331781208515, null, -0.013539220206439495, 0.010574374347925186, null, -0.0074866763316094875, -0.12515123188495636, null, -0.0074866763316094875, 0.06897236406803131, null, -0.0074866763316094875, -0.06330200284719467, null, -0.0074866763316094875, 0.0694192498922348, null, 0.02132723666727543, 0.06897236406803131, null, 0.02132723666727543, -0.06330200284719467, null, 0.02132723666727543, 0.06306464225053787, null, 0.02132723666727543, 0.0694192498922348, null, -0.0405023954808712, -0.15041199326515198, null, -0.0405023954808712, -0.11905624717473984, null, -0.3366221785545349, -0.42880675196647644, null, -0.3366221785545349, -0.29074180126190186, null, -0.3366221785545349, -0.16848698258399963, null, -0.3366221785545349, -0.4190755784511566, null, -0.3664356768131256, -0.3664356768131256, null, -0.3664356768131256, -0.3407164216041565, null, -0.4340667128562927, -0.37195414304733276, null, -0.3407164216041565, -0.39726659655570984, null, -0.3960433900356293, -0.33240845799446106, null, -0.3960433900356293, -0.4367685914039612, null, -0.38392406702041626, -0.464677631855011, null, -0.38392406702041626, -0.4749460220336914, null, -0.38392406702041626, -0.19388729333877563, null, -0.38392406702041626, -0.45522773265838623, null, -0.38392406702041626, -0.4715462923049927, null, -0.4108901619911194, -0.4367685914039612, null, -0.4108901619911194, -0.38206619024276733, null, -0.4108901619911194, -0.4190755784511566, null, -0.4108901619911194, -0.33240845799446106, null, -0.4190755784511566, -0.38206619024276733, null, -0.4749460220336914, -0.5947479605674744, null, -0.4749460220336914, -0.4749460220336914, null, -0.370029091835022, -0.43491941690444946, null, -0.370029091835022, -0.26953235268592834, null, 0.10971999168395996, 0.11115764826536179, null, 0.10971999168395996, 0.10017487406730652, null, 0.10971999168395996, 0.04143243655562401, null, 0.10971999168395996, 0.0702376738190651, null, 0.10971999168395996, 0.13748936355113983, null, 0.10971999168395996, 0.20996983349323273, null, 0.10971999168395996, 0.14697441458702087, null, 0.10971999168395996, 0.08877000212669373, null, 0.10971999168395996, 0.10381321609020233, null, 0.10971999168395996, 0.09184660762548447, null, 0.10971999168395996, 0.08551585674285889, null, 0.10971999168395996, 0.17785237729549408, null, 0.10971999168395996, 0.0687268003821373, null, 0.11115764826536179, 0.04143243655562401, null, 0.11115764826536179, 0.14697441458702087, null, 0.11115764826536179, 0.08877000212669373, null, 0.10017487406730652, 0.04143243655562401, null, 0.10017487406730652, 0.09184660762548447, null, 0.10017487406730652, 0.14697441458702087, null, 0.10017487406730652, 0.08877000212669373, null, 0.04143243655562401, -0.07709013670682907, null, 0.04143243655562401, 0.08877000212669373, null, 0.04143243655562401, 0.06256047636270523, null, 0.04143243655562401, -0.03199492022395134, null, 0.0702376738190651, 0.0940312072634697, null, 0.0702376738190651, 0.08259515464305878, null, 0.0702376738190651, 0.07931913435459137, null, 0.0702376738190651, 0.10381321609020233, null, 0.0702376738190651, 0.09128154814243317, null, 0.13748936355113983, 0.04495400935411453, null, 0.14697441458702087, 0.13328997790813446, null, 0.14697441458702087, 0.1744975447654724, null, 0.14697441458702087, 0.08877000212669373, null, 0.14697441458702087, 0.2343124896287918, null, 0.14697441458702087, 0.28619706630706787, null, 0.14697441458702087, 0.17785237729549408, null, 0.14697441458702087, 0.16805709898471832, null, 0.14697441458702087, 0.09460313618183136, null, 0.08877000212669373, 0.13328997790813446, null, 0.08877000212669373, 0.11718061566352844, null, 0.08877000212669373, 0.07704158872365952, null, 0.08877000212669373, -0.030457990244030952, null, 0.08877000212669373, 0.15603744983673096, null, 0.10381321609020233, 0.0940312072634697, null, 0.10381321609020233, 0.08259515464305878, null, 0.10381321609020233, 0.14111515879631042, null, 0.08551585674285889, 0.030183719471096992, null, 0.08551585674285889, 0.09186612069606781, null, 0.08551585674285889, 0.10648907721042633, null, 0.08551585674285889, 0.036201875656843185, null, 0.08551585674285889, 0.05927802994847298, null, 0.0687268003821373, 0.05927802994847298, null, 0.0687268003821373, 0.08662266284227371, null, 0.0687268003821373, 0.10648907721042633, null, 0.0687268003821373, -0.01975102536380291, null, 0.0687268003821373, 0.036201875656843185, null, 0.0687268003821373, 0.030183719471096992, null, 0.0687268003821373, 0.10694535821676254, null, 0.0687268003821373, 0.06306464225053787, null, 0.0687268003821373, 0.03001329116523266, null, 0.0687268003821373, 0.09186612069606781, null, 0.0687268003821373, 0.08691021800041199, null, 0.0687268003821373, 0.09128154814243317, null, 0.0687268003821373, 0.03877221792936325, null, 0.0687268003821373, 0.07931913435459137, null, 0.018494095653295517, 0.0013677467359229922, null, 0.018494095653295517, 0.08591116964817047, null, 0.018494095653295517, 0.0381401926279068, null, 0.0013677467359229922, -0.010814477689564228, null, 0.0381401926279068, 0.08259515464305878, null, 0.0381401926279068, 0.10694535821676254, null, 0.0381401926279068, -0.036004144698381424, null, 0.09238434582948685, 0.08560413867235184, null, 0.09238434582948685, 0.1220640242099762, null, 0.05927802994847298, 0.09826622903347015, null, 0.05927802994847298, 0.005998335778713226, null, 0.05927802994847298, 0.10278399288654327, null, 0.05927802994847298, 0.0223475843667984, null, 0.05927802994847298, 0.053220950067043304, null, 0.05927802994847298, -0.06349718570709229, null, 0.05927802994847298, 0.08259515464305878, null, 0.05927802994847298, 0.1256643831729889, null, 0.05927802994847298, 0.12330617755651474, null, 0.05927802994847298, 0.11410336196422577, null, 0.05927802994847298, 0.05571543797850609, null, 0.05927802994847298, 0.013849955052137375, null, 0.05927802994847298, 0.09186612069606781, null, 0.05927802994847298, 0.06897236406803131, null, 0.05927802994847298, 0.09097643196582794, null, 0.05927802994847298, 0.0694192498922348, null, 0.05927802994847298, 0.07817395031452179, null, 0.05927802994847298, 0.049302466213703156, null, 0.10648907721042633, 0.09288067370653152, null, 0.10648907721042633, 0.07931913435459137, null, 0.10648907721042633, 0.030183719471096992, null, 0.10648907721042633, 0.20409467816352844, null, 0.10648907721042633, 0.08831719309091568, null, 0.10648907721042633, 0.23786023259162903, null, 0.10648907721042633, 0.12779448926448822, null, 0.10648907721042633, 0.10694535821676254, null, -0.01975102536380291, -0.1515541970729828, null, 0.10694535821676254, 0.2387918382883072, null, 0.10694535821676254, 0.07931913435459137, null, 0.10694535821676254, 0.030183719471096992, null, 0.10694535821676254, 0.23293659090995789, null, 0.10694535821676254, 0.03001329116523266, null, 0.10694535821676254, 0.15268999338150024, null, 0.10694535821676254, 0.09128154814243317, null, 0.08691021800041199, 0.10278399288654327, null, 0.08691021800041199, 0.08259515464305878, null, 0.08691021800041199, 0.030183719471096992, null, 0.07931913435459137, 0.10278399288654327, null, 0.07931913435459137, 0.05030599236488342, null, 0.07931913435459137, 0.0940312072634697, null, 0.07931913435459137, 0.016587670892477036, null, 0.07931913435459137, 0.030183719471096992, null, 0.07931913435459137, 0.09097643196582794, null, 0.07931913435459137, 0.0996837168931961, null, 0.07931913435459137, 0.1282038688659668, null, 0.07931913435459137, 0.09186612069606781, null, 0.07931913435459137, 0.03877221792936325, null, 0.10886329412460327, 0.0940312072634697, null, 0.10886329412460327, 0.18261364102363586, null, -0.6930814981460571, -0.6321948170661926, null, -0.6321948170661926, -0.5411850810050964, null, 0.18935155868530273, 0.06954110413789749, null, 0.18935155868530273, 0.020581068471074104, null, -0.06330200284719467, -0.06349718570709229, null, -0.06330200284719467, -0.11721978336572647, null, -0.06330200284719467, -0.03870449587702751, null, -0.06330200284719467, 0.0278007909655571, null, -0.06330200284719467, -0.13734687864780426, null, -0.1019207164645195, -0.05158960819244385, null, -0.1019207164645195, -0.12515123188495636, null, -0.07709013670682907, -0.03199492022395134, null, 0.013849955052137375, 0.10459242761135101, null, 0.013849955052137375, 0.08425354212522507, null, -0.026666227728128433, -0.09234698116779327, null, -0.026666227728128433, -0.09517718851566315, null, -0.12515123188495636, -0.22898535430431366, null, -0.12515123188495636, -0.05158960819244385, null, -0.12515123188495636, -0.11182243376970291, null, 0.1715521514415741, 0.15910682082176208, null, 0.15910682082176208, 0.16198520362377167, null, 0.15910682082176208, 0.1895727962255478, null, 0.024011539295315742, 0.0075654760003089905, null, 0.024011539295315742, -0.020932279527187347, null, 0.024011539295315742, 0.0027386194560676813, null, 0.024011539295315742, 0.1849074810743332, null, 0.024011539295315742, 0.10070253163576126, null, 0.024011539295315742, 0.014396728947758675, null, 0.024011539295315742, -0.031917475163936615, null, 0.024011539295315742, 0.07704158872365952, null, 0.024011539295315742, 0.020581068471074104, null, 0.024011539295315742, -0.0310670118778944, null, 0.024011539295315742, 0.04208487644791603, null, 0.0996837168931961, 0.030183719471096992, null, 0.0996837168931961, 0.12330617755651474, null, 0.06897236406803131, 0.10459242761135101, null, 0.06897236406803131, 0.11410336196422577, null, 0.06897236406803131, 0.08662266284227371, null, 0.06897236406803131, 0.08425354212522507, null, 0.06897236406803131, 0.12366516888141632, null, 0.1282038688659668, 0.030183719471096992, null, 0.1282038688659668, 0.12330617755651474, null, -0.026107890531420708, -0.11493820697069168, null, -0.026107890531420708, -0.03246842324733734, null, -0.026107890531420708, 0.03001329116523266, null, -0.2733635902404785, -0.3627718389034271, null, -0.2733635902404785, -0.060109518468379974, null, -0.2733635902404785, -0.4230923354625702, null, -0.2733635902404785, -0.3698076903820038, null, -0.060109518468379974, 0.08563106507062912, null, -0.060109518468379974, 0.09867032617330551, null, -0.4230923354625702, -0.5411850810050964, null, -0.03940201923251152, -0.11470289528369904, null, -0.03940201923251152, -0.09515225887298584, null, -0.03940201923251152, -0.030457990244030952, null, -0.03940201923251152, -0.10455650836229324, null, -0.11470289528369904, -0.030457990244030952, null, -0.09515225887298584, -0.030457990244030952, null, -0.030457990244030952, 0.005998335778713226, null, -0.030457990244030952, -0.10455650836229324, null, -0.030457990244030952, -0.07918819040060043, null, -0.3417891561985016, -0.4311371147632599, null, -0.3417891561985016, -0.23396313190460205, null, -0.23396313190460205, -0.12566760182380676, null, 0.01249073725193739, 0.06460684537887573, null, 0.005998335778713226, 0.11476414650678635, null, 0.005998335778713226, -0.04931430146098137, null, 0.005998335778713226, -0.027907760813832283, null, 0.005998335778713226, -0.056436359882354736, null, 0.005998335778713226, 0.032672930508852005, null, 0.11476414650678635, 0.10459242761135101, null, 0.11476414650678635, 0.08425354212522507, null, -0.04931430146098137, 0.0223475843667984, null, -0.04931430146098137, -0.131154403090477, null, -0.04931430146098137, 0.010574374347925186, null, -0.04931430146098137, 0.010610331781208515, null, -0.027907760813832283, -0.04731709882616997, null, -0.027907760813832283, -0.030074074864387512, null, 0.032672930508852005, 0.11253390461206436, null, 0.22244873642921448, 0.2042030245065689, null, 0.22244873642921448, 0.1895727962255478, null, 0.2042030245065689, 0.2777177393436432, null, 0.2042030245065689, 0.16198520362377167, null, 0.2042030245065689, 0.1895727962255478, null, 0.2042030245065689, 0.22616636753082275, null, 0.2042030245065689, 0.2145911306142807, null, 0.2042030245065689, 0.2091938704252243, null, 0.1895727962255478, 0.17953309416770935, null, 0.1895727962255478, 0.2145911306142807, null, 0.1895727962255478, 0.22616636753082275, null, 0.1895727962255478, 0.21651163697242737, null, 0.1895727962255478, 0.16198520362377167, null, 0.1895727962255478, 0.2091938704252243, null, 0.1895727962255478, 0.18404272198677063, null, 0.29626014828681946, 0.182865709066391, null, 0.06714054197072983, 0.0940312072634697, null, 0.06714054197072983, 0.04495400935411453, null, 0.13993437588214874, 0.13853712379932404, null, 0.13993437588214874, 0.13022930920124054, null, 0.13993437588214874, 0.09867032617330551, null, 0.13993437588214874, 0.1428350955247879, null, 0.13993437588214874, 0.1251130849123001, null, 0.13993437588214874, 0.08563106507062912, null, 0.13993437588214874, 0.1372961699962616, null, 0.13993437588214874, 0.13309729099273682, null, 0.13853712379932404, 0.08563106507062912, null, 0.13853712379932404, 0.09867032617330551, null, 0.13853712379932404, 0.13022930920124054, null, 0.13853712379932404, 0.1251130849123001, null, 0.13853712379932404, 0.1428350955247879, null, 0.13853712379932404, 0.1372961699962616, null, 0.13853712379932404, 0.15077541768550873, null, 0.13022930920124054, 0.08563106507062912, null, 0.13022930920124054, 0.09867032617330551, null, 0.13022930920124054, 0.1428350955247879, null, 0.13022930920124054, 0.1251130849123001, null, 0.13022930920124054, 0.1372961699962616, null, 0.13022930920124054, 0.13309729099273682, null, 0.13022930920124054, 0.15077541768550873, null, 0.09867032617330551, 0.08563106507062912, null, 0.09867032617330551, 0.11660673469305038, null, 0.09867032617330551, 0.1428350955247879, null, 0.09867032617330551, 0.1251130849123001, null, 0.09867032617330551, 0.13309729099273682, null, 0.09867032617330551, 0.1372961699962616, null, 0.09867032617330551, 0.15077541768550873, null, 0.09867032617330551, 0.11537868529558182, null, 0.1428350955247879, 0.08563106507062912, null, 0.1428350955247879, 0.1251130849123001, null, 0.1428350955247879, 0.18261364102363586, null, 0.1428350955247879, 0.1372961699962616, null, 0.1251130849123001, 0.08563106507062912, null, 0.1251130849123001, 0.15077541768550873, null, 0.1251130849123001, 0.1372961699962616, null, 0.08563106507062912, 0.13309729099273682, null, 0.08563106507062912, 0.1372961699962616, null, 0.1372961699962616, 0.15077541768550873, null, 0.13309729099273682, 0.16735215485095978, null, 0.13309729099273682, 0.15077541768550873, null, 0.13309729099273682, 0.11537868529558182, null, 0.0940312072634697, 0.13645443320274353, null, 0.0940312072634697, 0.21586288511753082, null, 0.0940312072634697, 0.09097643196582794, null, 0.0940312072634697, 0.08831719309091568, null, 0.0940312072634697, 0.09128154814243317, null, 0.08662266284227371, 0.0694192498922348, null, 0.15309187769889832, 0.10459242761135101, null, 0.15309187769889832, 0.08425354212522507, null, 0.09288067370653152, 0.030183719471096992, null, 0.09288067370653152, 0.08259515464305878, null, 0.030183719471096992, 0.016587670892477036, null, 0.030183719471096992, 0.07957680523395538, null, 0.030183719471096992, -0.19388729333877563, null, 0.030183719471096992, 0.15268999338150024, null, 0.030183719471096992, 0.065378837287426, null, 0.030183719471096992, 0.08425354212522507, null, 0.030183719471096992, 0.03001329116523266, null, 0.030183719471096992, 0.09186612069606781, null, 0.030183719471096992, 0.12779448926448822, null, 0.030183719471096992, 0.13089030981063843, null, 0.030183719471096992, 0.03877221792936325, null, 0.04495400935411453, 0.0223475843667984, null, 0.04495400935411453, -0.031917475163936615, null, 0.04495400935411453, 0.03001329116523266, null, 0.06306464225053787, 0.044128499925136566, null, 0.06306464225053787, 0.08425354212522507, null, 0.10278399288654327, 0.09186612069606781, null, 0.09186612069606781, 0.10459242761135101, null, 0.09186612069606781, 0.1256643831729889, null, 0.09186612069606781, 0.1978672742843628, null, 0.09186612069606781, 0.09664979577064514, null, 0.09186612069606781, 0.08425354212522507, null, 0.09186612069606781, 0.12779448926448822, null, 0.09128154814243317, 0.21201245486736298, null, 0.09128154814243317, 0.016587670892477036, null, 0.09128154814243317, 0.019090885296463966, null, 0.09128154814243317, 0.09097643196582794, null, 0.13328997790813446, 0.22226667404174805, null, 0.13328997790813446, 0.11718061566352844, null, 0.13328997790813446, 0.15603744983673096, null, 0.006346456706523895, 0.014396728947758675, null, 0.014396728947758675, 0.020581068471074104, null, 0.3686954975128174, 0.5715925693511963, null, -0.13153789937496185, -0.17526812851428986, null, -0.17526812851428986, -0.26953235268592834, null, -0.17526812851428986, -0.11975882947444916, null, -0.17526812851428986, -0.14811202883720398, null, -0.17526812851428986, -0.23497183620929718, null, 0.016587670892477036, -0.03246842324733734, null, 0.016587670892477036, -0.06599997729063034, null, 0.016587670892477036, 0.07957680523395538, null, 0.016587670892477036, 0.0028423545882105827, null, 0.016587670892477036, 0.03877221792936325, null, 0.016587670892477036, -0.006663299631327391, null, 0.04208487644791603, 0.025750156491994858, null, 0.04208487644791603, 0.03605974465608597, null, -0.05200120806694031, -0.11493820697069168, null, -0.03396870568394661, -0.11493820697069168, null, -0.03396870568394661, 0.03001329116523266, null, 0.09097643196582794, 0.20700103044509888, null, 0.09097643196582794, 0.08831719309091568, null, 0.10070253163576126, 0.3128449022769928, null, 0.10070253163576126, 0.0027386194560676813, null, 0.10070253163576126, 0.07704158872365952, null, 0.10070253163576126, 0.27456578612327576, null, 0.049302466213703156, 0.11253390461206436, null, -0.0310670118778944, -0.031917475163936615, null, -0.0310670118778944, -0.0634521022439003, null, -0.0310670118778944, 0.020581068471074104, null, 0.0075654760003089905, 0.04002397879958153, null, 0.04002397879958153, -0.019675368443131447, null, 0.04002397879958153, -0.002725609578192234, null, 0.04002397879958153, 0.00392206059768796, null, 0.06460684537887573, 0.08805356174707413, null, 0.06460684537887573, 0.11129287630319595, null, -0.010814477689564228, 0.08259515464305878, null, -0.010814477689564228, 0.03001329116523266, null, 0.026176372542977333, 0.01470690406858921, null, 0.013077082112431526, 0.01470690406858921, null, 0.01470690406858921, 0.03425481542944908, null, 0.8137637972831726, 0.7136551141738892, null, 0.7136551141738892, 0.5715925693511963, null, -0.33240845799446106, -0.17207324504852295, null, -0.4367685914039612, -0.38206619024276733, null, -0.23173284530639648, -0.16581113636493683, null, -0.16581113636493683, -0.06349718570709229, null, -0.0897613912820816, -0.0634521022439003, null, -0.0897613912820816, 0.020581068471074104, null, -0.0634521022439003, -0.031917475163936615, null, -0.0634521022439003, 0.020581068471074104, null, 0.020581068471074104, -0.020932279527187347, null, 0.020581068471074104, 0.0027386194560676813, null, 0.020581068471074104, -0.021214989945292473, null, 0.020581068471074104, -0.031917475163936615, null, 0.0223475843667984, 0.0278007909655571, null, 0.0223475843667984, 0.00773373618721962, null, 0.0223475843667984, 0.07817395031452179, null, 0.0278007909655571, 0.11253390461206436, null, 0.0278007909655571, 0.07817395031452179, null, 0.07817395031452179, 0.053220950067043304, null, 0.07817395031452179, 0.12330617755651474, null, -0.38206619024276733, -0.36105942726135254, null, -0.38206619024276733, -0.40979936718940735, null, -0.38206619024276733, -0.4271285831928253, null, -0.38206619024276733, -0.39726659655570984, null, 0.036201875656843185, 0.03001329116523266, null, 0.03001329116523266, 0.08259515464305878, null, 0.03001329116523266, 0.019090885296463966, null, 0.03597131371498108, -0.019675368443131447, null, 0.03597131371498108, 0.09664762765169144, null, -0.019675368443131447, -0.07233290374279022, null, -0.019675368443131447, -0.002725609578192234, null, -0.019675368443131447, 0.00392206059768796, null, 0.09664762765169144, 0.1849074810743332, null, 0.08259515464305878, 0.18982139229774475, null, 0.08259515464305878, 0.12366516888141632, null, -0.2743264138698578, -0.17207324504852295, null, -0.17207324504852295, 0.010574374347925186, null, -0.17207324504852295, 0.010610331781208515, null, 0.3128449022769928, 0.37914666533470154, null, 0.3128449022769928, 0.27456578612327576, null, 0.3128449022769928, 0.42490750551223755, null, 0.3128449022769928, 0.4311458468437195, null, 0.37914666533470154, 0.42490750551223755, null, 0.37914666533470154, 0.27456578612327576, null, 0.2579652965068817, 0.3187669515609741, null, 0.2579652965068817, 0.17306414246559143, null, 0.17306414246559143, 0.07451703399419785, null, 0.5715925693511963, 0.6707662343978882, null, -0.0708993673324585, -0.22561924159526825, null, -0.0708993673324585, -0.29074180126190186, null, -0.0708993673324585, -0.07485643029212952, null, 0.08541112393140793, 0.22778399288654327, null, 0.08541112393140793, 0.2824532985687256, null, 0.22778399288654327, 0.30226629972457886, null, -0.22561924159526825, -0.2681345045566559, null, -0.22561924159526825, -0.2943844199180603, null, -0.22561924159526825, -0.2853374183177948, null, -0.2943844199180603, -0.3301398754119873, null, -0.2943844199180603, -0.3175632059574127, null, -0.2943844199180603, -0.2853374183177948, null, -0.2943844199180603, -0.3199741542339325, null, -0.2943844199180603, -0.3019019067287445, null, -0.2943844199180603, -0.33769363164901733, null, -0.2853374183177948, -0.27065980434417725, null, -0.2853374183177948, -0.3199741542339325, null, 0.0027386194560676813, -0.021214989945292473, null, -0.021214989945292473, -0.06349718570709229, null, -0.021214989945292473, -0.03870449587702751, null, -0.021214989945292473, 0.012477041222155094, null, -0.021214989945292473, -0.019257646054029465, null, 0.28725263476371765, 0.18261364102363586, null, 0.18261364102363586, 0.22847004234790802, null, 0.18261364102363586, 0.24405550956726074, null, 0.2777177393436432, 0.36350002884864807, null, 0.2777177393436432, 0.22616636753082275, null, 0.2777177393436432, 0.2091938704252243, null, 0.22616636753082275, 0.17953309416770935, null, 0.22616636753082275, 0.22562678158283234, null, 0.22616636753082275, 0.2091938704252243, null, 0.22616636753082275, 0.19330444931983948, null, 0.2145911306142807, 0.19330444931983948, null, 0.2145911306142807, 0.2091938704252243, null, 0.2091938704252243, 0.17953309416770935, null, 0.2091938704252243, 0.19330444931983948, null, 0.2091938704252243, 0.22562678158283234, null, 0.2091938704252243, 0.18404272198677063, null, -0.06349718570709229, -0.1033850833773613, null, -0.06349718570709229, -0.11932045221328735, null, -0.06349718570709229, -0.03870449587702751, null, -0.03870449587702751, 0.012477041222155094, null, -0.03870449587702751, -0.019257646054029465, null, -0.39691922068595886, -0.3625209331512451, null, -0.39691922068595886, -0.37773117423057556, null, -0.39691922068595886, -0.3543638586997986, null, -0.3625209331512451, -0.29074180126190186, null, -0.3625209331512451, -0.37773117423057556, null, -0.366539865732193, -0.29074180126190186, null, -0.37773117423057556, -0.29074180126190186, null, -0.36105942726135254, -0.37195414304733276, null, 0.1206635907292366, 0.12502719461917877, null, 0.1206635907292366, 0.11538110673427582, null, 0.1206635907292366, 0.13578461110591888, null, 0.1849074810743332, 0.341357558965683, null, 0.341357558965683, 0.4527626633644104, null, 0.08425354212522507, 0.166111022233963, null, 0.08425354212522507, 0.10020938515663147, null, 0.08425354212522507, 0.0694192498922348, null, 0.10459242761135101, 0.0694192498922348, null, 0.10459242761135101, 0.10020938515663147, null, 0.10459242761135101, 0.166111022233963, null, 0.065378837287426, 0.1256643831729889, null, -0.11721978336572647, -0.08551520109176636, null, 0.012477041222155094, -0.019257646054029465, null, 0.012477041222155094, 0.06682147830724716, null, -0.019257646054029465, -0.024756062775850296, null, 0.0694192498922348, 0.14114102721214294, null, 0.0694192498922348, 0.10020938515663147, null, 0.10020938515663147, 0.14114102721214294, null, 0.10020938515663147, 0.11410336196422577, null, -0.26953235268592834, -0.23497183620929718, null, -0.3301398754119873, -0.3175632059574127, null, 0.11718061566352844, 0.1744975447654724, null, 0.11718061566352844, 0.060946427285671234, null, 0.11718061566352844, 0.16805709898471832, null, 0.11718061566352844, 0.06256047636270523, null, 0.11660673469305038, 0.1220640242099762, null, 0.15077541768550873, 0.19594521820545197, null, 0.11473549157381058, 0.19934877753257751, null, 0.025750156491994858, 0.03605974465608597, null, -0.29074180126190186, -0.3222092092037201, null, -0.29074180126190186, -0.3543638586997986, null, 0.010574374347925186, -0.0089553939178586, null, 0.010610331781208515, -0.0089553939178586, null, -0.06957775354385376, -0.14856161177158356, null, 0.08805356174707413, 0.11129287630319595, null, 0.11129287630319595, 0.15640532970428467, null, 0.09664979577064514, 0.06682147830724716, null, 0.36350002884864807, 0.3638676404953003, null, 0.3638676404953003, 0.30226629972457886, null, 0.27836668491363525, 0.22562678158283234, null, 0.27836668491363525, 0.30226629972457886, null, -0.5076401233673096, -0.5211102962493896, null, -0.5076401233673096, -0.45391735434532166, null, 0.08812970668077469, 0.07291451841592789, null, 0.8041941523551941, 0.7931566834449768, null, 0.8041941523551941, 0.7066318392753601, null, 0.7931566834449768, 0.7066318392753601, null, 0.7931566834449768, 0.802038848400116, null, 0.7066318392753601, 0.802038848400116, null, 0.1744975447654724, 0.16805709898471832, null, 0.28619706630706787, 0.38451993465423584, null, 0.16805709898471832, 0.16805709898471832, null, -0.031917475163936615, -0.11847838014364243, null, 0.11253390461206436, 0.24557501077651978, null, 0.11253390461206436, 0.19703790545463562, null, 0.592836856842041, 0.5125749707221985, null, 0.5125749707221985, 0.4008621871471405, null, 0.10413484275341034, 0.15900275111198425, null, -0.002725609578192234, 0.00392206059768796, null, 0.14114102721214294, 0.2058466672897339, null, 0.060946427285671234, -0.004758699797093868, null, -0.004758699797093868, -0.06342989206314087, null, -0.14856161177158356, -0.2222084403038025, null, 0.4008621871471405, 0.2344995141029358, null, 0.4008621871471405, 0.49389737844467163, null, 0.23786023259162903, 0.3207210302352905, null, 0.4298062026500702, 0.4298062026500702, null], \"y\": [0.4097553491592407, 0.5910542011260986, null, 0.4097553491592407, 0.20310766994953156, null, 0.4097553491592407, 0.32343676686286926, null, 0.4097553491592407, 0.20845013856887817, null, 0.4097553491592407, 0.5742903351783752, null, 0.4097553491592407, 0.5544945001602173, null, 0.5910542011260986, 0.6533911228179932, null, 0.5910542011260986, 0.6450272798538208, null, 0.5910542011260986, 0.5910542011260986, null, 0.5910542011260986, 0.6929564476013184, null, 0.5910542011260986, 0.6066725850105286, null, 0.5910542011260986, 0.6727328896522522, null, 0.5910542011260986, 0.5742903351783752, null, 0.5910542011260986, 0.6286208033561707, null, 0.5910542011260986, 0.5544945001602173, null, 0.20310766994953156, 0.18373902142047882, null, 0.20310766994953156, 0.102569080889225, null, 0.20310766994953156, 0.17065495252609253, null, 0.20310766994953156, 0.16626417636871338, null, 0.20310766994953156, 0.18841597437858582, null, 0.20310766994953156, 0.15529592335224152, null, 0.20310766994953156, 0.11209829151630402, null, 0.20310766994953156, 0.21104441583156586, null, 0.20310766994953156, 0.21311792731285095, null, 0.20310766994953156, 0.20845013856887817, null, 0.20310766994953156, 0.17690406739711761, null, 0.20310766994953156, 0.14642678201198578, null, 0.20310766994953156, 0.16828462481498718, null, 0.20310766994953156, 0.17155854403972626, null, 0.32343676686286926, 0.18391487002372742, null, 0.20845013856887817, 0.15798266232013702, null, 0.20845013856887817, 0.12994641065597534, null, 0.20845013856887817, 0.139219269156456, null, 0.20845013856887817, 0.16626417636871338, null, 0.20845013856887817, 0.20049211382865906, null, 0.20845013856887817, 0.22489027678966522, null, 0.20845013856887817, 0.18391487002372742, null, 0.20845013856887817, 0.17289219796657562, null, 0.20845013856887817, 0.1397373080253601, null, 0.20845013856887817, 0.2137080579996109, null, 0.20845013856887817, 0.31630125641822815, null, 0.20845013856887817, 0.15035176277160645, null, 0.20845013856887817, 0.16889840364456177, null, 0.20845013856887817, 0.1540992707014084, null, 0.20845013856887817, 0.21311792731285095, null, 0.20845013856887817, 0.13755397498607635, null, 0.20845013856887817, 0.1780320107936859, null, 0.20845013856887817, 0.17471592128276825, null, 0.20845013856887817, 0.19676834344863892, null, 0.20845013856887817, 0.132865309715271, null, 0.20845013856887817, 0.17236538231372833, null, 0.20845013856887817, 0.14812950789928436, null, 0.20845013856887817, 0.1859816312789917, null, 0.20845013856887817, 0.15529592335224152, null, 0.20845013856887817, 0.14642678201198578, null, 0.5742903351783752, 0.6533911228179932, null, 0.5742903351783752, 0.5297518968582153, null, 0.5742903351783752, 0.6541364789009094, null, 0.5742903351783752, 0.6449047327041626, null, 0.5742903351783752, 0.6416405439376831, null, 0.5742903351783752, 0.6286208033561707, null, 0.5742903351783752, 0.5544945001602173, null, 0.5544945001602173, 0.6533911228179932, null, 0.5544945001602173, 0.6450272798538208, null, 0.5544945001602173, 0.30824288725852966, null, 0.5544945001602173, 0.6751328706741333, null, 0.5544945001602173, 0.6651428937911987, null, 0.5544945001602173, 0.6449047327041626, null, 0.5544945001602173, 0.6776502728462219, null, 0.5544945001602173, 0.3082329332828522, null, 0.5544945001602173, 0.70192950963974, null, 0.5544945001602173, 0.6727328896522522, null, 0.5544945001602173, 0.6416405439376831, null, 0.5544945001602173, 0.6811219453811646, null, 0.5544945001602173, 0.6066725850105286, null, 0.5544945001602173, 0.6286208033561707, null, 0.22289396822452545, 0.18841597437858582, null, 0.22289396822452545, 0.17690406739711761, null, 0.18841597437858582, 0.2989978492259979, null, 0.18841597437858582, 0.29651567339897156, null, 0.18841597437858582, 0.2783946692943573, null, 0.18841597437858582, 0.12819084525108337, null, 0.18841597437858582, 0.18198996782302856, null, 0.18841597437858582, 0.3252811133861542, null, 0.18841597437858582, 0.2568984925746918, null, 0.18841597437858582, 0.2393270879983902, null, 0.18841597437858582, 0.22134330868721008, null, 0.18841597437858582, 0.102569080889225, null, 0.18841597437858582, 0.1556818038225174, null, 0.18841597437858582, 0.15819281339645386, null, 0.18841597437858582, 0.3130683898925781, null, 0.18841597437858582, 0.17089536786079407, null, 0.18841597437858582, 0.15798266232013702, null, 0.18841597437858582, 0.20843945443630219, null, 0.18841597437858582, 0.2153359204530716, null, 0.18841597437858582, 0.16862888634204865, null, 0.18841597437858582, 0.12994641065597534, null, 0.18841597437858582, 0.139219269156456, null, 0.18841597437858582, 0.10324739664793015, null, 0.18841597437858582, -0.08133784681558609, null, 0.18841597437858582, 0.17244328558444977, null, 0.18841597437858582, 0.17428277432918549, null, 0.18841597437858582, 0.17155854403972626, null, 0.18841597437858582, 0.04467451572418213, null, 0.18841597437858582, 0.16626417636871338, null, 0.18841597437858582, 0.32181334495544434, null, 0.18841597437858582, 0.0943462997674942, null, 0.18841597437858582, 0.27906209230422974, null, 0.18841597437858582, 0.09303534030914307, null, 0.18841597437858582, 0.12740765511989594, null, 0.18841597437858582, 0.31870344281196594, null, 0.18841597437858582, 0.19100257754325867, null, 0.18841597437858582, 0.19801117479801178, null, 0.18841597437858582, 0.16340534389019012, null, 0.18841597437858582, 0.17518344521522522, null, 0.18841597437858582, 0.2435777485370636, null, 0.18841597437858582, 0.2954702079296112, null, 0.18841597437858582, -0.07667077332735062, null, 0.18841597437858582, 0.14014896750450134, null, 0.18841597437858582, 0.2817615270614624, null, 0.18841597437858582, 0.28584951162338257, null, 0.18841597437858582, 0.25666284561157227, null, 0.18841597437858582, 0.1357698291540146, null, 0.18841597437858582, 0.22684139013290405, null, 0.18841597437858582, 0.22489027678966522, null, 0.18841597437858582, 0.22866486012935638, null, 0.18841597437858582, 0.18391487002372742, null, 0.18841597437858582, 0.17289219796657562, null, 0.18841597437858582, 0.25510093569755554, null, 0.18841597437858582, 0.12896938621997833, null, 0.18841597437858582, 0.1862192302942276, null, 0.18841597437858582, 0.31526854634284973, null, 0.18841597437858582, 0.1397373080253601, null, 0.18841597437858582, 0.09775067865848541, null, 0.18841597437858582, -0.03719137981534004, null, 0.18841597437858582, 0.2137080579996109, null, 0.18841597437858582, 0.14281044900417328, null, 0.18841597437858582, 0.3019559681415558, null, 0.18841597437858582, 0.1779959797859192, null, 0.18841597437858582, 0.20723994076251984, null, 0.18841597437858582, 0.3035256862640381, null, 0.18841597437858582, 0.15035176277160645, null, 0.18841597437858582, 0.01535513624548912, null, 0.18841597437858582, 0.08234062790870667, null, 0.18841597437858582, 0.22802376747131348, null, 0.18841597437858582, 0.18544070422649384, null, 0.18841597437858582, 0.15070772171020508, null, 0.18841597437858582, 0.31630125641822815, null, 0.18841597437858582, 0.2153521329164505, null, 0.18841597437858582, 0.134028822183609, null, 0.18841597437858582, 0.1540992707014084, null, 0.18841597437858582, 0.24206948280334473, null, 0.18841597437858582, 0.3048928678035736, null, 0.18841597437858582, 0.3137946128845215, null, 0.18841597437858582, 0.19481679797172546, null, 0.18841597437858582, 0.23899291455745697, null, 0.18841597437858582, 0.3329121768474579, null, 0.18841597437858582, 0.21311792731285095, null, 0.18841597437858582, 0.13177801668643951, null, 0.18841597437858582, 0.12080377340316772, null, 0.18841597437858582, 0.236219584941864, null, 0.18841597437858582, 0.26310113072395325, null, 0.18841597437858582, 0.16889840364456177, null, 0.18841597437858582, 0.2685810327529907, null, 0.18841597437858582, 0.17621764540672302, null, 0.18841597437858582, 0.1780320107936859, null, 0.18841597437858582, 0.2504124641418457, null, 0.18841597437858582, 0.16787947714328766, null, 0.18841597437858582, 0.24957303702831268, null, 0.18841597437858582, 0.06608396768569946, null, 0.18841597437858582, 0.2651800513267517, null, 0.18841597437858582, 0.29225724935531616, null, 0.18841597437858582, 0.22762714326381683, null, 0.18841597437858582, 0.25041958689689636, null, 0.18841597437858582, 0.29233527183532715, null, 0.18841597437858582, 0.2743285000324249, null, 0.18841597437858582, 0.132865309715271, null, 0.18841597437858582, 0.18841597437858582, null, 0.18841597437858582, 0.07508361339569092, null, 0.18841597437858582, 0.13770423829555511, null, 0.18841597437858582, 0.1341790109872818, null, 0.18841597437858582, 0.2704389989376068, null, 0.18841597437858582, 0.058666639029979706, null, 0.18841597437858582, 0.17236538231372833, null, 0.18841597437858582, 0.06560347229242325, null, 0.18841597437858582, 0.14812950789928436, null, 0.18841597437858582, 0.15726611018180847, null, 0.18841597437858582, 0.2674677073955536, null, 0.18841597437858582, 0.12360229343175888, null, 0.18841597437858582, 0.245393306016922, null, 0.18841597437858582, 0.19731555879116058, null, 0.18841597437858582, 0.2526095509529114, null, 0.18841597437858582, 0.21289809048175812, null, 0.18841597437858582, 0.27000248432159424, null, 0.18841597437858582, 0.1859816312789917, null, 0.18841597437858582, 0.16828462481498718, null, 0.18841597437858582, 0.19676834344863892, null, 0.18841597437858582, 0.15293344855308533, null, 0.18841597437858582, 0.15529592335224152, null, 0.18841597437858582, 0.1630409210920334, null, 0.18841597437858582, 0.07917873561382294, null, 0.18841597437858582, 0.2673315703868866, null, 0.18841597437858582, 0.3343648612499237, null, 0.18841597437858582, 0.29865434765815735, null, 0.18841597437858582, 0.17690406739711761, null, 0.18841597437858582, 0.27376601099967957, null, 0.18841597437858582, 0.15690718591213226, null, 0.18841597437858582, 0.14358800649642944, null, 0.18841597437858582, 0.14642678201198578, null, 0.17690406739711761, 0.12819084525108337, null, 0.17690406739711761, 0.2393270879983902, null, 0.17690406739711761, 0.102569080889225, null, 0.17690406739711761, 0.1556818038225174, null, 0.17690406739711761, 0.15798266232013702, null, 0.17690406739711761, 0.16862888634204865, null, 0.17690406739711761, 0.12994641065597534, null, 0.17690406739711761, 0.10324739664793015, null, 0.17690406739711761, 0.17155854403972626, null, 0.17690406739711761, 0.16626417636871338, null, 0.17690406739711761, 0.12740765511989594, null, 0.17690406739711761, 0.17518344521522522, null, 0.17690406739711761, 0.25666284561157227, null, 0.17690406739711761, 0.1357698291540146, null, 0.17690406739711761, 0.22684139013290405, null, 0.17690406739711761, 0.22489027678966522, null, 0.17690406739711761, 0.17289219796657562, null, 0.17690406739711761, 0.1397373080253601, null, 0.17690406739711761, 0.09775067865848541, null, 0.17690406739711761, 0.2137080579996109, null, 0.17690406739711761, 0.14281044900417328, null, 0.17690406739711761, 0.13770423829555511, null, 0.17690406739711761, 0.15726611018180847, null, 0.17690406739711761, 0.27000248432159424, null, 0.17690406739711761, 0.15035176277160645, null, 0.17690406739711761, 0.16889840364456177, null, 0.17690406739711761, 0.15070772171020508, null, 0.17690406739711761, 0.1540992707014084, null, 0.17690406739711761, 0.17621764540672302, null, 0.17690406739711761, 0.06608396768569946, null, 0.17690406739711761, 0.21311792731285095, null, 0.17690406739711761, 0.1780320107936859, null, 0.17690406739711761, 0.2153521329164505, null, 0.17690406739711761, 0.2674677073955536, null, 0.17690406739711761, 0.245393306016922, null, 0.17690406739711761, 0.2526095509529114, null, 0.17690406739711761, 0.19676834344863892, null, 0.17690406739711761, 0.1630409210920334, null, 0.17690406739711761, 0.07917873561382294, null, 0.17690406739711761, 0.2743285000324249, null, 0.17690406739711761, 0.12080377340316772, null, 0.17690406739711761, 0.14812950789928436, null, 0.17690406739711761, 0.14358800649642944, null, 0.17690406739711761, 0.1859816312789917, null, 0.2989978492259979, 0.22489027678966522, null, 0.2989978492259979, 0.3137946128845215, null, 0.22489027678966522, 0.22263264656066895, null, 0.22489027678966522, 0.18373902142047882, null, 0.22489027678966522, 0.14537663757801056, null, 0.22489027678966522, 0.15798266232013702, null, 0.22489027678966522, 0.17155854403972626, null, 0.22489027678966522, 0.17065495252609253, null, 0.22489027678966522, 0.16626417636871338, null, 0.22489027678966522, 0.12740765511989594, null, 0.22489027678966522, 0.16340534389019012, null, 0.22489027678966522, 0.2954702079296112, null, 0.22489027678966522, 0.25666284561157227, null, 0.22489027678966522, 0.3019559681415558, null, 0.22489027678966522, 0.15035176277160645, null, 0.22489027678966522, 0.1331423819065094, null, 0.22489027678966522, 0.16085942089557648, null, 0.22489027678966522, 0.24073167145252228, null, 0.22489027678966522, 0.21311792731285095, null, 0.22489027678966522, 0.27000248432159424, null, 0.22489027678966522, 0.33109092712402344, null, 0.22489027678966522, 0.2504124641418457, null, 0.22489027678966522, 0.3343648612499237, null, 0.22489027678966522, 0.1862192302942276, null, 0.22489027678966522, 0.3137946128845215, null, 0.22489027678966522, 0.16787947714328766, null, 0.22489027678966522, 0.1585512012243271, null, 0.22489027678966522, 0.18391487002372742, null, 0.22489027678966522, 0.3081916570663452, null, 0.3137946128845215, 0.15798266232013702, null, 0.3137946128845215, 0.4445822536945343, null, 0.3137946128845215, 0.2137080579996109, null, 0.3137946128845215, 0.44087502360343933, null, 0.3137946128845215, 0.4456891715526581, null, 0.3137946128845215, 0.3081916570663452, null, 0.3137946128845215, 0.24957303702831268, null, 0.3137946128845215, 0.23158220946788788, null, 0.17224177718162537, 0.17802056670188904, null, 0.17224177718162537, 0.14497534930706024, null, 0.17224177718162537, 0.11727825552225113, null, 0.17224177718162537, 0.058666639029979706, null, 0.17224177718162537, 0.1802479475736618, null, 0.17224177718162537, 0.135356143116951, null, 0.17224177718162537, 0.1901678889989853, null, 0.17224177718162537, 0.18148529529571533, null, 0.17224177718162537, 0.19635502994060516, null, 0.17224177718162537, 0.284707635641098, null, 0.17802056670188904, 0.21036002039909363, null, 0.17802056670188904, 0.18148529529571533, null, 0.17802056670188904, 0.13060098886489868, null, 0.17802056670188904, 0.14497534930706024, null, 0.17802056670188904, 0.1630409210920334, null, 0.17802056670188904, 0.17306490242481232, null, 0.14497534930706024, 0.19635502994060516, null, 0.14497534930706024, 0.13060098886489868, null, 0.14497534930706024, 0.1901678889989853, null, 0.14497534930706024, 0.12539739906787872, null, 0.14497534930706024, 0.1866002082824707, null, 0.14497534930706024, 0.17306490242481232, null, 0.14497534930706024, 0.1802479475736618, null, 0.14497534930706024, 0.08064685761928558, null, 0.11727825552225113, 0.12539739906787872, null, 0.11727825552225113, 0.1674986630678177, null, 0.11727825552225113, 0.058666639029979706, null, 0.11727825552225113, 0.17306490242481232, null, 0.11727825552225113, 0.135356143116951, null, 0.11727825552225113, 0.13060098886489868, null, 0.058666639029979706, -0.006760801188647747, null, 0.058666639029979706, 0.031070536002516747, null, 0.058666639029979706, 0.12994641065597534, null, 0.058666639029979706, 0.01136659923940897, null, 0.058666639029979706, 0.03258410096168518, null, 0.058666639029979706, -0.031519193202257156, null, 0.058666639029979706, 0.12896938621997833, null, 0.058666639029979706, 0.0061811418272554874, null, 0.058666639029979706, 0.15035176277160645, null, 0.058666639029979706, -0.03945664316415787, null, 0.058666639029979706, 0.11209829151630402, null, 0.058666639029979706, 0.07917873561382294, null, 0.058666639029979706, -0.05120797082781792, null, 0.058666639029979706, 0.03279567137360573, null, 0.058666639029979706, -0.05591224506497383, null, 0.058666639029979706, 0.14642678201198578, null, 0.1802479475736618, 0.21036002039909363, null, 0.1802479475736618, 0.18148529529571533, null, 0.1802479475736618, 0.13060098886489868, null, 0.1802479475736618, 0.1630409210920334, null, 0.1802479475736618, 0.17306490242481232, null, 0.135356143116951, 0.13060098886489868, null, 0.1901678889989853, 0.21036002039909363, null, 0.1901678889989853, 0.18148529529571533, null, 0.1901678889989853, 0.2241319864988327, null, 0.1901678889989853, 0.13060098886489868, null, 0.1901678889989853, 0.20003125071525574, null, 0.1901678889989853, 0.2713949382305145, null, 0.1901678889989853, 0.17306490242481232, null, 0.1901678889989853, 0.16269269585609436, null, 0.1901678889989853, 0.1901678889989853, null, 0.1901678889989853, 0.1866002082824707, null, 0.18148529529571533, 0.21036002039909363, null, 0.18148529529571533, 0.1674986630678177, null, 0.18148529529571533, 0.19635502994060516, null, 0.18148529529571533, 0.13060098886489868, null, 0.19635502994060516, 0.21036002039909363, null, 0.19635502994060516, 0.1674986630678177, null, 0.19635502994060516, 0.17306490242481232, null, 0.19635502994060516, 0.1866002082824707, null, 0.19635502994060516, 0.13060098886489868, null, 0.19635502994060516, 0.245393306016922, null, 0.284707635641098, 0.27382692694664, null, 0.22263264656066895, 0.12896938621997833, null, 0.22263264656066895, 0.16626417636871338, null, 0.22263264656066895, 0.2137080579996109, null, 0.22263264656066895, 0.27760830521583557, null, 0.12896938621997833, 0.18373902142047882, null, 0.12896938621997833, 0.17155854403972626, null, 0.12896938621997833, 0.16626417636871338, null, 0.12896938621997833, 0.19100257754325867, null, 0.12896938621997833, 0.23533451557159424, null, 0.12896938621997833, 0.1585512012243271, null, 0.12896938621997833, 0.2526095509529114, null, 0.12896938621997833, 0.08917088806629181, null, 0.12896938621997833, 0.16269269585609436, null, 0.12896938621997833, -0.09809742122888565, null, 0.12896938621997833, 0.1856060028076172, null, 0.12896938621997833, 0.16201722621917725, null, 0.16626417636871338, 0.12819084525108337, null, 0.16626417636871338, 0.102569080889225, null, 0.16626417636871338, 0.15798266232013702, null, 0.16626417636871338, 0.12994641065597534, null, 0.16626417636871338, 0.10324739664793015, null, 0.16626417636871338, 0.17155854403972626, null, 0.16626417636871338, 0.17065495252609253, null, 0.16626417636871338, 0.15035176277160645, null, 0.16626417636871338, 0.1331423819065094, null, 0.16626417636871338, 0.12740765511989594, null, 0.16626417636871338, 0.10100222378969193, null, 0.16626417636871338, 0.13755397498607635, null, 0.16626417636871338, 0.20049211382865906, null, 0.16626417636871338, 0.12080377340316772, null, 0.16626417636871338, 0.24073167145252228, null, 0.16626417636871338, 0.22802376747131348, null, 0.16626417636871338, 0.11209829151630402, null, 0.16626417636871338, 0.15070772171020508, null, 0.16626417636871338, 0.10284723341464996, null, 0.16626417636871338, 0.191764697432518, null, 0.16626417636871338, 0.16340534389019012, null, 0.16626417636871338, 0.14812950789928436, null, 0.16626417636871338, 0.1622273027896881, null, 0.16626417636871338, 0.1859816312789917, null, 0.16626417636871338, 0.15529592335224152, null, 0.16626417636871338, 0.1780320107936859, null, 0.16626417636871338, 0.1540992707014084, null, 0.16626417636871338, 0.13501764833927155, null, 0.16626417636871338, 0.1862192302942276, null, 0.16626417636871338, 0.13770423829555511, null, 0.16626417636871338, 0.18391487002372742, null, 0.16626417636871338, 0.16085942089557648, null, 0.16626417636871338, 0.17289219796657562, null, 0.16626417636871338, 0.21311792731285095, null, 0.16626417636871338, 0.16787947714328766, null, 0.16626417636871338, 0.25866934657096863, null, 0.16626417636871338, 0.1397373080253601, null, 0.16626417636871338, 0.20838195085525513, null, 0.16626417636871338, 0.1585512012243271, null, 0.16626417636871338, 0.14642678201198578, null, 0.16626417636871338, 0.23158220946788788, null, 0.16626417636871338, 0.13177801668643951, null, 0.16626417636871338, 0.09775067865848541, null, 0.16626417636871338, 0.2137080579996109, null, 0.2137080579996109, 0.15798266232013702, null, 0.2137080579996109, 0.17155854403972626, null, 0.2137080579996109, 0.17065495252609253, null, 0.2137080579996109, 0.12740765511989594, null, 0.2137080579996109, 0.191764697432518, null, 0.2137080579996109, 0.16340534389019012, null, 0.2137080579996109, 0.2954702079296112, null, 0.2137080579996109, 0.1585512012243271, null, 0.2137080579996109, 0.1862192302942276, null, 0.2137080579996109, 0.24073167145252228, null, 0.2137080579996109, 0.16085942089557648, null, 0.2137080579996109, 0.2504124641418457, null, 0.2137080579996109, 0.1859816312789917, null, 0.2137080579996109, 0.23158220946788788, null, 0.2137080579996109, 0.15529592335224152, null, 0.29651567339897156, 0.3845553398132324, null, 0.29651567339897156, 0.1779959797859192, null, 0.29651567339897156, 0.3949621617794037, null, 0.3845553398132324, 0.36685439944267273, null, 0.1779959797859192, 0.12819084525108337, null, 0.1779959797859192, 0.22134330868721008, null, 0.1779959797859192, 0.12994641065597534, null, 0.1779959797859192, 0.10324739664793015, null, 0.1779959797859192, 0.17244328558444977, null, 0.1779959797859192, 0.17428277432918549, null, 0.1779959797859192, 0.17065495252609253, null, 0.1779959797859192, 0.19801117479801178, null, 0.1779959797859192, 0.14014896750450134, null, 0.1779959797859192, 0.1341790109872818, null, 0.1779959797859192, 0.132865309715271, null, 0.1779959797859192, 0.15726611018180847, null, 0.1779959797859192, 0.15690718591213226, null, 0.1779959797859192, 0.1540992707014084, null, 0.1779959797859192, 0.12080377340316772, null, 0.3949621617794037, 0.36685439944267273, null, -0.9396472573280334, -0.8481213450431824, null, -0.8481213450431824, -0.7142499685287476, null, -0.2509205937385559, -0.3402940034866333, null, -0.2509205937385559, -0.3463912606239319, null, -0.2509205937385559, -0.32896846532821655, null, -0.2509205937385559, -0.3299194574356079, null, -0.2509205937385559, -0.06711777299642563, null, -0.3402940034866333, -0.3463912606239319, null, -0.3402940034866333, -0.37738215923309326, null, -0.3402940034866333, -0.3386225402355194, null, -0.3402940034866333, -0.3641955554485321, null, -0.3402940034866333, -0.3588908314704895, null, -0.3402940034866333, -0.3299194574356079, null, -0.3463912606239319, -0.37738215923309326, null, -0.3463912606239319, -0.39322859048843384, null, -0.3463912606239319, -0.32896846532821655, null, -0.3463912606239319, -0.3299194574356079, null, -0.32896846532821655, -0.3299194574356079, null, -0.3299194574356079, -0.29748377203941345, null, -0.3299194574356079, -0.3386225402355194, null, -0.3299194574356079, -0.3641955554485321, null, -0.3299194574356079, -0.3588908314704895, null, -0.3299194574356079, -0.37738215923309326, null, -0.3299194574356079, -0.371245801448822, null, -0.06711777299642563, 0.025868508964776993, null, -0.06711777299642563, -0.05836007744073868, null, -0.06711777299642563, -0.0823194682598114, null, -0.06711777299642563, -0.02756202593445778, null, -0.06711777299642563, -0.04312945529818535, null, -0.06711777299642563, 0.010809021070599556, null, -0.06711777299642563, -0.009104898199439049, null, -0.06711777299642563, -0.11071494221687317, null, -0.06711777299642563, -0.023834388703107834, null, -0.06711777299642563, -0.02774886041879654, null, -0.06711777299642563, -0.09214497357606888, null, -0.06711777299642563, -0.09716938436031342, null, -0.06711777299642563, -0.05975521728396416, null, -0.06711777299642563, -0.0736323818564415, null, -0.06711777299642563, -0.10346624255180359, null, -0.06711777299642563, -0.10100900381803513, null, -0.06711777299642563, -0.12893468141555786, null, -0.06711777299642563, -0.08261267840862274, null, -0.06711777299642563, -0.07262273132801056, null, -0.06711777299642563, -0.3386225402355194, null, -0.06711777299642563, -0.12142838537693024, null, -0.06711777299642563, -0.08596641570329666, null, -0.06711777299642563, -0.057180341333150864, null, -0.06711777299642563, 0.01400975976139307, null, -0.06711777299642563, -0.05699533224105835, null, -0.06711777299642563, -0.07435992360115051, null, -0.06711777299642563, -0.016453543677926064, null, -0.06711777299642563, -0.09584152698516846, null, -0.06711777299642563, -0.016864925622940063, null, -0.06711777299642563, -0.09445608407258987, null, -0.06711777299642563, 0.0024455913808196783, null, -0.06711777299642563, -0.08830595016479492, null, -0.06711777299642563, -0.04624873772263527, null, -0.06711777299642563, -0.15347030758857727, null, -0.06711777299642563, -0.10763797909021378, null, -0.06711777299642563, 0.08726152032613754, null, -0.06711777299642563, -0.023103490471839905, null, -0.06711777299642563, -0.0941380187869072, null, -0.06711777299642563, 0.015348884277045727, null, -0.06711777299642563, -0.05891496315598488, null, -0.06711777299642563, -0.031583502888679504, null, -0.06711777299642563, 0.003416213672608137, null, -0.06711777299642563, -0.07903163880109787, null, -0.06711777299642563, -0.10128521919250488, null, -0.06711777299642563, -0.0263132993131876, null, -0.06711777299642563, -0.03387601301074028, null, -0.06711777299642563, 0.07853081077337265, null, -0.06711777299642563, -0.009308844804763794, null, -0.06711777299642563, -0.08275073021650314, null, -0.06711777299642563, -0.0018295769114047289, null, -0.06711777299642563, -0.007188896182924509, null, -0.06711777299642563, -0.0543278306722641, null, -0.06711777299642563, -0.0663561224937439, null, -0.06711777299642563, -0.017923707142472267, null, -0.06711777299642563, -0.1338217407464981, null, -0.06711777299642563, -0.04420581832528114, null, -0.06711777299642563, -0.10922764986753464, null, -0.06711777299642563, -0.042919743806123734, null, 0.2783946692943573, 0.0640736073255539, null, 0.2783946692943573, 0.4277416169643402, null, 0.2783946692943573, 0.4047410786151886, null, 0.2783946692943573, 0.102569080889225, null, 0.2783946692943573, 0.4209301173686981, null, 0.2783946692943573, 0.42582404613494873, null, 0.0640736073255539, -0.1553368866443634, null, 0.0640736073255539, 0.14014896750450134, null, 0.0640736073255539, 0.1341790109872818, null, 0.4277416169643402, 0.4973140358924866, null, 0.4277416169643402, 0.4047410786151886, null, 0.4277416169643402, 0.42582404613494873, null, 0.4047410786151886, 0.42582404613494873, null, 0.4047410786151886, 0.4209301173686981, null, 0.102569080889225, 0.11405579745769501, null, 0.102569080889225, 0.06608396768569946, null, 0.102569080889225, 0.16085942089557648, null, 0.102569080889225, 0.24073167145252228, null, 0.102569080889225, 0.16340534389019012, null, 0.102569080889225, 0.1859816312789917, null, 0.102569080889225, 0.134028822183609, null, 0.102569080889225, 0.17155854403972626, null, 0.102569080889225, 0.17065495252609253, null, 0.102569080889225, 0.15529592335224152, null, 0.102569080889225, 0.15798266232013702, null, 0.102569080889225, 0.16787947714328766, null, 0.102569080889225, 0.14358800649642944, null, 0.102569080889225, 0.1585512012243271, null, 0.102569080889225, 0.18391487002372742, null, 0.102569080889225, -0.21811284124851227, null, 0.102569080889225, -0.03719137981534004, null, 0.4209301173686981, 0.4973140358924866, null, 0.42582404613494873, 0.4973140358924866, null, -0.014656491577625275, 0.09201768785715103, null, -0.014656491577625275, 0.11209829151630402, null, -0.014656491577625275, -0.029690105468034744, null, -0.014656491577625275, -0.2082904875278473, null, -0.014656491577625275, -0.02702891267836094, null, 0.09201768785715103, 0.19414791464805603, null, 0.11209829151630402, 0.12819084525108337, null, 0.11209829151630402, 0.18373902142047882, null, 0.11209829151630402, 0.1556818038225174, null, 0.11209829151630402, 0.12994641065597534, null, 0.11209829151630402, 0.10324739664793015, null, 0.11209829151630402, 0.04467451572418213, null, 0.11209829151630402, 0.12740765511989594, null, 0.11209829151630402, 0.09775067865848541, null, 0.11209829151630402, 0.13770423829555511, null, 0.11209829151630402, 0.15726611018180847, null, 0.11209829151630402, 0.15035176277160645, null, 0.11209829151630402, 0.05519169941544533, null, 0.11209829151630402, 0.1540992707014084, null, 0.11209829151630402, 0.17621764540672302, null, 0.11209829151630402, 0.21311792731285095, null, 0.11209829151630402, 0.12080377340316772, null, 0.11209829151630402, 0.14812950789928436, null, 0.11209829151630402, 0.1859816312789917, null, -0.029690105468034744, -0.02702891267836094, null, -0.2082904875278473, -0.27394115924835205, null, -0.2082904875278473, -0.287285178899765, null, -0.2082904875278473, -0.2743771970272064, null, -0.2082904875278473, -0.36215388774871826, null, -0.2082904875278473, -0.07813003659248352, null, -0.2082904875278473, -0.24491183459758759, null, -0.02702891267836094, -0.04615132883191109, null, -0.02702891267836094, -0.0280938558280468, null, 0.12819084525108337, 0.15035176277160645, null, 0.12819084525108337, 0.15726611018180847, null, 0.12819084525108337, 0.10100222378969193, null, 0.12819084525108337, 0.16085942089557648, null, 0.12819084525108337, 0.08942317217588425, null, 0.12819084525108337, 0.11912749707698822, null, 0.12819084525108337, 0.10284723341464996, null, 0.12819084525108337, 0.16340534389019012, null, 0.12819084525108337, 0.19676834344863892, null, 0.12819084525108337, 0.17065495252609253, null, 0.12819084525108337, 0.18198996782302856, null, 0.12819084525108337, 0.1540992707014084, null, 0.12819084525108337, 0.07917873561382294, null, 0.12819084525108337, 0.1862192302942276, null, 0.12819084525108337, 0.15798266232013702, null, 0.12819084525108337, 0.1341790109872818, null, 0.12819084525108337, 0.09357402473688126, null, 0.12819084525108337, 0.0943462997674942, null, 0.12819084525108337, 0.18373902142047882, null, 0.12819084525108337, 0.15690718591213226, null, 0.12819084525108337, 0.12994641065597534, null, 0.12819084525108337, 0.13177801668643951, null, 0.12819084525108337, 0.03279567137360573, null, 0.15035176277160645, 0.056494057178497314, null, 0.15035176277160645, 0.12994641065597534, null, 0.15035176277160645, 0.10324739664793015, null, 0.15035176277160645, 0.17428277432918549, null, 0.15035176277160645, 0.17065495252609253, null, 0.15035176277160645, 0.0943462997674942, null, 0.15035176277160645, 0.23533451557159424, null, 0.15035176277160645, 0.18391487002372742, null, 0.15035176277160645, 0.17289219796657562, null, 0.15035176277160645, 0.1862192302942276, null, 0.15035176277160645, 0.15726611018180847, null, 0.15035176277160645, 0.16085942089557648, null, 0.15035176277160645, 0.10284723341464996, null, 0.15035176277160645, 0.14812950789928436, null, 0.15035176277160645, 0.12080377340316772, null, 0.15035176277160645, 0.15070772171020508, null, 0.15035176277160645, 0.19676834344863892, null, 0.15035176277160645, 0.1780320107936859, null, 0.15035176277160645, 0.1540992707014084, null, 0.15035176277160645, 0.17621764540672302, null, 0.15035176277160645, 0.17236538231372833, null, 0.15035176277160645, 0.21311792731285095, null, 0.15035176277160645, 0.23899291455745697, null, 0.15035176277160645, 0.13576169312000275, null, 0.15726611018180847, 0.18373902142047882, null, 0.15726611018180847, 0.12994641065597534, null, 0.15726611018180847, 0.139219269156456, null, 0.15726611018180847, 0.10324739664793015, null, 0.15726611018180847, 0.17244328558444977, null, 0.15726611018180847, 0.17428277432918549, null, 0.15726611018180847, 0.17065495252609253, null, 0.15726611018180847, 0.191764697432518, null, 0.15726611018180847, 0.16340534389019012, null, 0.15726611018180847, 0.1622273027896881, null, 0.15726611018180847, 0.20049211382865906, null, 0.15726611018180847, 0.09357402473688126, null, 0.15726611018180847, 0.30824288725852966, null, 0.15726611018180847, 0.11912749707698822, null, 0.15726611018180847, 0.08942317217588425, null, 0.15726611018180847, 0.11405579745769501, null, 0.15726611018180847, 0.16085942089557648, null, 0.15726611018180847, 0.10284723341464996, null, 0.15726611018180847, 0.1540992707014084, null, 0.15726611018180847, 0.07917873561382294, null, 0.15726611018180847, 0.11115305870771408, null, 0.15726611018180847, 0.13501764833927155, null, 0.15726611018180847, 0.05519169941544533, null, 0.15726611018180847, 0.1341790109872818, null, 0.15726611018180847, 0.3082329332828522, null, 0.15726611018180847, 0.17236538231372833, null, 0.15726611018180847, 0.14224505424499512, null, 0.15726611018180847, 0.21311792731285095, null, 0.15726611018180847, 0.15690718591213226, null, 0.15726611018180847, 0.14642678201198578, null, 0.15726611018180847, 0.13177801668643951, null, 0.10100222378969193, 0.1331423819065094, null, 0.16085942089557648, 0.14537663757801056, null, 0.16085942089557648, 0.15798266232013702, null, 0.16085942089557648, 0.12994641065597534, null, 0.16085942089557648, 0.17155854403972626, null, 0.16085942089557648, 0.19801117479801178, null, 0.16085942089557648, 0.20049211382865906, null, 0.16085942089557648, 0.17289219796657562, null, 0.16085942089557648, 0.1862192302942276, null, 0.16085942089557648, 0.1397373080253601, null, 0.16085942089557648, 0.2292701005935669, null, 0.16085942089557648, 0.1859816312789917, null, 0.16085942089557648, 0.12080377340316772, null, 0.16085942089557648, 0.22762714326381683, null, 0.16085942089557648, 0.17621764540672302, null, 0.16085942089557648, 0.15529592335224152, null, 0.16085942089557648, 0.1540992707014084, null, 0.16085942089557648, 0.07917873561382294, null, 0.16085942089557648, 0.0926375687122345, null, 0.16085942089557648, 0.13177801668643951, null, 0.08942317217588425, 0.12994641065597534, null, 0.08942317217588425, 0.10324739664793015, null, 0.08942317217588425, 0.1540992707014084, null, 0.11912749707698822, 0.12994641065597534, null, 0.11912749707698822, 0.10324739664793015, null, 0.11912749707698822, 0.12740765511989594, null, 0.11912749707698822, 0.14281044900417328, null, 0.11912749707698822, 0.05519169941544533, null, 0.11912749707698822, 0.132865309715271, null, 0.11912749707698822, 0.17236538231372833, null, 0.11912749707698822, 0.1540992707014084, null, 0.11912749707698822, 0.1859816312789917, null, 0.11912749707698822, 0.12080377340316772, null, 0.11912749707698822, 0.17621764540672302, null, 0.11912749707698822, 0.13770423829555511, null, 0.10284723341464996, 0.056494057178497314, null, 0.10284723341464996, 0.12994641065597534, null, 0.10284723341464996, 0.10324739664793015, null, 0.10284723341464996, 0.04467451572418213, null, 0.10284723341464996, 0.0943462997674942, null, 0.10284723341464996, 0.1397373080253601, null, 0.10284723341464996, 0.16889840364456177, null, 0.10284723341464996, 0.05519169941544533, null, 0.10284723341464996, 0.1540992707014084, null, 0.10284723341464996, 0.17621764540672302, null, 0.10284723341464996, 0.13755397498607635, null, 0.10284723341464996, 0.1780320107936859, null, 0.10284723341464996, 0.07917873561382294, null, 0.10284723341464996, 0.007856263779103756, null, 0.10284723341464996, 0.12080377340316772, null, 0.10284723341464996, 0.06560347229242325, null, 0.10284723341464996, 0.14812950789928436, null, 0.16340534389019012, 0.14537663757801056, null, 0.16340534389019012, 0.15798266232013702, null, 0.16340534389019012, 0.12994641065597534, null, 0.16340534389019012, 0.17155854403972626, null, 0.16340534389019012, 0.19801117479801178, null, 0.16340534389019012, 0.2292701005935669, null, 0.16340534389019012, 0.20049211382865906, null, 0.16340534389019012, 0.1859816312789917, null, 0.16340534389019012, 0.12080377340316772, null, 0.16340534389019012, 0.22762714326381683, null, 0.16340534389019012, 0.17289219796657562, null, 0.16340534389019012, 0.17621764540672302, null, 0.16340534389019012, 0.15529592335224152, null, 0.16340534389019012, 0.1540992707014084, null, 0.16340534389019012, 0.07917873561382294, null, 0.16340534389019012, 0.0926375687122345, null, 0.16340534389019012, 0.1862192302942276, null, 0.16340534389019012, 0.1397373080253601, null, 0.16340534389019012, 0.13177801668643951, null, 0.19676834344863892, 0.17065495252609253, null, 0.19676834344863892, 0.12740765511989594, null, 0.19676834344863892, 0.19801117479801178, null, 0.19676834344863892, 0.23533451557159424, null, 0.19676834344863892, 0.1622273027896881, null, 0.19676834344863892, 0.1862192302942276, null, 0.19676834344863892, 0.33777445554733276, null, 0.19676834344863892, 0.1540992707014084, null, 0.19676834344863892, 0.21311792731285095, null, 0.19676834344863892, 0.24073167145252228, null, 0.19676834344863892, 0.23899291455745697, null, 0.19676834344863892, 0.132865309715271, null, 0.19676834344863892, 0.14812950789928436, null, 0.19676834344863892, 0.14642678201198578, null, 0.19676834344863892, 0.12080377340316772, null, 0.17065495252609253, 0.2393270879983902, null, 0.17065495252609253, 0.22134330868721008, null, 0.17065495252609253, 0.17089536786079407, null, 0.17065495252609253, 0.15798266232013702, null, 0.17065495252609253, 0.12994641065597534, null, 0.17065495252609253, 0.10324739664793015, null, 0.17065495252609253, 0.17244328558444977, null, 0.17065495252609253, 0.17428277432918549, null, 0.17065495252609253, 0.17155854403972626, null, 0.17065495252609253, 0.14281044900417328, null, 0.17065495252609253, 0.14014896750450134, null, 0.17065495252609253, 0.1859816312789917, null, 0.17065495252609253, 0.12080377340316772, null, 0.17065495252609253, 0.245393306016922, null, 0.17065495252609253, 0.15070772171020508, null, 0.17065495252609253, 0.19801117479801178, null, 0.17065495252609253, 0.27000248432159424, null, 0.17065495252609253, 0.17621764540672302, null, 0.17065495252609253, 0.17518344521522522, null, 0.17065495252609253, 0.12740765511989594, null, 0.17065495252609253, 0.132865309715271, null, 0.17065495252609253, 0.15529592335224152, null, 0.17065495252609253, 0.25510093569755554, null, 0.17065495252609253, 0.1540992707014084, null, 0.17065495252609253, 0.07917873561382294, null, 0.17065495252609253, 0.07508361339569092, null, 0.17065495252609253, 0.13770423829555511, null, 0.17065495252609253, 0.1341790109872818, null, 0.17065495252609253, 0.14812950789928436, null, 0.17065495252609253, 0.17289219796657562, null, 0.17065495252609253, 0.21311792731285095, null, 0.17065495252609253, 0.15690718591213226, null, 0.17065495252609253, 0.13177801668643951, null, 0.18198996782302856, 0.10324739664793015, null, 0.18198996782302856, 0.1540992707014084, null, 0.18198996782302856, 0.12994641065597534, null, 0.18198996782302856, 0.2673315703868866, null, 0.18198996782302856, 0.12080377340316772, null, 0.18198996782302856, 0.15819281339645386, null, 0.18198996782302856, 0.245393306016922, null, 0.18198996782302856, 0.15798266232013702, null, 0.1540992707014084, 0.18373902142047882, null, 0.1540992707014084, 0.15819281339645386, null, 0.1540992707014084, 0.14537663757801056, null, 0.1540992707014084, 0.15798266232013702, null, 0.1540992707014084, 0.12994641065597534, null, 0.1540992707014084, 0.139219269156456, null, 0.1540992707014084, 0.10324739664793015, null, 0.1540992707014084, 0.17155854403972626, null, 0.1540992707014084, 0.0943462997674942, null, 0.1540992707014084, 0.191764697432518, null, 0.1540992707014084, 0.1622273027896881, null, 0.1540992707014084, 0.05374661833047867, null, 0.1540992707014084, 0.03258410096168518, null, 0.1540992707014084, 0.09357402473688126, null, 0.1540992707014084, 0.15923801064491272, null, 0.1540992707014084, 0.1585512012243271, null, 0.1540992707014084, 0.18391487002372742, null, 0.1540992707014084, 0.30824288725852966, null, 0.1540992707014084, 0.1862192302942276, null, 0.1540992707014084, 0.14281044900417328, null, 0.1540992707014084, 0.05519169941544533, null, 0.1540992707014084, 0.1341790109872818, null, 0.1540992707014084, 0.1331423819065094, null, 0.1540992707014084, 0.13755397498607635, null, 0.1540992707014084, 0.12080377340316772, null, 0.1540992707014084, 0.13501764833927155, null, 0.1540992707014084, 0.2126850187778473, null, 0.1540992707014084, 0.17621764540672302, null, 0.1540992707014084, 0.15529592335224152, null, 0.1540992707014084, 0.07917873561382294, null, 0.1540992707014084, 0.23211531341075897, null, 0.1540992707014084, 0.3082329332828522, null, 0.1540992707014084, 0.13177801668643951, null, 0.1540992707014084, 0.17471592128276825, null, 0.1540992707014084, 0.15690718591213226, null, 0.1540992707014084, 0.14642678201198578, null, 0.1540992707014084, 0.24952638149261475, null, 0.1540992707014084, 0.03279567137360573, null, 0.07917873561382294, 0.12994641065597534, null, 0.07917873561382294, 0.10324739664793015, null, 0.07917873561382294, 0.12740765511989594, null, 0.07917873561382294, 0.03258410096168518, null, 0.07917873561382294, -0.031519193202257156, null, 0.07917873561382294, 0.09775067865848541, null, 0.07917873561382294, 0.08344736695289612, null, 0.07917873561382294, 0.06288395076990128, null, 0.07917873561382294, 0.17621764540672302, null, 0.07917873561382294, -0.02236643061041832, null, 0.07917873561382294, 0.07056128978729248, null, 0.07917873561382294, -0.09725174307823181, null, 0.07917873561382294, 0.12080377340316772, null, 0.07917873561382294, 0.15293344855308533, null, 0.07917873561382294, 0.03279567137360573, null, 0.1862192302942276, 0.15819281339645386, null, 0.1862192302942276, 0.15798266232013702, null, 0.1862192302942276, 0.12994641065597534, null, 0.1862192302942276, 0.10324739664793015, null, 0.1862192302942276, 0.17155854403972626, null, 0.1862192302942276, 0.27906209230422974, null, 0.1862192302942276, 0.17518344521522522, null, 0.1862192302942276, 0.15923801064491272, null, 0.1862192302942276, 0.18391487002372742, null, 0.1862192302942276, 0.17289219796657562, null, 0.1862192302942276, 0.1859816312789917, null, 0.1862192302942276, 0.12080377340316772, null, 0.1862192302942276, 0.24073167145252228, null, 0.1862192302942276, 0.1232321634888649, null, 0.1862192302942276, 0.2526095509529114, null, 0.1862192302942276, 0.25041958689689636, null, 0.1862192302942276, 0.16584716737270355, null, 0.1862192302942276, 0.16889840364456177, null, 0.1862192302942276, 0.2126850187778473, null, 0.1862192302942276, 0.2426975667476654, null, 0.1862192302942276, 0.17236538231372833, null, 0.15798266232013702, 0.139219269156456, null, 0.15798266232013702, 0.06608396768569946, null, 0.15798266232013702, 0.12740765511989594, null, 0.15798266232013702, 0.10324739664793015, null, 0.15798266232013702, 0.1859816312789917, null, 0.15798266232013702, 0.12080377340316772, null, 0.15798266232013702, 0.24073167145252228, null, 0.15798266232013702, 0.22802376747131348, null, 0.15798266232013702, 0.24790774285793304, null, 0.15798266232013702, 0.19801117479801178, null, 0.15798266232013702, 0.16787947714328766, null, 0.15798266232013702, 0.191764697432518, null, 0.15798266232013702, 0.17289219796657562, null, 0.15798266232013702, 0.134028822183609, null, 0.15798266232013702, 0.14812950789928436, null, 0.15798266232013702, 0.17155854403972626, null, 0.15798266232013702, 0.15529592335224152, null, 0.15798266232013702, 0.2504124641418457, null, 0.15798266232013702, 0.18391487002372742, null, 0.15798266232013702, 0.16201722621917725, null, 0.15798266232013702, 0.2153359204530716, null, 0.15798266232013702, 0.0061811418272554874, null, 0.15798266232013702, 0.16269269585609436, null, 0.15798266232013702, 0.21311792731285095, null, 0.15798266232013702, 0.15690718591213226, null, 0.15798266232013702, 0.1397373080253601, null, 0.15798266232013702, 0.1585512012243271, null, 0.15798266232013702, 0.14642678201198578, null, 0.15798266232013702, 0.13576169312000275, null, 0.15798266232013702, 0.01136659923940897, null, 0.15798266232013702, 0.13177801668643951, null, 0.15798266232013702, 0.12994641065597534, null, 0.1341790109872818, 0.12994641065597534, null, 0.1341790109872818, 0.10324739664793015, null, 0.1341790109872818, 0.17244328558444977, null, 0.1341790109872818, 0.19801117479801178, null, 0.1341790109872818, 0.14014896750450134, null, 0.1341790109872818, 0.12080377340316772, null, 0.1341790109872818, 0.17621764540672302, null, 0.09357402473688126, 0.12994641065597534, null, 0.09357402473688126, 0.10324739664793015, null, 0.0943462997674942, 0.12994641065597534, null, 0.0943462997674942, 0.10324739664793015, null, 0.0943462997674942, 0.06608396768569946, null, 0.0943462997674942, 0.06288395076990128, null, 0.0943462997674942, 0.12080377340316772, null, 0.0943462997674942, 0.07056128978729248, null, 0.0943462997674942, 0.03279567137360573, null, 0.18373902142047882, 0.19801117479801178, null, 0.18373902142047882, 0.20723994076251984, null, 0.18373902142047882, 0.2704389989376068, null, 0.18373902142047882, 0.20049211382865906, null, 0.18373902142047882, 0.17621764540672302, null, 0.18373902142047882, 0.17089536786079407, null, 0.18373902142047882, 0.12994641065597534, null, 0.15690718591213226, 0.1556818038225174, null, 0.15690718591213226, 0.12994641065597534, null, 0.15690718591213226, 0.10324739664793015, null, 0.15690718591213226, 0.17244328558444977, null, 0.15690718591213226, 0.17428277432918549, null, 0.15690718591213226, 0.19801117479801178, null, 0.15690718591213226, 0.17621764540672302, null, 0.15690718591213226, 0.1780320107936859, null, 0.15690718591213226, 0.12080377340316772, null, 0.12994641065597534, 0.15819281339645386, null, 0.12994641065597534, 0.056494057178497314, null, 0.12994641065597534, 0.14537663757801056, null, 0.12994641065597534, 0.14281044900417328, null, 0.12994641065597534, 0.17244328558444977, null, 0.12994641065597534, 0.139219269156456, null, 0.12994641065597534, 0.10324739664793015, null, 0.12994641065597534, 0.06288395076990128, null, 0.12994641065597534, 0.12080377340316772, null, 0.12994641065597534, 0.24073167145252228, null, 0.12994641065597534, 0.045381780713796616, null, 0.12994641065597534, 0.05519169941544533, null, 0.12994641065597534, 0.2126850187778473, null, 0.12994641065597534, 0.15923801064491272, null, 0.12994641065597534, 0.18391487002372742, null, 0.12994641065597534, 0.03258410096168518, null, 0.12994641065597534, 0.134028822183609, null, 0.12994641065597534, 0.1780320107936859, null, 0.12994641065597534, 0.22866486012935638, null, 0.12994641065597534, 0.0926375687122345, null, 0.12994641065597534, 0.10904636979103088, null, 0.12994641065597534, 0.16201722621917725, null, 0.12994641065597534, 0.16269269585609436, null, 0.12994641065597534, 0.08906222134828568, null, 0.12994641065597534, 0.06560347229242325, null, 0.12994641065597534, 0.24957303702831268, null, 0.12994641065597534, 0.06591888517141342, null, 0.12994641065597534, 0.13177801668643951, null, 0.12994641065597534, 0.07056128978729248, null, 0.12994641065597534, 0.03279567137360573, null, 0.13177801668643951, 0.13501764833927155, null, 0.03279567137360573, 0.031070536002516747, null, 0.03279567137360573, -0.0616425983607769, null, 0.03279567137360573, -0.03676570579409599, null, 0.03279567137360573, 0.10324739664793015, null, 0.03279567137360573, 0.04467451572418213, null, 0.03279567137360573, 0.11735996603965759, null, 0.03279567137360573, 0.09303534030914307, null, 0.03279567137360573, 0.10904636979103088, null, 0.03279567137360573, -0.07667077332735062, null, 0.03279567137360573, -0.03772431239485741, null, 0.03279567137360573, 0.03125860169529915, null, 0.03279567137360573, 0.09775067865848541, null, 0.03279567137360573, 0.045381780713796616, null, 0.03279567137360573, -0.061967138200998306, null, 0.03279567137360573, 0.040750667452812195, null, 0.03279567137360573, 0.05519169941544533, null, 0.03279567137360573, -0.03406624495983124, null, 0.03279567137360573, 0.01569863222539425, null, 0.03279567137360573, -0.03945664316415787, null, 0.03279567137360573, 0.06591888517141342, null, 0.03279567137360573, 0.007856263779103756, null, 0.03279567137360573, 0.12080377340316772, null, 0.03279567137360573, -0.06944058835506439, null, 0.03279567137360573, -0.07553400099277496, null, 0.03279567137360573, 0.15722715854644775, null, 0.03279567137360573, 0.08064685761928558, null, 0.03279567137360573, -0.0762607678771019, null, -0.23290492594242096, -0.34181278944015503, null, -0.23290492594242096, -0.08168631047010422, null, -0.34181278944015503, -0.44238361716270447, null, -0.34181278944015503, -0.21811284124851227, null, -0.34181278944015503, -0.43445807695388794, null, -0.08168631047010422, 0.03258410096168518, null, -0.08168631047010422, -0.031519193202257156, null, -0.08168631047010422, 0.0061811418272554874, null, -0.08168631047010422, -0.07381077855825424, null, -0.08168631047010422, -0.017987852916121483, null, -0.08168631047010422, 0.01535513624548912, null, -0.8068440556526184, -0.805987536907196, null, -0.8068440556526184, -0.8210719227790833, null, -0.8068440556526184, -0.7263904213905334, null, -0.8068440556526184, -0.8188756704330444, null, -0.8068440556526184, -0.8145723938941956, null, -0.8068440556526184, -0.7984187602996826, null, -0.805987536907196, -0.8210719227790833, null, -0.805987536907196, -0.8145723938941956, null, -0.805987536907196, -0.7263904213905334, null, -0.805987536907196, -0.8188756704330444, null, -0.805987536907196, -0.7984187602996826, null, -0.8210719227790833, -0.8180791735649109, null, -0.8210719227790833, -0.8888848423957825, null, -0.8210719227790833, -0.7263904213905334, null, -0.8210719227790833, -0.830120325088501, null, -0.8210719227790833, -0.8145723938941956, null, -0.8210719227790833, -0.7984187602996826, null, -0.8210719227790833, -0.8103094696998596, null, -0.8210719227790833, -0.8188756704330444, null, -0.7263904213905334, -0.8470321893692017, null, -0.7263904213905334, -0.40734758973121643, null, -0.7263904213905334, -0.830120325088501, null, -0.7263904213905334, -0.8145723938941956, null, -0.7263904213905334, -0.8103094696998596, null, -0.7263904213905334, -0.7984187602996826, null, -0.7263904213905334, -0.8180791735649109, null, -0.7263904213905334, -0.8324607014656067, null, -0.7263904213905334, -0.8188756704330444, null, -0.8188756704330444, -0.830120325088501, null, -0.8188756704330444, -0.8145723938941956, null, -0.8145723938941956, -0.8324607014656067, null, -0.8145723938941956, -0.7984187602996826, null, -0.3765358626842499, -0.49252796173095703, null, -0.3765358626842499, -0.21811284124851227, null, -0.3765358626842499, -0.4588268995285034, null, -0.49252796173095703, -0.4298054575920105, null, -0.49252796173095703, -0.5497422218322754, null, -0.49252796173095703, -0.5588260889053345, null, -0.49252796173095703, -0.5699374675750732, null, -0.21811284124851227, -0.36215388774871826, null, -0.21811284124851227, -0.30929046869277954, null, -0.21811284124851227, -0.2743771970272064, null, -0.8470321893692017, -0.9354581832885742, null, 0.10324739664793015, 0.031070536002516747, null, 0.10324739664793015, 0.14537663757801056, null, 0.10324739664793015, 0.139219269156456, null, 0.10324739664793015, 0.06608396768569946, null, 0.10324739664793015, 0.025520730763673782, null, 0.10324739664793015, 0.06407041102647781, null, 0.10324739664793015, 0.12080377340316772, null, 0.10324739664793015, 0.05519169941544533, null, 0.10324739664793015, 0.11405579745769501, null, 0.10324739664793015, 0.16787947714328766, null, 0.10324739664793015, 0.05374661833047867, null, 0.10324739664793015, 0.1331423819065094, null, 0.10324739664793015, 0.12740765511989594, null, 0.10324739664793015, 0.15293344855308533, null, 0.10324739664793015, 0.03258410096168518, null, 0.10324739664793015, 0.15529592335224152, null, 0.10324739664793015, 0.08344736695289612, null, 0.10324739664793015, -0.017987852916121483, null, 0.10324739664793015, 0.13501764833927155, null, 0.10324739664793015, 0.13770423829555511, null, 0.10324739664793015, 0.16201722621917725, null, 0.10324739664793015, 0.0061811418272554874, null, 0.10324739664793015, 0.16269269585609436, null, 0.10324739664793015, 0.14642678201198578, null, 0.10324739664793015, 0.01136659923940897, null, 0.2673315703868866, 0.24073167145252228, null, 0.2673315703868866, 0.245393306016922, null, 0.12080377340316772, 0.15819281339645386, null, 0.12080377340316772, 0.139219269156456, null, 0.12080377340316772, 0.10904636979103088, null, 0.12080377340316772, 0.18391487002372742, null, 0.12080377340316772, 0.045381780713796616, null, 0.12080377340316772, 0.08344736695289612, null, 0.12080377340316772, 0.0926375687122345, null, 0.12080377340316772, 0.134028822183609, null, 0.12080377340316772, 0.08906222134828568, null, 0.12080377340316772, 0.06591888517141342, null, 0.12080377340316772, 0.08526773005723953, null, 0.12080377340316772, 0.15293344855308533, null, 0.15819281339645386, 0.045381780713796616, null, 0.15819281339645386, 0.16201722621917725, null, 0.15819281339645386, 0.26310113072395325, null, 0.15819281339645386, 0.16269269585609436, null, 0.15819281339645386, 0.17471592128276825, null, 0.15819281339645386, 0.17428277432918549, null, 0.245393306016922, 0.191764697432518, null, 0.245393306016922, 0.2817615270614624, null, 0.245393306016922, 0.18391487002372742, null, 0.245393306016922, 0.3598170280456543, null, 0.245393306016922, 0.2685810327529907, null, 0.245393306016922, 0.2504124641418457, null, 0.245393306016922, 0.29225724935531616, null, 0.245393306016922, 0.24073167145252228, null, 0.245393306016922, 0.22802376747131348, null, -0.7764773368835449, -0.7602713704109192, null, -0.7764773368835449, -0.7758491039276123, null, -0.7764773368835449, -0.7836688756942749, null, -0.7764773368835449, -0.7206721901893616, null, -0.7764773368835449, -0.762282133102417, null, -0.7764773368835449, -0.7865022420883179, null, -0.7764773368835449, -0.7206721901893616, null, -0.7764773368835449, -0.7629879117012024, null, -0.7764773368835449, -0.7796529531478882, null, -0.7764773368835449, -0.7647544741630554, null, -0.7764773368835449, -0.8070706725120544, null, -0.7764773368835449, -0.802183985710144, null, -0.7602713704109192, -0.6992446184158325, null, -0.7602713704109192, -0.802183985710144, null, -0.7602713704109192, -0.7865022420883179, null, -0.7602713704109192, -0.7796529531478882, null, -0.7602713704109192, -0.7206721901893616, null, -0.7602713704109192, -0.7836688756942749, null, -0.7602713704109192, -0.7629879117012024, null, -0.7602713704109192, -0.8070706725120544, null, -0.7602713704109192, -0.762282133102417, null, -0.7602713704109192, -0.7758491039276123, null, -0.7602713704109192, -0.7206721901893616, null, -0.7602713704109192, -0.7647544741630554, null, -0.7758491039276123, -0.802183985710144, null, -0.7758491039276123, -0.7865022420883179, null, -0.7758491039276123, -0.7796529531478882, null, -0.7758491039276123, -0.7206721901893616, null, -0.7758491039276123, -0.7836688756942749, null, -0.7758491039276123, -0.7629879117012024, null, -0.7758491039276123, -0.8070706725120544, null, -0.7758491039276123, -0.7206721901893616, null, -0.7758491039276123, -0.762282133102417, null, -0.7758491039276123, -0.7647544741630554, null, -0.7836688756942749, -0.802183985710144, null, -0.7836688756942749, -0.7865022420883179, null, -0.7836688756942749, -0.7796529531478882, null, -0.7836688756942749, -0.7206721901893616, null, -0.7836688756942749, -0.7206721901893616, null, -0.7836688756942749, -0.762282133102417, null, -0.7836688756942749, -0.7629879117012024, null, -0.7836688756942749, -0.7647544741630554, null, -0.7836688756942749, -0.8070706725120544, null, -0.7206721901893616, -0.7559671998023987, null, -0.7206721901893616, -0.6085419058799744, null, -0.7206721901893616, -0.7058454751968384, null, -0.7206721901893616, -0.6936671137809753, null, -0.7206721901893616, -0.7277053594589233, null, -0.7206721901893616, -0.6754298210144043, null, -0.7206721901893616, -0.7865022420883179, null, -0.7206721901893616, -0.7913202047348022, null, -0.7206721901893616, -0.7796529531478882, null, -0.7206721901893616, -0.6903777718544006, null, -0.7206721901893616, -0.6863099932670593, null, -0.7206721901893616, -0.7337723970413208, null, -0.7206721901893616, -0.7629879117012024, null, -0.7206721901893616, -0.6087601184844971, null, -0.7206721901893616, -0.7142499685287476, null, -0.7206721901893616, -0.762282133102417, null, -0.7206721901893616, -0.7570210695266724, null, -0.7206721901893616, -0.7647544741630554, null, -0.762282133102417, -0.6992446184158325, null, -0.762282133102417, -0.802183985710144, null, -0.762282133102417, -0.7865022420883179, null, -0.762282133102417, -0.7796529531478882, null, -0.762282133102417, -0.7206721901893616, null, -0.762282133102417, -0.7629879117012024, null, -0.762282133102417, -0.8070706725120544, null, -0.762282133102417, -0.7647544741630554, null, -0.7865022420883179, -0.802183985710144, null, -0.7865022420883179, -0.7629879117012024, null, -0.7865022420883179, -0.7206721901893616, null, -0.7865022420883179, -0.7796529531478882, null, -0.7865022420883179, -0.7647544741630554, null, -0.7206721901893616, -0.7559671998023987, null, -0.7206721901893616, -0.6085419058799744, null, -0.7206721901893616, -0.7058454751968384, null, -0.7206721901893616, -0.6936671137809753, null, -0.7206721901893616, -0.7277053594589233, null, -0.7206721901893616, -0.6754298210144043, null, -0.7206721901893616, -0.7913202047348022, null, -0.7206721901893616, -0.7796529531478882, null, -0.7206721901893616, -0.6903777718544006, null, -0.7206721901893616, -0.6863099932670593, null, -0.7206721901893616, -0.7337723970413208, null, -0.7206721901893616, -0.7629879117012024, null, -0.7206721901893616, -0.6087601184844971, null, -0.7206721901893616, -0.7142499685287476, null, -0.7206721901893616, -0.7570210695266724, null, -0.7206721901893616, -0.7647544741630554, null, -0.7629879117012024, -0.802183985710144, null, -0.7629879117012024, -0.6933042407035828, null, -0.7629879117012024, -0.7796529531478882, null, -0.7629879117012024, -0.7647544741630554, null, -0.7629879117012024, -0.8070706725120544, null, -0.7796529531478882, -0.802183985710144, null, -0.7796529531478882, -0.7647544741630554, null, -0.7796529531478882, -0.8070706725120544, null, -0.7647544741630554, -0.802183985710144, null, -0.7647544741630554, -0.7058454751968384, null, -0.7647544741630554, -0.7277053594589233, null, -0.7647544741630554, -0.8106333017349243, null, -0.7647544741630554, -0.8070706725120544, null, -0.7647544741630554, -0.7142499685287476, null, -0.802183985710144, -0.802183985710144, null, 0.2568984925746918, 0.33649709820747375, null, 0.2568984925746918, 0.24952638149261475, null, 0.2568984925746918, 0.2954702079296112, null, 0.2568984925746918, 0.15293344855308533, null, 0.33649709820747375, 0.45815905928611755, null, 0.33649709820747375, 0.25666284561157227, null, 0.33649709820747375, 0.2126850187778473, null, 0.33649709820747375, 0.4198252856731415, null, 0.24952638149261475, 0.2393270879983902, null, 0.24952638149261475, 0.2435777485370636, null, 0.24952638149261475, 0.2954702079296112, null, 0.24952638149261475, 0.22684139013290405, null, 0.24952638149261475, 0.27000248432159424, null, 0.24952638149261475, 0.29233527183532715, null, 0.2954702079296112, 0.3801974058151245, null, 0.2954702079296112, 0.27349740266799927, null, 0.2954702079296112, 0.41281792521476746, null, 0.2954702079296112, 0.29233527183532715, null, 0.2954702079296112, 0.36616894602775574, null, 0.2954702079296112, 0.22684139013290405, null, 0.2954702079296112, 0.3343648612499237, null, 0.2954702079296112, 0.23158220946788788, null, 0.15293344855308533, 0.22684139013290405, null, 0.15293344855308533, 0.08344736695289612, null, 0.15293344855308533, 0.19481679797172546, null, 0.08730773627758026, 0.15070772171020508, null, 0.08730773627758026, 0.13755397498607635, null, 0.08730773627758026, 0.046607159078121185, null, 0.08730773627758026, 0.1397373080253601, null, 0.08730773627758026, 0.09775067865848541, null, 0.08730773627758026, 0.02958506904542446, null, 0.15070772171020508, 0.15683068335056305, null, 0.15070772171020508, 0.1780320107936859, null, 0.15070772171020508, 0.14642678201198578, null, 0.13755397498607635, 0.191764697432518, null, 0.13755397498607635, 0.18391487002372742, null, 0.13755397498607635, 0.14642678201198578, null, 0.1397373080253601, 0.18391487002372742, null, 0.1397373080253601, 0.1630409210920334, null, 0.1397373080253601, 0.14642678201198578, null, 0.1397373080253601, 0.0926375687122345, null, 0.09775067865848541, 0.139219269156456, null, 0.09775067865848541, 0.05519169941544533, null, 0.02958506904542446, 0.06608396768569946, null, -0.6992446184158325, -0.6087601184844971, null, -0.6992446184158325, -0.6903777718544006, null, -0.6087601184844971, -0.6936671137809753, null, -0.6087601184844971, -0.6754298210144043, null, -0.6087601184844971, -0.3386225402355194, null, -0.6087601184844971, -0.6933042407035828, null, -0.6087601184844971, -0.6903777718544006, null, -0.6087601184844971, -0.6863099932670593, null, -0.6087601184844971, -0.7142499685287476, null, -0.6903777718544006, -0.7559671998023987, null, -0.6903777718544006, -0.6085419058799744, null, -0.6903777718544006, -0.7277053594589233, null, -0.6903777718544006, -0.6754298210144043, null, -0.6903777718544006, -0.6933042407035828, null, -0.6903777718544006, -0.7570210695266724, null, -0.6903777718544006, -0.7337723970413208, null, -0.6903777718544006, -0.7142499685287476, null, 0.2064587026834488, 0.2614698112010956, null, 0.2064587026834488, 0.2191694676876068, null, 0.2064587026834488, 0.11481763422489166, null, 0.2064587026834488, 0.2064587026834488, null, 0.2064587026834488, 0.2507089674472809, null, 0.2614698112010956, 0.2191694676876068, null, 0.2614698112010956, 0.2507089674472809, null, 0.2191694676876068, 0.11481763422489166, null, 0.2191694676876068, 0.2507089674472809, null, 0.2191694676876068, 0.17289219796657562, null, 0.2191694676876068, 0.2889147996902466, null, 0.11481763422489166, 0.045381780713796616, null, 0.11481763422489166, 0.040750667452812195, null, 0.11481763422489166, 0.08064685761928558, null, 0.11481763422489166, 0.06591888517141342, null, 0.19801117479801178, 0.17244328558444977, null, 0.19801117479801178, 0.25866934657096863, null, 0.19801117479801178, 0.17236538231372833, null, 0.19801117479801178, 0.23899291455745697, null, 0.19801117479801178, 0.1622273027896881, null, 0.19801117479801178, 0.23533451557159424, null, 0.20723994076251984, 0.17155854403972626, null, 0.20723994076251984, 0.20049211382865906, null, 0.20723994076251984, 0.1585512012243271, null, 0.20723994076251984, 0.14642678201198578, null, 0.20049211382865906, 0.07853081077337265, null, 0.20049211382865906, 0.35491451621055603, null, 0.20049211382865906, 0.22762714326381683, null, 0.17621764540672302, 0.17244328558444977, null, 0.17621764540672302, 0.1622273027896881, null, 0.17621764540672302, 0.30824288725852966, null, 0.17621764540672302, 0.13501764833927155, null, 0.17621764540672302, 0.11405579745769501, null, 0.17621764540672302, 0.132865309715271, null, 0.17621764540672302, 0.1780320107936859, null, 0.17621764540672302, 0.3082329332828522, null, 0.17621764540672302, 0.14642678201198578, null, 0.17089536786079407, 0.13770423829555511, null, 0.17089536786079407, 0.11405579745769501, null, -0.34630540013313293, -0.3163244128227234, null, -0.34630540013313293, -0.322192519903183, null, -0.34630540013313293, -0.3602638244628906, null, -0.34630540013313293, -0.35767337679862976, null, -0.34630540013313293, -0.3175210654735565, null, -0.34630540013313293, -0.3032545745372772, null, -0.3163244128227234, -0.23649214208126068, null, -0.3163244128227234, -0.32088497281074524, null, -0.3163244128227234, -0.322192519903183, null, -0.3163244128227234, -0.35767337679862976, null, -0.3163244128227234, -0.3175210654735565, null, -0.3163244128227234, -0.3602638244628906, null, -0.3163244128227234, -0.30283868312835693, null, -0.3163244128227234, -0.3032545745372772, null, -0.322192519903183, -0.36974748969078064, null, -0.322192519903183, -0.34017640352249146, null, -0.322192519903183, -0.23649214208126068, null, -0.322192519903183, -0.32088497281074524, null, -0.322192519903183, -0.3175210654735565, null, -0.322192519903183, -0.3602638244628906, null, -0.322192519903183, -0.3282223045825958, null, -0.322192519903183, -0.35767337679862976, null, -0.322192519903183, -0.36339980363845825, null, -0.322192519903183, -0.30283868312835693, null, -0.322192519903183, -0.3032545745372772, null, -0.3602638244628906, -0.32088497281074524, null, -0.3602638244628906, -0.4139668047428131, null, -0.3602638244628906, -0.3175210654735565, null, -0.3602638244628906, -0.3602638244628906, null, -0.3602638244628906, -0.3742448687553406, null, -0.3175210654735565, -0.32088497281074524, null, -0.3175210654735565, -0.36339980363845825, null, -0.3175210654735565, -0.3742448687553406, null, -0.3175210654735565, -0.30283868312835693, null, -0.3175210654735565, -0.24491183459758759, null, -0.3032545745372772, -0.32088497281074524, null, -0.3032545745372772, -0.24491183459758759, null, -0.16333475708961487, -0.07381077855825424, null, -0.07381077855825424, 0.031070536002516747, null, -0.07381077855825424, 0.03258410096168518, null, -0.07381077855825424, -0.031519193202257156, null, -0.07381077855825424, 0.0061811418272554874, null, -0.07381077855825424, -0.17311324179172516, null, -0.07381077855825424, -0.0626782476902008, null, -0.07381077855825424, -0.05591224506497383, null, -0.0010739598656073213, -0.023834388703107834, null, -0.023834388703107834, 0.025868508964776993, null, -0.023834388703107834, -0.0736323818564415, null, -0.023834388703107834, -0.031583502888679504, null, -0.023834388703107834, -0.08596641570329666, null, -0.023834388703107834, -0.04624873772263527, null, -0.023834388703107834, -0.02774886041879654, null, -0.023834388703107834, -0.04839351400732994, null, -0.34017640352249146, -0.32088497281074524, null, -0.34017640352249146, -0.30283868312835693, null, -0.32088497281074524, -0.23649214208126068, null, -0.32088497281074524, -0.3282223045825958, null, -0.32088497281074524, -0.3742448687553406, null, -0.32088497281074524, -0.30283868312835693, null, -0.32088497281074524, -0.36339980363845825, null, -0.30283868312835693, -0.23649214208126068, null, -0.30283868312835693, -0.3282223045825958, null, -0.2502770721912384, -0.1553368866443634, null, -0.1553368866443634, -0.2561819553375244, null, -0.1553368866443634, -0.08133784681558609, null, -0.1553368866443634, -0.2653755843639374, null, -0.1553368866443634, -0.2547334134578705, null, -0.4239314794540405, -0.3742448687553406, null, 0.025868508964776993, 0.13612084090709686, null, 0.025868508964776993, -0.03387601301074028, null, 0.025868508964776993, -0.05836007744073868, null, 0.025868508964776993, -0.00043458188883960247, null, 0.025868508964776993, -0.10128521919250488, null, 0.025868508964776993, -0.04839351400732994, null, 0.025868508964776993, 0.1357698291540146, null, 0.025868508964776993, -0.009308844804763794, null, 0.025868508964776993, 0.1556818038225174, null, 0.025868508964776993, -0.04312945529818535, null, 0.025868508964776993, -0.016864925622940063, null, 0.025868508964776993, 0.11813022196292877, null, 0.025868508964776993, -0.02756202593445778, null, 0.025868508964776993, -0.10100900381803513, null, 0.025868508964776993, -0.0018295769114047289, null, 0.025868508964776993, -0.05975521728396416, null, 0.025868508964776993, 0.1630409210920334, null, 0.025868508964776993, 0.08344736695289612, null, 0.025868508964776993, -0.0543278306722641, null, 0.025868508964776993, -0.046184901148080826, null, 0.025868508964776993, -0.0263132993131876, null, 0.025868508964776993, 0.134377121925354, null, 0.025868508964776993, -0.016453543677926064, null, 0.13612084090709686, 0.16862888634204865, null, 0.13612084090709686, 0.134377121925354, null, 0.13612084090709686, 0.21362349390983582, null, -0.03387601301074028, -0.05836007744073868, null, -0.03387601301074028, -0.0736323818564415, null, -0.03387601301074028, -0.08830595016479492, null, -0.03387601301074028, -0.0543278306722641, null, -0.05836007744073868, -0.07903163880109787, null, -0.05836007744073868, -0.02774886041879654, null, -0.05836007744073868, -0.0941380187869072, null, -0.05836007744073868, -0.0543278306722641, null, -0.05836007744073868, -0.10128521919250488, null, -0.05836007744073868, -0.0736323818564415, null, -0.05836007744073868, -0.10346624255180359, null, -0.05836007744073868, -0.09716938436031342, null, -0.05836007744073868, -0.10763797909021378, null, -0.05836007744073868, -0.08275073021650314, null, -0.05836007744073868, 0.010809021070599556, null, -0.05836007744073868, -0.0263132993131876, null, -0.05836007744073868, -0.02756202593445778, null, -0.05836007744073868, 0.015348884277045727, null, -0.05836007744073868, -0.10100900381803513, null, -0.05836007744073868, 0.0024455913808196783, null, -0.05836007744073868, -0.05699533224105835, null, -0.05836007744073868, -0.04839351400732994, null, -0.05836007744073868, -0.017923707142472267, null, -0.05836007744073868, -0.07435992360115051, null, -0.05836007744073868, -0.04312945529818535, null, -0.05836007744073868, -0.15347030758857727, null, -0.05836007744073868, -0.10922764986753464, null, -0.00043458188883960247, 0.010809021070599556, null, -0.00043458188883960247, -0.009104898199439049, null, -0.00043458188883960247, -0.02774886041879654, null, -0.00043458188883960247, -0.0736323818564415, null, -0.00043458188883960247, -0.0018295769114047289, null, -0.10128521919250488, -0.2432592809200287, null, -0.10128521919250488, -0.0736323818564415, null, -0.10128521919250488, -0.09445608407258987, null, -0.10128521919250488, -0.10763797909021378, null, -0.10128521919250488, -0.04839351400732994, null, -0.04839351400732994, 0.010809021070599556, null, -0.04839351400732994, -0.09214497357606888, null, -0.04839351400732994, -0.05975521728396416, null, -0.04839351400732994, -0.0736323818564415, null, -0.04839351400732994, -0.10100900381803513, null, -0.04839351400732994, -0.09445608407258987, null, -0.04839351400732994, -0.023103490471839905, null, -0.04839351400732994, -0.0663561224937439, null, -0.04839351400732994, -0.04420581832528114, null, -0.04839351400732994, -0.042919743806123734, null, -0.04839351400732994, -0.0263132993131876, null, 0.1357698291540146, 0.16862888634204865, null, 0.1357698291540146, 0.07250914722681046, null, 0.1357698291540146, 0.03258410096168518, null, 0.1357698291540146, 0.29233527183532715, null, 0.1357698291540146, 0.21362349390983582, null, -0.009308844804763794, 0.010809021070599556, null, -0.009308844804763794, -0.0736323818564415, null, -0.009308844804763794, -0.023103490471839905, null, -0.009308844804763794, -0.0018295769114047289, null, 0.1556818038225174, 0.21289809048175812, null, 0.1556818038225174, 0.29233527183532715, null, 0.1556818038225174, 0.16862888634204865, null, 0.1556818038225174, 0.134377121925354, null, 0.1556818038225174, 0.07250914722681046, null, 0.1556818038225174, 0.236219584941864, null, 0.1556818038225174, 0.19100257754325867, null, 0.1556818038225174, 0.21362349390983582, null, -0.04312945529818535, -0.07262273132801056, null, -0.04312945529818535, 0.015348884277045727, null, -0.04312945529818535, -0.017923707142472267, null, -0.04312945529818535, -0.07903163880109787, null, -0.04312945529818535, -0.007188896182924509, null, -0.04312945529818535, -0.15347030758857727, null, -0.04312945529818535, -0.0736323818564415, null, -0.016864925622940063, -0.0736323818564415, null, -0.016864925622940063, -0.031583502888679504, null, 0.11813022196292877, 0.16862888634204865, null, -0.02756202593445778, -0.0543278306722641, null, -0.02756202593445778, -0.0736323818564415, null, -0.10100900381803513, -0.09214497357606888, null, -0.10100900381803513, -0.0736323818564415, null, -0.10100900381803513, -0.10346624255180359, null, -0.10100900381803513, -0.08830595016479492, null, -0.10100900381803513, -0.08275073021650314, null, -0.10100900381803513, -0.24491183459758759, null, -0.10100900381803513, -0.0543278306722641, null, -0.10100900381803513, -0.057180341333150864, null, -0.0018295769114047289, 0.010809021070599556, null, -0.0018295769114047289, -0.0736323818564415, null, -0.0018295769114047289, -0.023103490471839905, null, -0.0018295769114047289, -0.0018295769114047289, null, -0.05975521728396416, -0.07813003659248352, null, -0.05975521728396416, -0.0736323818564415, null, -0.05975521728396416, -0.08275073021650314, null, -0.05975521728396416, -0.0543278306722641, null, 0.1630409210920334, 0.25132670998573303, null, 0.1630409210920334, 0.16862888634204865, null, 0.1630409210920334, 0.134377121925354, null, 0.1630409210920334, 0.21362349390983582, null, 0.1630409210920334, 0.25012466311454773, null, 0.08344736695289612, 0.16862888634204865, null, 0.08344736695289612, 0.06407041102647781, null, 0.08344736695289612, 0.08906222134828568, null, -0.0543278306722641, -0.09214497357606888, null, -0.0543278306722641, -0.09716938436031342, null, -0.0543278306722641, -0.0736323818564415, null, -0.0543278306722641, -0.10346624255180359, null, -0.0543278306722641, -0.12893468141555786, null, -0.0543278306722641, -0.05699533224105835, null, -0.0543278306722641, -0.07435992360115051, null, -0.0543278306722641, -0.016453543677926064, null, -0.0543278306722641, -0.09445608407258987, null, -0.0543278306722641, -0.08830595016479492, null, -0.0543278306722641, -0.15347030758857727, null, -0.0543278306722641, -0.10763797909021378, null, -0.0543278306722641, -0.023103490471839905, null, -0.0543278306722641, 0.0018816522788256407, null, -0.0543278306722641, -0.05891496315598488, null, -0.0543278306722641, -0.04333723336458206, null, -0.0543278306722641, -0.026894982904195786, null, -0.0543278306722641, -0.01236716192215681, null, -0.0543278306722641, -0.08275073021650314, null, -0.0543278306722641, -0.046184901148080826, null, -0.0543278306722641, -0.0663561224937439, null, -0.0543278306722641, -0.042919743806123734, null, -0.046184901148080826, -0.0736323818564415, null, -0.046184901148080826, -0.07435992360115051, null, -0.046184901148080826, -0.08830595016479492, null, -0.046184901148080826, -0.08275073021650314, null, -0.0263132993131876, -0.0736323818564415, null, -0.0263132993131876, -0.04420581832528114, null, 0.134377121925354, 0.16862888634204865, null, 0.134377121925354, 0.10904636979103088, null, 0.134377121925354, 0.19731555879116058, null, 0.134377121925354, 0.19365982711315155, null, 0.134377121925354, 0.21362349390983582, null, -0.016453543677926064, -0.0736323818564415, null, 0.2393270879983902, 0.22866486012935638, null, 0.2393270879983902, 0.2685810327529907, null, 0.2393270879983902, 0.2817615270614624, null, 0.2393270879983902, 0.27000248432159424, null, 0.22866486012935638, 0.14537663757801056, null, 0.22866486012935638, 0.25666284561157227, null, 0.22866486012935638, 0.3082329332828522, null, 0.22866486012935638, 0.30824288725852966, null, 0.2685810327529907, 0.21362349390983582, null, 0.2685810327529907, 0.26310113072395325, null, 0.2685810327529907, 0.29233527183532715, null, 0.2685810327529907, 0.2743285000324249, null, 0.2817615270614624, 0.26310113072395325, null, 0.2817615270614624, 0.29233527183532715, null, 0.2817615270614624, 0.2504124641418457, null, 0.2817615270614624, 0.2743285000324249, null, 0.27000248432159424, 0.36685439944267273, null, 0.27000248432159424, 0.373508483171463, null, -0.0736323818564415, -0.08596641570329666, null, -0.0736323818564415, -0.29748377203941345, null, -0.0736323818564415, -0.03406624495983124, null, -0.0736323818564415, -0.05699533224105835, null, -0.10346624255180359, -0.10346624255180359, null, -0.10346624255180359, -0.08275073021650314, null, -0.09716938436031342, -0.08830595016479492, null, -0.08275073021650314, -0.09445608407258987, null, 0.010809021070599556, 0.08726152032613754, null, 0.010809021070599556, -0.009104898199439049, null, 0.015348884277045727, 0.01400975976139307, null, 0.015348884277045727, -0.017923707142472267, null, 0.015348884277045727, 0.07853081077337265, null, 0.015348884277045727, -0.007188896182924509, null, 0.015348884277045727, 0.003416213672608137, null, 0.0024455913808196783, -0.009104898199439049, null, 0.0024455913808196783, -0.057180341333150864, null, 0.0024455913808196783, -0.05699533224105835, null, 0.0024455913808196783, 0.08726152032613754, null, -0.05699533224105835, -0.057180341333150864, null, -0.017923707142472267, -0.0010697136167436838, null, -0.017923707142472267, -0.017923707142472267, null, -0.15347030758857727, -0.12893468141555786, null, -0.15347030758857727, -0.32962873578071594, null, 0.031070536002516747, -0.029230063781142235, null, 0.031070536002516747, -0.03938485309481621, null, 0.031070536002516747, 0.03258410096168518, null, 0.031070536002516747, 0.132865309715271, null, 0.031070536002516747, 0.05902182683348656, null, 0.031070536002516747, -0.04527437686920166, null, 0.031070536002516747, -0.031519193202257156, null, 0.031070536002516747, 0.0061811418272554874, null, 0.031070536002516747, 0.11405579745769501, null, 0.031070536002516747, -0.017987852916121483, null, 0.031070536002516747, 0.1585512012243271, null, 0.031070536002516747, -0.0626782476902008, null, 0.031070536002516747, 0.17155854403972626, null, -0.029230063781142235, 0.03258410096168518, null, -0.029230063781142235, -0.031519193202257156, null, -0.029230063781142235, 0.0061811418272554874, null, -0.03938485309481621, 0.03258410096168518, null, -0.03938485309481621, -0.017987852916121483, null, -0.03938485309481621, -0.031519193202257156, null, -0.03938485309481621, 0.0061811418272554874, null, 0.03258410096168518, 0.07250914722681046, null, 0.03258410096168518, 0.0061811418272554874, null, 0.03258410096168518, 0.01535513624548912, null, 0.03258410096168518, 0.08234062790870667, null, 0.132865309715271, 0.12740765511989594, null, 0.132865309715271, 0.17518344521522522, null, 0.132865309715271, 0.18391487002372742, null, 0.132865309715271, 0.11405579745769501, null, 0.132865309715271, 0.14642678201198578, null, 0.05902182683348656, 0.14812950789928436, null, -0.031519193202257156, 0.01136659923940897, null, -0.031519193202257156, -0.10700365155935287, null, -0.031519193202257156, 0.0061811418272554874, null, -0.031519193202257156, -0.11265454441308975, null, -0.031519193202257156, -0.1115570217370987, null, -0.031519193202257156, -0.0626782476902008, null, -0.031519193202257156, -0.05120797082781792, null, -0.031519193202257156, 0.07508361339569092, null, 0.0061811418272554874, 0.01136659923940897, null, 0.0061811418272554874, -0.05591224506497383, null, 0.0061811418272554874, 0.01569863222539425, null, 0.0061811418272554874, 0.06560347229242325, null, 0.0061811418272554874, -0.06516290456056595, null, 0.11405579745769501, 0.12740765511989594, null, 0.11405579745769501, 0.17518344521522522, null, 0.11405579745769501, 0.16828462481498718, null, 0.1585512012243271, 0.17289219796657562, null, 0.1585512012243271, 0.21311792731285095, null, 0.1585512012243271, 0.1859816312789917, null, 0.1585512012243271, 0.2153521329164505, null, 0.1585512012243271, 0.24073167145252228, null, 0.17155854403972626, 0.24073167145252228, null, 0.17155854403972626, 0.22802376747131348, null, 0.17155854403972626, 0.1859816312789917, null, 0.17155854403972626, 0.134028822183609, null, 0.17155854403972626, 0.2153521329164505, null, 0.17155854403972626, 0.17289219796657562, null, 0.17155854403972626, 0.15529592335224152, null, 0.17155854403972626, 0.2504124641418457, null, 0.17155854403972626, 0.17236538231372833, null, 0.17155854403972626, 0.21311792731285095, null, 0.17155854403972626, 0.16787947714328766, null, 0.17155854403972626, 0.14642678201198578, null, 0.17155854403972626, 0.23158220946788788, null, 0.17155854403972626, 0.18391487002372742, null, 0.22134330868721008, 0.17244328558444977, null, 0.22134330868721008, 0.25866934657096863, null, 0.22134330868721008, 0.1622273027896881, null, 0.17244328558444977, 0.14014896750450134, null, 0.1622273027896881, 0.17518344521522522, null, 0.1622273027896881, 0.15529592335224152, null, 0.1622273027896881, 0.11115305870771408, null, 0.06608396768569946, 0.05374661833047867, null, 0.06608396768569946, -0.09809742122888565, null, 0.24073167145252228, 0.3720708191394806, null, 0.24073167145252228, 0.14537663757801056, null, 0.24073167145252228, 0.2153359204530716, null, 0.24073167145252228, 0.31743231415748596, null, 0.24073167145252228, 0.27906209230422974, null, 0.24073167145252228, 0.3801974058151245, null, 0.24073167145252228, 0.17518344521522522, null, 0.24073167145252228, 0.2849445044994354, null, 0.24073167145252228, 0.2426975667476654, null, 0.24073167145252228, 0.3316211700439453, null, 0.24073167145252228, 0.3048928678035736, null, 0.24073167145252228, 0.236219584941864, null, 0.24073167145252228, 0.21311792731285095, null, 0.24073167145252228, 0.26310113072395325, null, 0.24073167145252228, 0.1780320107936859, null, 0.24073167145252228, 0.2743285000324249, null, 0.24073167145252228, 0.3081916570663452, null, 0.24073167145252228, 0.24957303702831268, null, 0.1859816312789917, 0.191764697432518, null, 0.1859816312789917, 0.18391487002372742, null, 0.1859816312789917, 0.17289219796657562, null, 0.1859816312789917, 0.1856060028076172, null, 0.1859816312789917, 0.13501764833927155, null, 0.1859816312789917, 0.3110803961753845, null, 0.1859816312789917, 0.20838195085525513, null, 0.1859816312789917, 0.15529592335224152, null, 0.134028822183609, 0.1406998187303543, null, 0.15529592335224152, 0.13390211760997772, null, 0.15529592335224152, 0.18391487002372742, null, 0.15529592335224152, 0.17289219796657562, null, 0.15529592335224152, 0.11416982114315033, null, 0.15529592335224152, 0.17236538231372833, null, 0.15529592335224152, 0.1729070246219635, null, 0.15529592335224152, 0.14642678201198578, null, 0.16787947714328766, 0.2153359204530716, null, 0.16787947714328766, 0.17518344521522522, null, 0.16787947714328766, 0.17289219796657562, null, 0.18391487002372742, 0.2153359204530716, null, 0.18391487002372742, 0.139219269156456, null, 0.18391487002372742, 0.12740765511989594, null, 0.18391487002372742, 0.14281044900417328, null, 0.18391487002372742, 0.17289219796657562, null, 0.18391487002372742, 0.1780320107936859, null, 0.18391487002372742, 0.16201722621917725, null, 0.18391487002372742, 0.16269269585609436, null, 0.18391487002372742, 0.21311792731285095, null, 0.18391487002372742, 0.23158220946788788, null, -0.03719137981534004, 0.12740765511989594, null, -0.03719137981534004, -0.329781711101532, null, -1.0, -0.9446660280227661, null, -0.9446660280227661, -0.87730872631073, null, 0.13060098886489868, 0.06407041102647781, null, 0.13060098886489868, 0.08064685761928558, null, 0.29233527183532715, 0.3801974058151245, null, 0.29233527183532715, 0.415025532245636, null, 0.29233527183532715, 0.36616894602775574, null, 0.29233527183532715, 0.3035256862640381, null, 0.29233527183532715, 0.4111747741699219, null, 0.16862888634204865, 0.27382692694664, null, 0.16862888634204865, 0.21362349390983582, null, 0.07250914722681046, 0.08234062790870667, null, 0.236219584941864, 0.23533451557159424, null, 0.236219584941864, 0.23899291455745697, null, 0.19100257754325867, 0.19731555879116058, null, 0.19100257754325867, 0.25012466311454773, null, 0.21362349390983582, 0.2960508465766907, null, 0.21362349390983582, 0.27382692694664, null, 0.21362349390983582, 0.24206948280334473, null, 0.8104848861694336, 0.70192950963974, null, 0.70192950963974, 0.6651428937911987, null, 0.70192950963974, 0.6727328896522522, null, 0.045381780713796616, -0.03676570579409599, null, 0.045381780713796616, -0.004268338438123465, null, 0.045381780713796616, 0.11735996603965759, null, 0.045381780713796616, -0.023449208587408066, null, 0.045381780713796616, 0.10904636979103088, null, 0.045381780713796616, -0.07667077332735062, null, 0.045381780713796616, 0.03125860169529915, null, 0.045381780713796616, 0.01569863222539425, null, 0.045381780713796616, 0.08064685761928558, null, 0.045381780713796616, 0.06591888517141342, null, 0.045381780713796616, 0.05519169941544533, null, 0.16201722621917725, 0.17289219796657562, null, 0.16201722621917725, 0.2426975667476654, null, 0.26310113072395325, 0.23533451557159424, null, 0.26310113072395325, 0.3316211700439453, null, 0.26310113072395325, 0.22802376747131348, null, 0.26310113072395325, 0.23899291455745697, null, 0.26310113072395325, 0.23211531341075897, null, 0.16269269585609436, 0.17289219796657562, null, 0.16269269585609436, 0.2426975667476654, null, 0.17471592128276825, 0.1823323667049408, null, 0.17471592128276825, 0.1232321634888649, null, 0.17471592128276825, 0.17236538231372833, null, -0.7298611402511597, -0.790816068649292, null, -0.7298611402511597, -0.6628071665763855, null, -0.7298611402511597, -0.8034796714782715, null, -0.7298611402511597, -0.77180415391922, null, -0.6628071665763855, -0.6373386979103088, null, -0.6628071665763855, -0.5913284420967102, null, -0.8034796714782715, -0.87730872631073, null, 0.056494057178497314, 0.02079356275498867, null, 0.056494057178497314, -0.00215312372893095, null, 0.056494057178497314, 0.06560347229242325, null, 0.056494057178497314, 0.008616217412054539, null, 0.02079356275498867, 0.06560347229242325, null, -0.00215312372893095, 0.06560347229242325, null, 0.06560347229242325, 0.14537663757801056, null, 0.06560347229242325, 0.008616217412054539, null, 0.06560347229242325, 0.12360229343175888, null, -0.2432592809200287, -0.29866620898246765, null, -0.2432592809200287, -0.3190844655036926, null, -0.3190844655036926, -0.35914725065231323, null, -0.08133784681558609, -0.28878703713417053, null, 0.14537663757801056, 0.2156025767326355, null, 0.14537663757801056, 0.3038614094257355, null, 0.14537663757801056, -0.06283050030469894, null, 0.14537663757801056, 0.03221684321761131, null, 0.14537663757801056, 0.2626991271972656, null, 0.2156025767326355, 0.23533451557159424, null, 0.2156025767326355, 0.23899291455745697, null, 0.3038614094257355, 0.31743231415748596, null, 0.3038614094257355, 0.40216967463493347, null, 0.3038614094257355, 0.30824288725852966, null, 0.3038614094257355, 0.3082329332828522, null, -0.06283050030469894, -0.17504693567752838, null, -0.06283050030469894, -0.1797008514404297, null, 0.2626991271972656, 0.2526095509529114, null, 0.7384531497955322, 0.6533911228179932, null, 0.7384531497955322, 0.6727328896522522, null, 0.6533911228179932, 0.678316056728363, null, 0.6533911228179932, 0.6651428937911987, null, 0.6533911228179932, 0.6727328896522522, null, 0.6533911228179932, 0.6541364789009094, null, 0.6533911228179932, 0.7035064101219177, null, 0.6533911228179932, 0.6416405439376831, null, 0.6727328896522522, 0.6450272798538208, null, 0.6727328896522522, 0.7035064101219177, null, 0.6727328896522522, 0.6541364789009094, null, 0.6727328896522522, 0.7799585461616516, null, 0.6727328896522522, 0.6651428937911987, null, 0.6727328896522522, 0.6416405439376831, null, 0.6727328896522522, 0.6286208033561707, null, 0.2999640107154846, 0.2292701005935669, null, 0.13770423829555511, 0.12740765511989594, null, 0.13770423829555511, 0.14812950789928436, null, -0.6389882564544678, -0.6314997673034668, null, -0.6389882564544678, -0.6424887180328369, null, -0.6389882564544678, -0.5913284420967102, null, -0.6389882564544678, -0.5526981353759766, null, -0.6389882564544678, -0.6340234279632568, null, -0.6389882564544678, -0.6373386979103088, null, -0.6389882564544678, -0.6240835189819336, null, -0.6389882564544678, -0.6869288086891174, null, -0.6314997673034668, -0.6373386979103088, null, -0.6314997673034668, -0.5913284420967102, null, -0.6314997673034668, -0.6424887180328369, null, -0.6314997673034668, -0.6340234279632568, null, -0.6314997673034668, -0.5526981353759766, null, -0.6314997673034668, -0.6240835189819336, null, -0.6314997673034668, -0.6734359264373779, null, -0.6424887180328369, -0.6373386979103088, null, -0.6424887180328369, -0.5913284420967102, null, -0.6424887180328369, -0.5526981353759766, null, -0.6424887180328369, -0.6340234279632568, null, -0.6424887180328369, -0.6240835189819336, null, -0.6424887180328369, -0.6869288086891174, null, -0.6424887180328369, -0.6734359264373779, null, -0.5913284420967102, -0.6373386979103088, null, -0.5913284420967102, -0.3532125949859619, null, -0.5913284420967102, -0.5526981353759766, null, -0.5913284420967102, -0.6340234279632568, null, -0.5913284420967102, -0.6869288086891174, null, -0.5913284420967102, -0.6240835189819336, null, -0.5913284420967102, -0.6734359264373779, null, -0.5913284420967102, -0.6901368498802185, null, -0.5526981353759766, -0.6373386979103088, null, -0.5526981353759766, -0.6340234279632568, null, -0.5526981353759766, -0.329781711101532, null, -0.5526981353759766, -0.6240835189819336, null, -0.6340234279632568, -0.6373386979103088, null, -0.6340234279632568, -0.6734359264373779, null, -0.6340234279632568, -0.6240835189819336, null, -0.6373386979103088, -0.6869288086891174, null, -0.6373386979103088, -0.6240835189819336, null, -0.6240835189819336, -0.6734359264373779, null, -0.6869288086891174, -0.778264582157135, null, -0.6869288086891174, -0.6734359264373779, null, -0.6869288086891174, -0.6901368498802185, null, 0.12740765511989594, 0.20843945443630219, null, 0.12740765511989594, 0.0729343518614769, null, 0.12740765511989594, 0.1780320107936859, null, 0.12740765511989594, 0.13501764833927155, null, 0.12740765511989594, 0.14642678201198578, null, 0.22802376747131348, 0.2743285000324249, null, 0.24790774285793304, 0.23533451557159424, null, 0.24790774285793304, 0.23899291455745697, null, 0.191764697432518, 0.17289219796657562, null, 0.191764697432518, 0.17518344521522522, null, 0.17289219796657562, 0.14281044900417328, null, 0.17289219796657562, 0.1331423819065094, null, 0.17289219796657562, 0.07853081077337265, null, 0.17289219796657562, 0.1729070246219635, null, 0.17289219796657562, 0.22762714326381683, null, 0.17289219796657562, 0.23899291455745697, null, 0.17289219796657562, 0.17236538231372833, null, 0.17289219796657562, 0.21311792731285095, null, 0.17289219796657562, 0.20838195085525513, null, 0.17289219796657562, 0.13576169312000275, null, 0.17289219796657562, 0.23158220946788788, null, 0.14812950789928436, 0.31743231415748596, null, 0.14812950789928436, 0.03125860169529915, null, 0.14812950789928436, 0.17236538231372833, null, 0.2504124641418457, 0.31870344281196594, null, 0.2504124641418457, 0.23899291455745697, null, 0.2153359204530716, 0.21311792731285095, null, 0.21311792731285095, 0.23533451557159424, null, 0.21311792731285095, 0.2849445044994354, null, 0.21311792731285095, 0.30054864287376404, null, 0.21311792731285095, 0.33109092712402344, null, 0.21311792731285095, 0.23899291455745697, null, 0.21311792731285095, 0.20838195085525513, null, 0.14642678201198578, 0.10091730207204819, null, 0.14642678201198578, 0.14281044900417328, null, 0.14642678201198578, 0.16889840364456177, null, 0.14642678201198578, 0.1780320107936859, null, 0.01136659923940897, -0.0752820149064064, null, 0.01136659923940897, -0.05591224506497383, null, 0.01136659923940897, -0.06516290456056595, null, -0.40734758973121643, -0.07667077332735062, null, -0.07667077332735062, 0.08064685761928558, null, 0.21104441583156586, 0.21452966332435608, null, -0.5432934761047363, -0.4631698727607727, null, -0.4631698727607727, -0.32962873578071594, null, -0.4631698727607727, -0.5332283973693848, null, -0.4631698727607727, -0.544169008731842, null, -0.4631698727607727, -0.42568057775497437, null, 0.14281044900417328, 0.1232321634888649, null, 0.14281044900417328, 0.18544070422649384, null, 0.14281044900417328, 0.1331423819065094, null, 0.14281044900417328, 0.06288395076990128, null, 0.14281044900417328, 0.23158220946788788, null, 0.14281044900417328, 0.07056128978729248, null, 0.05519169941544533, -0.03772431239485741, null, 0.05519169941544533, -0.06433770805597305, null, 0.2126850187778473, 0.1823323667049408, null, 0.15923801064491272, 0.1823323667049408, null, 0.15923801064491272, 0.17236538231372833, null, 0.1780320107936859, 0.25259706377983093, null, 0.1780320107936859, 0.13501764833927155, null, 0.10904636979103088, 0.1801508367061615, null, 0.10904636979103088, 0.11735996603965759, null, 0.10904636979103088, 0.01569863222539425, null, 0.10904636979103088, 0.15497617423534393, null, 0.24957303702831268, 0.2526095509529114, null, 0.06591888517141342, 0.03125860169529915, null, 0.06591888517141342, 0.040750667452812195, null, 0.06591888517141342, 0.08064685761928558, null, -0.03676570579409599, -0.03945664316415787, null, -0.03945664316415787, -0.061967138200998306, null, -0.03945664316415787, -0.06944058835506439, null, -0.03945664316415787, -0.07553400099277496, null, -0.28878703713417053, -0.3977054953575134, null, -0.28878703713417053, -0.424801230430603, null, 0.14014896750450134, 0.17518344521522522, null, 0.14014896750450134, 0.17236538231372833, null, -0.8180791735649109, -0.830120325088501, null, -0.8888848423957825, -0.830120325088501, null, -0.830120325088501, -0.8103094696998596, null, 0.2029961794614792, 0.20609070360660553, null, 0.20609070360660553, 0.21452966332435608, null, 0.08726152032613754, 0.25499802827835083, null, -0.009104898199439049, -0.057180341333150864, null, 0.555986762046814, 0.45815905928611755, null, 0.45815905928611755, 0.3801974058151245, null, 0.027158593758940697, 0.040750667452812195, null, 0.027158593758940697, 0.08064685761928558, null, 0.040750667452812195, 0.03125860169529915, null, 0.040750667452812195, 0.08064685761928558, null, 0.08064685761928558, -0.004268338438123465, null, 0.08064685761928558, 0.11735996603965759, null, 0.08064685761928558, 0.27349740266799927, null, 0.08064685761928558, 0.03125860169529915, null, 0.31743231415748596, 0.3035256862640381, null, 0.31743231415748596, 0.4496062695980072, null, 0.31743231415748596, 0.3081916570663452, null, 0.3035256862640381, 0.2526095509529114, null, 0.3035256862640381, 0.3081916570663452, null, 0.3081916570663452, 0.27906209230422974, null, 0.3081916570663452, 0.2426975667476654, null, -0.057180341333150864, -0.09214497357606888, null, -0.057180341333150864, -0.023103490471839905, null, -0.057180341333150864, -0.04420581832528114, null, -0.057180341333150864, -0.09445608407258987, null, 0.2153521329164505, 0.17236538231372833, null, 0.17236538231372833, 0.17518344521522522, null, 0.17236538231372833, 0.16889840364456177, null, 0.04467451572418213, -0.061967138200998306, null, 0.04467451572418213, 0.007856263779103756, null, -0.061967138200998306, -0.1595851480960846, null, -0.061967138200998306, -0.06944058835506439, null, -0.061967138200998306, -0.07553400099277496, null, 0.007856263779103756, -0.023449208587408066, null, 0.17518344521522522, 0.15683068335056305, null, 0.17518344521522522, 0.23211531341075897, null, 0.33292075991630554, 0.25499802827835083, null, 0.25499802827835083, 0.30824288725852966, null, 0.25499802827835083, 0.3082329332828522, null, 0.1801508367061615, 0.20095714926719666, null, 0.1801508367061615, 0.15497617423534393, null, 0.1801508367061615, 0.21092113852500916, null, 0.1801508367061615, 0.22724668681621552, null, 0.20095714926719666, 0.21092113852500916, null, 0.20095714926719666, 0.15497617423534393, null, -0.4940738081932068, -0.5745343565940857, null, -0.4940738081932068, -0.3820200264453888, null, -0.3820200264453888, -0.24491183459758759, null, 0.21452966332435608, 0.23139330744743347, null, -0.36215388774871826, -0.6085419058799744, null, -0.36215388774871826, -0.29748377203941345, null, -0.36215388774871826, -0.4548599123954773, null, -0.07813003659248352, 0.1464138776063919, null, -0.07813003659248352, -0.23649214208126068, null, 0.1464138776063919, 0.38038185238838196, null, -0.6085419058799744, -0.7058454751968384, null, -0.6085419058799744, -0.7142499685287476, null, -0.6085419058799744, -0.6754298210144043, null, -0.7142499685287476, -0.6936671137809753, null, -0.7142499685287476, -0.7277053594589233, null, -0.7142499685287476, -0.6754298210144043, null, -0.7142499685287476, -0.6933042407035828, null, -0.7142499685287476, -0.8106333017349243, null, -0.7142499685287476, -0.6863099932670593, null, -0.6754298210144043, -0.7337723970413208, null, -0.6754298210144043, -0.6933042407035828, null, 0.11735996603965759, 0.27349740266799927, null, 0.27349740266799927, 0.3801974058151245, null, 0.27349740266799927, 0.36616894602775574, null, 0.27349740266799927, 0.3343648612499237, null, 0.27349740266799927, 0.4213970899581909, null, -0.4298054575920105, -0.329781711101532, null, -0.329781711101532, -0.4208909571170807, null, -0.329781711101532, -0.41171160340309143, null, 0.678316056728363, 0.639672577381134, null, 0.678316056728363, 0.6541364789009094, null, 0.678316056728363, 0.6416405439376831, null, 0.6541364789009094, 0.6450272798538208, null, 0.6541364789009094, 0.6066725850105286, null, 0.6541364789009094, 0.6416405439376831, null, 0.6541364789009094, 0.6449047327041626, null, 0.7035064101219177, 0.6449047327041626, null, 0.7035064101219177, 0.6416405439376831, null, 0.6416405439376831, 0.6450272798538208, null, 0.6416405439376831, 0.6449047327041626, null, 0.6416405439376831, 0.6066725850105286, null, 0.6416405439376831, 0.6286208033561707, null, 0.3801974058151245, 0.5016692876815796, null, 0.3801974058151245, 0.4953173100948334, null, 0.3801974058151245, 0.36616894602775574, null, 0.36616894602775574, 0.3343648612499237, null, 0.36616894602775574, 0.4213970899581909, null, -0.37738215923309326, -0.3386225402355194, null, -0.37738215923309326, -0.3588908314704895, null, -0.37738215923309326, -0.371245801448822, null, -0.3386225402355194, -0.29748377203941345, null, -0.3386225402355194, -0.3588908314704895, null, -0.3641955554485321, -0.29748377203941345, null, -0.3588908314704895, -0.29748377203941345, null, -0.09214497357606888, -0.08830595016479492, null, 0.7345651984214783, 0.6811219453811646, null, 0.7345651984214783, 0.6751328706741333, null, 0.7345651984214783, 0.6776502728462219, null, -0.023449208587408066, -0.06667713820934296, null, -0.06667713820934296, -0.09057704359292984, null, 0.23899291455745697, 0.3064233958721161, null, 0.23899291455745697, 0.29225724935531616, null, 0.23899291455745697, 0.2743285000324249, null, 0.23533451557159424, 0.2743285000324249, null, 0.23533451557159424, 0.29225724935531616, null, 0.23533451557159424, 0.3064233958721161, null, 0.22762714326381683, 0.2849445044994354, null, 0.415025532245636, 0.41281792521476746, null, 0.3343648612499237, 0.4213970899581909, null, 0.3343648612499237, 0.4199216365814209, null, 0.4213970899581909, 0.5469098687171936, null, 0.2743285000324249, 0.3598170280456543, null, 0.2743285000324249, 0.29225724935531616, null, 0.29225724935531616, 0.3598170280456543, null, 0.29225724935531616, 0.3316211700439453, null, -0.32962873578071594, -0.42568057775497437, null, -0.6936671137809753, -0.7277053594589233, null, -0.05591224506497383, -0.10700365155935287, null, -0.05591224506497383, -0.14754553139209747, null, -0.05591224506497383, -0.05120797082781792, null, -0.05591224506497383, 0.01535513624548912, null, -0.3532125949859619, -0.09809742122888565, null, -0.6734359264373779, -0.7585594058036804, null, 0.35491451621055603, 0.4484100043773651, null, -0.03772431239485741, -0.06433770805597305, null, -0.29748377203941345, -0.3803325295448303, null, -0.29748377203941345, -0.371245801448822, null, 0.30824288725852966, 0.2674677073955536, null, 0.3082329332828522, 0.2674677073955536, null, -0.8324607014656067, -0.907864511013031, null, -0.3977054953575134, -0.424801230430603, null, -0.424801230430603, -0.5212740898132324, null, 0.33109092712402344, 0.4199216365814209, null, 0.639672577381134, 0.5266519784927368, null, 0.5266519784927368, 0.38038185238838196, null, 0.5297518968582153, 0.6066725850105286, null, 0.5297518968582153, 0.38038185238838196, null, -0.08261267840862274, -0.09584152698516846, null, -0.08261267840862274, -0.0663561224937439, null, 0.4445822536945343, 0.4456891715526581, null, 0.23694755136966705, 0.24380557239055634, null, 0.23694755136966705, 0.19414791464805603, null, 0.24380557239055634, 0.19414791464805603, null, 0.24380557239055634, 0.22213907539844513, null, 0.19414791464805603, 0.22213907539844513, null, -0.10700365155935287, -0.05120797082781792, null, -0.1115570217370987, -0.15824881196022034, null, -0.05120797082781792, -0.05120797082781792, null, 0.03125860169529915, -0.04914567992091179, null, 0.2526095509529114, 0.2713949382305145, null, 0.2526095509529114, 0.35883963108062744, null, 0.4560004472732544, 0.39007577300071716, null, 0.39007577300071716, 0.29211297631263733, null, 0.31630125641822815, 0.43243882060050964, null, -0.06944058835506439, -0.07553400099277496, null, 0.3598170280456543, 0.4676380753517151, null, -0.14754553139209747, -0.09725174307823181, null, -0.09725174307823181, -0.19891631603240967, null, -0.907864511013031, -0.9406737089157104, null, 0.29211297631263733, 0.15722715854644775, null, 0.29211297631263733, 0.35159939527511597, null, 0.3110803961753845, 0.40090930461883545, null, -0.5699374675750732, -0.5699374675750732, null]}, {\"hoverinfo\": \"text\", \"marker\": {\"color\": [6, 10, 15, 2, 27, 9, 17, 2, 133, 47, 3, 31, 11, 10, 7, 10, 7, 19, 7, 3, 12, 8, 9, 2, 5, 15, 51, 21, 1, 4, 2, 17, 2, 1, 2, 5, 7, 6, 3, 10, 59, 7, 4, 4, 4, 22, 3, 4, 5, 2, 22, 2, 7, 4, 28, 32, 37, 3, 26, 5, 14, 21, 26, 20, 43, 10, 55, 25, 31, 47, 14, 5, 12, 14, 16, 56, 11, 33, 2, 4, 7, 6, 6, 10, 12, 6, 7, 5, 3, 5, 6, 1, 1, 2, 1, 47, 4, 35, 12, 15, 12, 13, 12, 12, 22, 13, 11, 22, 13, 12, 16, 8, 10, 5, 1, 5, 5, 8, 13, 8, 6, 9, 8, 1, 13, 9, 2, 4, 10, 12, 5, 3, 6, 6, 3, 16, 6, 2, 10, 23, 5, 6, 9, 13, 8, 3, 9, 5, 1, 9, 1, 1, 9, 3, 11, 7, 1, 6, 1, 4, 25, 4, 6, 26, 6, 8, 15, 8, 6, 13, 10, 4, 2, 5, 12, 8, 7, 11, 8, 29, 6, 6, 9, 4, 8, 7, 7, 7, 8, 3, 4, 2, 22, 6, 4, 4, 8, 8, 8, 6, 6, 6, 4, 6, 2, 17, 4, 5, 15, 13, 2, 1, 15, 15, 10, 4, 14, 3, 30, 6, 11, 3, 10, 9, 30, 23, 7, 22, 10, 3, 29, 4, 1, 2, 1, 1, 1, 2, 3, 6, 10, 2, 12, 11, 4, 5, 5, 10, 1, 4, 16, 8, 10, 9, 6, 7, 1, 4, 1, 3, 2, 1, 7, 2, 2, 10, 2, 3, 1, 2, 1, 3, 1, 1, 14, 3, 5, 3, 1, 2, 2, 10, 12, 1, 3, 10, 8, 8, 9, 12, 8, 8, 9, 8, 7, 10, 22, 7, 3, 10, 31, 15, 9, 6, 24, 23, 3, 8, 2, 5, 2, 3, 2, 1, 3, 2, 3, 1, 1, 5, 15, 4, 12, 5, 5, 16, 5, 9, 3, 5, 8, 4, 3, 6, 1, 3, 3, 7, 9, 3, 8, 3, 2, 6, 3, 1, 2, 4, 5, 1, 3, 2, 6, 13, 6, 5, 1, 7, 3, 9, 5, 17, 8, 6, 6, 4, 14, 2, 3, 4, 2, 1, 4, 5, 3, 3, 2, 1, 2, 1, 2, 3, 1, 1, 1, 1, 2, 5, 4, 5, 2, 5, 1, 7, 4, 13, 8, 5, 7, 3, 3, 2, 2, 5, 3, 3, 4, 2, 4, 4, 8, 4, 11, 8, 1, 1, 6, 1, 6, 7, 3, 5, 2, 3, 2, 6, 7, 3, 2, 2, 2, 3, 2, 14, 12, 6, 2, 2, 7, 4, 10, 7, 2, 2, 3, 1, 2, 2, 3, 1, 1, 2, 5, 5, 6, 4, 3, 3, 5, 8, 2, 4, 5, 1, 2, 7, 2, 1, 4, 2, 1, 3, 2, 1, 8, 2, 5, 1, 1, 1, 8, 8, 1, 3, 1, 3, 3, 2, 3, 4, 2, 3, 3, 1, 1, 3, 3, 2, 2, 1, 3, 5, 3, 3, 2, 4, 4, 2, 2, 2, 3, 4, 1, 2, 1, 1, 2, 1, 2, 1, 5, 1, 3, 1, 2, 5, 7, 1, 9, 1, 3, 2, 3, 2, 1, 7, 5, 1, 2, 1, 1, 1, 2, 1, 1, 1, 2, 2, 3, 2, 2, 2, 1, 1, 2, 1, 1, 1, 2, 1, 1, 1, 5, 1, 4, 4, 1, 4, 1, 2, 3, 3, 1, 6, 4, 6, 2, 3, 2, 1, 1, 1, 2, 3, 1, 1, 4, 1, 1, 1, 1, 3, 2, 1, 1, 2, 1, 1, 1, 1, 1, 1, 1, 1, 1, 1, 2, 2, 1, 1, 3, 1, 1, 1, 1, 1, 1, 1, 1, 2], \"colorbar\": {\"thickness\": 15, \"title\": {\"side\": \"right\", \"text\": \"Node Connections\"}, \"xanchor\": \"left\"}, \"colorscale\": [[0.0, \"rgb(255,255,217)\"], [0.125, \"rgb(237,248,177)\"], [0.25, \"rgb(199,233,180)\"], [0.375, \"rgb(127,205,187)\"], [0.5, \"rgb(65,182,196)\"], [0.625, \"rgb(29,145,192)\"], [0.75, \"rgb(34,94,168)\"], [0.875, \"rgb(37,52,148)\"], [1.0, \"rgb(8,29,88)\"]], \"line\": {\"width\": 2}, \"reversescale\": true, \"showscale\": true, \"size\": 10}, \"mode\": \"markers\", \"text\": [\"Node 0, # of connections: 6\", \"Node 276, # of connections: 10\", \"Node 58, # of connections: 15\", \"Node 132, # of connections: 2\", \"Node 603, # of connections: 27\", \"Node 398, # of connections: 9\", \"Node 555, # of connections: 17\", \"Node 1, # of connections: 2\", \"Node 265, # of connections: 133\", \"Node 611, # of connections: 47\", \"Node 2, # of connections: 3\", \"Node 182, # of connections: 31\", \"Node 345, # of connections: 11\", \"Node 3, # of connections: 10\", \"Node 608, # of connections: 7\", \"Node 377, # of connections: 10\", \"Node 40, # of connections: 7\", \"Node 352, # of connections: 19\", \"Node 450, # of connections: 7\", \"Node 484, # of connections: 3\", \"Node 299, # of connections: 12\", \"Node 65, # of connections: 8\", \"Node 185, # of connections: 9\", \"Node 228, # of connections: 2\", \"Node 557, # of connections: 5\", \"Node 227, # of connections: 15\", \"Node 90, # of connections: 51\", \"Node 151, # of connections: 21\", \"Node 394, # of connections: 1\", \"Node 4, # of connections: 4\", \"Node 287, # of connections: 2\", \"Node 254, # of connections: 17\", \"Node 336, # of connections: 2\", \"Node 5, # of connections: 1\", \"Node 503, # of connections: 2\", \"Node 6, # of connections: 5\", \"Node 429, # of connections: 7\", \"Node 163, # of connections: 6\", \"Node 486, # of connections: 3\", \"Node 478, # of connections: 10\", \"Node 518, # of connections: 59\", \"Node 7, # of connections: 7\", \"Node 293, # of connections: 4\", \"Node 305, # of connections: 4\", \"Node 339, # of connections: 4\", \"Node 35, # of connections: 22\", \"Node 444, # of connections: 3\", \"Node 583, # of connections: 4\", \"Node 8, # of connections: 5\", \"Node 278, # of connections: 2\", \"Node 434, # of connections: 22\", \"Node 73, # of connections: 2\", \"Node 98, # of connections: 7\", \"Node 369, # of connections: 4\", \"Node 9, # of connections: 28\", \"Node 317, # of connections: 32\", \"Node 288, # of connections: 37\", \"Node 206, # of connections: 3\", \"Node 289, # of connections: 26\", \"Node 249, # of connections: 5\", \"Node 593, # of connections: 14\", \"Node 550, # of connections: 21\", \"Node 131, # of connections: 26\", \"Node 446, # of connections: 20\", \"Node 89, # of connections: 43\", \"Node 15, # of connections: 10\", \"Node 340, # of connections: 55\", \"Node 248, # of connections: 25\", \"Node 229, # of connections: 31\", \"Node 56, # of connections: 47\", \"Node 570, # of connections: 14\", \"Node 189, # of connections: 5\", \"Node 107, # of connections: 12\", \"Node 23, # of connections: 14\", \"Node 465, # of connections: 16\", \"Node 67, # of connections: 56\", \"Node 351, # of connections: 11\", \"Node 498, # of connections: 33\", \"Node 10, # of connections: 2\", \"Node 393, # of connections: 4\", \"Node 258, # of connections: 7\", \"Node 11, # of connections: 6\", \"Node 212, # of connections: 6\", \"Node 485, # of connections: 10\", \"Node 264, # of connections: 12\", \"Node 380, # of connections: 6\", \"Node 174, # of connections: 7\", \"Node 259, # of connections: 5\", \"Node 12, # of connections: 3\", \"Node 548, # of connections: 5\", \"Node 618, # of connections: 6\", \"Node 310, # of connections: 1\", \"Node 13, # of connections: 1\", \"Node 14, # of connections: 2\", \"Node 326, # of connections: 1\", \"Node 70, # of connections: 47\", \"Node 454, # of connections: 4\", \"Node 505, # of connections: 35\", \"Node 43, # of connections: 12\", \"Node 432, # of connections: 15\", \"Node 16, # of connections: 12\", \"Node 516, # of connections: 13\", \"Node 119, # of connections: 12\", \"Node 400, # of connections: 12\", \"Node 545, # of connections: 22\", \"Node 334, # of connections: 13\", \"Node 237, # of connections: 11\", \"Node 374, # of connections: 22\", \"Node 117, # of connections: 13\", \"Node 274, # of connections: 12\", \"Node 613, # of connections: 16\", \"Node 466, # of connections: 8\", \"Node 75, # of connections: 10\", \"Node 17, # of connections: 5\", \"Node 18, # of connections: 1\", \"Node 408, # of connections: 5\", \"Node 418, # of connections: 5\", \"Node 581, # of connections: 8\", \"Node 143, # of connections: 13\", \"Node 599, # of connections: 8\", \"Node 20, # of connections: 6\", \"Node 324, # of connections: 9\", \"Node 355, # of connections: 8\", \"Node 481, # of connections: 1\", \"Node 238, # of connections: 13\", \"Node 242, # of connections: 9\", \"Node 160, # of connections: 2\", \"Node 21, # of connections: 4\", \"Node 441, # of connections: 10\", \"Node 329, # of connections: 12\", \"Node 22, # of connections: 5\", \"Node 270, # of connections: 3\", \"Node 187, # of connections: 6\", \"Node 104, # of connections: 6\", \"Node 420, # of connections: 3\", \"Node 128, # of connections: 16\", \"Node 257, # of connections: 6\", \"Node 277, # of connections: 2\", \"Node 157, # of connections: 10\", \"Node 343, # of connections: 23\", \"Node 54, # of connections: 5\", \"Node 24, # of connections: 6\", \"Node 547, # of connections: 9\", \"Node 230, # of connections: 13\", \"Node 502, # of connections: 8\", \"Node 306, # of connections: 3\", \"Node 501, # of connections: 9\", \"Node 591, # of connections: 5\", \"Node 25, # of connections: 1\", \"Node 363, # of connections: 9\", \"Node 26, # of connections: 1\", \"Node 27, # of connections: 1\", \"Node 424, # of connections: 9\", \"Node 28, # of connections: 3\", \"Node 147, # of connections: 11\", \"Node 527, # of connections: 7\", \"Node 29, # of connections: 1\", \"Node 49, # of connections: 6\", \"Node 30, # of connections: 1\", \"Node 126, # of connections: 4\", \"Node 31, # of connections: 25\", \"Node 285, # of connections: 4\", \"Node 543, # of connections: 6\", \"Node 357, # of connections: 26\", \"Node 507, # of connections: 6\", \"Node 508, # of connections: 8\", \"Node 491, # of connections: 15\", \"Node 169, # of connections: 8\", \"Node 595, # of connections: 6\", \"Node 41, # of connections: 13\", \"Node 63, # of connections: 10\", \"Node 327, # of connections: 4\", \"Node 266, # of connections: 2\", \"Node 48, # of connections: 5\", \"Node 179, # of connections: 12\", \"Node 546, # of connections: 8\", \"Node 142, # of connections: 7\", \"Node 449, # of connections: 11\", \"Node 269, # of connections: 8\", \"Node 524, # of connections: 29\", \"Node 488, # of connections: 6\", \"Node 515, # of connections: 6\", \"Node 193, # of connections: 9\", \"Node 315, # of connections: 4\", \"Node 32, # of connections: 8\", \"Node 183, # of connections: 7\", \"Node 364, # of connections: 7\", \"Node 159, # of connections: 7\", \"Node 300, # of connections: 8\", \"Node 504, # of connections: 3\", \"Node 118, # of connections: 4\", \"Node 430, # of connections: 2\", \"Node 164, # of connections: 22\", \"Node 165, # of connections: 6\", \"Node 127, # of connections: 4\", \"Node 395, # of connections: 4\", \"Node 596, # of connections: 8\", \"Node 79, # of connections: 8\", \"Node 448, # of connections: 8\", \"Node 335, # of connections: 6\", \"Node 307, # of connections: 6\", \"Node 572, # of connections: 6\", \"Node 313, # of connections: 4\", \"Node 45, # of connections: 6\", \"Node 532, # of connections: 2\", \"Node 526, # of connections: 17\", \"Node 552, # of connections: 4\", \"Node 517, # of connections: 5\", \"Node 181, # of connections: 15\", \"Node 558, # of connections: 13\", \"Node 519, # of connections: 2\", \"Node 462, # of connections: 1\", \"Node 224, # of connections: 15\", \"Node 235, # of connections: 15\", \"Node 536, # of connections: 10\", \"Node 403, # of connections: 4\", \"Node 195, # of connections: 14\", \"Node 388, # of connections: 3\", \"Node 87, # of connections: 30\", \"Node 34, # of connections: 6\", \"Node 419, # of connections: 11\", \"Node 373, # of connections: 3\", \"Node 208, # of connections: 10\", \"Node 383, # of connections: 9\", \"Node 389, # of connections: 30\", \"Node 597, # of connections: 23\", \"Node 338, # of connections: 7\", \"Node 601, # of connections: 22\", \"Node 439, # of connections: 10\", \"Node 615, # of connections: 3\", \"Node 198, # of connections: 29\", \"Node 243, # of connections: 4\", \"Node 36, # of connections: 1\", \"Node 490, # of connections: 2\", \"Node 37, # of connections: 1\", \"Node 38, # of connections: 1\", \"Node 411, # of connections: 1\", \"Node 344, # of connections: 2\", \"Node 333, # of connections: 3\", \"Node 538, # of connections: 6\", \"Node 240, # of connections: 10\", \"Node 594, # of connections: 2\", \"Node 397, # of connections: 12\", \"Node 62, # of connections: 11\", \"Node 109, # of connections: 4\", \"Node 321, # of connections: 5\", \"Node 121, # of connections: 5\", \"Node 282, # of connections: 10\", \"Node 42, # of connections: 1\", \"Node 467, # of connections: 4\", \"Node 253, # of connections: 16\", \"Node 102, # of connections: 8\", \"Node 360, # of connections: 10\", \"Node 577, # of connections: 9\", \"Node 39, # of connections: 6\", \"Node 83, # of connections: 7\", \"Node 44, # of connections: 1\", \"Node 180, # of connections: 4\", \"Node 496, # of connections: 1\", \"Node 331, # of connections: 3\", \"Node 209, # of connections: 2\", \"Node 520, # of connections: 1\", \"Node 46, # of connections: 7\", \"Node 417, # of connections: 2\", \"Node 86, # of connections: 2\", \"Node 578, # of connections: 10\", \"Node 110, # of connections: 2\", \"Node 47, # of connections: 3\", \"Node 475, # of connections: 1\", \"Node 500, # of connections: 2\", \"Node 512, # of connections: 1\", \"Node 71, # of connections: 3\", \"Node 196, # of connections: 1\", \"Node 188, # of connections: 1\", \"Node 50, # of connections: 14\", \"Node 544, # of connections: 3\", \"Node 171, # of connections: 5\", \"Node 483, # of connections: 3\", \"Node 562, # of connections: 1\", \"Node 330, # of connections: 2\", \"Node 52, # of connections: 2\", \"Node 113, # of connections: 10\", \"Node 494, # of connections: 12\", \"Node 53, # of connections: 1\", \"Node 122, # of connections: 3\", \"Node 275, # of connections: 10\", \"Node 55, # of connections: 8\", \"Node 210, # of connections: 8\", \"Node 158, # of connections: 9\", \"Node 154, # of connections: 12\", \"Node 437, # of connections: 8\", \"Node 252, # of connections: 8\", \"Node 78, # of connections: 9\", \"Node 452, # of connections: 8\", \"Node 214, # of connections: 7\", \"Node 68, # of connections: 10\", \"Node 116, # of connections: 22\", \"Node 479, # of connections: 7\", \"Node 359, # of connections: 3\", \"Node 130, # of connections: 10\", \"Node 217, # of connections: 31\", \"Node 584, # of connections: 15\", \"Node 375, # of connections: 9\", \"Node 60, # of connections: 6\", \"Node 350, # of connections: 24\", \"Node 616, # of connections: 23\", \"Node 617, # of connections: 3\", \"Node 244, # of connections: 8\", \"Node 57, # of connections: 2\", \"Node 148, # of connections: 5\", \"Node 537, # of connections: 2\", \"Node 302, # of connections: 3\", \"Node 59, # of connections: 2\", \"Node 61, # of connections: 1\", \"Node 392, # of connections: 3\", \"Node 139, # of connections: 2\", \"Node 602, # of connections: 3\", \"Node 64, # of connections: 1\", \"Node 66, # of connections: 1\", \"Node 141, # of connections: 5\", \"Node 245, # of connections: 15\", \"Node 291, # of connections: 4\", \"Node 323, # of connections: 12\", \"Node 440, # of connections: 5\", \"Node 445, # of connections: 5\", \"Node 372, # of connections: 16\", \"Node 325, # of connections: 5\", \"Node 146, # of connections: 9\", \"Node 410, # of connections: 3\", \"Node 531, # of connections: 5\", \"Node 469, # of connections: 8\", \"Node 416, # of connections: 4\", \"Node 69, # of connections: 3\", \"Node 385, # of connections: 6\", \"Node 205, # of connections: 1\", \"Node 72, # of connections: 3\", \"Node 170, # of connections: 3\", \"Node 473, # of connections: 7\", \"Node 342, # of connections: 9\", \"Node 495, # of connections: 3\", \"Node 155, # of connections: 8\", \"Node 525, # of connections: 3\", \"Node 115, # of connections: 2\", \"Node 145, # of connections: 6\", \"Node 241, # of connections: 3\", \"Node 77, # of connections: 1\", \"Node 379, # of connections: 2\", \"Node 414, # of connections: 4\", \"Node 85, # of connections: 5\", \"Node 80, # of connections: 1\", \"Node 138, # of connections: 3\", \"Node 81, # of connections: 2\", \"Node 290, # of connections: 6\", \"Node 563, # of connections: 13\", \"Node 82, # of connections: 6\", \"Node 261, # of connections: 5\", \"Node 409, # of connections: 1\", \"Node 451, # of connections: 7\", \"Node 84, # of connections: 3\", \"Node 292, # of connections: 9\", \"Node 175, # of connections: 5\", \"Node 576, # of connections: 17\", \"Node 580, # of connections: 8\", \"Node 88, # of connections: 6\", \"Node 460, # of connections: 6\", \"Node 474, # of connections: 4\", \"Node 136, # of connections: 14\", \"Node 221, # of connections: 2\", \"Node 569, # of connections: 3\", \"Node 413, # of connections: 4\", \"Node 91, # of connections: 2\", \"Node 92, # of connections: 1\", \"Node 186, # of connections: 4\", \"Node 93, # of connections: 5\", \"Node 103, # of connections: 3\", \"Node 567, # of connections: 3\", \"Node 94, # of connections: 2\", \"Node 614, # of connections: 1\", \"Node 95, # of connections: 2\", \"Node 492, # of connections: 1\", \"Node 523, # of connections: 2\", \"Node 96, # of connections: 3\", \"Node 211, # of connections: 1\", \"Node 97, # of connections: 1\", \"Node 74, # of connections: 1\", \"Node 295, # of connections: 1\", \"Node 471, # of connections: 2\", \"Node 216, # of connections: 5\", \"Node 99, # of connections: 4\", \"Node 605, # of connections: 5\", \"Node 431, # of connections: 2\", \"Node 108, # of connections: 5\", \"Node 100, # of connections: 1\", \"Node 101, # of connections: 7\", \"Node 124, # of connections: 4\", \"Node 311, # of connections: 13\", \"Node 152, # of connections: 8\", \"Node 232, # of connections: 5\", \"Node 134, # of connections: 7\", \"Node 480, # of connections: 3\", \"Node 256, # of connections: 3\", \"Node 348, # of connections: 2\", \"Node 105, # of connections: 2\", \"Node 521, # of connections: 5\", \"Node 106, # of connections: 3\", \"Node 320, # of connections: 3\", \"Node 111, # of connections: 4\", \"Node 112, # of connections: 2\", \"Node 559, # of connections: 4\", \"Node 358, # of connections: 4\", \"Node 319, # of connections: 8\", \"Node 222, # of connections: 4\", \"Node 522, # of connections: 11\", \"Node 114, # of connections: 8\", \"Node 200, # of connections: 1\", \"Node 201, # of connections: 1\", \"Node 184, # of connections: 6\", \"Node 366, # of connections: 1\", \"Node 535, # of connections: 6\", \"Node 220, # of connections: 7\", \"Node 362, # of connections: 3\", \"Node 427, # of connections: 5\", \"Node 120, # of connections: 2\", \"Node 433, # of connections: 3\", \"Node 553, # of connections: 2\", \"Node 123, # of connections: 6\", \"Node 347, # of connections: 7\", \"Node 125, # of connections: 3\", \"Node 565, # of connections: 2\", \"Node 308, # of connections: 2\", \"Node 423, # of connections: 2\", \"Node 529, # of connections: 3\", \"Node 412, # of connections: 2\", \"Node 404, # of connections: 14\", \"Node 135, # of connections: 12\", \"Node 510, # of connections: 6\", \"Node 133, # of connections: 2\", \"Node 407, # of connections: 2\", \"Node 456, # of connections: 7\", \"Node 251, # of connections: 4\", \"Node 458, # of connections: 10\", \"Node 386, # of connections: 7\", \"Node 281, # of connections: 2\", \"Node 422, # of connections: 2\", \"Node 568, # of connections: 3\", \"Node 239, # of connections: 1\", \"Node 455, # of connections: 2\", \"Node 140, # of connections: 2\", \"Node 461, # of connections: 3\", \"Node 51, # of connections: 1\", \"Node 280, # of connections: 1\", \"Node 574, # of connections: 2\", \"Node 172, # of connections: 5\", \"Node 144, # of connections: 5\", \"Node 150, # of connections: 6\", \"Node 354, # of connections: 4\", \"Node 438, # of connections: 3\", \"Node 279, # of connections: 3\", \"Node 149, # of connections: 5\", \"Node 368, # of connections: 8\", \"Node 472, # of connections: 2\", \"Node 382, # of connections: 4\", \"Node 137, # of connections: 5\", \"Node 153, # of connections: 1\", \"Node 129, # of connections: 2\", \"Node 223, # of connections: 7\", \"Node 533, # of connections: 2\", \"Node 156, # of connections: 1\", \"Node 585, # of connections: 4\", \"Node 604, # of connections: 2\", \"Node 161, # of connections: 1\", \"Node 162, # of connections: 3\", \"Node 610, # of connections: 2\", \"Node 561, # of connections: 1\", \"Node 176, # of connections: 8\", \"Node 337, # of connections: 2\", \"Node 166, # of connections: 5\", \"Node 167, # of connections: 1\", \"Node 168, # of connections: 1\", \"Node 406, # of connections: 1\", \"Node 202, # of connections: 8\", \"Node 459, # of connections: 8\", \"Node 173, # of connections: 1\", \"Node 318, # of connections: 3\", \"Node 301, # of connections: 1\", \"Node 497, # of connections: 3\", \"Node 177, # of connections: 3\", \"Node 178, # of connections: 2\", \"Node 539, # of connections: 3\", \"Node 476, # of connections: 4\", \"Node 246, # of connections: 2\", \"Node 463, # of connections: 3\", \"Node 356, # of connections: 3\", \"Node 514, # of connections: 1\", \"Node 190, # of connections: 1\", \"Node 191, # of connections: 3\", \"Node 250, # of connections: 3\", \"Node 192, # of connections: 2\", \"Node 371, # of connections: 2\", \"Node 273, # of connections: 1\", \"Node 194, # of connections: 3\", \"Node 619, # of connections: 5\", \"Node 226, # of connections: 3\", \"Node 199, # of connections: 3\", \"Node 316, # of connections: 2\", \"Node 566, # of connections: 4\", \"Node 426, # of connections: 4\", \"Node 203, # of connections: 2\", \"Node 435, # of connections: 2\", \"Node 204, # of connections: 2\", \"Node 540, # of connections: 3\", \"Node 215, # of connections: 4\", \"Node 207, # of connections: 1\", \"Node 33, # of connections: 2\", \"Node 213, # of connections: 1\", \"Node 534, # of connections: 1\", \"Node 405, # of connections: 2\", \"Node 402, # of connections: 1\", \"Node 589, # of connections: 2\", \"Node 218, # of connections: 1\", \"Node 365, # of connections: 5\", \"Node 542, # of connections: 1\", \"Node 262, # of connections: 3\", \"Node 376, # of connections: 1\", \"Node 443, # of connections: 2\", \"Node 470, # of connections: 5\", \"Node 225, # of connections: 7\", \"Node 493, # of connections: 1\", \"Node 436, # of connections: 9\", \"Node 370, # of connections: 1\", \"Node 442, # of connections: 3\", \"Node 453, # of connections: 2\", \"Node 509, # of connections: 3\", \"Node 549, # of connections: 2\", \"Node 396, # of connections: 1\", \"Node 361, # of connections: 7\", \"Node 554, # of connections: 5\", \"Node 231, # of connections: 1\", \"Node 425, # of connections: 2\", \"Node 233, # of connections: 1\", \"Node 234, # of connections: 1\", \"Node 236, # of connections: 1\", \"Node 322, # of connections: 2\", \"Node 247, # of connections: 1\", \"Node 560, # of connections: 1\", \"Node 255, # of connections: 1\", \"Node 284, # of connections: 2\", \"Node 263, # of connections: 2\", \"Node 271, # of connections: 3\", \"Node 341, # of connections: 2\", \"Node 312, # of connections: 2\", \"Node 346, # of connections: 2\", \"Node 349, # of connections: 1\", \"Node 384, # of connections: 1\", \"Node 588, # of connections: 2\", \"Node 309, # of connections: 1\", \"Node 464, # of connections: 1\", \"Node 267, # of connections: 1\", \"Node 268, # of connections: 2\", \"Node 482, # of connections: 1\", \"Node 272, # of connections: 1\", \"Node 296, # of connections: 1\", \"Node 598, # of connections: 5\", \"Node 582, # of connections: 1\", \"Node 587, # of connections: 4\", \"Node 571, # of connections: 4\", \"Node 283, # of connections: 1\", \"Node 260, # of connections: 4\", \"Node 294, # of connections: 1\", \"Node 286, # of connections: 2\", \"Node 499, # of connections: 3\", \"Node 303, # of connections: 3\", \"Node 528, # of connections: 1\", \"Node 421, # of connections: 6\", \"Node 612, # of connections: 4\", \"Node 328, # of connections: 6\", \"Node 297, # of connections: 2\", \"Node 298, # of connections: 3\", \"Node 575, # of connections: 2\", \"Node 564, # of connections: 1\", \"Node 304, # of connections: 1\", \"Node 314, # of connections: 1\", \"Node 447, # of connections: 2\", \"Node 609, # of connections: 3\", \"Node 332, # of connections: 1\", \"Node 391, # of connections: 1\", \"Node 353, # of connections: 4\", \"Node 401, # of connections: 1\", \"Node 607, # of connections: 1\", \"Node 367, # of connections: 1\", \"Node 381, # of connections: 1\", \"Node 387, # of connections: 3\", \"Node 530, # of connections: 2\", \"Node 390, # of connections: 1\", \"Node 600, # of connections: 1\", \"Node 399, # of connections: 2\", \"Node 197, # of connections: 1\", \"Node 19, # of connections: 1\", \"Node 415, # of connections: 1\", \"Node 506, # of connections: 1\", \"Node 428, # of connections: 1\", \"Node 489, # of connections: 1\", \"Node 378, # of connections: 1\", \"Node 590, # of connections: 1\", \"Node 76, # of connections: 1\", \"Node 606, # of connections: 1\", \"Node 487, # of connections: 2\", \"Node 457, # of connections: 2\", \"Node 468, # of connections: 1\", \"Node 477, # of connections: 1\", \"Node 579, # of connections: 3\", \"Node 511, # of connections: 1\", \"Node 513, # of connections: 1\", \"Node 592, # of connections: 1\", \"Node 573, # of connections: 1\", \"Node 586, # of connections: 1\", \"Node 541, # of connections: 1\", \"Node 551, # of connections: 1\", \"Node 219, # of connections: 1\", \"Node 556, # of connections: 2\"], \"type\": \"scatter\", \"x\": [0.1525689959526062, 0.1903471052646637, 0.1379760056734085, 0.15542742609977722, 0.07630245387554169, 0.20073974132537842, 0.13265976309776306, -0.055740099400281906, 0.01857851631939411, 0.029840223491191864, 0.03593268245458603, 0.05231720209121704, 0.06887981295585632, 0.209589883685112, 0.16721609234809875, 0.2137453258037567, 0.2517535984516144, 0.11588447540998459, 0.16815496981143951, 0.2886342406272888, 0.27947261929512024, 0.2535308003425598, 0.23844774067401886, 0.11147519946098328, 0.16349036991596222, 0.11999084055423737, 0.0773618072271347, 0.07041926681995392, 0.28292185068130493, -0.10820550471544266, -0.19689549505710602, -0.003652757266536355, -0.18896764516830444, -0.3380126655101776, -0.3152138292789459, -0.3968712091445923, -0.399475634098053, -0.3597925305366516, -0.41753003001213074, -0.3741953670978546, -0.39930230379104614, -0.03930675983428955, -0.06842874735593796, -0.0662330761551857, -0.07413864880800247, 0.0658191442489624, -0.06139116361737251, -0.05185340344905853, 0.32688984274864197, 0.5317838788032532, 0.09537920355796814, 0.45056262612342834, 0.14435923099517822, 0.5045966506004333, 0.043594520539045334, 0.05796584486961365, 0.027139024809002876, 0.1309903860092163, 0.06657794117927551, 0.02196623384952545, 0.053504493087530136, 0.043111711740493774, 0.06376970559358597, 0.06627228111028671, 0.0488005056977272, 0.04072155803442001, 0.03798501566052437, 0.03332895040512085, 0.05011247098445892, 0.07479197531938553, 0.0021560147870332003, 0.00698787672445178, 0.0312288049608469, 0.07456914335489273, 0.013216703198850155, 0.03139883652329445, 0.05467139929533005, 0.024035409092903137, 0.10752585530281067, 0.11313962191343307, 0.09181234985589981, -0.014645596034824848, 0.00466504693031311, 0.005061720032244921, 0.0008168173371814191, -0.00808453094214201, -0.02597271464765072, -0.005128304939717054, 0.249916672706604, 0.3691515624523163, 0.09610363841056824, 0.31419286131858826, 0.22297166287899017, 0.043039869517087936, 0.06661270558834076, 0.05666948854923248, 0.04629499465227127, 0.018971864134073257, 0.04201740771532059, 0.0912223532795906, -0.33428797125816345, -0.34445661306381226, -0.31938284635543823, -0.32966503500938416, -0.3029448986053467, -0.3381568193435669, -0.3216743767261505, -0.3029448986053467, -0.32982566952705383, -0.3425496220588684, -0.3139071762561798, -0.34138116240501404, -0.34979701042175293, 0.2562547028064728, -0.031428467482328415, -0.0754704400897026, -0.13399092853069305, -0.05112600699067116, -0.019937174394726753, -0.04170786216855049, 0.17676980793476105, 0.11547856777906418, 0.11434563249349594, 0.2989680767059326, 0.0724325031042099, 0.0741327777504921, 0.20427681505680084, -0.3447451591491699, -0.3212457299232483, -0.28844526410102844, -0.23505862057209015, -0.2809549868106842, -0.18158435821533203, -0.11136520653963089, -0.2844654321670532, 0.04407772794365883, 0.060869958251714706, 0.09448333829641342, 0.0035542079713195562, 0.04499755799770355, 0.11055456846952438, 0.3624359965324402, 0.3537563383579254, 0.37876906991004944, 0.4033573269844055, 0.4171462059020996, 0.3085179924964905, 0.27479851245880127, 0.20143616199493408, 0.13195538520812988, 0.4759030044078827, -0.5455626249313354, -0.42096731066703796, 0.43048062920570374, 0.36813846230506897, 0.37670934200286865, -0.14488214254379272, -0.09451726824045181, 0.5182254910469055, 0.42462974786758423, -0.2683577537536621, -0.19964076578617096, -0.3508598506450653, -0.38789424300193787, -0.3826066851615906, -0.3518569767475128, -0.3573310077190399, -0.09093606472015381, -0.3632647395133972, -0.0731813982129097, -0.4012240171432495, -0.38329270482063293, -0.2312576323747635, -0.3577687442302704, -0.2640726864337921, -0.366095632314682, -0.23260806500911713, -0.04479677230119705, -0.07268059253692627, -0.3968055546283722, -0.36279746890068054, -0.36900579929351807, -0.12420840561389923, -0.35143470764160156, -0.008030775934457779, -0.013539220206439495, -0.0074866763316094875, 0.02132723666727543, -0.0405023954808712, -0.4592437148094177, -0.4496851861476898, -0.4730702340602875, -0.3366221785545349, -0.3664356768131256, -0.4340667128562927, -0.41812020540237427, -0.3407164216041565, -0.3960433900356293, -0.38392406702041626, -0.4108901619911194, -0.4190755784511566, -0.4749460220336914, -0.43769675493240356, -0.370029091835022, -0.4654960632324219, 0.10971999168395996, 0.11115764826536179, 0.10017487406730652, 0.04143243655562401, 0.0702376738190651, 0.13748936355113983, 0.20996983349323273, 0.14697441458702087, 0.08877000212669373, 0.10381321609020233, 0.09184660762548447, 0.08551585674285889, 0.17785237729549408, 0.0687268003821373, 0.018494095653295517, 0.0013677467359229922, 0.08591116964817047, 0.0381401926279068, 0.09238434582948685, 0.05927802994847298, 0.10648907721042633, -0.01975102536380291, 0.10694535821676254, 0.08691021800041199, -0.022661356255412102, 0.07931913435459137, 0.10886329412460327, -0.6930814981460571, -0.6321948170661926, 0.09826622903347015, -0.529219388961792, -0.1507723033428192, 0.32237133383750916, 0.3224884867668152, 0.2545206546783447, 0.18935155868530273, -0.10206680744886398, -0.06330200284719467, -0.1019207164645195, -0.07709013670682907, 0.013849955052137375, -0.026666227728128433, -0.12515123188495636, 0.1715521514415741, 0.15910682082176208, 0.024011539295315742, 0.0996837168931961, 0.06897236406803131, 0.1282038688659668, -0.026107890531420708, -0.009404502809047699, -0.05688982456922531, -0.2733635902404785, -0.3627718389034271, -0.060109518468379974, -0.4230923354625702, -0.3698076903820038, -0.03940201923251152, -0.11470289528369904, -0.09515225887298584, -0.030457990244030952, -0.10455650836229324, -0.3417891561985016, -0.4311371147632599, -0.23396313190460205, -0.11027934402227402, 0.01249073725193739, -0.12840484082698822, -0.1260508894920349, 0.005998335778713226, 0.11476414650678635, -0.04931430146098137, -0.027907760813832283, -0.056436359882354736, 0.032672930508852005, 0.22244873642921448, 0.2042030245065689, 0.1895727962255478, 0.29626014828681946, 0.182865709066391, 0.06714054197072983, 0.13993437588214874, 0.13853712379932404, 0.13022930920124054, 0.09867032617330551, 0.1428350955247879, 0.1251130849123001, 0.08563106507062912, 0.1372961699962616, 0.13309729099273682, 0.05030599236488342, 0.0940312072634697, 0.08662266284227371, 0.15309187769889832, 0.09288067370653152, 0.030183719471096992, 0.04495400935411453, 0.06306464225053787, 0.10278399288654327, 0.09186612069606781, 0.09128154814243317, 0.13089030981063843, 0.13328997790813446, 0.006346456706523895, 0.014396728947758675, 0.3686954975128174, 0.14111515879631042, 0.13645443320274353, 0.22226667404174805, -0.05158960819244385, -0.48554158210754395, -0.45522773265838623, -0.04873187839984894, -0.13153789937496185, -0.17526812851428986, 0.016587670892477036, 0.0028423545882105827, 0.04208487644791603, -0.05200120806694031, -0.03396870568394661, 0.09097643196582794, 0.07531435787677765, 0.10070253163576126, -0.05503140762448311, 0.049302466213703156, -0.0310670118778944, -0.006663299631327391, 0.0075654760003089905, 0.04002397879958153, 0.15659889578819275, 0.06954110413789749, 0.08560413867235184, 0.07957680523395538, 0.08831719309091568, 0.06460684537887573, -0.010814477689564228, 0.026176372542977333, 0.013077082112431526, 0.01470690406858921, 0.03425481542944908, 0.8137637972831726, 0.7136551141738892, -0.33240845799446106, -0.4367685914039612, -0.23173284530639648, -0.16581113636493683, -0.0897613912820816, -0.0634521022439003, 0.020581068471074104, 0.0223475843667984, 0.0278007909655571, 0.00773373618721962, 0.07817395031452179, -0.2754420042037964, -0.38206619024276733, 0.036201875656843185, 0.03001329116523266, 0.03877221792936325, 0.03597131371498108, -0.019675368443131447, 0.09664762765169144, 0.08259515464305878, 0.007464433088898659, 0.09460313618183136, 0.12779448926448822, -0.020932279527187347, -0.2743264138698578, -0.17207324504852295, 0.3128449022769928, 0.37914666533470154, 0.27456578612327576, 0.42490750551223755, 0.4311458468437195, 0.2579652965068817, 0.3187669515609741, 0.17306414246559143, 0.5715925693511963, 0.6707662343978882, -0.01881977543234825, 0.2243274301290512, 0.2100532054901123, 0.1532818228006363, -0.0708993673324585, 0.08541112393140793, 0.07451703399419785, 0.22778399288654327, 0.2824532985687256, -0.5196969509124756, -0.22561924159526825, -0.2681345045566559, -0.2943844199180603, -0.2853374183177948, 0.0027386194560676813, -0.021214989945292473, -0.46742039918899536, -0.42880675196647644, -0.49665307998657227, 0.28725263476371765, 0.18261364102363586, -0.061941009014844894, -0.03199492022395134, 0.053220950067043304, -0.04371339827775955, 0.2777177393436432, 0.16198520362377167, 0.22616636753082275, 0.2145911306142807, 0.2091938704252243, -0.06349718570709229, -0.1033850833773613, -0.11932045221328735, -0.03870449587702751, 0.21586288511753082, -0.39691922068595886, -0.3625209331512451, -0.366539865732193, -0.37773117423057556, 0.044128499925136566, -0.09234698116779327, -0.09517718851566315, -0.36105942726135254, -0.37195414304733276, 0.1206635907292366, 0.12502719461917877, 0.11538110673427582, 0.13578461110591888, 0.1849074810743332, 0.341357558965683, 0.08425354212522507, 0.10459242761135101, 0.065378837287426, -0.11721978336572647, -0.08551520109176636, 0.012477041222155094, -0.019257646054029465, 0.0694192498922348, 0.10020938515663147, 0.166111022233963, 0.18982139229774475, 0.12366516888141632, 0.21201245486736298, -0.036004144698381424, -0.09265070408582687, -0.26953235268592834, -0.11975882947444916, -0.14811202883720398, -0.23497183620929718, -0.03935503959655762, -0.3301398754119873, -0.3175632059574127, 0.07704158872365952, 0.4336608052253723, 0.38362738490104675, 0.17953309416770935, 0.11718061566352844, 0.15603744983673096, -0.27065980434417725, -0.3199741542339325, 0.4527626633644104, 0.11660673469305038, 0.15077541768550873, 0.11537868529558182, -0.04731709882616997, -0.19388729333877563, 0.11473549157381058, -0.08209588378667831, 0.025750156491994858, 0.03605974465608597, -0.2664807438850403, -0.29074180126190186, -0.16848698258399963, -0.03751037269830704, 0.2387918382883072, 0.3971080780029297, -0.131154403090477, 0.010574374347925186, 0.010610331781208515, 0.6100857257843018, -0.06957775354385376, -0.3222092092037201, -0.3543638586997986, 0.1256643831729889, 0.08805356174707413, 0.11129287630319595, 0.06256047636270523, 0.04482199624180794, 0.09664979577064514, 0.3091089129447937, -0.287546843290329, 0.11234594881534576, -0.43491941690444946, -0.11493820697069168, 0.36350002884864807, 0.3638676404953003, -0.23384138941764832, 0.27836668491363525, 0.22562678158283234, 0.30226629972457886, -0.5076401233673096, -0.5211102962493896, -0.45391735434532166, -0.0089553939178586, 0.08812970668077469, 0.07291451841592789, 0.8041941523551941, 0.7931566834449768, 0.7066318392753601, 0.20700103044509888, -0.5411850810050964, 0.4923083782196045, 0.16735215485095978, 0.802038848400116, -0.07485643029212952, 0.15268999338150024, 0.22847004234790802, 0.19330444931983948, 0.19594521820545197, 0.1744975447654724, 0.2343124896287918, 0.28619706630706787, 0.16805709898471832, -0.031917475163936615, -0.11847838014364243, 0.11253390461206436, 0.25185415148735046, 0.1220640242099762, 0.20409467816352844, -0.03246842324733734, -0.015780232846736908, 0.17772400379180908, 0.019090885296463966, 0.12330617755651474, 0.592836856842041, 0.5125749707221985, -0.04059438779950142, 0.13445374369621277, -0.22898535430431366, -0.06599997729063034, 0.23293659090995789, -0.024756062775850296, -0.5109477639198303, -0.29373809695243835, -0.3019019067287445, 0.10413484275341034, -0.11182243376970291, 0.05571543797850609, -0.09921000152826309, -0.007255698088556528, -0.10244559496641159, -0.07918819040060043, -0.07343235611915588, -0.08796628564596176, 0.4527096748352051, 0.06682147830724716, 0.15900275111198425, 0.402385413646698, 0.2433902621269226, 0.18404272198677063, -0.07233290374279022, -0.002725609578192234, 0.00392206059768796, 0.1978672742843628, 0.14114102721214294, 0.2058466672897339, 0.060946427285671234, -0.004758699797093868, -0.15041199326515198, -0.10294215381145477, -0.40979936718940735, -0.4271285831928253, -0.39726659655570984, -0.464677631855011, 0.11410336196422577, 0.24557501077651978, -0.11905624717473984, 0.6119064092636108, 0.09479488432407379, -0.14856161177158356, -0.28987422585487366, 0.21651163697242737, 0.10536835342645645, -0.33769363164901733, 0.18051981925964355, -0.1515541970729828, 0.15640532970428467, -0.017149262130260468, 0.4008621871471405, 0.2344995141029358, 0.49389737844467163, -0.13734687864780426, 0.23786023259162903, 0.3207210302352905, -0.5947479605674744, 0.13983026146888733, -0.23019595444202423, -0.5099421143531799, 0.19703790545463562, 0.19934877753257751, 0.38451993465423584, -0.030074074864387512, -0.2222084403038025, -0.4715462923049927, -0.48149195313453674, -0.06342989206314087, 0.24405550956726074, -0.4430118203163147, -0.037686314433813095, -0.12566760182380676, -0.10193600505590439, -0.5029696822166443, -0.5233275294303894, -0.5193350315093994, -0.5152105689048767, 0.44099506735801697, 0.4298062026500702], \"y\": [0.4097553491592407, 0.5910542011260986, 0.20310766994953156, 0.32343676686286926, 0.20845013856887817, 0.5742903351783752, 0.5544945001602173, 0.22289396822452545, 0.18841597437858582, 0.17690406739711761, 0.2989978492259979, 0.22489027678966522, 0.3137946128845215, 0.17224177718162537, 0.17802056670188904, 0.14497534930706024, 0.11727825552225113, 0.058666639029979706, 0.1802479475736618, 0.135356143116951, 0.1901678889989853, 0.18148529529571533, 0.19635502994060516, 0.284707635641098, 0.22263264656066895, 0.12896938621997833, 0.16626417636871338, 0.2137080579996109, 0.27760830521583557, 0.29651567339897156, 0.3845553398132324, 0.1779959797859192, 0.3949621617794037, -0.9396472573280334, -0.8481213450431824, -0.2509205937385559, -0.3402940034866333, -0.3463912606239319, -0.32896846532821655, -0.3299194574356079, -0.06711777299642563, 0.2783946692943573, 0.0640736073255539, 0.4277416169643402, 0.4047410786151886, 0.102569080889225, 0.4209301173686981, 0.42582404613494873, -0.014656491577625275, 0.09201768785715103, 0.11209829151630402, -0.029690105468034744, -0.2082904875278473, -0.02702891267836094, 0.12819084525108337, 0.15035176277160645, 0.15726611018180847, 0.10100222378969193, 0.16085942089557648, 0.08942317217588425, 0.11912749707698822, 0.10284723341464996, 0.16340534389019012, 0.19676834344863892, 0.17065495252609253, 0.18198996782302856, 0.1540992707014084, 0.07917873561382294, 0.1862192302942276, 0.15798266232013702, 0.1341790109872818, 0.09357402473688126, 0.0943462997674942, 0.18373902142047882, 0.15690718591213226, 0.12994641065597534, 0.13177801668643951, 0.03279567137360573, -0.23290492594242096, -0.34181278944015503, -0.08168631047010422, -0.8068440556526184, -0.805987536907196, -0.8210719227790833, -0.7263904213905334, -0.8188756704330444, -0.8145723938941956, -0.7984187602996826, -0.3765358626842499, -0.49252796173095703, -0.21811284124851227, -0.4588268995285034, -0.006760801188647747, -0.8470321893692017, -0.9354581832885742, 0.10324739664793015, 0.2673315703868866, 0.12080377340316772, 0.15819281339645386, 0.245393306016922, -0.7764773368835449, -0.7602713704109192, -0.7758491039276123, -0.7836688756942749, -0.7206721901893616, -0.762282133102417, -0.7865022420883179, -0.7206721901893616, -0.7629879117012024, -0.7796529531478882, -0.7647544741630554, -0.8070706725120544, -0.802183985710144, 0.21036002039909363, 0.3252811133861542, 0.2568984925746918, 0.33649709820747375, 0.24952638149261475, 0.2954702079296112, 0.15293344855308533, 0.08730773627758026, 0.15070772171020508, 0.13755397498607635, 0.046607159078121185, 0.1397373080253601, 0.09775067865848541, 0.02958506904542446, -0.6992446184158325, -0.6087601184844971, -0.6903777718544006, 0.2064587026834488, 0.2614698112010956, 0.2191694676876068, 0.11481763422489166, 0.2507089674472809, 0.19801117479801178, 0.20723994076251984, 0.2704389989376068, 0.20049211382865906, 0.17621764540672302, 0.17089536786079407, -0.34630540013313293, -0.3163244128227234, -0.322192519903183, -0.3602638244628906, -0.35767337679862976, -0.3175210654735565, -0.3032545745372772, -0.16333475708961487, -0.07381077855825424, -0.36974748969078064, -0.0010739598656073213, -0.023834388703107834, -0.34017640352249146, -0.32088497281074524, -0.30283868312835693, -0.2502770721912384, -0.1553368866443634, -0.4239314794540405, -0.3742448687553406, 0.025868508964776993, 0.13612084090709686, -0.03387601301074028, -0.05836007744073868, -0.00043458188883960247, -0.10128521919250488, -0.04839351400732994, 0.1357698291540146, -0.009308844804763794, 0.1556818038225174, -0.04312945529818535, -0.016864925622940063, 0.11813022196292877, -0.02756202593445778, -0.10100900381803513, -0.0018295769114047289, -0.05975521728396416, 0.1630409210920334, 0.08344736695289612, -0.0543278306722641, -0.046184901148080826, -0.0263132993131876, 0.134377121925354, -0.016453543677926064, 0.2393270879983902, 0.22866486012935638, 0.2685810327529907, 0.2817615270614624, 0.27000248432159424, -0.07903163880109787, -0.02774886041879654, -0.0941380187869072, -0.0736323818564415, -0.10346624255180359, -0.09716938436031342, -0.10763797909021378, -0.08275073021650314, 0.010809021070599556, 0.015348884277045727, 0.0024455913808196783, -0.05699533224105835, -0.017923707142472267, -0.07435992360115051, -0.15347030758857727, -0.10922764986753464, 0.031070536002516747, -0.029230063781142235, -0.03938485309481621, 0.03258410096168518, 0.132865309715271, 0.05902182683348656, -0.04527437686920166, -0.031519193202257156, 0.0061811418272554874, 0.11405579745769501, -0.017987852916121483, 0.1585512012243271, -0.0626782476902008, 0.17155854403972626, 0.22134330868721008, 0.17244328558444977, 0.25866934657096863, 0.1622273027896881, 0.06608396768569946, 0.24073167145252228, 0.1859816312789917, 0.134028822183609, 0.15529592335224152, 0.16787947714328766, 0.14358800649642944, 0.18391487002372742, -0.03719137981534004, -1.0, -0.9446660280227661, 0.3720708191394806, -0.0823194682598114, 0.25132670998573303, 0.12539739906787872, 0.1674986630678177, 0.17306490242481232, 0.13060098886489868, 0.21289809048175812, 0.29233527183532715, 0.16862888634204865, 0.07250914722681046, 0.236219584941864, 0.19100257754325867, 0.21362349390983582, 0.8104848861694336, 0.70192950963974, 0.045381780713796616, 0.16201722621917725, 0.26310113072395325, 0.16269269585609436, 0.17471592128276825, 0.17428277432918549, 0.3130683898925781, -0.7298611402511597, -0.790816068649292, -0.6628071665763855, -0.8034796714782715, -0.77180415391922, 0.056494057178497314, 0.02079356275498867, -0.00215312372893095, 0.06560347229242325, 0.008616217412054539, -0.2432592809200287, -0.29866620898246765, -0.3190844655036926, -0.2561819553375244, -0.08133784681558609, -0.2653755843639374, -0.2547334134578705, 0.14537663757801056, 0.2156025767326355, 0.3038614094257355, -0.06283050030469894, 0.03221684321761131, 0.2626991271972656, 0.7384531497955322, 0.6533911228179932, 0.6727328896522522, 0.2999640107154846, 0.2292701005935669, 0.13770423829555511, -0.6389882564544678, -0.6314997673034668, -0.6424887180328369, -0.5913284420967102, -0.5526981353759766, -0.6340234279632568, -0.6373386979103088, -0.6240835189819336, -0.6869288086891174, 0.139219269156456, 0.12740765511989594, 0.22802376747131348, 0.24790774285793304, 0.191764697432518, 0.17289219796657562, 0.14812950789928436, 0.2504124641418457, 0.2153359204530716, 0.21311792731285095, 0.14642678201198578, 0.13576169312000275, 0.01136659923940897, -0.40734758973121643, -0.07667077332735062, 0.21104441583156586, 0.16828462481498718, 0.20843945443630219, -0.0752820149064064, 0.27382692694664, -0.07262273132801056, -0.007188896182924509, -0.0616425983607769, -0.5432934761047363, -0.4631698727607727, 0.14281044900417328, 0.06288395076990128, 0.05519169941544533, 0.2126850187778473, 0.15923801064491272, 0.1780320107936859, 0.0926375687122345, 0.10904636979103088, 0.08906222134828568, 0.24957303702831268, 0.06591888517141342, 0.07056128978729248, -0.03676570579409599, -0.03945664316415787, 0.025520730763673782, 0.06407041102647781, 0.05374661833047867, 0.1331423819065094, 0.13501764833927155, -0.28878703713417053, 0.14014896750450134, -0.8180791735649109, -0.8888848423957825, -0.830120325088501, -0.8103094696998596, 0.2029961794614792, 0.20609070360660553, 0.08726152032613754, -0.009104898199439049, 0.555986762046814, 0.45815905928611755, 0.027158593758940697, 0.040750667452812195, 0.08064685761928558, 0.31743231415748596, 0.3035256862640381, 0.4496062695980072, 0.3081916570663452, -0.7559671998023987, -0.057180341333150864, 0.2153521329164505, 0.17236538231372833, 0.23158220946788788, 0.04467451572418213, -0.061967138200998306, 0.007856263779103756, 0.17518344521522522, 0.25510093569755554, 0.07508361339569092, 0.20838195085525513, -0.004268338438123465, 0.33292075991630554, 0.25499802827835083, 0.1801508367061615, 0.20095714926719666, 0.15497617423534393, 0.21092113852500916, 0.22724668681621552, -0.4940738081932068, -0.5745343565940857, -0.3820200264453888, 0.21452966332435608, 0.23139330744743347, 0.32181334495544434, -0.27394115924835205, -0.287285178899765, -0.2743771970272064, -0.36215388774871826, -0.07813003659248352, -0.24491183459758759, 0.1464138776063919, -0.23649214208126068, -0.11071494221687317, -0.6085419058799744, -0.7058454751968384, -0.7142499685287476, -0.6754298210144043, 0.11735996603965759, 0.27349740266799927, -0.031583502888679504, -0.08596641570329666, -0.04624873772263527, -0.4298054575920105, -0.329781711101532, 0.4973140358924866, 0.08234062790870667, 0.27906209230422974, 0.09303534030914307, 0.678316056728363, 0.6651428937911987, 0.6541364789009094, 0.7035064101219177, 0.6416405439376831, 0.3801974058151245, 0.5016692876815796, 0.4953173100948334, 0.36616894602775574, 0.0729343518614769, -0.37738215923309326, -0.3386225402355194, -0.3641955554485321, -0.3588908314704895, 0.31870344281196594, 0.19731555879116058, 0.25012466311454773, -0.09214497357606888, -0.08830595016479492, 0.7345651984214783, 0.6811219453811646, 0.6751328706741333, 0.6776502728462219, -0.023449208587408066, -0.06667713820934296, 0.23899291455745697, 0.23533451557159424, 0.22762714326381683, 0.415025532245636, 0.41281792521476746, 0.3343648612499237, 0.4213970899581909, 0.2743285000324249, 0.29225724935531616, 0.3064233958721161, 0.15683068335056305, 0.23211531341075897, 0.10091730207204819, 0.11115305870771408, 0.2435777485370636, -0.32962873578071594, -0.5332283973693848, -0.544169008731842, -0.42568057775497437, 0.22684139013290405, -0.6936671137809753, -0.7277053594589233, 0.01569863222539425, -0.3282223045825958, -0.36339980363845825, 0.6450272798538208, -0.05591224506497383, -0.06516290456056595, -0.7337723970413208, -0.6933042407035828, -0.09057704359292984, -0.3532125949859619, -0.6734359264373779, -0.6901368498802185, -0.17504693567752838, 0.07853081077337265, 0.35491451621055603, 0.28584951162338257, -0.03772431239485741, -0.06433770805597305, -0.39322859048843384, -0.29748377203941345, -0.03406624495983124, 0.25666284561157227, 0.13390211760997772, 0.2241319864988327, 0.40216967463493347, 0.30824288725852966, 0.3082329332828522, -0.04615132883191109, -0.8324607014656067, -0.3803325295448303, -0.371245801448822, 0.2849445044994354, -0.3977054953575134, -0.424801230430603, 0.01535513624548912, 0.3019559681415558, 0.33109092712402344, 0.1866002082824707, 0.2889147996902466, -0.44238361716270447, -0.12893468141555786, 0.1823323667049408, 0.639672577381134, 0.5266519784927368, 0.19365982711315155, 0.5297518968582153, 0.6066725850105286, 0.38038185238838196, -0.08261267840862274, -0.09584152698516846, -0.0663561224937439, 0.2674677073955536, 0.4445822536945343, 0.4456891715526581, 0.23694755136966705, 0.24380557239055634, 0.19414791464805603, 0.25259706377983093, -0.87730872631073, -0.4139668047428131, -0.778264582157135, 0.22213907539844513, -0.4548599123954773, 0.1729070246219635, -0.4208909571170807, 0.6449047327041626, -0.7585594058036804, -0.10700365155935287, -0.11265454441308975, -0.1115570217370987, -0.05120797082781792, 0.03125860169529915, -0.04914567992091179, 0.2526095509529114, 0.08917088806629181, -0.09809742122888565, 0.1856060028076172, 0.1232321634888649, 0.25041958689689636, 0.16584716737270355, 0.16889840364456177, 0.2426975667476654, 0.4560004472732544, 0.39007577300071716, 0.31526854634284973, -0.30929046869277954, 0.2960508465766907, 0.18544070422649384, 0.11416982114315033, 0.5469098687171936, -0.12142838537693024, -0.7913202047348022, -0.8106333017349243, 0.31630125641822815, 0.24206948280334473, 0.3048928678035736, 0.19481679797172546, 0.3329121768474579, 0.2651800513267517, 0.12360229343175888, 0.29865434765815735, 0.27376601099967957, -0.5497422218322754, 0.4199216365814209, 0.43243882060050964, 0.20003125071525574, 0.6929564476013184, 0.6286208033561707, -0.1595851480960846, -0.06944058835506439, -0.07553400099277496, 0.30054864287376404, 0.3598170280456543, 0.4676380753517151, -0.14754553139209747, -0.09725174307823181, 0.36685439944267273, 0.14224505424499512, -0.023103490471839905, -0.04420581832528114, -0.09445608407258987, 0.01400975976139307, 0.3316211700439453, 0.2713949382305145, 0.373508483171463, -0.0280938558280468, 0.33777445554733276, -0.907864511013031, -0.7570210695266724, 0.7799585461616516, 0.44087502360343933, -0.6863099932670593, -0.17311324179172516, 0.1406998187303543, -0.5212740898132324, -0.02236643061041832, 0.29211297631263733, 0.15722715854644775, 0.35159939527511597, 0.4111747741699219, 0.3110803961753845, 0.40090930461883545, -0.0010697136167436838, -0.43445807695388794, 0.4198252856731415, 0.0018816522788256407, 0.35883963108062744, 0.4484100043773651, -0.15824881196022034, -0.1797008514404297, -0.9406737089157104, 0.003416213672608137, -0.05891496315598488, -0.19891631603240967, -0.41171160340309143, -0.042919743806123734, -0.0762607678771019, -0.35914725065231323, 0.08526773005723953, -0.1338217407464981, -0.04333723336458206, -0.026894982904195786, -0.01236716192215681, -0.5588260889053345, -0.5699374675750732]}],\n",
       "                        {\"hovermode\": \"closest\", \"margin\": {\"b\": 20, \"l\": 5, \"r\": 5, \"t\": 40}, \"showlegend\": false, \"template\": {\"data\": {\"bar\": [{\"error_x\": {\"color\": \"#2a3f5f\"}, \"error_y\": {\"color\": \"#2a3f5f\"}, \"marker\": {\"line\": {\"color\": \"#E5ECF6\", \"width\": 0.5}}, \"type\": \"bar\"}], \"barpolar\": [{\"marker\": {\"line\": {\"color\": \"#E5ECF6\", \"width\": 0.5}}, \"type\": \"barpolar\"}], \"carpet\": [{\"aaxis\": {\"endlinecolor\": \"#2a3f5f\", \"gridcolor\": \"white\", \"linecolor\": \"white\", \"minorgridcolor\": \"white\", \"startlinecolor\": \"#2a3f5f\"}, \"baxis\": {\"endlinecolor\": \"#2a3f5f\", \"gridcolor\": \"white\", \"linecolor\": \"white\", \"minorgridcolor\": \"white\", \"startlinecolor\": \"#2a3f5f\"}, \"type\": \"carpet\"}], \"choropleth\": [{\"colorbar\": {\"outlinewidth\": 0, \"ticks\": \"\"}, \"type\": \"choropleth\"}], \"contour\": [{\"colorbar\": {\"outlinewidth\": 0, \"ticks\": \"\"}, \"colorscale\": [[0.0, \"#0d0887\"], [0.1111111111111111, \"#46039f\"], [0.2222222222222222, \"#7201a8\"], [0.3333333333333333, \"#9c179e\"], [0.4444444444444444, \"#bd3786\"], [0.5555555555555556, \"#d8576b\"], [0.6666666666666666, \"#ed7953\"], [0.7777777777777778, \"#fb9f3a\"], [0.8888888888888888, \"#fdca26\"], [1.0, \"#f0f921\"]], \"type\": \"contour\"}], \"contourcarpet\": [{\"colorbar\": {\"outlinewidth\": 0, \"ticks\": \"\"}, \"type\": \"contourcarpet\"}], \"heatmap\": [{\"colorbar\": {\"outlinewidth\": 0, \"ticks\": \"\"}, \"colorscale\": [[0.0, \"#0d0887\"], [0.1111111111111111, \"#46039f\"], [0.2222222222222222, \"#7201a8\"], [0.3333333333333333, \"#9c179e\"], [0.4444444444444444, \"#bd3786\"], [0.5555555555555556, \"#d8576b\"], [0.6666666666666666, \"#ed7953\"], [0.7777777777777778, \"#fb9f3a\"], [0.8888888888888888, \"#fdca26\"], [1.0, \"#f0f921\"]], \"type\": \"heatmap\"}], \"heatmapgl\": [{\"colorbar\": {\"outlinewidth\": 0, \"ticks\": \"\"}, \"colorscale\": [[0.0, \"#0d0887\"], [0.1111111111111111, \"#46039f\"], [0.2222222222222222, \"#7201a8\"], [0.3333333333333333, \"#9c179e\"], [0.4444444444444444, \"#bd3786\"], [0.5555555555555556, \"#d8576b\"], [0.6666666666666666, \"#ed7953\"], [0.7777777777777778, \"#fb9f3a\"], [0.8888888888888888, \"#fdca26\"], [1.0, \"#f0f921\"]], \"type\": \"heatmapgl\"}], \"histogram\": [{\"marker\": {\"colorbar\": {\"outlinewidth\": 0, \"ticks\": \"\"}}, \"type\": \"histogram\"}], \"histogram2d\": [{\"colorbar\": {\"outlinewidth\": 0, \"ticks\": \"\"}, \"colorscale\": [[0.0, \"#0d0887\"], [0.1111111111111111, \"#46039f\"], [0.2222222222222222, \"#7201a8\"], [0.3333333333333333, \"#9c179e\"], [0.4444444444444444, \"#bd3786\"], [0.5555555555555556, \"#d8576b\"], [0.6666666666666666, \"#ed7953\"], [0.7777777777777778, \"#fb9f3a\"], [0.8888888888888888, \"#fdca26\"], [1.0, \"#f0f921\"]], \"type\": \"histogram2d\"}], \"histogram2dcontour\": [{\"colorbar\": {\"outlinewidth\": 0, \"ticks\": \"\"}, \"colorscale\": [[0.0, \"#0d0887\"], [0.1111111111111111, \"#46039f\"], [0.2222222222222222, \"#7201a8\"], [0.3333333333333333, \"#9c179e\"], [0.4444444444444444, \"#bd3786\"], [0.5555555555555556, \"#d8576b\"], [0.6666666666666666, \"#ed7953\"], [0.7777777777777778, \"#fb9f3a\"], [0.8888888888888888, \"#fdca26\"], [1.0, \"#f0f921\"]], \"type\": \"histogram2dcontour\"}], \"mesh3d\": [{\"colorbar\": {\"outlinewidth\": 0, \"ticks\": \"\"}, \"type\": \"mesh3d\"}], \"parcoords\": [{\"line\": {\"colorbar\": {\"outlinewidth\": 0, \"ticks\": \"\"}}, \"type\": \"parcoords\"}], \"pie\": [{\"automargin\": true, \"type\": \"pie\"}], \"scatter\": [{\"marker\": {\"colorbar\": {\"outlinewidth\": 0, \"ticks\": \"\"}}, \"type\": \"scatter\"}], \"scatter3d\": [{\"line\": {\"colorbar\": {\"outlinewidth\": 0, \"ticks\": \"\"}}, \"marker\": {\"colorbar\": {\"outlinewidth\": 0, \"ticks\": \"\"}}, \"type\": \"scatter3d\"}], \"scattercarpet\": [{\"marker\": {\"colorbar\": {\"outlinewidth\": 0, \"ticks\": \"\"}}, \"type\": \"scattercarpet\"}], \"scattergeo\": [{\"marker\": {\"colorbar\": {\"outlinewidth\": 0, \"ticks\": \"\"}}, \"type\": \"scattergeo\"}], \"scattergl\": [{\"marker\": {\"colorbar\": {\"outlinewidth\": 0, \"ticks\": \"\"}}, \"type\": \"scattergl\"}], \"scattermapbox\": [{\"marker\": {\"colorbar\": {\"outlinewidth\": 0, \"ticks\": \"\"}}, \"type\": \"scattermapbox\"}], \"scatterpolar\": [{\"marker\": {\"colorbar\": {\"outlinewidth\": 0, \"ticks\": \"\"}}, \"type\": \"scatterpolar\"}], \"scatterpolargl\": [{\"marker\": {\"colorbar\": {\"outlinewidth\": 0, \"ticks\": \"\"}}, \"type\": \"scatterpolargl\"}], \"scatterternary\": [{\"marker\": {\"colorbar\": {\"outlinewidth\": 0, \"ticks\": \"\"}}, \"type\": \"scatterternary\"}], \"surface\": [{\"colorbar\": {\"outlinewidth\": 0, \"ticks\": \"\"}, \"colorscale\": [[0.0, \"#0d0887\"], [0.1111111111111111, \"#46039f\"], [0.2222222222222222, \"#7201a8\"], [0.3333333333333333, \"#9c179e\"], [0.4444444444444444, \"#bd3786\"], [0.5555555555555556, \"#d8576b\"], [0.6666666666666666, \"#ed7953\"], [0.7777777777777778, \"#fb9f3a\"], [0.8888888888888888, \"#fdca26\"], [1.0, \"#f0f921\"]], \"type\": \"surface\"}], \"table\": [{\"cells\": {\"fill\": {\"color\": \"#EBF0F8\"}, \"line\": {\"color\": \"white\"}}, \"header\": {\"fill\": {\"color\": \"#C8D4E3\"}, \"line\": {\"color\": \"white\"}}, \"type\": \"table\"}]}, \"layout\": {\"annotationdefaults\": {\"arrowcolor\": \"#2a3f5f\", \"arrowhead\": 0, \"arrowwidth\": 1}, \"coloraxis\": {\"colorbar\": {\"outlinewidth\": 0, \"ticks\": \"\"}}, \"colorscale\": {\"diverging\": [[0, \"#8e0152\"], [0.1, \"#c51b7d\"], [0.2, \"#de77ae\"], [0.3, \"#f1b6da\"], [0.4, \"#fde0ef\"], [0.5, \"#f7f7f7\"], [0.6, \"#e6f5d0\"], [0.7, \"#b8e186\"], [0.8, \"#7fbc41\"], [0.9, \"#4d9221\"], [1, \"#276419\"]], \"sequential\": [[0.0, \"#0d0887\"], [0.1111111111111111, \"#46039f\"], [0.2222222222222222, \"#7201a8\"], [0.3333333333333333, \"#9c179e\"], [0.4444444444444444, \"#bd3786\"], [0.5555555555555556, \"#d8576b\"], [0.6666666666666666, \"#ed7953\"], [0.7777777777777778, \"#fb9f3a\"], [0.8888888888888888, \"#fdca26\"], [1.0, \"#f0f921\"]], \"sequentialminus\": [[0.0, \"#0d0887\"], [0.1111111111111111, \"#46039f\"], [0.2222222222222222, \"#7201a8\"], [0.3333333333333333, \"#9c179e\"], [0.4444444444444444, \"#bd3786\"], [0.5555555555555556, \"#d8576b\"], [0.6666666666666666, \"#ed7953\"], [0.7777777777777778, \"#fb9f3a\"], [0.8888888888888888, \"#fdca26\"], [1.0, \"#f0f921\"]]}, \"colorway\": [\"#636efa\", \"#EF553B\", \"#00cc96\", \"#ab63fa\", \"#FFA15A\", \"#19d3f3\", \"#FF6692\", \"#B6E880\", \"#FF97FF\", \"#FECB52\"], \"font\": {\"color\": \"#2a3f5f\"}, \"geo\": {\"bgcolor\": \"white\", \"lakecolor\": \"white\", \"landcolor\": \"#E5ECF6\", \"showlakes\": true, \"showland\": true, \"subunitcolor\": \"white\"}, \"hoverlabel\": {\"align\": \"left\"}, \"hovermode\": \"closest\", \"mapbox\": {\"style\": \"light\"}, \"paper_bgcolor\": \"white\", \"plot_bgcolor\": \"#E5ECF6\", \"polar\": {\"angularaxis\": {\"gridcolor\": \"white\", \"linecolor\": \"white\", \"ticks\": \"\"}, \"bgcolor\": \"#E5ECF6\", \"radialaxis\": {\"gridcolor\": \"white\", \"linecolor\": \"white\", \"ticks\": \"\"}}, \"scene\": {\"xaxis\": {\"backgroundcolor\": \"#E5ECF6\", \"gridcolor\": \"white\", \"gridwidth\": 2, \"linecolor\": \"white\", \"showbackground\": true, \"ticks\": \"\", \"zerolinecolor\": \"white\"}, \"yaxis\": {\"backgroundcolor\": \"#E5ECF6\", \"gridcolor\": \"white\", \"gridwidth\": 2, \"linecolor\": \"white\", \"showbackground\": true, \"ticks\": \"\", \"zerolinecolor\": \"white\"}, \"zaxis\": {\"backgroundcolor\": \"#E5ECF6\", \"gridcolor\": \"white\", \"gridwidth\": 2, \"linecolor\": \"white\", \"showbackground\": true, \"ticks\": \"\", \"zerolinecolor\": \"white\"}}, \"shapedefaults\": {\"line\": {\"color\": \"#2a3f5f\"}}, \"ternary\": {\"aaxis\": {\"gridcolor\": \"white\", \"linecolor\": \"white\", \"ticks\": \"\"}, \"baxis\": {\"gridcolor\": \"white\", \"linecolor\": \"white\", \"ticks\": \"\"}, \"bgcolor\": \"#E5ECF6\", \"caxis\": {\"gridcolor\": \"white\", \"linecolor\": \"white\", \"ticks\": \"\"}}, \"title\": {\"x\": 0.05}, \"xaxis\": {\"automargin\": true, \"gridcolor\": \"white\", \"linecolor\": \"white\", \"ticks\": \"\", \"title\": {\"standoff\": 15}, \"zerolinecolor\": \"white\", \"zerolinewidth\": 2}, \"yaxis\": {\"automargin\": true, \"gridcolor\": \"white\", \"linecolor\": \"white\", \"ticks\": \"\", \"title\": {\"standoff\": 15}, \"zerolinecolor\": \"white\", \"zerolinewidth\": 2}}}, \"title\": {\"font\": {\"size\": 16}, \"text\": \"Network graph G\"}, \"xaxis\": {\"showgrid\": false, \"showticklabels\": false, \"zeroline\": false}, \"yaxis\": {\"showgrid\": false, \"showticklabels\": false, \"zeroline\": false}},\n",
       "                        {\"responsive\": true}\n",
       "                    ).then(function(){\n",
       "                            \n",
       "var gd = document.getElementById('eb4b1524-cbb5-4f25-bd27-f3ecc23a1e5c');\n",
       "var x = new MutationObserver(function (mutations, observer) {{\n",
       "        var display = window.getComputedStyle(gd).display;\n",
       "        if (!display || display === 'none') {{\n",
       "            console.log([gd, 'removed!']);\n",
       "            Plotly.purge(gd);\n",
       "            observer.disconnect();\n",
       "        }}\n",
       "}});\n",
       "\n",
       "// Listen for the removal of the full notebook cells\n",
       "var notebookContainer = gd.closest('#notebook-container');\n",
       "if (notebookContainer) {{\n",
       "    x.observe(notebookContainer, {childList: true});\n",
       "}}\n",
       "\n",
       "// Listen for the clearing of the current output cell\n",
       "var outputEl = gd.closest('.output');\n",
       "if (outputEl) {{\n",
       "    x.observe(outputEl, {childList: true});\n",
       "}}\n",
       "\n",
       "                        })\n",
       "                };\n",
       "                \n",
       "            </script>\n",
       "        </div>\n",
       "</body>\n",
       "</html>"
      ]
     },
     "metadata": {
      "tags": []
     },
     "output_type": "display_data"
    }
   ],
   "source": [
    "# plot the graph G\n",
    "fig1 = go.Figure(data=[edge_trace, node_trace],\n",
    "             layout=go.Layout(\n",
    "                title='Network graph G',\n",
    "                titlefont_size=16,\n",
    "                showlegend=False,\n",
    "                hovermode='closest',\n",
    "                margin=dict(b=20,l=5,r=5,t=40),\n",
    "                xaxis=dict(showgrid=False, zeroline=False, showticklabels=False),\n",
    "                yaxis=dict(showgrid=False, zeroline=False, showticklabels=False))\n",
    "                )\n",
    "fig1.show()"
   ]
  },
  {
   "cell_type": "markdown",
   "metadata": {
    "id": "efMd4oTHiFO8"
   },
   "source": [
    "## 4- Preparation of the data for the links prediction"
   ]
  },
  {
   "cell_type": "markdown",
   "metadata": {
    "id": "2C1cAQJIknVv"
   },
   "source": [
    "### 4-1 Compute the adjacency matrix"
   ]
  },
  {
   "cell_type": "code",
   "execution_count": 59,
   "metadata": {
    "executionInfo": {
     "elapsed": 2903,
     "status": "ok",
     "timestamp": 1601283904438,
     "user": {
      "displayName": "A D",
      "photoUrl": "",
      "userId": "14584707532892118607"
     },
     "user_tz": -120
    },
    "id": "V6XFNt8lvYqM"
   },
   "outputs": [],
   "source": [
    "# get the list of the nodes in the graph G\n",
    "nodes_list = list(G.nodes)"
   ]
  },
  {
   "cell_type": "code",
   "execution_count": 60,
   "metadata": {
    "executionInfo": {
     "elapsed": 1652,
     "status": "ok",
     "timestamp": 1601283911257,
     "user": {
      "displayName": "A D",
      "photoUrl": "",
      "userId": "14584707532892118607"
     },
     "user_tz": -120
    },
    "id": "LEIjW1qivYrQ"
   },
   "outputs": [],
   "source": [
    "# build the adjacency matrix of G\n",
    "adjacency_matrix_G = nx.to_numpy_matrix(G, nodelist = nodes_list)"
   ]
  },
  {
   "cell_type": "code",
   "execution_count": 61,
   "metadata": {
    "colab": {
     "base_uri": "https://localhost:8080/",
     "height": 136
    },
    "executionInfo": {
     "elapsed": 1859,
     "status": "ok",
     "timestamp": 1601283929006,
     "user": {
      "displayName": "A D",
      "photoUrl": "",
      "userId": "14584707532892118607"
     },
     "user_tz": -120
    },
    "id": "-PMLSngYvYr4",
    "outputId": "51efebd3-ace7-4681-fb2c-9815490c36bc"
   },
   "outputs": [
    {
     "data": {
      "text/plain": [
       "(matrix([[0., 1., 1., ..., 0., 0., 0.],\n",
       "         [1., 1., 0., ..., 0., 0., 0.],\n",
       "         [1., 0., 0., ..., 0., 0., 0.],\n",
       "         ...,\n",
       "         [0., 0., 0., ..., 0., 0., 0.],\n",
       "         [0., 0., 0., ..., 0., 0., 0.],\n",
       "         [0., 0., 0., ..., 0., 0., 1.]]), (620, 620))"
      ]
     },
     "execution_count": 61,
     "metadata": {
      "tags": []
     },
     "output_type": "execute_result"
    }
   ],
   "source": [
    "adjacency_matrix_G, adjacency_matrix_G.shape"
   ]
  },
  {
   "cell_type": "markdown",
   "metadata": {
    "id": "bNZjnTAdkxPr"
   },
   "source": [
    "### 4-2 Get the pairs of unconnected nodes"
   ]
  },
  {
   "cell_type": "code",
   "execution_count": 62,
   "metadata": {
    "colab": {
     "base_uri": "https://localhost:8080/",
     "height": 34
    },
    "executionInfo": {
     "elapsed": 206736,
     "status": "ok",
     "timestamp": 1601284139735,
     "user": {
      "displayName": "A D",
      "photoUrl": "",
      "userId": "14584707532892118607"
     },
     "user_tz": -120
    },
    "id": "r3GY8nPbvYsN",
    "outputId": "83e27f8f-8df5-4fe0-ade4-184484466689"
   },
   "outputs": [
    {
     "name": "stderr",
     "output_type": "stream",
     "text": [
      "100%|██████████| 620/620 [03:25<00:00,  3.02it/s]\n"
     ]
    }
   ],
   "source": [
    "# get the pairs of unconnected nodes\n",
    "unconnected_nodes_pairs = []\n",
    "\n",
    "for i in tqdm(range(adjacency_matrix_G.shape[0])):\n",
    "    for j in range(adjacency_matrix_G.shape[0]):\n",
    "        if i != j:\n",
    "            if nx.shortest_path_length(G, nodes_list[i], nodes_list[j]) <=4:\n",
    "                if adjacency_matrix_G[i, j] == 0:\n",
    "                    if set((nodes_list[i], nodes_list[j])) not in unconnected_nodes_pairs:\n",
    "                        unconnected_nodes_pairs.append(set((nodes_list[i], nodes_list[j])))"
   ]
  },
  {
   "cell_type": "code",
   "execution_count": 63,
   "metadata": {
    "colab": {
     "base_uri": "https://localhost:8080/",
     "height": 34
    },
    "executionInfo": {
     "elapsed": 1060,
     "status": "ok",
     "timestamp": 1601284146937,
     "user": {
      "displayName": "A D",
      "photoUrl": "",
      "userId": "14584707532892118607"
     },
     "user_tz": -120
    },
    "id": "a5Jpc-qPvYsU",
    "outputId": "380e93a1-d9af-46c9-890a-60042a7bb38a"
   },
   "outputs": [
    {
     "data": {
      "text/plain": [
       "79058"
      ]
     },
     "execution_count": 63,
     "metadata": {
      "tags": []
     },
     "output_type": "execute_result"
    }
   ],
   "source": [
    "len(unconnected_nodes_pairs)"
   ]
  },
  {
   "cell_type": "code",
   "execution_count": 64,
   "metadata": {
    "executionInfo": {
     "elapsed": 1112,
     "status": "ok",
     "timestamp": 1601284150175,
     "user": {
      "displayName": "A D",
      "photoUrl": "",
      "userId": "14584707532892118607"
     },
     "user_tz": -120
    },
    "id": "sdCH3M2lvYsm"
   },
   "outputs": [],
   "source": [
    "unconnected_nodes_pairs = [list(pair) for pair in unconnected_nodes_pairs]"
   ]
  },
  {
   "cell_type": "code",
   "execution_count": 65,
   "metadata": {
    "colab": {
     "base_uri": "https://localhost:8080/",
     "height": 34
    },
    "executionInfo": {
     "elapsed": 8561,
     "status": "ok",
     "timestamp": 1601284162218,
     "user": {
      "displayName": "A D",
      "photoUrl": "",
      "userId": "14584707532892118607"
     },
     "user_tz": -120
    },
    "id": "vZHwifrOvYsw",
    "outputId": "77157ea7-ee10-4cb7-ee5f-ade9a59c3cde"
   },
   "outputs": [
    {
     "data": {
      "text/plain": [
       "[[0, 1], [0, 265], [0, 611], [0, 2], [0, 182]]"
      ]
     },
     "execution_count": 65,
     "metadata": {
      "tags": []
     },
     "output_type": "execute_result"
    }
   ],
   "source": [
    "unconnected_nodes_pairs[:5]"
   ]
  },
  {
   "cell_type": "code",
   "execution_count": 66,
   "metadata": {
    "executionInfo": {
     "elapsed": 1247,
     "status": "ok",
     "timestamp": 1601284165560,
     "user": {
      "displayName": "A D",
      "photoUrl": "",
      "userId": "14584707532892118607"
     },
     "user_tz": -120
    },
    "id": "xVa5E1IIvYs2"
   },
   "outputs": [],
   "source": [
    "# build a dataframe with the unconnected pairs of nodes\n",
    "node_1_unlinked = [pair[0] for pair in unconnected_nodes_pairs]\n",
    "node_2_unlinked = [pair[1] for pair in unconnected_nodes_pairs]\n",
    "\n",
    "mixed_df = pd.DataFrame({'node_1':node_1_unlinked, \n",
    "                     'node_2':node_2_unlinked})\n",
    "\n",
    "# add target variable 'link'\n",
    "mixed_df['link'] = 0"
   ]
  },
  {
   "cell_type": "code",
   "execution_count": 67,
   "metadata": {
    "colab": {
     "base_uri": "https://localhost:8080/",
     "height": 204
    },
    "executionInfo": {
     "elapsed": 1425,
     "status": "ok",
     "timestamp": 1601284170051,
     "user": {
      "displayName": "A D",
      "photoUrl": "",
      "userId": "14584707532892118607"
     },
     "user_tz": -120
    },
    "id": "YeZsOOOZvYtB",
    "outputId": "d8168a8b-d22a-4ea4-930f-f4569a19b72c"
   },
   "outputs": [
    {
     "data": {
      "text/html": [
       "<div>\n",
       "<style scoped>\n",
       "    .dataframe tbody tr th:only-of-type {\n",
       "        vertical-align: middle;\n",
       "    }\n",
       "\n",
       "    .dataframe tbody tr th {\n",
       "        vertical-align: top;\n",
       "    }\n",
       "\n",
       "    .dataframe thead th {\n",
       "        text-align: right;\n",
       "    }\n",
       "</style>\n",
       "<table border=\"1\" class=\"dataframe\">\n",
       "  <thead>\n",
       "    <tr style=\"text-align: right;\">\n",
       "      <th></th>\n",
       "      <th>node_1</th>\n",
       "      <th>node_2</th>\n",
       "      <th>link</th>\n",
       "    </tr>\n",
       "  </thead>\n",
       "  <tbody>\n",
       "    <tr>\n",
       "      <th>0</th>\n",
       "      <td>0</td>\n",
       "      <td>1</td>\n",
       "      <td>0</td>\n",
       "    </tr>\n",
       "    <tr>\n",
       "      <th>1</th>\n",
       "      <td>0</td>\n",
       "      <td>265</td>\n",
       "      <td>0</td>\n",
       "    </tr>\n",
       "    <tr>\n",
       "      <th>2</th>\n",
       "      <td>0</td>\n",
       "      <td>611</td>\n",
       "      <td>0</td>\n",
       "    </tr>\n",
       "    <tr>\n",
       "      <th>3</th>\n",
       "      <td>0</td>\n",
       "      <td>2</td>\n",
       "      <td>0</td>\n",
       "    </tr>\n",
       "    <tr>\n",
       "      <th>4</th>\n",
       "      <td>0</td>\n",
       "      <td>182</td>\n",
       "      <td>0</td>\n",
       "    </tr>\n",
       "  </tbody>\n",
       "</table>\n",
       "</div>"
      ],
      "text/plain": [
       "   node_1  node_2  link\n",
       "0       0       1     0\n",
       "1       0     265     0\n",
       "2       0     611     0\n",
       "3       0       2     0\n",
       "4       0     182     0"
      ]
     },
     "execution_count": 67,
     "metadata": {
      "tags": []
     },
     "output_type": "execute_result"
    }
   ],
   "source": [
    "mixed_df.head()"
   ]
  },
  {
   "cell_type": "markdown",
   "metadata": {
    "id": "YCG_mpqXk8Fk"
   },
   "source": [
    "### 4-3 Remove some links from G and build a new graph without the removed links"
   ]
  },
  {
   "cell_type": "markdown",
   "metadata": {
    "id": "tcR1DAyQW08b"
   },
   "source": [
    "#### 4-3-1 Links removal"
   ]
  },
  {
   "cell_type": "code",
   "execution_count": 68,
   "metadata": {
    "colab": {
     "base_uri": "https://localhost:8080/",
     "height": 34
    },
    "executionInfo": {
     "elapsed": 10369,
     "status": "ok",
     "timestamp": 1601284187676,
     "user": {
      "displayName": "A D",
      "photoUrl": "",
      "userId": "14584707532892118607"
     },
     "user_tz": -120
    },
    "id": "STKUiRxMvYtP",
    "outputId": "8751d2d9-5542-48f9-be81-af55eaea9660"
   },
   "outputs": [
    {
     "name": "stderr",
     "output_type": "stream",
     "text": [
      "100%|██████████| 2102/2102 [00:09<00:00, 215.97it/s]\n"
     ]
    }
   ],
   "source": [
    "# remove links from graph G while keeping G connected\n",
    "initial_node_count = len(G.nodes)\n",
    "\n",
    "temp_df = edges_df.copy()\n",
    "\n",
    "removable_links_index = []\n",
    "\n",
    "for i in tqdm(edges_df.index.values):\n",
    "  \n",
    "  # remove a node pair and build a new graph\n",
    "  G_temp = nx.from_pandas_edgelist(temp_df.drop(index = i), \"node_1\", \"node_2\", create_using=nx.Graph())\n",
    "  \n",
    "  # check if there is no spliting of graph and if the number of nodes is the same\n",
    "  if (nx.number_connected_components(G_temp) == 1) and (len(G_temp.nodes) == initial_node_count):\n",
    "    removable_links_index.append(i)\n",
    "    temp_df = temp_df.drop(index = i)"
   ]
  },
  {
   "cell_type": "code",
   "execution_count": 69,
   "metadata": {
    "colab": {
     "base_uri": "https://localhost:8080/",
     "height": 34
    },
    "executionInfo": {
     "elapsed": 1391,
     "status": "ok",
     "timestamp": 1601284196702,
     "user": {
      "displayName": "A D",
      "photoUrl": "",
      "userId": "14584707532892118607"
     },
     "user_tz": -120
    },
    "id": "3XEiQ870vYtX",
    "outputId": "bcb123fc-35fa-4b4e-9399-d57956b5e78d"
   },
   "outputs": [
    {
     "data": {
      "text/plain": [
       "1483"
      ]
     },
     "execution_count": 69,
     "metadata": {
      "tags": []
     },
     "output_type": "execute_result"
    }
   ],
   "source": [
    "len(removable_links_index)"
   ]
  },
  {
   "cell_type": "code",
   "execution_count": 70,
   "metadata": {
    "executionInfo": {
     "elapsed": 1380,
     "status": "ok",
     "timestamp": 1601284207313,
     "user": {
      "displayName": "A D",
      "photoUrl": "",
      "userId": "14584707532892118607"
     },
     "user_tz": -120
    },
    "id": "WDFUfTVLvYtk"
   },
   "outputs": [],
   "source": [
    "# dataframe of removable links\n",
    "removable_links_df = edges_df.loc[removable_links_index]\n",
    "\n",
    "# add the target variable 'link'\n",
    "removable_links_df['link'] = 1\n",
    "\n",
    "# append the dataframe removable_links_df to unlinked_df\n",
    "mixed_df = mixed_df.append(removable_links_df[['node_1', 'node_2', 'link']], ignore_index=True)"
   ]
  },
  {
   "cell_type": "code",
   "execution_count": 71,
   "metadata": {
    "colab": {
     "base_uri": "https://localhost:8080/",
     "height": 204
    },
    "executionInfo": {
     "elapsed": 1850,
     "status": "ok",
     "timestamp": 1601284216047,
     "user": {
      "displayName": "A D",
      "photoUrl": "",
      "userId": "14584707532892118607"
     },
     "user_tz": -120
    },
    "id": "awi52ZPZvYtz",
    "outputId": "47d9043a-a1b4-43a1-ea18-d6a81fc3f3f6"
   },
   "outputs": [
    {
     "data": {
      "text/html": [
       "<div>\n",
       "<style scoped>\n",
       "    .dataframe tbody tr th:only-of-type {\n",
       "        vertical-align: middle;\n",
       "    }\n",
       "\n",
       "    .dataframe tbody tr th {\n",
       "        vertical-align: top;\n",
       "    }\n",
       "\n",
       "    .dataframe thead th {\n",
       "        text-align: right;\n",
       "    }\n",
       "</style>\n",
       "<table border=\"1\" class=\"dataframe\">\n",
       "  <thead>\n",
       "    <tr style=\"text-align: right;\">\n",
       "      <th></th>\n",
       "      <th>node_1</th>\n",
       "      <th>node_2</th>\n",
       "      <th>link</th>\n",
       "    </tr>\n",
       "  </thead>\n",
       "  <tbody>\n",
       "    <tr>\n",
       "      <th>0</th>\n",
       "      <td>0</td>\n",
       "      <td>1</td>\n",
       "      <td>0</td>\n",
       "    </tr>\n",
       "    <tr>\n",
       "      <th>1</th>\n",
       "      <td>0</td>\n",
       "      <td>265</td>\n",
       "      <td>0</td>\n",
       "    </tr>\n",
       "    <tr>\n",
       "      <th>2</th>\n",
       "      <td>0</td>\n",
       "      <td>611</td>\n",
       "      <td>0</td>\n",
       "    </tr>\n",
       "    <tr>\n",
       "      <th>3</th>\n",
       "      <td>0</td>\n",
       "      <td>2</td>\n",
       "      <td>0</td>\n",
       "    </tr>\n",
       "    <tr>\n",
       "      <th>4</th>\n",
       "      <td>0</td>\n",
       "      <td>182</td>\n",
       "      <td>0</td>\n",
       "    </tr>\n",
       "  </tbody>\n",
       "</table>\n",
       "</div>"
      ],
      "text/plain": [
       "  node_1 node_2  link\n",
       "0      0      1     0\n",
       "1      0    265     0\n",
       "2      0    611     0\n",
       "3      0      2     0\n",
       "4      0    182     0"
      ]
     },
     "execution_count": 71,
     "metadata": {
      "tags": []
     },
     "output_type": "execute_result"
    }
   ],
   "source": [
    "mixed_df.head()"
   ]
  },
  {
   "cell_type": "code",
   "execution_count": 72,
   "metadata": {
    "colab": {
     "base_uri": "https://localhost:8080/",
     "height": 102
    },
    "executionInfo": {
     "elapsed": 1285,
     "status": "ok",
     "timestamp": 1601284235222,
     "user": {
      "displayName": "A D",
      "photoUrl": "",
      "userId": "14584707532892118607"
     },
     "user_tz": -120
    },
    "id": "dNGeXrVEvYt7",
    "outputId": "ba5f92bf-0b67-4766-c438-455e81563f74"
   },
   "outputs": [
    {
     "data": {
      "text/plain": [
       "(0    79058\n",
       " 1     1483\n",
       " Name: link, dtype: int64, 0    0.981587\n",
       " 1    0.018413\n",
       " Name: link, dtype: float64)"
      ]
     },
     "execution_count": 72,
     "metadata": {
      "tags": []
     },
     "output_type": "execute_result"
    }
   ],
   "source": [
    "mixed_df['link'].value_counts(), mixed_df['link'].value_counts('normalize')"
   ]
  },
  {
   "cell_type": "code",
   "execution_count": 74,
   "metadata": {
    "executionInfo": {
     "elapsed": 1313,
     "status": "ok",
     "timestamp": 1601284290431,
     "user": {
      "displayName": "A D",
      "photoUrl": "",
      "userId": "14584707532892118607"
     },
     "user_tz": -120
    },
    "id": "tOA7oUshvYuG"
   },
   "outputs": [],
   "source": [
    "# drop removable links from the dataframe edges_df\n",
    "edges_df_downsized = edges_df.drop(index=removable_links_df.index.values)\n",
    "\n",
    "# build graph\n",
    "G_downsized = nx.from_pandas_edgelist(edges_df_downsized, \"node_1\", \"node_2\", create_using=nx.Graph())"
   ]
  },
  {
   "cell_type": "code",
   "execution_count": 75,
   "metadata": {
    "colab": {
     "base_uri": "https://localhost:8080/",
     "height": 68
    },
    "executionInfo": {
     "elapsed": 1009,
     "status": "ok",
     "timestamp": 1601284303329,
     "user": {
      "displayName": "A D",
      "photoUrl": "",
      "userId": "14584707532892118607"
     },
     "user_tz": -120
    },
    "id": "f02PyHVeRiQc",
    "outputId": "dc1ca8d7-ab28-421b-9ad8-53bce4251019"
   },
   "outputs": [
    {
     "name": "stdout",
     "output_type": "stream",
     "text": [
      "There are 620 nodes in the graph G_downsized.\n",
      "There are 619 edges in the graph G_downsized.\n",
      "The graph G_downsized is connected.\n"
     ]
    }
   ],
   "source": [
    "print(f'There are {G_downsized.number_of_nodes()} nodes in the graph G_downsized.')\n",
    "print(f'There are {G_downsized.number_of_edges()} edges in the graph G_downsized.')\n",
    "if nx.is_connected(G_downsized):\n",
    "    print('The graph G_downsized is connected.')\n",
    "else:\n",
    "    print('The graph G_downsized is not connected.')"
   ]
  },
  {
   "cell_type": "markdown",
   "metadata": {
    "id": "78qDmbRAR9Hu"
   },
   "source": [
    "#### 4-3-2 Plot graph G_downsized"
   ]
  },
  {
   "cell_type": "code",
   "execution_count": 78,
   "metadata": {
    "executionInfo": {
     "elapsed": 1370,
     "status": "ok",
     "timestamp": 1601284397644,
     "user": {
      "displayName": "A D",
      "photoUrl": "",
      "userId": "14584707532892118607"
     },
     "user_tz": -120
    },
    "id": "TDVmgIhpPxnp"
   },
   "outputs": [],
   "source": [
    "# Add edges as disconnected lines in a single trace and nodes as a scatter trace\n",
    "pos_gd = nx.random_layout(G_downsized, seed=0)\n",
    "edge_x_gd = []\n",
    "edge_y_gd = []\n",
    "for edge in G_downsized.edges():\n",
    "    x0, y0 = pos_gd[edge[0]]\n",
    "    x1, y1 = pos_gd[edge[1]]\n",
    "    edge_x_gd.append(x0)\n",
    "    edge_x_gd.append(x1)\n",
    "    edge_x_gd.append(None)\n",
    "    edge_y_gd.append(y0)\n",
    "    edge_y_gd.append(y1)\n",
    "    edge_y_gd.append(None)\n",
    "\n",
    "edge_trace_gd = go.Scatter(\n",
    "    x=edge_x_gd, y=edge_y_gd,\n",
    "    line=dict(width=0.5, color='#888'),\n",
    "    hoverinfo='none',\n",
    "    mode='lines')\n",
    "\n",
    "node_x_gd = []\n",
    "node_y_gd = []\n",
    "for node in G_downsized.nodes():\n",
    "    x, y = pos_gd[node]\n",
    "    node_x_gd.append(x)\n",
    "    node_y_gd.append(y)\n",
    "\n",
    "node_trace_gd = go.Scatter(\n",
    "    x=node_x_gd, y=node_y_gd,\n",
    "    mode='markers',\n",
    "    hoverinfo='text',\n",
    "    marker=dict(\n",
    "        showscale=True,\n",
    "        # colorscale options\n",
    "        #'Greys' | 'YlGnBu' | 'Greens' | 'YlOrRd' | 'Bluered' | 'RdBu' |\n",
    "        #'Reds' | 'Blues' | 'Picnic' | 'Rainbow' | 'Portland' | 'Jet' |\n",
    "        #'Hot' | 'Blackbody' | 'Earth' | 'Electric' | 'Viridis' |\n",
    "        colorscale='YlGnBu',\n",
    "        reversescale=True,\n",
    "        color=[],\n",
    "        size=10,\n",
    "        colorbar=dict(\n",
    "            thickness=15,\n",
    "            title='Node Connections',\n",
    "            xanchor='left',\n",
    "            titleside='right'\n",
    "        ),\n",
    "        line_width=2))"
   ]
  },
  {
   "cell_type": "code",
   "execution_count": 79,
   "metadata": {
    "executionInfo": {
     "elapsed": 1147,
     "status": "ok",
     "timestamp": 1601284406770,
     "user": {
      "displayName": "A D",
      "photoUrl": "",
      "userId": "14584707532892118607"
     },
     "user_tz": -120
    },
    "id": "iASDDR_cPxnu"
   },
   "outputs": [],
   "source": [
    "# Color Node Points\n",
    "node_adjacencies_gd = []\n",
    "node_text_gd = []\n",
    "for node, adjacencies in enumerate(G_downsized.adjacency()):\n",
    "    node_adjacencies_gd.append(len(adjacencies[1]))\n",
    "    node_text_gd.append('Node ' + str(adjacencies[0]) + ', ' '# of connections: '+str(len(adjacencies[1])))\n",
    "\n",
    "node_trace_gd.marker.color = node_adjacencies_gd\n",
    "node_trace_gd.text = node_text_gd"
   ]
  },
  {
   "cell_type": "code",
   "execution_count": 80,
   "metadata": {
    "colab": {
     "base_uri": "https://localhost:8080/",
     "height": 542
    },
    "executionInfo": {
     "elapsed": 1490,
     "status": "ok",
     "timestamp": 1601284430377,
     "user": {
      "displayName": "A D",
      "photoUrl": "",
      "userId": "14584707532892118607"
     },
     "user_tz": -120
    },
    "id": "uSgeTHUYPxny",
    "outputId": "103c6cc3-90e8-4fe3-c841-580f999b9c86"
   },
   "outputs": [
    {
     "data": {
      "text/html": [
       "<html>\n",
       "<head><meta charset=\"utf-8\" /></head>\n",
       "<body>\n",
       "    <div>\n",
       "            <script src=\"https://cdnjs.cloudflare.com/ajax/libs/mathjax/2.7.5/MathJax.js?config=TeX-AMS-MML_SVG\"></script><script type=\"text/javascript\">if (window.MathJax) {MathJax.Hub.Config({SVG: {font: \"STIX-Web\"}});}</script>\n",
       "                <script type=\"text/javascript\">window.PlotlyConfig = {MathJaxConfig: 'local'};</script>\n",
       "        <script src=\"https://cdn.plot.ly/plotly-latest.min.js\"></script>    \n",
       "            <div id=\"43859cde-9172-40bf-9124-22a8d07844a6\" class=\"plotly-graph-div\" style=\"height:525px; width:100%;\"></div>\n",
       "            <script type=\"text/javascript\">\n",
       "                \n",
       "                    window.PLOTLYENV=window.PLOTLYENV || {};\n",
       "                    \n",
       "                if (document.getElementById(\"43859cde-9172-40bf-9124-22a8d07844a6\")) {\n",
       "                    Plotly.newPlot(\n",
       "                        '43859cde-9172-40bf-9124-22a8d07844a6',\n",
       "                        [{\"hoverinfo\": \"none\", \"line\": {\"color\": \"#888\", \"width\": 0.5}, \"mode\": \"lines\", \"type\": \"scatter\", \"x\": [0.54881352186203, 0.6027633547782898, null, 0.6027633547782898, 0.24141861498355865, null, 0.6027633547782898, 0.2097499519586563, null, 0.6027633547782898, 0.7645619511604309, null, 0.6027633547782898, 0.795590341091156, null, 0.6027633547782898, 0.1797952950000763, null, 0.6027633547782898, 0.6267064809799194, null, 0.6027633547782898, 0.3041735589504242, null, 0.6027633547782898, 0.614527702331543, null, 0.6027633547782898, 0.2378072440624237, null, 0.6027633547782898, 0.30444636940956116, null, 0.6027633547782898, 0.739550769329071, null, 0.6027633547782898, 0.517379105091095, null, 0.6027633547782898, 0.7592824697494507, null, 0.6027633547782898, 0.9382561445236206, null, 0.6027633547782898, 0.4582122564315796, null, 0.6027633547782898, 0.20362092554569244, null, 0.42365479469299316, 0.4375872015953064, null, 0.4375872015953064, 0.9521427154541016, null, 0.4375872015953064, 0.9805801510810852, null, 0.4375872015953064, 0.754901111125946, null, 0.4375872015953064, 0.35775789618492126, null, 0.4375872015953064, 0.13128933310508728, null, 0.4375872015953064, 0.5928802490234375, null, 0.4375872015953064, 0.5772286057472229, null, 0.4375872015953064, 0.8998667597770691, null, 0.4375872015953064, 0.11242731660604477, null, 0.4375872015953064, 0.577709436416626, null, 0.4375872015953064, 0.085794597864151, null, 0.4375872015953064, 0.5964330434799194, null, 0.9636627435684204, 0.7917250394821167, null, 0.7917250394821167, 0.029950324445962906, null, 0.7917250394821167, 0.23583422601222992, null, 0.7917250394821167, 0.6396222710609436, null, 0.7917250394821167, 0.7782761454582214, null, 0.7917250394821167, 0.7263424396514893, null, 0.5680445432662964, 0.07103605568408966, null, 0.07103605568408966, 0.2672070264816284, null, 0.020218396559357643, 0.7781567573547363, null, 0.020218396559357643, 0.978618323802948, null, 0.7781567573547363, 0.296140193939209, null, 0.7781567573547363, 0.40718328952789307, null, 0.7781567573547363, 0.5361775159835815, null, 0.7781567573547363, 0.2775960862636566, null, 0.7781567573547363, 0.28173011541366577, null, 0.7781567573547363, 0.38280805945396423, null, 0.7781567573547363, 0.5436780452728271, null, 0.7781567573547363, 0.8224067091941833, null, 0.7781567573547363, 0.9894098043441772, null, 0.7781567573547363, 0.4463944137096405, null, 0.4614793658256531, 0.11827442795038223, null, 0.11827442795038223, 0.3679174780845642, null, 0.14335328340530396, 0.5218483209609985, null, 0.5218483209609985, 0.9478219151496887, null, 0.26455560326576233, 0.4561503231525421, null, 0.4561503231525421, 0.704414427280426, null, 0.4561503231525421, 0.03330462798476219, null, 0.4561503231525421, 0.19056691229343414, null, 0.4561503231525421, 0.028952548280358315, null, 0.4561503231525421, 0.183033287525177, null, 0.4561503231525421, 0.7452329397201538, null, 0.4561503231525421, 0.06918265670537949, null, 0.4561503231525421, 0.4714573323726654, null, 0.4561503231525421, 0.7730835676193237, null, 0.4561503231525421, 0.9623950719833374, null, 0.4561503231525421, 0.7368531823158264, null, 0.4561503231525421, 0.27664974331855774, null, 0.4561503231525421, 0.6646655797958374, null, 0.4561503231525421, 0.5883170962333679, null, 0.4561503231525421, 0.3494403064250946, null, 0.4561503231525421, 0.7068718075752258, null, 0.4561503231525421, 0.2763371467590332, null, 0.4561503231525421, 0.01706048659980297, null, 0.4561503231525421, 0.3798938989639282, null, 0.4561503231525421, 0.9279761910438538, null, 0.4561503231525421, 0.16249293088912964, null, 0.4561503231525421, 0.6682182550430298, null, 0.018789799883961678, 0.6120957136154175, null, 0.018789799883961678, 0.9437480568885803, null, 0.6120957136154175, 0.729990541934967, null, 0.9437480568885803, 0.7277712821960449, null, 0.9437480568885803, 0.22441361844539642, null, 0.35950788855552673, 0.6976311802864075, null, 0.35950788855552673, 0.6667667031288147, null, 0.35950788855552673, 0.21038256585597992, null, 0.6976311802864075, 0.7032175064086914, null, 0.6667667031288147, 0.8207671046257019, null, 0.6667667031288147, 0.8155238032341003, null, 0.6667667031288147, 0.6288984417915344, null, 0.21038256585597992, 0.37824517488479614, null, 0.21038256585597992, 0.7186263799667358, null, 0.21038256585597992, 0.7049480676651001, null, 0.31542834639549255, 0.5701967477798462, null, 0.5701967477798462, 0.6178767085075378, null, 0.5701967477798462, 0.6994792819023132, null, 0.5701967477798462, 0.8221177458763123, null, 0.5701967477798462, 0.4304024279117584, null, 0.5701967477798462, 0.40125951170921326, null, 0.5701967477798462, 0.13105523586273193, null, 0.5701967477798462, 0.7832344174385071, null, 0.5701967477798462, 0.08949454873800278, null, 0.5701967477798462, 0.961936354637146, null, 0.5701967477798462, 0.5413808226585388, null, 0.5701967477798462, 0.0038603513967245817, null, 0.5701967477798462, 0.36858460307121277, null, 0.5701967477798462, 0.35742464661598206, null, 0.5701967477798462, 0.441321462392807, null, 0.5701967477798462, 0.7255735397338867, null, 0.5701967477798462, 0.9222984910011292, null, 0.5701967477798462, 0.5200814008712769, null, 0.5701967477798462, 0.06107853725552559, null, 0.5701967477798462, 0.12729401886463165, null, 0.5701967477798462, 0.8590026497840881, null, 0.5701967477798462, 0.3972567617893219, null, 0.5701967477798462, 0.38954851031303406, null, 0.5701967477798462, 0.8379449248313904, null, 0.5701967477798462, 0.6915081143379211, null, 0.5701967477798462, 0.18115095794200897, null, 0.5701967477798462, 0.944625735282898, null, 0.9883738160133362, 0.20887675881385803, null, 0.20887675881385803, 0.7220556139945984, null, 0.20887675881385803, 0.4254017174243927, null, 0.20887675881385803, 0.20825324952602386, null, 0.6531082987785339, 0.4663107693195343, null, 0.4663107693195343, 0.26503971219062805, null, 0.4663107693195343, 0.9767611026763916, null, 0.15896958112716675, 0.6563295722007751, null, 0.15896958112716675, 0.1965823620557785, null, 0.6563295722007751, 0.2839999794960022, null, 0.6563295722007751, 0.9918903112411499, null, 0.6563295722007751, 0.49777689576148987, null, 0.6563295722007751, 0.480060875415802, null, 0.8209932446479797, 0.8379449248313904, null, 0.8379449248313904, 0.9878891706466675, null, 0.8379449248313904, 0.8119385838508606, null, 0.8379449248313904, 0.3335074782371521, null, 0.9764594435691833, 0.9767611026763916, null, 0.9764594435691833, 0.7392635941505432, null, 0.9767611026763916, 0.5521924495697021, null, 0.9767611026763916, 0.5305371880531311, null, 0.9767611026763916, 0.2928885519504547, null, 0.9767611026763916, 0.4181092083454132, null, 0.9767611026763916, 0.7255943417549133, null, 0.28280696272850037, 0.296140193939209, null, 0.3179831802845001, 0.06414749473333359, null, 0.06414749473333359, 0.7705807685852051, null, 0.5666014552116394, 0.5232480764389038, null, 0.5232480764389038, 0.5356327891349792, null, 0.5759465098381042, 0.3185689449310303, null, 0.3185689449310303, 0.058029159903526306, null, 0.3185689449310303, 0.6874882578849792, null, 0.3185689449310303, 0.9518744945526123, null, 0.3185689449310303, 0.6897682547569275, null, 0.3185689449310303, 0.5027207732200623, null, 0.3185689449310303, 0.39256879687309265, null, 0.3185689449310303, 0.880678117275238, null, 0.3185689449310303, 0.729990541934967, null, 0.3185689449310303, 0.304198682308197, null, 0.3185689449310303, 0.9742562174797058, null, 0.3185689449310303, 0.10721074789762497, null, 0.3185689449310303, 0.47314298152923584, null, 0.3185689449310303, 0.7332891225814819, null, 0.3185689449310303, 0.37351101636886597, null, 0.3185689449310303, 0.8890599608421326, null, 0.3185689449310303, 0.04680635407567024, null, 0.3185689449310303, 0.005152964498847723, null, 0.3185689449310303, 0.9195073843002319, null, 0.3185689449310303, 0.17700578272342682, null, 0.3185689449310303, 0.14031602442264557, null, 0.3185689449310303, 0.9371170401573181, null, 0.3185689449310303, 0.3335074782371521, null, 0.13179786503314972, 0.28940609097480774, null, 0.28940609097480774, 0.36218905448913574, null, 0.28940609097480774, 0.4904198944568634, null, 0.28940609097480774, 0.11242731660604477, null, 0.5865129232406616, 0.8289400339126587, null, 0.5865129232406616, 0.6778165102005005, null, 0.6778165102005005, 0.9805801510810852, null, 0.7351940274238586, 0.2487531453371048, null, 0.2487531453371048, 0.7705807685852051, null, 0.5920419096946716, 0.22308163344860077, null, 0.22308163344860077, 0.5896947383880615, null, 0.4471253752708435, 0.6994792819023132, null, 0.6994792819023132, 0.22741462290287018, null, 0.6994792819023132, 0.990338921546936, null, 0.8137978315353394, 0.8811032176017761, null, 0.8811032176017761, 0.6222310662269592, null, 0.8811032176017761, 0.4238550364971161, null, 0.8811032176017761, 0.16235794126987457, null, 0.8811032176017761, 0.6288984417915344, null, 0.8817353844642639, 0.7252542972564697, null, 0.7252542972564697, 0.2656325399875641, null, 0.7252542972564697, 0.48375287652015686, null, 0.7252542972564697, 0.8119385838508606, null, 0.9560836553573608, 0.4238550364971161, null, 0.019193198531866074, 0.6601735353469849, null, 0.6601735353469849, 0.05537432059645653, null, 0.6180154085159302, 0.1354740709066391, null, 0.1354740709066391, 0.25868406891822815, null, 0.1354740709066391, 0.9561231732368469, null, 0.1354740709066391, 0.16235794126987457, null, 0.5699648857116699, 0.5743252635002136, null, 0.5743252635002136, 0.18563593924045563, null, 0.5743252635002136, 0.6874882578849792, null, 0.5743252635002136, 0.9473705887794495, null, 0.5743252635002136, 0.2539416551589966, null, 0.6521032452583313, 0.8965466022491455, null, 0.8965466022491455, 0.1621202677488327, null, 0.4358649253845215, 0.806194007396698, null, 0.806194007396698, 0.27354204654693604, null, 0.806194007396698, 0.940209686756134, null, 0.10022688657045364, 0.7142413258552551, null, 0.7142413258552551, 0.3679174780845642, null, 0.7142413258552551, 0.06885196268558502, null, 0.7142413258552551, 0.10462789237499237, null, 0.14944830536842346, 0.16249293088912964, null, 0.1238199844956398, 0.8073189854621887, null, 0.1238199844956398, 0.40718328952789307, null, 0.40718328952789307, 0.24082878232002258, null, 0.6974287629127502, 0.7220556139945984, null, 0.7220556139945984, 0.9661474227905273, null, 0.7220556139945984, 0.6719571352005005, null, 0.9755215048789978, 0.011714084073901176, null, 0.011714084073901176, 0.40724116563796997, null, 0.729990541934967, 0.015606064349412918, null, 0.5210366249084473, 0.19999653100967407, null, 0.19999653100967407, 0.5181497931480408, null, 0.793697714805603, 0.3453516662120819, null, 0.3453516662120819, 0.05684807524085045, null, 0.3453516662120819, 0.24606318771839142, null, 0.3453516662120819, 0.5145127177238464, null, 0.3453516662120819, 0.3302670419216156, null, 0.3453516662120819, 0.8536060452461243, null, 0.3453516662120819, 0.7239413857460022, null, 0.3453516662120819, 0.024272704496979713, null, 0.3453516662120819, 0.5241838693618774, null, 0.3453516662120819, 0.6375827193260193, null, 0.3453516662120819, 0.7782761454582214, null, 0.1646941602230072, 0.5772286057472229, null, 0.5772286057472229, 0.34989768266677856, null, 0.5772286057472229, 0.024577023461461067, null, 0.9342139959335327, 0.5356327891349792, null, 0.5356327891349792, 0.9065554738044739, null, 0.5356327891349792, 0.1390727013349533, null, 0.5356327891349792, 0.18115095794200897, null, 0.7301220297813416, 0.39822107553482056, null, 0.39822107553482056, 0.9413776993751526, null, 0.39822107553482056, 0.6964631676673889, null, 0.39822107553482056, 0.40379273891448975, null, 0.39822107553482056, 0.675689160823822, null, 0.39822107553482056, 0.2672070264816284, null, 0.39822107553482056, 0.8667885661125183, null, 0.39822107553482056, 0.4014279544353485, null, 0.39822107553482056, 0.8108386397361755, null, 0.18619300425052643, 0.739550769329071, null, 0.3117958903312683, 0.37775182723999023, null, 0.3117958903312683, 0.024678727611899376, null, 0.3117958903312683, 0.6793927550315857, null, 0.3117958903312683, 0.5365791916847229, null, 0.024678727611899376, 0.60039222240448, null, 0.6793927550315857, 0.5181497931480408, null, 0.6630781888961792, 0.02065099962055683, null, 0.6630781888961792, 0.32001715898513794, null, 0.6630781888961792, 0.5883170962333679, null, 0.32001715898513794, 0.7202658653259277, null, 0.6289818286895752, 0.27354204654693604, null, 0.27354204654693604, 0.2930202782154083, null, 0.6874882578849792, 0.9729194641113281, null, 0.518200695514679, 0.20747007429599762, null, 0.518200695514679, 0.3741699755191803, null, 0.518200695514679, 0.27762871980667114, null, 0.20747007429599762, 0.7908401489257812, null, 0.20747007429599762, 0.22121812403202057, null, 0.27762871980667114, 0.5928802490234375, null, 0.8638556003570557, 0.517379105091095, null, 0.517379105091095, 0.4758262038230896, null, 0.7168596982955933, 0.5654212832450867, null, 0.5654212832450867, 0.5546450614929199, null, 0.14484776556491852, 0.35561272501945496, null, 0.35561272501945496, 0.39523324370384216, null, 0.35561272501945496, 0.8075637817382812, null, 0.7653252482414246, 0.9037197232246399, null, 0.9037197232246399, 0.7734555602073669, null, 0.9037197232246399, 0.6232946515083313, null, 0.9037197232246399, 0.9627703428268433, null, 0.5521924495697021, 0.961936354637146, null, 0.24082878232002258, 0.016429629176855087, null, 0.016429629176855087, 0.4581388235092163, null, 0.669916570186615, 0.28173011541366577, null, 0.28173011541366577, 0.9249669313430786, null, 0.06395526975393295, 0.9774951338768005, null, 0.9774951338768005, 0.96779465675354, null, 0.9774951338768005, 0.7263424396514893, null, 0.3381589651107788, 0.23170162737369537, null, 0.23170162737369537, 0.5113189816474915, null, 0.23170162737369537, 0.6719571352005005, null, 0.9413776993751526, 0.6304479241371155, null, 0.34723350405693054, 0.9818294048309326, null, 0.9818294048309326, 0.7400975227355957, null, 0.9818294048309326, 0.6223844289779663, null, 0.9818294048309326, 0.20492368936538696, null, 0.49739137291908264, 0.36858460307121277, null, 0.5113189816474915, 0.09784448146820068, null, 0.9729194641113281, 0.9704936742782593, null, 0.3331451416015625, 0.40724116563796997, null, 0.40724116563796997, 0.3330720365047455, null, 0.40724116563796997, 0.5823197364807129, null, 0.40724116563796997, 0.28754448890686035, null, 0.13248763978481293, 0.7255943417549133, null, 0.7255943417549133, 0.1746583878993988, null, 0.7705807685852051, 0.27243688702583313, null, 0.7705807685852051, 0.21645726263523102, null, 0.7705807685852051, 0.914863109588623, null, 0.7705807685852051, 0.22864654660224915, null, 0.7705807685852051, 0.7275469899177551, null, 0.7705807685852051, 0.8161507248878479, null, 0.7705807685852051, 0.04117979109287262, null, 0.7705807685852051, 0.8028934001922607, null, 0.7705807685852051, 0.9478219151496887, null, 0.07952208071947098, 0.6720477938652039, null, 0.6720477938652039, 0.4581388235092163, null, 0.4205394685268402, 0.8605511784553528, null, 0.8605511784553528, 0.6232946515083313, null, 0.2703278958797455, 0.05537432059645653, null, 0.05537432059645653, 0.5149222016334534, null, 0.05537432059645653, 0.20279604196548462, null, 0.05537432059645653, 0.983853816986084, null, 0.2621181607246399, 0.6832813620567322, null, 0.6832813620567322, 0.8623185753822327, null, 0.28351885080337524, 0.18115095794200897, null, 0.18115095794200897, 0.3926756680011749, null, 0.18115095794200897, 0.5886390209197998, null, 0.05684807524085045, 0.7786954045295715, null, 0.25942257046699524, 0.5875996351242065, null, 0.5875996351242065, 0.11242731660604477, null, 0.3708527982234955, 0.4598558843135834, null, 0.4598558843135834, 0.5771402716636658, null, 0.4598558843135834, 0.01632850244641304, null, 0.4598558843135834, 0.7781715989112854, null, 0.4598558843135834, 0.22864654660224915, null, 0.7997958660125732, 0.5188351273536682, null, 0.5188351273536682, 0.7307090759277344, null, 0.5188351273536682, 0.09680395573377609, null, 0.5188351273536682, 0.9031496644020081, null, 0.5775429606437683, 0.6455702185630798, null, 0.6455702185630798, 0.40905410051345825, null, 0.6455702185630798, 0.5189899206161499, null, 0.6455702185630798, 0.28754448890686035, null, 0.6455702185630798, 0.11655861139297485, null, 0.1871308982372284, 0.5438059568405151, null, 0.5438059568405151, 0.7730835676193237, null, 0.8820413947105408, 0.7241676449775696, null, 0.8820413947105408, 0.9040443897247314, null, 0.7241676449775696, 0.6996220350265503, null, 0.6996220350265503, 0.024313200265169144, null, 0.7567786574363708, 0.2400202751159668, null, 0.7567786574363708, 0.796391487121582, null, 0.796391487121582, 0.6288984417915344, null, 0.4581388235092163, 0.8577226400375366, null, 0.6288984417915344, 0.09680395573377609, null, 0.6288984417915344, 0.4260023832321167, null, 0.06271295249462128, 0.25868406891822815, null, 0.35536885261535645, 0.01632850244641304, null, 0.0996149331331253, 0.869488537311554, null, 0.869488537311554, 0.11242731660604477, null, 0.326700896024704, 0.6144647002220154, null, 0.326700896024704, 0.015606064349412918, null, 0.6144647002220154, 0.2828368544578552, null, 0.6144647002220154, 0.7732591032981873, null, 0.6144647002220154, 0.992667019367218, null, 0.015606064349412918, 0.7510216236114502, null, 0.015606064349412918, 0.0020646355114877224, null, 0.015606064349412918, 0.7986892461776733, null, 0.06807407736778259, 0.2211609184741974, null, 0.2211609184741974, 0.22441361844539642, null, 0.11548429727554321, 0.9742562174797058, null, 0.6387617588043213, 0.9894098043441772, null, 0.9894098043441772, 0.31038081645965576, null, 0.9894098043441772, 0.3719187378883362, null, 0.24606318771839142, 0.5173085331916809, null, 0.24606318771839142, 0.5546877980232239, null, 0.7065746784210205, 0.3605455458164215, null, 0.3605455458164215, 0.5305371880531311, null, 0.2326269894838333, 0.8149664998054504, null, 0.8149664998054504, 0.8298973441123962, null, 0.8149664998054504, 0.6803486943244934, null, 0.8149664998054504, 0.028952548280358315, null, 0.8149664998054504, 0.4753247797489166, null, 0.8149664998054504, 0.2991536557674408, null, 0.8149664998054504, 0.48627209663391113, null, 0.9689717292785645, 0.2965562641620636, null, 0.2965562641620636, 0.7068718075752258, null, 0.24942004680633545, 0.9509525895118713, null, 0.9509525895118713, 0.13128933310508728, null, 0.3742961883544922, 0.2378072440624237, null, 0.4492916464805603, 0.8391891121864319, null, 0.4492916464805603, 0.5023894309997559, null, 0.8391891121864319, 0.002703213831409812, null, 0.5023894309997559, 0.28754448890686035, null, 0.6339976787567139, 0.940209686756134, null, 0.940209686756134, 0.676242470741272, null, 0.940209686756134, 0.1747720092535019, null, 0.940209686756134, 0.9031496644020081, null, 0.940209686756134, 0.9958152770996094, null, 0.940209686756134, 0.8595808148384094, null, 0.940209686756134, 0.6394627690315247, null, 0.940209686756134, 0.9062314033508301, null, 0.940209686756134, 0.31655019521713257, null, 0.940209686756134, 0.8882650136947632, null, 0.940209686756134, 0.652999758720398, null, 0.940209686756134, 0.5488492846488953, null, 0.940209686756134, 0.09861037135124207, null, 0.940209686756134, 0.11149605363607407, null, 0.940209686756134, 0.40537357330322266, null, 0.940209686756134, 0.6682182550430298, null, 0.6995750665664673, 0.9944007992744446, null, 0.6995750665664673, 0.07086978107690811, null, 0.07086978107690811, 0.24841345846652985, null, 0.15235470235347748, 0.13128933310508728, null, 0.13128933310508728, 0.618826150894165, null, 0.13128933310508728, 0.06263600289821625, null, 0.13128933310508728, 0.8108386397361755, null, 0.13128933310508728, 0.0006642185617238283, null, 0.13128933310508728, 0.6308318376541138, null, 0.2748235762119293, 0.8967611789703369, null, 0.8967611789703369, 0.5436780452728271, null, 0.5520782470703125, 0.4554441571235657, null, 0.4554441571235657, 0.335498183965683, null, 0.4554441571235657, 0.8093649744987488, null, 0.4554441571235657, 0.9543338418006897, null, 0.24841345846652985, 0.22139644622802734, null, 0.5249704718589783, 0.3335074782371521, null, 0.3335074782371521, 0.48767632246017456, null, 0.3335074782371521, 0.9217190742492676, null, 0.3335074782371521, 0.21383534371852875, null, 0.3335074782371521, 0.14181727170944214, null, 0.3335074782371521, 0.8075637817382812, null, 0.3335074782371521, 0.4463944137096405, null, 0.3335074782371521, 0.3165425658226013, null, 0.8623185753822327, 0.408302903175354, null, 0.8623185753822327, 0.4724137783050537, null, 0.2536425292491913, 0.10462789237499237, null, 0.10462789237499237, 0.06107853725552559, null, 0.10462789237499237, 0.39791861176490784, null, 0.20492368936538696, 0.005310047417879105, null, 0.030235258862376213, 0.007884103804826736, null, 0.007884103804826736, 0.028952548280358315, null, 0.007884103804826736, 0.9478219151496887, null, 0.08949454873800278, 0.024313200265169144, null, 0.60039222240448, 0.9627703428268433, null, 0.6964824199676514, 0.5098071694374084, null, 0.5098071694374084, 0.3330720365047455, null, 0.44203564524650574, 0.6939564347267151, null, 0.44203564524650574, 0.2277594953775406, null, 0.6939564347267151, 0.6383901238441467, null, 0.2277594953775406, 0.5546450614929199, null, 0.6232946515083313, 0.3732159435749054, null, 0.6232946515083313, 0.5010631680488586, null, 0.6232946515083313, 0.364911824464798, null, 0.9805801510810852, 0.020950069651007652, null, 0.8298973441123962, 0.919782817363739, null, 0.16046763956546783, 0.4463944137096405, null, 0.4463944137096405, 0.4246630072593689, null, 0.4463944137096405, 0.6641970872879028, null, 0.16023047268390656, 0.4402637481689453, null, 0.4402637481689453, 0.43307745456695557, null, 0.4402637481689453, 0.14150647819042206, null, 0.4402637481689453, 0.14038395881652832, null, 0.03961552307009697, 0.06107853725552559, null, 0.06107853725552559, 0.8671671748161316, null, 0.06107853725552559, 0.408302903175354, null, 0.7398838996887207, 0.6725823283195496, null, 0.7398838996887207, 0.30444636940956116, null, 0.30444636940956116, 0.35775789618492126, null, 0.6803486943244934, 0.60724937915802, null, 0.6803486943244934, 0.2839999794960022, null, 0.2839999794960022, 0.43298420310020447, null, 0.4565199017524719, 0.9704936742782593, null, 0.9704936742782593, 0.7151432633399963, null, 0.5910269021987915, 0.3972567617893219, null, 0.3972567617893219, 0.773110032081604, null, 0.3972567617893219, 0.5112217664718628, null, 0.3972567617893219, 0.10241375863552094, null, 0.3972567617893219, 0.8002555966377258, null, 0.35189300775527954, 0.6375827193260193, null, 0.6375827193260193, 0.6057119369506836, null, 0.9762256741523743, 0.7645619511604309, null, 0.06263600289821625, 0.432281494140625, null, 0.7730835676193237, 0.043975431472063065, null, 0.1173204779624939, 0.5896947383880615, null, 0.1173204779624939, 0.848150372505188, null, 0.1173204779624939, 0.9834262132644653, null, 0.848150372505188, 0.3494403064250946, null, 0.848150372505188, 0.7263424396514893, null, 0.3803351819515228, 0.6849344372749329, null, 0.6849344372749329, 0.2503982186317444, null, 0.6849344372749329, 0.7573641538619995, null, 0.6849344372749329, 0.6573188900947571, null, 0.6849344372749329, 0.48496565222740173, null, 0.8620625734329224, 0.49777689576148987, null, 0.49777689576148987, 0.9851086735725403, null, 0.2415570467710495, 0.8595808148384094, null, 0.8595808148384094, 0.005310047417879105, null, 0.47062090039253235, 0.45705875754356384, null, 0.45705875754356384, 0.3165425658226013, null, 0.4237063527107239, 0.11731556057929993, null, 0.11731556057929993, 0.399161159992218, null, 0.40379273891448975, 0.6713835000991821, null, 0.713766872882843, 0.399161159992218, null, 0.713766872882843, 0.614527702331543, null, 0.399161159992218, 0.8818964958190918, null, 0.11047711223363876, 0.40537357330322266, null, 0.10978446155786514, 0.7032175064086914, null, 0.7032175064086914, 0.15336887538433075, null, 0.95914226770401, 0.8671671748161316, null, 0.534916877746582, 0.5241838693618774, null, 0.080532006919384, 0.22139644622802734, null, 0.22139644622802734, 0.6211692690849304, null, 0.22139644622802734, 0.7348137497901917, null, 0.22139644622802734, 0.8998667597770691, null, 0.06560486555099487, 0.1621202677488327, null, 0.1621202677488327, 0.16235794126987457, null, 0.15336887538433075, 0.35422483086586, null, 0.690784752368927, 0.7592824697494507, null, 0.7592824697494507, 0.30852794647216797, null, 0.364911824464798, 0.8975427746772766, null, 0.364911824464798, 0.0020646355114877224, null, 0.49597030878067017, 0.27734026312828064, null, 0.49597030878067017, 0.117380291223526, null, 0.49597030878067017, 0.04680635407567024, null, 0.117380291223526, 0.10816552489995956, null, 0.0038603513967245817, 0.6128667593002319, null, 0.9663899540901184, 0.3004036843776703, null, 0.9663899540901184, 0.9308187365531921, null, 0.9308187365531921, 0.4445872902870178, null, 0.2476850152015686, 0.8587774634361267, null, 0.8587774634361267, 0.27832528948783875, null, 0.4445872902870178, 0.14150647819042206, null, 0.9227566123008728, 0.4530942440032959, null, 0.4530942440032959, 0.11242731660604477, null, 0.842854917049408, 0.10241375863552094, null, 0.5682175755500793, 0.5964330434799194, null, 0.5964330434799194, 0.8611230254173279, null, 0.5964330434799194, 0.9438508749008179, null, 0.5964330434799194, 0.3165425658226013, null, 0.9758838415145874, 0.39179694652557373, null, 0.39179694652557373, 0.577709436416626, null, 0.0399928018450737, 0.408302903175354, null, 0.8093649744987488, 0.6002128720283508, null, 0.28856995701789856, 0.11242731660604477, null, 0.11242731660604477, 0.8735568523406982, null, 0.11242731660604477, 0.8237176537513733, null, 0.11242731660604477, 0.6150580048561096, null, 0.11242731660604477, 0.48258423805236816, null, 0.11242731660604477, 0.19899094104766846, null, 0.20825324952602386, 0.8119385838508606, null, 0.21539820730686188, 0.8028934001922607, null, 0.8028934001922607, 0.2543824017047882, null, 0.8028934001922607, 0.05107548087835312, null, 0.8028934001922607, 0.16981950402259827, null, 0.7278881669044495, 0.8119385838508606, null, 0.8119385838508606, 0.9804856777191162, null, 0.8119385838508606, 0.5905853509902954, null, 0.4181092083454132, 0.9998085498809814, null, 0.6002128720283508, 0.14780133962631226, null, 0.14780133962631226, 0.8760268688201904, null, 0.898961067199707, 0.5326685905456543, null, 0.898961067199707, 0.3165425658226013, null, 0.3165425658226013, 0.2959498465061188, null, 0.9149707555770874, 0.7275469899177551, null, 0.7275469899177551, 0.9132843613624573, null, 0.7275469899177551, 0.5525813102722168, null, 0.577709436416626, 0.01946246810257435, null, 0.577709436416626, 0.28754448890686035, null, 0.795590341091156, 0.7708727717399597, null, 0.441321462392807, 0.44836917519569397, null, 0.21145479381084442, 0.8760268688201904, null, 0.8760268688201904, 0.9438508749008179, null, 0.12012018263339996, 0.17537206411361694, null, 0.12012018263339996, 0.8998667597770691, null, 0.8998667597770691, 0.103990837931633, null, 0.8634706735610962, 0.3679174780845642, null, 0.48496565222740173, 0.5546450614929199, null, 0.48496565222740173, 0.5823197364807129, null, 0.4755891263484955, 0.29818734526634216, null, 0.29818734526634216, 0.27664974331855774, null, 0.14038395881652832, 0.5886390209197998, null, 0.21766284108161926, 0.16235794126987457, null, 0.22010385990142822, 0.11149605363607407, null, 0.11149605363607407, 0.004654836840927601, null, 0.32233354449272156, 0.48258423805236816, null, 0.7348137497901917, 0.9391608834266663, null, 0.9998085498809814, 0.10244628041982651, null, 0.5349081754684448, 0.3041735589504242, null, 0.9222984910011292, 0.8738321661949158, null, 0.21383534371852875, 0.012171156704425812, null, 0.22956743836402893, 0.7368531823158264, null, 0.5928802490234375, 0.7193890810012817, null, 0.5928802490234375, 0.7782761454582214, null, 0.5928802490234375, 0.12802086770534515, null, 0.020950069651007652, 0.3296511471271515, null, 0.4894586205482483, 0.5886390209197998, null, 0.024272704496979713, 0.6521245837211609, null, 0.8237176537513733, 0.3106292188167572, null, 0.27832528948783875, 0.6915081143379211, null, 0.27832528948783875, 0.2646495997905731, null, 0.39791861176490784, 0.14095747470855713, null, 0.8611230254173279, 0.04290619120001793, null, 0.10025174170732498, 0.01706048659980297, null, 0.2959498465061188, 0.26590561866760254, null, 0.44137415289878845, 0.5220624208450317, null, 0.5220624208450317, 0.48627209663391113, null, 0.34989768266677856, 0.23057128489017487, null, 0.23057128489017487, 0.6271607279777527, null, 0.8002555966377258, 0.10357846319675446, null, 0.751032292842865, 0.4260023832321167, null, 0.983853816986084, 0.9279761910438538, null, 0.38954851031303406, 0.18581674993038177, null, 0.7068718075752258, 0.9829991459846497, null], \"y\": [0.7151893377304077, 0.5448831915855408, null, 0.5448831915855408, 0.6625045537948608, null, 0.5448831915855408, 0.11570323258638382, null, 0.5448831915855408, 0.6982485055923462, null, 0.5448831915855408, 0.34453046321868896, null, 0.5448831915855408, 0.34550565481185913, null, 0.5448831915855408, 0.7275435924530029, null, 0.5448831915855408, 0.5910654067993164, null, 0.5448831915855408, 0.0700421929359436, null, 0.5448831915855408, 0.17185309529304504, null, 0.5448831915855408, 0.997962236404419, null, 0.5448831915855408, 0.49045881628990173, null, 0.5448831915855408, 0.13206811249256134, null, 0.5448831915855408, 0.3645446300506592, null, 0.5448831915855408, 0.24456961452960968, null, 0.5448831915855408, 0.7574065327644348, null, 0.5448831915855408, 0.5663115978240967, null, 0.6458941102027893, 0.891772985458374, null, 0.891772985458374, 0.300028920173645, null, 0.891772985458374, 0.8717857599258423, null, 0.891772985458374, 0.8850218653678894, null, 0.891772985458374, 0.16368426382541656, null, 0.891772985458374, 0.6041178107261658, null, 0.891772985458374, 0.010063695721328259, null, 0.891772985458374, 0.23789282143115997, null, 0.891772985458374, 0.0568772591650486, null, 0.891772985458374, 0.21243436634540558, null, 0.891772985458374, 0.7791794538497925, null, 0.891772985458374, 0.06268886476755142, null, 0.891772985458374, 0.11752564460039139, null, 0.3834415078163147, 0.5288949012756348, null, 0.5288949012756348, 0.73725426197052, null, 0.5288949012756348, 0.6204999089241028, null, 0.5288949012756348, 0.9485403299331665, null, 0.5288949012756348, 0.8483452796936035, null, 0.5288949012756348, 0.5369229912757874, null, 0.9255966544151306, 0.08712930232286453, null, 0.08712930232286453, 0.8773987889289856, null, 0.832619845867157, 0.8700121641159058, null, 0.832619845867157, 0.7991585731506348, null, 0.8700121641159058, 0.11872772127389908, null, 0.8700121641159058, 0.06916699558496475, null, 0.8700121641159058, 0.6813924908638, null, 0.8700121641159058, 0.12886056303977966, null, 0.8700121641159058, 0.5864101648330688, null, 0.8700121641159058, 0.8953858613967896, null, 0.8700121641159058, 0.2826996445655823, null, 0.8700121641159058, 0.65342116355896, null, 0.8700121641159058, 0.06530420482158661, null, 0.8700121641159058, 0.9078755974769592, null, 0.7805292010307312, 0.6399210095405579, null, 0.6399210095405579, 0.3423423767089844, null, 0.9446688890457153, 0.4146619439125061, null, 0.4146619439125061, 0.7285587191581726, null, 0.7742336988449097, 0.568433940410614, null, 0.568433940410614, 0.031838931143283844, null, 0.568433940410614, 0.9589827060699463, null, 0.568433940410614, 0.01912289671599865, null, 0.568433940410614, 0.8956912755966187, null, 0.568433940410614, 0.4030260145664215, null, 0.568433940410614, 0.5269074440002441, null, 0.568433940410614, 0.8791733384132385, null, 0.568433940410614, 0.06809309870004654, null, 0.568433940410614, 0.9587409496307373, null, 0.568433940410614, 0.11052229255437851, null, 0.568433940410614, 0.0976763665676117, null, 0.568433940410614, 0.5063429474830627, null, 0.568433940410614, 0.42305442690849304, null, 0.568433940410614, 0.8310484290122986, null, 0.568433940410614, 0.7814795970916748, null, 0.568433940410614, 0.6495342254638672, null, 0.568433940410614, 0.3695235550403595, null, 0.568433940410614, 0.9670549035072327, null, 0.568433940410614, 0.5604506134986877, null, 0.568433940410614, 0.8668609261512756, null, 0.568433940410614, 0.6155595779418945, null, 0.568433940410614, 0.28671666979789734, null, 0.6176354885101318, 0.6169340014457703, null, 0.6176354885101318, 0.681820273399353, null, 0.6169340014457703, 0.17162968218326569, null, 0.681820273399353, 0.8151993751525879, null, 0.681820273399353, 0.9536756873130798, null, 0.43703195452690125, 0.0602254718542099, null, 0.43703195452690125, 0.670637845993042, null, 0.43703195452690125, 0.12892629206180573, null, 0.0602254718542099, 0.6347863078117371, null, 0.670637845993042, 0.9088436961174011, null, 0.670637845993042, 0.15941447019577026, null, 0.670637845993042, 0.39843425154685974, null, 0.12892629206180573, 0.979526937007904, null, 0.12892629206180573, 0.33597755432128906, null, 0.12892629206180573, 0.41863685846328735, null, 0.36371076107025146, 0.4386015236377716, null, 0.4386015236377716, 0.013236857950687408, null, 0.4386015236377716, 0.2974369525909424, null, 0.4386015236377716, 0.1898479163646698, null, 0.4386015236377716, 0.5100168585777283, null, 0.4386015236377716, 0.9292914271354675, null, 0.4386015236377716, 0.012036222964525223, null, 0.4386015236377716, 0.28839850425720215, null, 0.4386015236377716, 0.40594232082366943, null, 0.4386015236377716, 0.29214751720428467, null, 0.4386015236377716, 0.9233060479164124, null, 0.4386015236377716, 0.17857997119426727, null, 0.4386015236377716, 0.13690027594566345, null, 0.4386015236377716, 0.6216654181480408, null, 0.4386015236377716, 0.4864104390144348, null, 0.4386015236377716, 0.03855724632740021, null, 0.4386015236377716, 0.4923613965511322, null, 0.4386015236377716, 0.030661048367619514, null, 0.4386015236377716, 0.9077329635620117, null, 0.4386015236377716, 0.5258089303970337, null, 0.4386015236377716, 0.15202723443508148, null, 0.4386015236377716, 0.9992780089378357, null, 0.4386015236377716, 0.26376768946647644, null, 0.4386015236377716, 0.0960984081029892, null, 0.4386015236377716, 0.10890373587608337, null, 0.4386015236377716, 0.7885454893112183, null, 0.4386015236377716, 0.1355484277009964, null, 0.10204481333494186, 0.16130951046943665, null, 0.16130951046943665, 0.8663823008537292, null, 0.16130951046943665, 0.06355377286672592, null, 0.16130951046943665, 0.9323939681053162, null, 0.25329160690307617, 0.24442559480667114, null, 0.24442559480667114, 0.06614946573972702, null, 0.24442559480667114, 0.6048455238342285, null, 0.11037514358758926, 0.13818295300006866, null, 0.11037514358758926, 0.3687251806259155, null, 0.13818295300006866, 0.2384132742881775, null, 0.13818295300006866, 0.3767412602901459, null, 0.13818295300006866, 0.5810819268226624, null, 0.13818295300006866, 0.5221758484840393, null, 0.09710127860307693, 0.0960984081029892, null, 0.0960984081029892, 0.6033229827880859, null, 0.0960984081029892, 0.47938454151153564, null, 0.0960984081029892, 0.9241587519645691, null, 0.4686512053012848, 0.6048455238342285, null, 0.4686512053012848, 0.03918779268860817, null, 0.6048455238342285, 0.5844760537147522, null, 0.6048455238342285, 0.922111451625824, null, 0.6048455238342285, 0.715052604675293, null, 0.6048455238342285, 0.1729513555765152, null, 0.6048455238342285, 0.011427458375692368, null, 0.12019655853509903, 0.11872772127389908, null, 0.414262980222702, 0.6924721002578735, null, 0.6924721002578735, 0.14694663882255554, null, 0.26538950204849243, 0.09394051134586334, null, 0.09394051134586334, 0.5899099707603455, null, 0.9292961955070496, 0.6674103736877441, null, 0.6674103736877441, 0.43441662192344666, null, 0.6674103736877441, 0.21550767123699188, null, 0.6674103736877441, 0.5757511854171753, null, 0.6674103736877441, 0.05835635960102081, null, 0.6674103736877441, 0.9223479628562927, null, 0.6674103736877441, 0.8783724904060364, null, 0.6674103736877441, 0.9450267553329468, null, 0.6674103736877441, 0.17162968218326569, null, 0.6674103736877441, 0.07535906881093979, null, 0.6674103736877441, 0.9903450012207031, null, 0.6674103736877441, 0.8173391222953796, null, 0.6674103736877441, 0.8822836875915527, null, 0.6674103736877441, 0.40972620248794556, null, 0.6674103736877441, 0.5156383514404297, null, 0.6674103736877441, 0.7372785806655884, null, 0.6674103736877441, 0.9707314372062683, null, 0.6674103736877441, 0.6941578388214111, null, 0.6674103736877441, 0.7104557752609253, null, 0.6674103736877441, 0.483518123626709, null, 0.6674103736877441, 0.3589952886104584, null, 0.6674103736877441, 0.923305332660675, null, 0.6674103736877441, 0.9241587519645691, null, 0.7163271903991699, 0.18319135904312134, null, 0.18319135904312134, 0.47064894437789917, null, 0.18319135904312134, 0.18534858524799347, null, 0.18319135904312134, 0.21243436634540558, null, 0.02010754682123661, 0.004695476032793522, null, 0.02010754682123661, 0.2700079679489136, null, 0.2700079679489136, 0.8717857599258423, null, 0.9621885418891907, 0.5761573314666748, null, 0.5761573314666748, 0.14694663882255554, null, 0.5722519159317017, 0.9527490139007568, null, 0.9527490139007568, 0.7453980445861816, null, 0.8464086651802063, 0.2974369525909424, null, 0.2974369525909424, 0.2543564736843109, null, 0.2974369525909424, 0.21689698100090027, null, 0.396505743265152, 0.5812729001045227, null, 0.5812729001045227, 0.2790679335594177, null, 0.5812729001045227, 0.6063932180404663, null, 0.5812729001045227, 0.29084089398384094, null, 0.5812729001045227, 0.39843425154685974, null, 0.6925315856933594, 0.5013243556022644, null, 0.5013243556022644, 0.013508706353604794, null, 0.5013243556022644, 0.25611379742622375, null, 0.5013243556022644, 0.47938454151153564, null, 0.6439902186393738, 0.6063932180404663, null, 0.30157482624053955, 0.2900775969028473, null, 0.2900775969028473, 0.3015986382961273, null, 0.42876869440078735, 0.29828232526779175, null, 0.29828232526779175, 0.849038302898407, null, 0.29828232526779175, 0.33044058084487915, null, 0.29828232526779175, 0.29084089398384094, null, 0.5908727645874023, 0.6532008051872253, null, 0.6532008051872253, 0.9527916312217712, null, 0.6532008051872253, 0.21550767123699188, null, 0.6532008051872253, 0.7308558225631714, null, 0.6532008051872253, 0.21331197023391724, null, 0.43141844868659973, 0.36756187677383423, null, 0.36756187677383423, 0.5596824288368225, null, 0.8919233679771423, 0.7038885951042175, null, 0.7038885951042175, 0.7980468273162842, null, 0.7038885951042175, 0.7507648468017578, null, 0.9194825887680054, 0.9988470077514648, null, 0.9988470077514648, 0.3423423767089844, null, 0.9988470077514648, 0.7057100534439087, null, 0.9988470077514648, 0.34847599267959595, null, 0.8681260347366333, 0.6155595779418945, null, 0.8480082154273987, 0.5691007375717163, null, 0.8480082154273987, 0.06916699558496475, null, 0.06916699558496475, 0.10029394179582596, null, 0.45354267954826355, 0.8663823008537292, null, 0.8663823008537292, 0.7918795943260193, null, 0.8663823008537292, 0.9488610029220581, null, 0.855803370475769, 0.359978049993515, null, 0.359978049993515, 0.2322341352701187, null, 0.17162968218326569, 0.428795725107193, null, 0.054337989538908005, 0.01852179504930973, null, 0.01852179504930973, 0.8427768349647522, null, 0.2239246815443039, 0.9280812740325928, null, 0.9280812740325928, 0.6969972252845764, null, 0.9280812740325928, 0.6658591032028198, null, 0.9280812740325928, 0.36792758107185364, null, 0.9280812740325928, 0.8138801455497742, null, 0.9280812740325928, 0.8894479274749756, null, 0.9280812740325928, 0.5591737627983093, null, 0.9280812740325928, 0.4301159977912903, null, 0.9280812740325928, 0.36509987711906433, null, 0.9280812740325928, 0.8130538463592529, null, 0.9280812740325928, 0.8483452796936035, null, 0.6214783787727356, 0.23789282143115997, null, 0.23789282143115997, 0.7064105868339539, null, 0.23789282143115997, 0.6339869499206543, null, 0.6139659285545349, 0.5899099707603455, null, 0.5899099707603455, 0.774047315120697, null, 0.5899099707603455, 0.4269043505191803, null, 0.5899099707603455, 0.7885454893112183, null, 0.31194499135017395, 0.20984375476837158, null, 0.20984375476837158, 0.799202561378479, null, 0.20984375476837158, 0.2473987489938736, null, 0.20984375476837158, 0.39981213212013245, null, 0.20984375476837158, 0.24488948285579681, null, 0.20984375476837158, 0.8773987889289856, null, 0.20984375476837158, 0.6277347803115845, null, 0.20984375476837158, 0.41669175028800964, null, 0.20984375476837158, 0.3481919467449188, null, 0.9443724155426025, 0.49045881628990173, null, 0.6963434815406799, 0.1796036809682846, null, 0.6963434815406799, 0.06724963337182999, null, 0.6963434815406799, 0.4536968469619751, null, 0.6963434815406799, 0.8966712951660156, null, 0.06724963337182999, 0.5887396335601807, null, 0.4536968469619751, 0.8427768349647522, null, 0.2633223831653595, 0.7583786249160767, null, 0.2633223831653595, 0.38346388936042786, null, 0.2633223831653595, 0.8310484290122986, null, 0.38346388936042786, 0.9253950119018555, null, 0.872650682926178, 0.7980468273162842, null, 0.7980468273162842, 0.8489435315132141, null, 0.21550767123699188, 0.9608346819877625, null, 0.02566271834075451, 0.4246854782104492, null, 0.02566271834075451, 0.46357542276382446, null, 0.02566271834075451, 0.5867843627929688, null, 0.4246854782104492, 0.09724292904138565, null, 0.4246854782104492, 0.68372642993927, null, 0.5867843627929688, 0.010063695721328259, null, 0.11753185838460922, 0.13206811249256134, null, 0.13206811249256134, 0.7087703943252563, null, 0.39605969190597534, 0.1832798421382904, null, 0.1832798421382904, 0.8268616199493408, null, 0.4880562722682953, 0.9404319524765015, null, 0.9404319524765015, 0.310839980840683, null, 0.9404319524765015, 0.051007308065891266, null, 0.748663604259491, 0.08342243731021881, null, 0.08342243731021881, 0.4564095735549927, null, 0.08342243731021881, 0.8869608044624329, null, 0.08342243731021881, 0.016871673986315727, null, 0.5844760537147522, 0.29214751720428467, null, 0.10029394179582596, 0.9295293092727661, null, 0.9295293092727661, 0.5909841656684875, null, 0.7851529121398926, 0.5864101648330688, null, 0.5864101648330688, 0.04600730910897255, null, 0.48562759160995483, 0.8765052556991577, null, 0.8765052556991577, 0.5468848943710327, null, 0.8765052556991577, 0.5369229912757874, null, 0.961570143699646, 0.9493188261985779, null, 0.9493188261985779, 0.2243170291185379, null, 0.9493188261985779, 0.9488610029220581, null, 0.799202561378479, 0.8742879629135132, null, 0.14814086258411407, 0.4783703088760376, null, 0.4783703088760376, 0.6805144548416138, null, 0.4783703088760376, 0.7105283737182617, null, 0.4783703088760376, 0.3416981101036072, null, 0.6394725441932678, 0.13690027594566345, null, 0.2243170291185379, 0.8621914982795715, null, 0.9608346819877625, 0.13343943655490875, null, 0.08110138773918152, 0.2322341352701187, null, 0.2322341352701187, 0.09973295032978058, null, 0.2322341352701187, 0.10747256875038147, null, 0.2322341352701187, 0.45670363306999207, null, 0.053427182137966156, 0.011427458375692368, null, 0.011427458375692368, 0.32798799872398376, null, 0.14694663882255554, 0.3790569007396698, null, 0.14694663882255554, 0.1660478264093399, null, 0.14694663882255554, 0.049348946660757065, null, 0.14694663882255554, 0.6771411299705505, null, 0.14694663882255554, 0.28991344571113586, null, 0.14694663882255554, 0.9114508628845215, null, 0.14694663882255554, 0.8164210319519043, null, 0.14694663882255554, 0.1591462343931198, null, 0.14694663882255554, 0.7285587191581726, null, 0.08960303664207458, 0.24536721408367157, null, 0.24536721408367157, 0.5909841656684875, null, 0.557368814945221, 0.7270442843437195, null, 0.7270442843437195, 0.8869608044624329, null, 0.131482794880867, 0.3015986382961273, null, 0.3015986382961273, 0.9384120106697083, null, 0.3015986382961273, 0.4235876500606537, null, 0.3015986382961273, 0.6973302364349365, null, 0.45614057779312134, 0.6956254243850708, null, 0.6956254243850708, 0.048690296709537506, null, 0.3799269497394562, 0.7885454893112183, null, 0.7885454893112183, 0.9564056992530823, null, 0.7885454893112183, 0.7532401084899902, null, 0.6969972252845764, 0.7774075865745544, null, 0.3738131523132324, 0.27282190322875977, null, 0.27282190322875977, 0.21243436634540558, null, 0.19705428183078766, 0.044612299650907516, null, 0.044612299650907516, 0.6952700018882751, null, 0.044612299650907516, 0.18523232638835907, null, 0.044612299650907516, 0.8442349433898926, null, 0.044612299650907516, 0.6771411299705505, null, 0.07695644348859787, 0.3068101108074188, null, 0.3068101108074188, 0.8817201852798462, null, 0.3068101108074188, 0.3433917164802551, null, 0.3068101108074188, 0.0429241918027401, null, 0.9594333171844482, 0.03536243736743927, null, 0.03536243736743927, 0.1629544198513031, null, 0.03536243736743927, 0.06607426702976227, null, 0.03536243736743927, 0.45670363306999207, null, 0.03536243736743927, 0.35763904452323914, null, 0.9039839506149292, 0.4569114148616791, null, 0.4569114148616791, 0.9587409496307373, null, 0.45860394835472107, 0.3990253210067749, null, 0.45860394835472107, 0.6900250315666199, null, 0.3990253210067749, 0.32772040367126465, null, 0.32772040367126465, 0.3426109850406647, null, 0.6360610723495483, 0.16053882241249084, null, 0.6360610723495483, 0.9591665863990784, null, 0.9591665863990784, 0.39843425154685974, null, 0.5909841656684875, 0.45722344517707825, null, 0.39843425154685974, 0.3433917164802551, null, 0.39843425154685974, 0.8927071690559387, null, 0.4240322411060333, 0.849038302898407, null, 0.3567068874835968, 0.18523232638835907, null, 0.9453015327453613, 0.4541623890399933, null, 0.4541623890399933, 0.21243436634540558, null, 0.23274412751197815, 0.03307459130883217, null, 0.23274412751197815, 0.428795725107193, null, 0.03307459130883217, 0.339631050825119, null, 0.03307459130883217, 0.567692756652832, null, 0.03307459130883217, 0.1186155155301094, null, 0.428795725107193, 0.9272118210792542, null, 0.428795725107193, 0.19891133904457092, null, 0.428795725107193, 0.923455536365509, null, 0.2519409954547882, 0.253191202878952, null, 0.253191202878952, 0.9536756873130798, null, 0.6184802651405334, 0.9903450012207031, null, 0.4903053343296051, 0.06530420482158661, null, 0.06530420482158661, 0.37303486466407776, null, 0.06530420482158661, 0.0013833499979227781, null, 0.6658591032028198, 0.4240889847278595, null, 0.6658591032028198, 0.2870515286922455, null, 0.414856880903244, 0.8286569118499756, null, 0.8286569118499756, 0.922111451625824, null, 0.34851935505867004, 0.9854914546012878, null, 0.9854914546012878, 0.968286395072937, null, 0.9854914546012878, 0.06320761889219284, null, 0.9854914546012878, 0.8956912755966187, null, 0.9854914546012878, 0.9692058563232422, null, 0.9854914546012878, 0.38840413093566895, null, 0.9854914546012878, 0.5881514549255371, null, 0.904948353767395, 0.9920112490653992, null, 0.9920112490653992, 0.6495342254638672, null, 0.10590615123510361, 0.2334202527999878, null, 0.2334202527999878, 0.6041178107261658, null, 0.7487882375717163, 0.17185309529304504, null, 0.30446839332580566, 0.23774182796478271, null, 0.30446839332580566, 0.9425836205482483, null, 0.23774182796478271, 0.6471966505050659, null, 0.9425836205482483, 0.45670363306999207, null, 0.8672894239425659, 0.7507648468017578, null, 0.7507648468017578, 0.879234790802002, null, 0.7507648468017578, 0.3891346752643585, null, 0.7507648468017578, 0.0429241918027401, null, 0.7507648468017578, 0.1293557584285736, null, 0.7507648468017578, 0.05853492394089699, null, 0.7507648468017578, 0.5206778049468994, null, 0.7507648468017578, 0.8163642883300781, null, 0.7507648468017578, 0.8268052935600281, null, 0.7507648468017578, 0.8603106737136841, null, 0.7507648468017578, 0.3442891538143158, null, 0.7507648468017578, 0.8152250647544861, null, 0.7507648468017578, 0.8010748624801636, null, 0.7507648468017578, 0.4589698612689972, null, 0.7507648468017578, 0.3210429847240448, null, 0.7507648468017578, 0.28671666979789734, null, 0.9679655432701111, 0.4518216848373413, null, 0.9679655432701111, 0.29279401898384094, null, 0.29279401898384094, 0.5058664083480835, null, 0.41748636960983276, 0.6041178107261658, null, 0.6041178107261658, 0.13346147537231445, null, 0.6041178107261658, 0.2419017106294632, null, 0.6041178107261658, 0.3481919467449188, null, 0.6041178107261658, 0.9416677951812744, null, 0.6041178107261658, 0.9979940056800842, null, 0.5922304391860962, 0.40673333406448364, null, 0.40673333406448364, 0.2826996445655823, null, 0.2716527581214905, 0.4017135500907898, null, 0.4017135500907898, 0.14768557250499725, null, 0.4017135500907898, 0.7090354561805725, null, 0.4017135500907898, 0.3519362509250641, null, 0.5058664083480835, 0.10001406073570251, null, 0.7505950331687927, 0.9241587519645691, null, 0.9241587519645691, 0.0005459649255499244, null, 0.9241587519645691, 0.805263876914978, null, 0.9241587519645691, 0.7712254524230957, null, 0.9241587519645691, 0.31673067808151245, null, 0.9241587519645691, 0.051007308065891266, null, 0.9241587519645691, 0.9078755974769592, null, 0.9241587519645691, 0.44687697291374207, null, 0.048690296709537506, 0.3774065673351288, null, 0.048690296709537506, 0.4382559359073639, null, 0.4461355209350586, 0.34847599267959595, null, 0.34847599267959595, 0.9077329635620117, null, 0.34847599267959595, 0.7745009660720825, null, 0.3416981101036072, 0.011355128139257431, null, 0.7103368043899536, 0.37267908453941345, null, 0.37267908453941345, 0.8956912755966187, null, 0.37267908453941345, 0.7285587191581726, null, 0.40594232082366943, 0.3426109850406647, null, 0.5887396335601807, 0.016871673986315727, null, 0.8136786222457886, 0.33396488428115845, null, 0.33396488428115845, 0.09973295032978058, null, 0.5199523568153381, 0.09088572859764099, null, 0.5199523568153381, 0.4103015661239624, null, 0.09088572859764099, 0.28085950016975403, null, 0.4103015661239624, 0.8268616199493408, null, 0.8869608044624329, 0.2228638231754303, null, 0.8869608044624329, 0.37638914585113525, null, 0.8869608044624329, 0.2609044909477234, null, 0.8717857599258423, 0.4116155207157135, null, 0.968286395072937, 0.03603381663560867, null, 0.8863046765327454, 0.9078755974769592, null, 0.9078755974769592, 0.10761770606040955, null, 0.9078755974769592, 0.40168818831443787, null, 0.6611174941062927, 0.07648676633834839, null, 0.07648676633834839, 0.35734689235687256, null, 0.07648676633834839, 0.8659454584121704, null, 0.07648676633834839, 0.22736245393753052, null, 0.05994429811835289, 0.9077329635620117, null, 0.9077329635620117, 0.02919023483991623, null, 0.9077329635620117, 0.3774065673351288, null, 0.8980623483657837, 0.5289399027824402, null, 0.8980623483657837, 0.997962236404419, null, 0.997962236404419, 0.16368426382541656, null, 0.06320761889219284, 0.47764649987220764, null, 0.06320761889219284, 0.2384132742881775, null, 0.2384132742881775, 0.52823406457901, null, 0.3374773859977722, 0.13343943655490875, null, 0.13343943655490875, 0.5580512285232544, null, 0.6591764688491821, 0.9992780089378357, null, 0.9992780089378357, 0.2168702483177185, null, 0.9992780089378357, 0.08329097926616669, null, 0.9992780089378357, 0.15638335049152374, null, 0.9992780089378357, 0.9555683732032776, null, 0.7214066386222839, 0.8130538463592529, null, 0.8130538463592529, 0.1156618744134903, null, 0.8897936344146729, 0.6982485055923462, null, 0.2419017106294632, 0.521996259689331, null, 0.9587409496307373, 0.8795214891433716, null, 0.10700414329767227, 0.7453980445861816, null, 0.10700414329767227, 0.9358320832252502, null, 0.10700414329767227, 0.39980170130729675, null, 0.9358320832252502, 0.7814795970916748, null, 0.9358320832252502, 0.5369229912757874, null, 0.14780867099761963, 0.6567619442939758, null, 0.6567619442939758, 0.4833935499191284, null, 0.6567619442939758, 0.3145732879638672, null, 0.6567619442939758, 0.5173260569572449, null, 0.6567619442939758, 0.9011621475219727, null, 0.09725799411535263, 0.5810819268226624, null, 0.5810819268226624, 0.7833966612815857, null, 0.16902540624141693, 0.05853492394089699, null, 0.05853492394089699, 0.011355128139257431, null, 0.11583399772644043, 0.9799623489379883, null, 0.9799623489379883, 0.44687697291374207, null, 0.857124924659729, 0.2712520658969879, null, 0.2712520658969879, 0.43176013231277466, null, 0.39981213212013245, 0.3447181284427643, null, 0.6391869187355042, 0.43176013231277466, null, 0.6391869187355042, 0.0700421929359436, null, 0.43176013231277466, 0.7196201682090759, null, 0.4050356149673462, 0.3210429847240448, null, 0.6063081622123718, 0.6347863078117371, null, 0.6347863078117371, 0.19959613680839539, null, 0.10329815745353699, 0.02919023483991623, null, 0.4042436182498932, 0.36509987711906433, null, 0.0853109210729599, 0.10001406073570251, null, 0.10001406073570251, 0.49817955493927, null, 0.10001406073570251, 0.1764993816614151, null, 0.10001406073570251, 0.0568772591650486, null, 0.8562761545181274, 0.5596824288368225, null, 0.5596824288368225, 0.29084089398384094, null, 0.19959613680839539, 0.12027734518051147, null, 0.987348735332489, 0.3645446300506592, null, 0.3645446300506592, 0.9421847462654114, null, 0.2609044909477234, 0.7699671983718872, null, 0.2609044909477234, 0.19891133904457092, null, 0.6817399263381958, 0.5243797898292542, null, 0.6817399263381958, 0.1598452925682068, null, 0.6817399263381958, 0.9707314372062683, null, 0.1598452925682068, 0.3923189342021942, null, 0.17857997119426727, 0.08136960119009018, null, 0.5076355338096619, 0.549500584602356, null, 0.5076355338096619, 0.5207614302635193, null, 0.5207614302635193, 0.33610227704048157, null, 0.31823351979255676, 0.4585031569004059, null, 0.4585031569004059, 0.1858976036310196, null, 0.33610227704048157, 0.8659454584121704, null, 0.2940766513347626, 0.49395784735679626, null, 0.49395784735679626, 0.21243436634540558, null, 0.8180332779884338, 0.15638335049152374, null, 0.24655693769454956, 0.11752564460039139, null, 0.11752564460039139, 0.6176570057868958, null, 0.11752564460039139, 0.9649249315261841, null, 0.11752564460039139, 0.44687697291374207, null, 0.9325612187385559, 0.24217858910560608, null, 0.24217858910560608, 0.7791794538497925, null, 0.6397051215171814, 0.3774065673351288, null, 0.7090354561805725, 0.9631972908973694, null, 0.8743999004364014, 0.21243436634540558, null, 0.21243436634540558, 0.4918922185897827, null, 0.21243436634540558, 0.23277267813682556, null, 0.21243436634540558, 0.5524390339851379, null, 0.21243436634540558, 0.7298276424407959, null, 0.21243436634540558, 0.36747533082962036, null, 0.9323939681053162, 0.47938454151153564, null, 0.8583376407623291, 0.1591462343931198, null, 0.1591462343931198, 0.2653033137321472, null, 0.1591462343931198, 0.9655166268348694, null, 0.1591462343931198, 0.14837893843650818, null, 0.6374622583389282, 0.47938454151153564, null, 0.47938454151153564, 0.09645085781812668, null, 0.47938454151153564, 0.43553152680397034, null, 0.1729513555765152, 0.19725947082042694, null, 0.9631972908973694, 0.2569166421890259, null, 0.2569166421890259, 0.9185464382171631, null, 0.18551789224147797, 0.32626962661743164, null, 0.18551789224147797, 0.44687697291374207, null, 0.44687697291374207, 0.9292916655540466, null, 0.7317441701889038, 0.28991344571113586, null, 0.28991344571113586, 0.5245770812034607, null, 0.28991344571113586, 0.8518086075782776, null, 0.7791794538497925, 0.39922237396240234, null, 0.7791794538497925, 0.45670363306999207, null, 0.34453046321868896, 0.7358939051628113, null, 0.4864104390144348, 0.5678460001945496, null, 0.05938318744301796, 0.9185464382171631, null, 0.9185464382171631, 0.9649249315261841, null, 0.33447372913360596, 0.11589846760034561, null, 0.33447372913360596, 0.0568772591650486, null, 0.0568772591650486, 0.6339816451072693, null, 0.5665060877799988, 0.3423423767089844, null, 0.9011621475219727, 0.8268616199493408, null, 0.9011621475219727, 0.10747256875038147, null, 0.820022463798523, 0.15093488991260529, null, 0.15093488991260529, 0.5063429474830627, null, 0.22736245393753052, 0.7532401084899902, null, 0.9738187193870544, 0.29084089398384094, null, 0.6228940486907959, 0.4589698612689972, null, 0.4589698612689972, 0.4248539209365845, null, 0.3165007531642914, 0.7298276424407959, null, 0.1764993816614151, 0.5063122510910034, null, 0.19725947082042694, 0.39702582359313965, null, 0.2902480363845825, 0.5910654067993164, null, 0.4923613965511322, 0.8339816331863403, null, 0.7712254524230957, 0.32282954454421997, null, 0.5068629384040833, 0.0976763665676117, null, 0.010063695721328259, 0.3499928414821625, null, 0.010063695721328259, 0.8483452796936035, null, 0.010063695721328259, 0.5831928253173828, null, 0.4116155207157135, 0.7917613983154297, null, 0.24367786943912506, 0.7532401084899902, null, 0.4301159977912903, 0.8532459735870361, null, 0.23277267813682556, 0.7912274599075317, null, 0.1858976036310196, 0.10890373587608337, null, 0.1858976036310196, 0.9750946760177612, null, 0.7745009660720825, 0.9673377871513367, null, 0.6176570057868958, 0.7008556723594666, null, 0.7589845657348633, 0.9670549035072327, null, 0.9292916655540466, 0.8281466364860535, null, 0.2627999484539032, 0.03516006097197533, null, 0.03516006097197533, 0.5881514549255371, null, 0.7064105868339539, 0.2687090337276459, null, 0.2687090337276459, 0.502453088760376, null, 0.9555683732032776, 0.018096357583999634, null, 0.15597793459892273, 0.8927071690559387, null, 0.6973302364349365, 0.8668609261512756, null, 0.26376768946647644, 0.10473610460758209, null, 0.6495342254638672, 0.9822477698326111, null]}, {\"hoverinfo\": \"text\", \"marker\": {\"color\": [1, 17, 1, 13, 1, 6, 1, 2, 2, 11, 1, 1, 2, 1, 2, 1, 23, 2, 2, 3, 3, 2, 4, 4, 1, 27, 1, 4, 1, 3, 2, 5, 1, 1, 5, 2, 7, 1, 1, 2, 1, 2, 1, 2, 1, 23, 1, 4, 2, 1, 2, 1, 2, 1, 2, 1, 4, 1, 5, 1, 4, 1, 2, 1, 2, 1, 4, 1, 5, 1, 2, 1, 3, 1, 4, 1, 2, 2, 1, 3, 1, 4, 1, 2, 3, 1, 2, 1, 11, 1, 1, 4, 1, 5, 1, 9, 1, 2, 1, 1, 4, 1, 2, 2, 1, 1, 3, 1, 2, 2, 1, 3, 1, 3, 1, 1, 3, 3, 1, 2, 1, 3, 1, 2, 1, 3, 1, 4, 2, 2, 2, 2, 1, 3, 1, 3, 1, 3, 2, 1, 1, 1, 1, 4, 1, 2, 1, 2, 1, 2, 1, 1, 5, 1, 3, 11, 1, 2, 1, 2, 1, 5, 1, 2, 1, 5, 2, 1, 1, 2, 1, 5, 1, 4, 1, 5, 1, 1, 1, 1, 1, 2, 2, 2, 1, 2, 2, 1, 2, 3, 1, 1, 1, 1, 5, 1, 2, 1, 1, 2, 1, 1, 2, 2, 4, 5, 1, 2, 1, 1, 2, 1, 1, 4, 1, 1, 3, 1, 1, 1, 2, 1, 1, 7, 1, 2, 1, 2, 1, 1, 1, 1, 2, 2, 2, 2, 1, 17, 2, 1, 2, 1, 8, 1, 1, 1, 2, 1, 4, 2, 1, 1, 10, 3, 1, 4, 1, 1, 2, 1, 2, 1, 3, 2, 2, 2, 1, 1, 1, 2, 1, 2, 2, 1, 2, 1, 2, 2, 2, 5, 1, 3, 1, 1, 2, 1, 1, 1, 1, 5, 1, 4, 1, 1, 5, 2, 1, 3, 1, 1, 1, 3, 1, 3, 1, 1, 3, 2, 1, 6, 1, 3, 1, 2, 1, 2, 1, 3, 3, 2, 3, 1, 1, 5, 1, 3, 1, 3, 1, 2, 1, 2, 2, 1, 2, 3, 2, 1, 3, 1, 2, 1, 1, 3, 1, 2, 1, 2, 1, 2, 1, 1, 5, 1, 1, 3, 1, 2, 1, 2, 1, 3, 1, 1, 3, 1, 3, 3, 1, 2, 2, 2, 1, 1, 2, 1, 2, 2, 1, 1, 2, 2, 1, 1, 1, 1, 1, 1, 2, 1, 1, 1, 2, 1, 1, 1, 5, 1, 2, 1, 1, 3, 2, 1, 1, 1, 1, 11, 1, 1, 1, 1, 2, 1, 5, 1, 1, 6, 1, 1, 2, 1, 1, 1, 1, 1, 1, 1, 1, 1, 1, 1, 2, 2, 1, 2, 1, 5, 1, 1, 4, 4, 2, 1, 2, 2, 1, 1, 1, 1, 2, 1, 3, 2, 1, 4, 1, 1, 3, 1, 1, 3, 3, 1, 1, 2, 2, 1, 2, 1, 2, 1, 1, 1, 1, 1, 4, 1, 1, 1, 1, 3, 1, 2, 1, 2, 1, 2, 1, 2, 1, 1, 2, 1, 2, 1, 1, 2, 1, 2, 5, 1, 1, 1, 2, 2, 4, 2, 1, 3, 1, 1, 3, 1, 1, 1, 2, 1, 1, 1, 1, 1, 2, 1, 1, 1, 1, 2, 1, 1, 1, 2, 1, 1, 1, 1, 3, 2, 1, 1, 2, 1, 2, 1, 1, 1, 1, 1, 2, 1, 2, 1, 1, 1, 1, 1, 2, 1, 2, 1, 1, 1, 1, 1, 1, 2, 1, 1, 3, 1, 1, 1, 1, 2, 2, 1, 2, 2, 1, 1, 1, 2, 1, 1, 1, 1, 2, 2, 2, 1, 1, 1, 1, 3, 2, 1, 1, 1, 2, 1, 1, 1, 1, 1, 1, 1, 2, 1, 1, 1, 1, 1, 1, 1, 1, 1, 1, 1, 1, 1], \"colorbar\": {\"thickness\": 15, \"title\": {\"side\": \"right\", \"text\": \"Node Connections\"}, \"xanchor\": \"left\"}, \"colorscale\": [[0.0, \"rgb(255,255,217)\"], [0.125, \"rgb(237,248,177)\"], [0.25, \"rgb(199,233,180)\"], [0.375, \"rgb(127,205,187)\"], [0.5, \"rgb(65,182,196)\"], [0.625, \"rgb(29,145,192)\"], [0.75, \"rgb(34,94,168)\"], [0.875, \"rgb(37,52,148)\"], [1.0, \"rgb(8,29,88)\"]], \"line\": {\"width\": 2}, \"reversescale\": true, \"showscale\": true, \"size\": 10}, \"mode\": \"markers\", \"text\": [\"Node 0, # of connections: 1\", \"Node 555, # of connections: 17\", \"Node 1, # of connections: 1\", \"Node 611, # of connections: 13\", \"Node 2, # of connections: 1\", \"Node 345, # of connections: 6\", \"Node 3, # of connections: 1\", \"Node 228, # of connections: 2\", \"Node 557, # of connections: 2\", \"Node 151, # of connections: 11\", \"Node 394, # of connections: 1\", \"Node 4, # of connections: 1\", \"Node 336, # of connections: 2\", \"Node 5, # of connections: 1\", \"Node 503, # of connections: 2\", \"Node 6, # of connections: 1\", \"Node 518, # of connections: 23\", \"Node 7, # of connections: 2\", \"Node 35, # of connections: 2\", \"Node 583, # of connections: 3\", \"Node 8, # of connections: 3\", \"Node 278, # of connections: 2\", \"Node 98, # of connections: 4\", \"Node 369, # of connections: 4\", \"Node 9, # of connections: 1\", \"Node 498, # of connections: 27\", \"Node 10, # of connections: 1\", \"Node 258, # of connections: 4\", \"Node 11, # of connections: 1\", \"Node 259, # of connections: 3\", \"Node 12, # of connections: 2\", \"Node 618, # of connections: 5\", \"Node 310, # of connections: 1\", \"Node 13, # of connections: 1\", \"Node 352, # of connections: 5\", \"Node 14, # of connections: 2\", \"Node 264, # of connections: 7\", \"Node 326, # of connections: 1\", \"Node 15, # of connections: 1\", \"Node 56, # of connections: 2\", \"Node 16, # of connections: 1\", \"Node 75, # of connections: 2\", \"Node 17, # of connections: 1\", \"Node 65, # of connections: 2\", \"Node 18, # of connections: 1\", \"Node 265, # of connections: 23\", \"Node 408, # of connections: 1\", \"Node 599, # of connections: 4\", \"Node 20, # of connections: 2\", \"Node 481, # of connections: 1\", \"Node 160, # of connections: 2\", \"Node 21, # of connections: 1\", \"Node 334, # of connections: 2\", \"Node 22, # of connections: 1\", \"Node 420, # of connections: 2\", \"Node 23, # of connections: 1\", \"Node 67, # of connections: 4\", \"Node 24, # of connections: 1\", \"Node 591, # of connections: 5\", \"Node 25, # of connections: 1\", \"Node 363, # of connections: 4\", \"Node 26, # of connections: 1\", \"Node 230, # of connections: 2\", \"Node 27, # of connections: 1\", \"Node 424, # of connections: 2\", \"Node 28, # of connections: 1\", \"Node 527, # of connections: 4\", \"Node 29, # of connections: 1\", \"Node 49, # of connections: 5\", \"Node 30, # of connections: 1\", \"Node 126, # of connections: 2\", \"Node 31, # of connections: 1\", \"Node 315, # of connections: 3\", \"Node 32, # of connections: 1\", \"Node 300, # of connections: 4\", \"Node 357, # of connections: 1\", \"Node 532, # of connections: 2\", \"Node 526, # of connections: 2\", \"Node 462, # of connections: 1\", \"Node 87, # of connections: 3\", \"Node 517, # of connections: 1\", \"Node 235, # of connections: 4\", \"Node 34, # of connections: 1\", \"Node 208, # of connections: 2\", \"Node 243, # of connections: 3\", \"Node 36, # of connections: 1\", \"Node 490, # of connections: 2\", \"Node 37, # of connections: 1\", \"Node 389, # of connections: 11\", \"Node 38, # of connections: 1\", \"Node 411, # of connections: 1\", \"Node 449, # of connections: 4\", \"Node 40, # of connections: 1\", \"Node 240, # of connections: 5\", \"Node 41, # of connections: 1\", \"Node 282, # of connections: 9\", \"Node 42, # of connections: 1\", \"Node 467, # of connections: 2\", \"Node 43, # of connections: 1\", \"Node 44, # of connections: 1\", \"Node 180, # of connections: 4\", \"Node 496, # of connections: 1\", \"Node 331, # of connections: 2\", \"Node 209, # of connections: 2\", \"Node 520, # of connections: 1\", \"Node 46, # of connections: 1\", \"Node 47, # of connections: 3\", \"Node 475, # of connections: 1\", \"Node 500, # of connections: 2\", \"Node 508, # of connections: 2\", \"Node 48, # of connections: 1\", \"Node 164, # of connections: 3\", \"Node 512, # of connections: 1\", \"Node 71, # of connections: 3\", \"Node 196, # of connections: 1\", \"Node 188, # of connections: 1\", \"Node 50, # of connections: 3\", \"Node 483, # of connections: 3\", \"Node 562, # of connections: 1\", \"Node 330, # of connections: 2\", \"Node 52, # of connections: 1\", \"Node 494, # of connections: 3\", \"Node 53, # of connections: 1\", \"Node 122, # of connections: 2\", \"Node 54, # of connections: 1\", \"Node 536, # of connections: 3\", \"Node 55, # of connections: 1\", \"Node 214, # of connections: 4\", \"Node 57, # of connections: 2\", \"Node 148, # of connections: 2\", \"Node 58, # of connections: 2\", \"Node 537, # of connections: 2\", \"Node 59, # of connections: 1\", \"Node 116, # of connections: 3\", \"Node 60, # of connections: 1\", \"Node 198, # of connections: 3\", \"Node 61, # of connections: 1\", \"Node 244, # of connections: 3\", \"Node 62, # of connections: 2\", \"Node 266, # of connections: 1\", \"Node 63, # of connections: 1\", \"Node 64, # of connections: 1\", \"Node 66, # of connections: 1\", \"Node 141, # of connections: 4\", \"Node 68, # of connections: 1\", \"Node 242, # of connections: 2\", \"Node 69, # of connections: 1\", \"Node 70, # of connections: 2\", \"Node 205, # of connections: 1\", \"Node 495, # of connections: 2\", \"Node 72, # of connections: 1\", \"Node 419, # of connections: 1\", \"Node 343, # of connections: 5\", \"Node 485, # of connections: 1\", \"Node 380, # of connections: 3\", \"Node 613, # of connections: 11\", \"Node 77, # of connections: 1\", \"Node 379, # of connections: 2\", \"Node 78, # of connections: 1\", \"Node 158, # of connections: 2\", \"Node 79, # of connections: 1\", \"Node 491, # of connections: 5\", \"Node 80, # of connections: 1\", \"Node 138, # of connections: 2\", \"Node 81, # of connections: 1\", \"Node 563, # of connections: 5\", \"Node 82, # of connections: 2\", \"Node 409, # of connections: 1\", \"Node 83, # of connections: 1\", \"Node 465, # of connections: 2\", \"Node 84, # of connections: 1\", \"Node 329, # of connections: 5\", \"Node 85, # of connections: 1\", \"Node 292, # of connections: 4\", \"Node 86, # of connections: 1\", \"Node 578, # of connections: 5\", \"Node 88, # of connections: 1\", \"Node 89, # of connections: 1\", \"Node 90, # of connections: 1\", \"Node 91, # of connections: 1\", \"Node 92, # of connections: 1\", \"Node 186, # of connections: 2\", \"Node 93, # of connections: 2\", \"Node 94, # of connections: 2\", \"Node 614, # of connections: 1\", \"Node 103, # of connections: 2\", \"Node 95, # of connections: 2\", \"Node 492, # of connections: 1\", \"Node 523, # of connections: 2\", \"Node 96, # of connections: 3\", \"Node 211, # of connections: 1\", \"Node 97, # of connections: 1\", \"Node 74, # of connections: 1\", \"Node 295, # of connections: 1\", \"Node 605, # of connections: 5\", \"Node 99, # of connections: 1\", \"Node 108, # of connections: 2\", \"Node 100, # of connections: 1\", \"Node 101, # of connections: 1\", \"Node 152, # of connections: 2\", \"Node 232, # of connections: 1\", \"Node 104, # of connections: 1\", \"Node 469, # of connections: 2\", \"Node 105, # of connections: 2\", \"Node 548, # of connections: 4\", \"Node 521, # of connections: 5\", \"Node 106, # of connections: 1\", \"Node 444, # of connections: 2\", \"Node 107, # of connections: 1\", \"Node 109, # of connections: 1\", \"Node 320, # of connections: 2\", \"Node 110, # of connections: 1\", \"Node 111, # of connections: 1\", \"Node 229, # of connections: 4\", \"Node 112, # of connections: 1\", \"Node 113, # of connections: 1\", \"Node 114, # of connections: 3\", \"Node 200, # of connections: 1\", \"Node 201, # of connections: 1\", \"Node 115, # of connections: 1\", \"Node 145, # of connections: 2\", \"Node 366, # of connections: 1\", \"Node 429, # of connections: 1\", \"Node 478, # of connections: 7\", \"Node 118, # of connections: 1\", \"Node 507, # of connections: 2\", \"Node 120, # of connections: 1\", \"Node 375, # of connections: 2\", \"Node 121, # of connections: 1\", \"Node 123, # of connections: 1\", \"Node 124, # of connections: 1\", \"Node 125, # of connections: 1\", \"Node 423, # of connections: 2\", \"Node 529, # of connections: 2\", \"Node 412, # of connections: 2\", \"Node 474, # of connections: 2\", \"Node 127, # of connections: 1\", \"Node 524, # of connections: 17\", \"Node 128, # of connections: 2\", \"Node 373, # of connections: 1\", \"Node 135, # of connections: 2\", \"Node 130, # of connections: 1\", \"Node 432, # of connections: 8\", \"Node 131, # of connections: 1\", \"Node 132, # of connections: 1\", \"Node 133, # of connections: 1\", \"Node 407, # of connections: 2\", \"Node 134, # of connections: 1\", \"Node 251, # of connections: 4\", \"Node 359, # of connections: 2\", \"Node 136, # of connections: 1\", \"Node 239, # of connections: 1\", \"Node 616, # of connections: 10\", \"Node 418, # of connections: 3\", \"Node 140, # of connections: 1\", \"Node 581, # of connections: 4\", \"Node 51, # of connections: 1\", \"Node 280, # of connections: 1\", \"Node 574, # of connections: 2\", \"Node 142, # of connections: 1\", \"Node 143, # of connections: 2\", \"Node 144, # of connections: 1\", \"Node 441, # of connections: 3\", \"Node 241, # of connections: 2\", \"Node 146, # of connections: 2\", \"Node 567, # of connections: 2\", \"Node 147, # of connections: 1\", \"Node 149, # of connections: 1\", \"Node 150, # of connections: 1\", \"Node 472, # of connections: 2\", \"Node 153, # of connections: 1\", \"Node 154, # of connections: 2\", \"Node 533, # of connections: 2\", \"Node 155, # of connections: 1\", \"Node 293, # of connections: 2\", \"Node 156, # of connections: 1\", \"Node 157, # of connections: 2\", \"Node 604, # of connections: 2\", \"Node 510, # of connections: 2\", \"Node 223, # of connections: 5\", \"Node 159, # of connections: 1\", \"Node 383, # of connections: 3\", \"Node 161, # of connections: 1\", \"Node 162, # of connections: 1\", \"Node 163, # of connections: 2\", \"Node 561, # of connections: 1\", \"Node 165, # of connections: 1\", \"Node 166, # of connections: 1\", \"Node 167, # of connections: 1\", \"Node 601, # of connections: 5\", \"Node 168, # of connections: 1\", \"Node 299, # of connections: 4\", \"Node 169, # of connections: 1\", \"Node 170, # of connections: 1\", \"Node 340, # of connections: 5\", \"Node 171, # of connections: 2\", \"Node 406, # of connections: 1\", \"Node 459, # of connections: 3\", \"Node 172, # of connections: 1\", \"Node 173, # of connections: 1\", \"Node 174, # of connections: 1\", \"Node 176, # of connections: 3\", \"Node 301, # of connections: 1\", \"Node 216, # of connections: 3\", \"Node 177, # of connections: 1\", \"Node 178, # of connections: 1\", \"Node 539, # of connections: 3\", \"Node 179, # of connections: 2\", \"Node 181, # of connections: 1\", \"Node 248, # of connections: 6\", \"Node 182, # of connections: 1\", \"Node 451, # of connections: 3\", \"Node 183, # of connections: 1\", \"Node 202, # of connections: 2\", \"Node 184, # of connections: 1\", \"Node 185, # of connections: 2\", \"Node 333, # of connections: 1\", \"Node 414, # of connections: 3\", \"Node 187, # of connections: 3\", \"Node 270, # of connections: 2\", \"Node 217, # of connections: 3\", \"Node 514, # of connections: 1\", \"Node 189, # of connections: 1\", \"Node 288, # of connections: 5\", \"Node 190, # of connections: 1\", \"Node 393, # of connections: 3\", \"Node 191, # of connections: 1\", \"Node 45, # of connections: 3\", \"Node 445, # of connections: 1\", \"Node 576, # of connections: 2\", \"Node 192, # of connections: 1\", \"Node 371, # of connections: 2\", \"Node 193, # of connections: 2\", \"Node 273, # of connections: 1\", \"Node 194, # of connections: 2\", \"Node 226, # of connections: 3\", \"Node 398, # of connections: 2\", \"Node 195, # of connections: 1\", \"Node 580, # of connections: 3\", \"Node 199, # of connections: 1\", \"Node 566, # of connections: 2\", \"Node 203, # of connections: 1\", \"Node 204, # of connections: 1\", \"Node 215, # of connections: 3\", \"Node 206, # of connections: 1\", \"Node 473, # of connections: 2\", \"Node 207, # of connections: 1\", \"Node 372, # of connections: 2\", \"Node 139, # of connections: 1\", \"Node 33, # of connections: 2\", \"Node 210, # of connections: 1\", \"Node 544, # of connections: 1\", \"Node 404, # of connections: 5\", \"Node 212, # of connections: 1\", \"Node 213, # of connections: 1\", \"Node 502, # of connections: 3\", \"Node 534, # of connections: 1\", \"Node 405, # of connections: 2\", \"Node 402, # of connections: 1\", \"Node 585, # of connections: 2\", \"Node 218, # of connections: 1\", \"Node 220, # of connections: 3\", \"Node 221, # of connections: 1\", \"Node 222, # of connections: 1\", \"Node 522, # of connections: 3\", \"Node 542, # of connections: 1\", \"Node 452, # of connections: 3\", \"Node 224, # of connections: 3\", \"Node 376, # of connections: 1\", \"Node 443, # of connections: 2\", \"Node 569, # of connections: 2\", \"Node 225, # of connections: 2\", \"Node 493, # of connections: 1\", \"Node 431, # of connections: 1\", \"Node 227, # of connections: 2\", \"Node 370, # of connections: 1\", \"Node 102, # of connections: 2\", \"Node 392, # of connections: 2\", \"Node 396, # of connections: 1\", \"Node 231, # of connections: 1\", \"Node 425, # of connections: 2\", \"Node 554, # of connections: 2\", \"Node 233, # of connections: 1\", \"Node 234, # of connections: 1\", \"Node 552, # of connections: 1\", \"Node 236, # of connections: 1\", \"Node 237, # of connections: 1\", \"Node 238, # of connections: 1\", \"Node 325, # of connections: 2\", \"Node 137, # of connections: 1\", \"Node 484, # of connections: 1\", \"Node 245, # of connections: 1\", \"Node 416, # of connections: 2\", \"Node 246, # of connections: 1\", \"Node 247, # of connections: 1\", \"Node 453, # of connections: 1\", \"Node 597, # of connections: 5\", \"Node 593, # of connections: 1\", \"Node 275, # of connections: 2\", \"Node 249, # of connections: 1\", \"Node 250, # of connections: 1\", \"Node 440, # of connections: 3\", \"Node 456, # of connections: 2\", \"Node 560, # of connections: 1\", \"Node 252, # of connections: 1\", \"Node 253, # of connections: 1\", \"Node 254, # of connections: 1\", \"Node 505, # of connections: 11\", \"Node 255, # of connections: 1\", \"Node 256, # of connections: 1\", \"Node 257, # of connections: 1\", \"Node 403, # of connections: 1\", \"Node 476, # of connections: 2\", \"Node 284, # of connections: 1\", \"Node 545, # of connections: 5\", \"Node 261, # of connections: 1\", \"Node 262, # of connections: 1\", \"Node 368, # of connections: 6\", \"Node 263, # of connections: 1\", \"Node 525, # of connections: 1\", \"Node 318, # of connections: 2\", \"Node 322, # of connections: 1\", \"Node 349, # of connections: 1\", \"Node 439, # of connections: 1\", \"Node 384, # of connections: 1\", \"Node 549, # of connections: 1\", \"Node 277, # of connections: 1\", \"Node 433, # of connections: 1\", \"Node 594, # of connections: 1\", \"Node 309, # of connections: 1\", \"Node 464, # of connections: 1\", \"Node 267, # of connections: 1\", \"Node 268, # of connections: 2\", \"Node 463, # of connections: 2\", \"Node 269, # of connections: 1\", \"Node 271, # of connections: 2\", \"Node 482, # of connections: 1\", \"Node 603, # of connections: 5\", \"Node 272, # of connections: 1\", \"Node 274, # of connections: 1\", \"Node 466, # of connections: 4\", \"Node 584, # of connections: 4\", \"Node 276, # of connections: 2\", \"Node 296, # of connections: 1\", \"Node 577, # of connections: 2\", \"Node 460, # of connections: 2\", \"Node 582, # of connections: 1\", \"Node 281, # of connections: 1\", \"Node 285, # of connections: 1\", \"Node 341, # of connections: 1\", \"Node 364, # of connections: 2\", \"Node 283, # of connections: 1\", \"Node 350, # of connections: 3\", \"Node 260, # of connections: 2\", \"Node 294, # of connections: 1\", \"Node 458, # of connections: 4\", \"Node 286, # of connections: 1\", \"Node 287, # of connections: 1\", \"Node 303, # of connections: 3\", \"Node 455, # of connections: 1\", \"Node 528, # of connections: 1\", \"Node 351, # of connections: 3\", \"Node 289, # of connections: 3\", \"Node 290, # of connections: 1\", \"Node 291, # of connections: 1\", \"Node 307, # of connections: 2\", \"Node 570, # of connections: 2\", \"Node 297, # of connections: 1\", \"Node 448, # of connections: 2\", \"Node 298, # of connections: 1\", \"Node 356, # of connections: 2\", \"Node 564, # of connections: 1\", \"Node 302, # of connections: 1\", \"Node 304, # of connections: 1\", \"Node 305, # of connections: 1\", \"Node 306, # of connections: 1\", \"Node 547, # of connections: 4\", \"Node 308, # of connections: 1\", \"Node 471, # of connections: 1\", \"Node 312, # of connections: 1\", \"Node 313, # of connections: 1\", \"Node 488, # of connections: 3\", \"Node 314, # of connections: 1\", \"Node 446, # of connections: 2\", \"Node 316, # of connections: 1\", \"Node 317, # of connections: 2\", \"Node 617, # of connections: 1\", \"Node 447, # of connections: 2\", \"Node 319, # of connections: 1\", \"Node 365, # of connections: 2\", \"Node 361, # of connections: 1\", \"Node 321, # of connections: 1\", \"Node 323, # of connections: 2\", \"Node 610, # of connections: 1\", \"Node 324, # of connections: 2\", \"Node 422, # of connections: 1\", \"Node 327, # of connections: 1\", \"Node 480, # of connections: 2\", \"Node 328, # of connections: 1\", \"Node 374, # of connections: 2\", \"Node 436, # of connections: 5\", \"Node 332, # of connections: 1\", \"Node 335, # of connections: 1\", \"Node 337, # of connections: 1\", \"Node 339, # of connections: 2\", \"Node 342, # of connections: 2\", \"Node 550, # of connections: 4\", \"Node 442, # of connections: 2\", \"Node 344, # of connections: 1\", \"Node 377, # of connections: 3\", \"Node 391, # of connections: 1\", \"Node 435, # of connections: 1\", \"Node 531, # of connections: 3\", \"Node 346, # of connections: 1\", \"Node 347, # of connections: 1\", \"Node 348, # of connections: 1\", \"Node 413, # of connections: 2\", \"Node 575, # of connections: 1\", \"Node 353, # of connections: 1\", \"Node 354, # of connections: 1\", \"Node 355, # of connections: 1\", \"Node 358, # of connections: 1\", \"Node 360, # of connections: 2\", \"Node 568, # of connections: 1\", \"Node 362, # of connections: 1\", \"Node 401, # of connections: 1\", \"Node 388, # of connections: 1\", \"Node 338, # of connections: 2\", \"Node 607, # of connections: 1\", \"Node 367, # of connections: 1\", \"Node 73, # of connections: 1\", \"Node 461, # of connections: 2\", \"Node 381, # of connections: 1\", \"Node 382, # of connections: 1\", \"Node 385, # of connections: 1\", \"Node 386, # of connections: 1\", \"Node 387, # of connections: 3\", \"Node 530, # of connections: 2\", \"Node 390, # of connections: 1\", \"Node 395, # of connections: 1\", \"Node 397, # of connections: 2\", \"Node 600, # of connections: 1\", \"Node 399, # of connections: 2\", \"Node 197, # of connections: 1\", \"Node 400, # of connections: 1\", \"Node 540, # of connections: 1\", \"Node 175, # of connections: 1\", \"Node 19, # of connections: 1\", \"Node 572, # of connections: 2\", \"Node 410, # of connections: 1\", \"Node 39, # of connections: 2\", \"Node 509, # of connections: 1\", \"Node 415, # of connections: 1\", \"Node 417, # of connections: 1\", \"Node 506, # of connections: 1\", \"Node 421, # of connections: 1\", \"Node 426, # of connections: 2\", \"Node 427, # of connections: 1\", \"Node 535, # of connections: 2\", \"Node 428, # of connections: 1\", \"Node 117, # of connections: 1\", \"Node 430, # of connections: 1\", \"Node 454, # of connections: 1\", \"Node 434, # of connections: 1\", \"Node 489, # of connections: 1\", \"Node 437, # of connections: 2\", \"Node 438, # of connections: 1\", \"Node 378, # of connections: 1\", \"Node 311, # of connections: 3\", \"Node 129, # of connections: 1\", \"Node 590, # of connections: 1\", \"Node 76, # of connections: 1\", \"Node 606, # of connections: 1\", \"Node 487, # of connections: 2\", \"Node 450, # of connections: 2\", \"Node 553, # of connections: 1\", \"Node 538, # of connections: 2\", \"Node 499, # of connections: 2\", \"Node 457, # of connections: 1\", \"Node 479, # of connections: 1\", \"Node 279, # of connections: 1\", \"Node 501, # of connections: 2\", \"Node 468, # of connections: 1\", \"Node 470, # of connections: 1\", \"Node 477, # of connections: 1\", \"Node 486, # of connections: 1\", \"Node 497, # of connections: 2\", \"Node 515, # of connections: 2\", \"Node 571, # of connections: 2\", \"Node 511, # of connections: 1\", \"Node 513, # of connections: 1\", \"Node 504, # of connections: 1\", \"Node 592, # of connections: 1\", \"Node 546, # of connections: 3\", \"Node 612, # of connections: 2\", \"Node 516, # of connections: 1\", \"Node 602, # of connections: 1\", \"Node 573, # of connections: 1\", \"Node 579, # of connections: 2\", \"Node 519, # of connections: 1\", \"Node 559, # of connections: 1\", \"Node 586, # of connections: 1\", \"Node 541, # of connections: 1\", \"Node 543, # of connections: 1\", \"Node 551, # of connections: 1\", \"Node 119, # of connections: 1\", \"Node 558, # of connections: 2\", \"Node 608, # of connections: 1\", \"Node 609, # of connections: 1\", \"Node 219, # of connections: 1\", \"Node 595, # of connections: 1\", \"Node 556, # of connections: 1\", \"Node 565, # of connections: 1\", \"Node 619, # of connections: 1\", \"Node 598, # of connections: 1\", \"Node 587, # of connections: 1\", \"Node 588, # of connections: 1\", \"Node 596, # of connections: 1\", \"Node 589, # of connections: 1\", \"Node 615, # of connections: 1\"], \"type\": \"scatter\", \"x\": [0.54881352186203, 0.6027633547782898, 0.42365479469299316, 0.4375872015953064, 0.9636627435684204, 0.7917250394821167, 0.5680445432662964, 0.07103605568408966, 0.020218396559357643, 0.7781567573547363, 0.978618323802948, 0.4614793658256531, 0.11827442795038223, 0.14335328340530396, 0.5218483209609985, 0.26455560326576233, 0.4561503231525421, 0.018789799883961678, 0.6120957136154175, 0.9437480568885803, 0.35950788855552673, 0.6976311802864075, 0.6667667031288147, 0.21038256585597992, 0.31542834639549255, 0.5701967477798462, 0.9883738160133362, 0.20887675881385803, 0.6531082987785339, 0.4663107693195343, 0.15896958112716675, 0.6563295722007751, 0.1965823620557785, 0.8209932446479797, 0.8379449248313904, 0.9764594435691833, 0.9767611026763916, 0.7392635941505432, 0.28280696272850037, 0.296140193939209, 0.3179831802845001, 0.06414749473333359, 0.5666014552116394, 0.5232480764389038, 0.5759465098381042, 0.3185689449310303, 0.13179786503314972, 0.28940609097480774, 0.5865129232406616, 0.8289400339126587, 0.6778165102005005, 0.7351940274238586, 0.2487531453371048, 0.5920419096946716, 0.22308163344860077, 0.4471253752708435, 0.6994792819023132, 0.8137978315353394, 0.8811032176017761, 0.8817353844642639, 0.7252542972564697, 0.9560836553573608, 0.4238550364971161, 0.019193198531866074, 0.6601735353469849, 0.6180154085159302, 0.1354740709066391, 0.5699648857116699, 0.5743252635002136, 0.6521032452583313, 0.8965466022491455, 0.4358649253845215, 0.806194007396698, 0.10022688657045364, 0.7142413258552551, 0.14944830536842346, 0.16249293088912964, 0.1238199844956398, 0.8073189854621887, 0.40718328952789307, 0.6974287629127502, 0.7220556139945984, 0.9755215048789978, 0.011714084073901176, 0.729990541934967, 0.5210366249084473, 0.19999653100967407, 0.793697714805603, 0.3453516662120819, 0.704414427280426, 0.1646941602230072, 0.5772286057472229, 0.9342139959335327, 0.5356327891349792, 0.7301220297813416, 0.39822107553482056, 0.18619300425052643, 0.739550769329071, 0.22741462290287018, 0.058029159903526306, 0.3117958903312683, 0.37775182723999023, 0.024678727611899376, 0.6793927550315857, 0.5365791916847229, 0.990338921546936, 0.6630781888961792, 0.02065099962055683, 0.32001715898513794, 0.5883170962333679, 0.6289818286895752, 0.27354204654693604, 0.18563593924045563, 0.6874882578849792, 0.9473705887794495, 0.2539416551589966, 0.518200695514679, 0.20747007429599762, 0.3741699755191803, 0.27762871980667114, 0.8638556003570557, 0.517379105091095, 0.7168596982955933, 0.5654212832450867, 0.14484776556491852, 0.35561272501945496, 0.7653252482414246, 0.9037197232246399, 0.5521924495697021, 0.961936354637146, 0.24082878232002258, 0.016429629176855087, 0.669916570186615, 0.28173011541366577, 0.06395526975393295, 0.9774951338768005, 0.3381589651107788, 0.23170162737369537, 0.9413776993751526, 0.6304479241371155, 0.2930202782154083, 0.6178767085075378, 0.34723350405693054, 0.9818294048309326, 0.49739137291908264, 0.36858460307121277, 0.8221177458763123, 0.5113189816474915, 0.09784448146820068, 0.9729194641113281, 0.9065554738044739, 0.3331451416015625, 0.40724116563796997, 0.13248763978481293, 0.7255943417549133, 0.7705807685852051, 0.07952208071947098, 0.6720477938652039, 0.4205394685268402, 0.8605511784553528, 0.2703278958797455, 0.05537432059645653, 0.2621181607246399, 0.6832813620567322, 0.28351885080337524, 0.18115095794200897, 0.05684807524085045, 0.7786954045295715, 0.25942257046699524, 0.5875996351242065, 0.3708527982234955, 0.4598558843135834, 0.7997958660125732, 0.5188351273536682, 0.5775429606437683, 0.6455702185630798, 0.4304024279117584, 0.5361775159835815, 0.2775960862636566, 0.3926756680011749, 0.1871308982372284, 0.5438059568405151, 0.8820413947105408, 0.7241676449775696, 0.9040443897247314, 0.6996220350265503, 0.7567786574363708, 0.2400202751159668, 0.796391487121582, 0.4581388235092163, 0.8577226400375366, 0.9518744945526123, 0.8207671046257019, 0.8155238032341003, 0.6288984417915344, 0.06271295249462128, 0.25868406891822815, 0.03330462798476219, 0.35536885261535645, 0.01632850244641304, 0.40125951170921326, 0.0996149331331253, 0.869488537311554, 0.326700896024704, 0.6144647002220154, 0.015606064349412918, 0.06807407736778259, 0.2211609184741974, 0.13105523586273193, 0.11548429727554321, 0.9742562174797058, 0.40905410051345825, 0.6387617588043213, 0.9894098043441772, 0.7832344174385071, 0.24141861498355865, 0.24606318771839142, 0.5173085331916809, 0.5546877980232239, 0.7065746784210205, 0.3605455458164215, 0.9249669313430786, 0.2326269894838333, 0.8149664998054504, 0.9689717292785645, 0.2965562641620636, 0.24942004680633545, 0.9509525895118713, 0.6897682547569275, 0.7307090759277344, 0.27243688702583313, 0.3742961883544922, 0.2378072440624237, 0.4492916464805603, 0.8391891121864319, 0.5023894309997559, 0.6339976787567139, 0.940209686756134, 0.6995750665664673, 0.9944007992744446, 0.07086978107690811, 0.15235470235347748, 0.13128933310508728, 0.38280805945396423, 0.96779465675354, 0.2748235762119293, 0.8967611789703369, 0.5520782470703125, 0.4554441571235657, 0.24841345846652985, 0.31038081645965576, 0.5249704718589783, 0.3335074782371521, 0.8623185753822327, 0.2536425292491913, 0.10462789237499237, 0.7400975227355957, 0.6223844289779663, 0.20492368936538696, 0.676242470741272, 0.5436780452728271, 0.030235258862376213, 0.007884103804826736, 0.5305371880531311, 0.08949454873800278, 0.024313200265169144, 0.6222310662269592, 0.2097499519586563, 0.5771402716636658, 0.6719571352005005, 0.002703213831409812, 0.60039222240448, 0.9627703428268433, 0.6964824199676514, 0.5098071694374084, 0.7908401489257812, 0.44203564524650574, 0.6939564347267151, 0.2277594953775406, 0.6232946515083313, 0.618826150894165, 0.9805801510810852, 0.5027207732200623, 0.5413808226585388, 0.8298973441123962, 0.919782817363739, 0.1747720092535019, 0.9521427154541016, 0.16046763956546783, 0.4463944137096405, 0.16023047268390656, 0.4402637481689453, 0.6964631676673889, 0.03961552307009697, 0.06107853725552559, 0.7398838996887207, 0.6725823283195496, 0.30444636940956116, 0.36218905448913574, 0.37824517488479614, 0.1746583878993988, 0.6803486943244934, 0.60724937915802, 0.2839999794960022, 0.5145127177238464, 0.4565199017524719, 0.9704936742782593, 0.09680395573377609, 0.5910269021987915, 0.3972567617893219, 0.35189300775527954, 0.6375827193260193, 0.9762256741523743, 0.7645619511604309, 0.335498183965683, 0.06263600289821625, 0.432281494140625, 0.7730835676193237, 0.1173204779624939, 0.5896947383880615, 0.848150372505188, 0.9834262132644653, 0.3803351819515228, 0.6849344372749329, 0.8620625734329224, 0.49777689576148987, 0.2415570467710495, 0.8595808148384094, 0.47062090039253235, 0.45705875754356384, 0.4237063527107239, 0.11731556057929993, 0.40379273891448975, 0.6713835000991821, 0.713766872882843, 0.399161159992218, 0.614527702331543, 0.8224067091941833, 0.7263424396514893, 0.11047711223363876, 0.40537357330322266, 0.029950324445962906, 0.10978446155786514, 0.7032175064086914, 0.95914226770401, 0.8671671748161316, 0.534916877746582, 0.5241838693618774, 0.19056691229343414, 0.5181497931480408, 0.3732159435749054, 0.080532006919384, 0.22139644622802734, 0.26503971219062805, 0.06560486555099487, 0.1621202677488327, 0.7734555602073669, 0.15336887538433075, 0.43298420310020447, 0.3494403064250946, 0.7510216236114502, 0.028952548280358315, 0.39256879687309265, 0.690784752368927, 0.7592824697494507, 0.5010631680488586, 0.364911824464798, 0.49597030878067017, 0.27734026312828064, 0.117380291223526, 0.04680635407567024, 0.0038603513967245817, 0.6128667593002319, 0.8818964958190918, 0.9663899540901184, 0.3004036843776703, 0.9308187365531921, 0.2672070264816284, 0.3719187378883362, 0.2476850152015686, 0.8587774634361267, 0.4445872902870178, 0.880678117275238, 0.9918903112411499, 0.9661474227905273, 0.675689160823822, 0.21645726263523102, 0.9227566123008728, 0.4530942440032959, 0.7781715989112854, 0.1390727013349533, 0.842854917049408, 0.10241375863552094, 0.304198682308197, 0.4246630072593689, 0.5682175755500793, 0.5964330434799194, 0.9758838415145874, 0.39179694652557373, 0.2503982186317444, 0.0399928018450737, 0.408302903175354, 0.8093649744987488, 0.9543338418006897, 0.8975427746772766, 0.35742464661598206, 0.28856995701789856, 0.11242731660604477, 0.183033287525177, 0.7452329397201538, 0.48767632246017456, 0.4254017174243927, 0.20825324952602386, 0.21539820730686188, 0.8028934001922607, 0.6057119369506836, 0.7278881669044495, 0.8119385838508606, 0.914863109588623, 0.2928885519504547, 0.4181092083454132, 0.10721074789762497, 0.47314298152923584, 0.7332891225814819, 0.37351101636886597, 0.8890599608421326, 0.005152964498847723, 0.9195073843002319, 0.17700578272342682, 0.14031602442264557, 0.9371170401573181, 0.2828368544578552, 0.6002128720283508, 0.14780133962631226, 0.8735568523406982, 0.898961067199707, 0.5326685905456543, 0.3165425658226013, 0.43307745456695557, 0.9149707555770874, 0.7275469899177551, 0.577709436416626, 0.795590341091156, 0.7708727717399597, 0.14150647819042206, 0.441321462392807, 0.44836917519569397, 0.6211692690849304, 0.8667885661125183, 0.4014279544353485, 0.8108386397361755, 0.21145479381084442, 0.8760268688201904, 0.12012018263339996, 0.17537206411361694, 0.8998667597770691, 0.9804856777191162, 0.8634706735610962, 0.3679174780845642, 0.7573641538619995, 0.6573188900947571, 0.48496565222740173, 0.5546450614929199, 0.7255735397338867, 0.773110032081604, 0.9031496644020081, 0.3330720365047455, 0.4755891263484955, 0.29818734526634216, 0.3302670419216156, 0.14038395881652832, 0.06885196268558502, 0.39523324370384216, 0.7186263799667358, 0.7277712821960449, 0.21766284108161926, 0.16235794126987457, 0.1797952950000763, 0.480060875415802, 0.8536060452461243, 0.22010385990142822, 0.11149605363607407, 0.32233354449272156, 0.48258423805236816, 0.06918265670537949, 0.7348137497901917, 0.9391608834266663, 0.9998085498809814, 0.5349081754684448, 0.3041735589504242, 0.9217190742492676, 0.7239413857460022, 0.9222984910011292, 0.8738321661949158, 0.21383534371852875, 0.012171156704425812, 0.22956743836402893, 0.7368531823158264, 0.5149222016334534, 0.22864654660224915, 0.5928802490234375, 0.4758262038230896, 0.043975431472063065, 0.5200814008712769, 0.22441361844539642, 0.5823197364807129, 0.28754448890686035, 0.020950069651007652, 0.4894586205482483, 0.5886390209197998, 0.23583422601222992, 0.6396222710609436, 0.7782761454582214, 0.4904198944568634, 0.9958152770996094, 0.4714573323726654, 0.9438508749008179, 0.7193890810012817, 0.2543824017047882, 0.12729401886463165, 0.14181727170944214, 0.6267064809799194, 0.024272704496979713, 0.6521245837211609, 0.4753247797489166, 0.2656325399875641, 0.48375287652015686, 0.8237176537513733, 0.3106292188167572, 0.7151432633399963, 0.7049480676651001, 0.005310047417879105, 0.5112217664718628, 0.05107548087835312, 0.8590026497840881, 0.0006642185617238283, 0.27832528948783875, 0.6915081143379211, 0.2646495997905731, 0.6394627690315247, 0.39791861176490784, 0.14095747470855713, 0.8611230254173279, 0.04290619120001793, 0.9132843613624573, 0.35422483086586, 0.754901111125946, 0.10025174170732498, 0.01706048659980297, 0.6150580048561096, 0.2959498465061188, 0.26590561866760254, 0.9851086735725403, 0.5189899206161499, 0.4724137783050537, 0.20279604196548462, 0.35775789618492126, 0.44137415289878845, 0.5220624208450317, 0.9062314033508301, 0.5525813102722168, 0.9623950719833374, 0.6308318376541138, 0.9878891706466675, 0.12802086770534515, 0.0020646355114877224, 0.9561231732368469, 0.6383901238441467, 0.9478219151496887, 0.3296511471271515, 0.10816552489995956, 0.22121812403202057, 0.10244628041982651, 0.27664974331855774, 0.34989768266677856, 0.024577023461461067, 0.23057128489017487, 0.8002555966377258, 0.31655019521713257, 0.103990837931633, 0.751032292842865, 0.4260023832321167, 0.10357846319675446, 0.5905853509902954, 0.7986892461776733, 0.2991536557674408, 0.48627209663391113, 0.983853816986084, 0.38954851031303406, 0.944625735282898, 0.7202658653259277, 0.6646655797958374, 0.19899094104766846, 0.7068718075752258, 0.9279761910438538, 0.8161507248878479, 0.2763371467590332, 0.3798938989639282, 0.6682182550430298, 0.01946246810257435, 0.30852794647216797, 0.8882650136947632, 0.652999758720398, 0.5488492846488953, 0.09861037135124207, 0.04117979109287262, 0.8075637817382812, 0.6271607279777527, 0.16981950402259827, 0.7732591032981873, 0.9829991459846497, 0.992667019367218, 0.9382561445236206, 0.4582122564315796, 0.20362092554569244, 0.18581674993038177, 0.11655861139297485, 0.004654836840927601, 0.6641970872879028, 0.085794597864151], \"y\": [0.7151893377304077, 0.5448831915855408, 0.6458941102027893, 0.891772985458374, 0.3834415078163147, 0.5288949012756348, 0.9255966544151306, 0.08712930232286453, 0.832619845867157, 0.8700121641159058, 0.7991585731506348, 0.7805292010307312, 0.6399210095405579, 0.9446688890457153, 0.4146619439125061, 0.7742336988449097, 0.568433940410614, 0.6176354885101318, 0.6169340014457703, 0.681820273399353, 0.43703195452690125, 0.0602254718542099, 0.670637845993042, 0.12892629206180573, 0.36371076107025146, 0.4386015236377716, 0.10204481333494186, 0.16130951046943665, 0.25329160690307617, 0.24442559480667114, 0.11037514358758926, 0.13818295300006866, 0.3687251806259155, 0.09710127860307693, 0.0960984081029892, 0.4686512053012848, 0.6048455238342285, 0.03918779268860817, 0.12019655853509903, 0.11872772127389908, 0.414262980222702, 0.6924721002578735, 0.26538950204849243, 0.09394051134586334, 0.9292961955070496, 0.6674103736877441, 0.7163271903991699, 0.18319135904312134, 0.02010754682123661, 0.004695476032793522, 0.2700079679489136, 0.9621885418891907, 0.5761573314666748, 0.5722519159317017, 0.9527490139007568, 0.8464086651802063, 0.2974369525909424, 0.396505743265152, 0.5812729001045227, 0.6925315856933594, 0.5013243556022644, 0.6439902186393738, 0.6063932180404663, 0.30157482624053955, 0.2900775969028473, 0.42876869440078735, 0.29828232526779175, 0.5908727645874023, 0.6532008051872253, 0.43141844868659973, 0.36756187677383423, 0.8919233679771423, 0.7038885951042175, 0.9194825887680054, 0.9988470077514648, 0.8681260347366333, 0.6155595779418945, 0.8480082154273987, 0.5691007375717163, 0.06916699558496475, 0.45354267954826355, 0.8663823008537292, 0.855803370475769, 0.359978049993515, 0.17162968218326569, 0.054337989538908005, 0.01852179504930973, 0.2239246815443039, 0.9280812740325928, 0.031838931143283844, 0.6214783787727356, 0.23789282143115997, 0.6139659285545349, 0.5899099707603455, 0.31194499135017395, 0.20984375476837158, 0.9443724155426025, 0.49045881628990173, 0.2543564736843109, 0.43441662192344666, 0.6963434815406799, 0.1796036809682846, 0.06724963337182999, 0.4536968469619751, 0.8966712951660156, 0.21689698100090027, 0.2633223831653595, 0.7583786249160767, 0.38346388936042786, 0.8310484290122986, 0.872650682926178, 0.7980468273162842, 0.9527916312217712, 0.21550767123699188, 0.7308558225631714, 0.21331197023391724, 0.02566271834075451, 0.4246854782104492, 0.46357542276382446, 0.5867843627929688, 0.11753185838460922, 0.13206811249256134, 0.39605969190597534, 0.1832798421382904, 0.4880562722682953, 0.9404319524765015, 0.748663604259491, 0.08342243731021881, 0.5844760537147522, 0.29214751720428467, 0.10029394179582596, 0.9295293092727661, 0.7851529121398926, 0.5864101648330688, 0.48562759160995483, 0.8765052556991577, 0.961570143699646, 0.9493188261985779, 0.799202561378479, 0.8742879629135132, 0.8489435315132141, 0.013236857950687408, 0.14814086258411407, 0.4783703088760376, 0.6394725441932678, 0.13690027594566345, 0.1898479163646698, 0.2243170291185379, 0.8621914982795715, 0.9608346819877625, 0.774047315120697, 0.08110138773918152, 0.2322341352701187, 0.053427182137966156, 0.011427458375692368, 0.14694663882255554, 0.08960303664207458, 0.24536721408367157, 0.557368814945221, 0.7270442843437195, 0.131482794880867, 0.3015986382961273, 0.45614057779312134, 0.6956254243850708, 0.3799269497394562, 0.7885454893112183, 0.6969972252845764, 0.7774075865745544, 0.3738131523132324, 0.27282190322875977, 0.19705428183078766, 0.044612299650907516, 0.07695644348859787, 0.3068101108074188, 0.9594333171844482, 0.03536243736743927, 0.5100168585777283, 0.6813924908638, 0.12886056303977966, 0.9564056992530823, 0.9039839506149292, 0.4569114148616791, 0.45860394835472107, 0.3990253210067749, 0.6900250315666199, 0.32772040367126465, 0.6360610723495483, 0.16053882241249084, 0.9591665863990784, 0.5909841656684875, 0.45722344517707825, 0.5757511854171753, 0.9088436961174011, 0.15941447019577026, 0.39843425154685974, 0.4240322411060333, 0.849038302898407, 0.9589827060699463, 0.3567068874835968, 0.18523232638835907, 0.9292914271354675, 0.9453015327453613, 0.4541623890399933, 0.23274412751197815, 0.03307459130883217, 0.428795725107193, 0.2519409954547882, 0.253191202878952, 0.012036222964525223, 0.6184802651405334, 0.9903450012207031, 0.1629544198513031, 0.4903053343296051, 0.06530420482158661, 0.28839850425720215, 0.6625045537948608, 0.6658591032028198, 0.4240889847278595, 0.2870515286922455, 0.414856880903244, 0.8286569118499756, 0.04600730910897255, 0.34851935505867004, 0.9854914546012878, 0.904948353767395, 0.9920112490653992, 0.10590615123510361, 0.2334202527999878, 0.05835635960102081, 0.8817201852798462, 0.3790569007396698, 0.7487882375717163, 0.17185309529304504, 0.30446839332580566, 0.23774182796478271, 0.9425836205482483, 0.8672894239425659, 0.7507648468017578, 0.9679655432701111, 0.4518216848373413, 0.29279401898384094, 0.41748636960983276, 0.6041178107261658, 0.8953858613967896, 0.5468848943710327, 0.5922304391860962, 0.40673333406448364, 0.2716527581214905, 0.4017135500907898, 0.5058664083480835, 0.37303486466407776, 0.7505950331687927, 0.9241587519645691, 0.048690296709537506, 0.4461355209350586, 0.34847599267959595, 0.6805144548416138, 0.7105283737182617, 0.3416981101036072, 0.879234790802002, 0.2826996445655823, 0.7103368043899536, 0.37267908453941345, 0.922111451625824, 0.40594232082366943, 0.3426109850406647, 0.2790679335594177, 0.11570323258638382, 0.6952700018882751, 0.9488610029220581, 0.6471966505050659, 0.5887396335601807, 0.016871673986315727, 0.8136786222457886, 0.33396488428115845, 0.09724292904138565, 0.5199523568153381, 0.09088572859764099, 0.4103015661239624, 0.8869608044624329, 0.13346147537231445, 0.8717857599258423, 0.9223479628562927, 0.9233060479164124, 0.968286395072937, 0.03603381663560867, 0.3891346752643585, 0.300028920173645, 0.8863046765327454, 0.9078755974769592, 0.6611174941062927, 0.07648676633834839, 0.2473987489938736, 0.05994429811835289, 0.9077329635620117, 0.8980623483657837, 0.5289399027824402, 0.997962236404419, 0.47064894437789917, 0.979526937007904, 0.32798799872398376, 0.06320761889219284, 0.47764649987220764, 0.2384132742881775, 0.36792758107185364, 0.3374773859977722, 0.13343943655490875, 0.3433917164802551, 0.6591764688491821, 0.9992780089378357, 0.7214066386222839, 0.8130538463592529, 0.8897936344146729, 0.6982485055923462, 0.14768557250499725, 0.2419017106294632, 0.521996259689331, 0.9587409496307373, 0.10700414329767227, 0.7453980445861816, 0.9358320832252502, 0.39980170130729675, 0.14780867099761963, 0.6567619442939758, 0.09725799411535263, 0.5810819268226624, 0.16902540624141693, 0.05853492394089699, 0.11583399772644043, 0.9799623489379883, 0.857124924659729, 0.2712520658969879, 0.39981213212013245, 0.3447181284427643, 0.6391869187355042, 0.43176013231277466, 0.0700421929359436, 0.65342116355896, 0.5369229912757874, 0.4050356149673462, 0.3210429847240448, 0.73725426197052, 0.6063081622123718, 0.6347863078117371, 0.10329815745353699, 0.02919023483991623, 0.4042436182498932, 0.36509987711906433, 0.01912289671599865, 0.8427768349647522, 0.2228638231754303, 0.0853109210729599, 0.10001406073570251, 0.06614946573972702, 0.8562761545181274, 0.5596824288368225, 0.4564095735549927, 0.19959613680839539, 0.52823406457901, 0.7814795970916748, 0.9272118210792542, 0.8956912755966187, 0.8783724904060364, 0.987348735332489, 0.3645446300506592, 0.37638914585113525, 0.2609044909477234, 0.6817399263381958, 0.5243797898292542, 0.1598452925682068, 0.9707314372062683, 0.17857997119426727, 0.08136960119009018, 0.7196201682090759, 0.5076355338096619, 0.549500584602356, 0.5207614302635193, 0.8773987889289856, 0.0013833499979227781, 0.31823351979255676, 0.4585031569004059, 0.33610227704048157, 0.9450267553329468, 0.3767412602901459, 0.7918795943260193, 0.24488948285579681, 0.1660478264093399, 0.2940766513347626, 0.49395784735679626, 0.8442349433898926, 0.4269043505191803, 0.8180332779884338, 0.15638335049152374, 0.07535906881093979, 0.10761770606040955, 0.24655693769454956, 0.11752564460039139, 0.9325612187385559, 0.24217858910560608, 0.4833935499191284, 0.6397051215171814, 0.3774065673351288, 0.7090354561805725, 0.3519362509250641, 0.7699671983718872, 0.6216654181480408, 0.8743999004364014, 0.21243436634540558, 0.4030260145664215, 0.5269074440002441, 0.0005459649255499244, 0.06355377286672592, 0.9323939681053162, 0.8583376407623291, 0.1591462343931198, 0.1156618744134903, 0.6374622583389282, 0.47938454151153564, 0.049348946660757065, 0.715052604675293, 0.1729513555765152, 0.8173391222953796, 0.8822836875915527, 0.40972620248794556, 0.5156383514404297, 0.7372785806655884, 0.6941578388214111, 0.7104557752609253, 0.483518123626709, 0.3589952886104584, 0.923305332660675, 0.339631050825119, 0.9631972908973694, 0.2569166421890259, 0.4918922185897827, 0.18551789224147797, 0.32626962661743164, 0.44687697291374207, 0.35734689235687256, 0.7317441701889038, 0.28991344571113586, 0.7791794538497925, 0.34453046321868896, 0.7358939051628113, 0.8659454584121704, 0.4864104390144348, 0.5678460001945496, 0.49817955493927, 0.6277347803115845, 0.41669175028800964, 0.3481919467449188, 0.05938318744301796, 0.9185464382171631, 0.33447372913360596, 0.11589846760034561, 0.0568772591650486, 0.09645085781812668, 0.5665060877799988, 0.3423423767089844, 0.3145732879638672, 0.5173260569572449, 0.9011621475219727, 0.8268616199493408, 0.03855724632740021, 0.2168702483177185, 0.0429241918027401, 0.09973295032978058, 0.820022463798523, 0.15093488991260529, 0.8138801455497742, 0.22736245393753052, 0.7057100534439087, 0.310839980840683, 0.33597755432128906, 0.8151993751525879, 0.9738187193870544, 0.29084089398384094, 0.34550565481185913, 0.5221758484840393, 0.8894479274749756, 0.6228940486907959, 0.4589698612689972, 0.3165007531642914, 0.7298276424407959, 0.8791733384132385, 0.1764993816614151, 0.5063122510910034, 0.19725947082042694, 0.2902480363845825, 0.5910654067993164, 0.805263876914978, 0.5591737627983093, 0.4923613965511322, 0.8339816331863403, 0.7712254524230957, 0.32282954454421997, 0.5068629384040833, 0.0976763665676117, 0.9384120106697083, 0.6771411299705505, 0.010063695721328259, 0.7087703943252563, 0.8795214891433716, 0.030661048367619514, 0.9536756873130798, 0.10747256875038147, 0.45670363306999207, 0.4116155207157135, 0.24367786943912506, 0.7532401084899902, 0.6204999089241028, 0.9485403299331665, 0.8483452796936035, 0.18534858524799347, 0.1293557584285736, 0.06809309870004654, 0.9649249315261841, 0.3499928414821625, 0.2653033137321472, 0.5258089303970337, 0.31673067808151245, 0.7275435924530029, 0.4301159977912903, 0.8532459735870361, 0.9692058563232422, 0.013508706353604794, 0.25611379742622375, 0.23277267813682556, 0.7912274599075317, 0.5580512285232544, 0.41863685846328735, 0.011355128139257431, 0.08329097926616669, 0.9655166268348694, 0.15202723443508148, 0.9416677951812744, 0.1858976036310196, 0.10890373587608337, 0.9750946760177612, 0.5206778049468994, 0.7745009660720825, 0.9673377871513367, 0.6176570057868958, 0.7008556723594666, 0.5245770812034607, 0.12027734518051147, 0.8850218653678894, 0.7589845657348633, 0.9670549035072327, 0.5524390339851379, 0.9292916655540466, 0.8281466364860535, 0.7833966612815857, 0.06607426702976227, 0.4382559359073639, 0.4235876500606537, 0.16368426382541656, 0.2627999484539032, 0.03516006097197533, 0.8163642883300781, 0.8518086075782776, 0.11052229255437851, 0.9979940056800842, 0.6033229827880859, 0.5831928253173828, 0.19891133904457092, 0.33044058084487915, 0.28085950016975403, 0.7285587191581726, 0.7917613983154297, 0.3923189342021942, 0.68372642993927, 0.39702582359313965, 0.5063429474830627, 0.7064105868339539, 0.6339869499206543, 0.2687090337276459, 0.9555683732032776, 0.8268052935600281, 0.6339816451072693, 0.15597793459892273, 0.8927071690559387, 0.018096357583999634, 0.43553152680397034, 0.923455536365509, 0.38840413093566895, 0.5881514549255371, 0.6973302364349365, 0.26376768946647644, 0.1355484277009964, 0.9253950119018555, 0.42305442690849304, 0.36747533082962036, 0.6495342254638672, 0.8668609261512756, 0.9114508628845215, 0.3695235550403595, 0.5604506134986877, 0.28671666979789734, 0.39922237396240234, 0.9421847462654114, 0.8603106737136841, 0.3442891538143158, 0.8152250647544861, 0.8010748624801636, 0.8164210319519043, 0.051007308065891266, 0.502453088760376, 0.14837893843650818, 0.567692756652832, 0.9822477698326111, 0.1186155155301094, 0.24456961452960968, 0.7574065327644348, 0.5663115978240967, 0.10473610460758209, 0.35763904452323914, 0.4248539209365845, 0.40168818831443787, 0.06268886476755142]}],\n",
       "                        {\"hovermode\": \"closest\", \"margin\": {\"b\": 20, \"l\": 5, \"r\": 5, \"t\": 40}, \"showlegend\": false, \"template\": {\"data\": {\"bar\": [{\"error_x\": {\"color\": \"#2a3f5f\"}, \"error_y\": {\"color\": \"#2a3f5f\"}, \"marker\": {\"line\": {\"color\": \"#E5ECF6\", \"width\": 0.5}}, \"type\": \"bar\"}], \"barpolar\": [{\"marker\": {\"line\": {\"color\": \"#E5ECF6\", \"width\": 0.5}}, \"type\": \"barpolar\"}], \"carpet\": [{\"aaxis\": {\"endlinecolor\": \"#2a3f5f\", \"gridcolor\": \"white\", \"linecolor\": \"white\", \"minorgridcolor\": \"white\", \"startlinecolor\": \"#2a3f5f\"}, \"baxis\": {\"endlinecolor\": \"#2a3f5f\", \"gridcolor\": \"white\", \"linecolor\": \"white\", \"minorgridcolor\": \"white\", \"startlinecolor\": \"#2a3f5f\"}, \"type\": \"carpet\"}], \"choropleth\": [{\"colorbar\": {\"outlinewidth\": 0, \"ticks\": \"\"}, \"type\": \"choropleth\"}], \"contour\": [{\"colorbar\": {\"outlinewidth\": 0, \"ticks\": \"\"}, \"colorscale\": [[0.0, \"#0d0887\"], [0.1111111111111111, \"#46039f\"], [0.2222222222222222, \"#7201a8\"], [0.3333333333333333, \"#9c179e\"], [0.4444444444444444, \"#bd3786\"], [0.5555555555555556, \"#d8576b\"], [0.6666666666666666, \"#ed7953\"], [0.7777777777777778, \"#fb9f3a\"], [0.8888888888888888, \"#fdca26\"], [1.0, \"#f0f921\"]], \"type\": \"contour\"}], \"contourcarpet\": [{\"colorbar\": {\"outlinewidth\": 0, \"ticks\": \"\"}, \"type\": \"contourcarpet\"}], \"heatmap\": [{\"colorbar\": {\"outlinewidth\": 0, \"ticks\": \"\"}, \"colorscale\": [[0.0, \"#0d0887\"], [0.1111111111111111, \"#46039f\"], [0.2222222222222222, \"#7201a8\"], [0.3333333333333333, \"#9c179e\"], [0.4444444444444444, \"#bd3786\"], [0.5555555555555556, \"#d8576b\"], [0.6666666666666666, \"#ed7953\"], [0.7777777777777778, \"#fb9f3a\"], [0.8888888888888888, \"#fdca26\"], [1.0, \"#f0f921\"]], \"type\": \"heatmap\"}], \"heatmapgl\": [{\"colorbar\": {\"outlinewidth\": 0, \"ticks\": \"\"}, \"colorscale\": [[0.0, \"#0d0887\"], [0.1111111111111111, \"#46039f\"], [0.2222222222222222, \"#7201a8\"], [0.3333333333333333, \"#9c179e\"], [0.4444444444444444, \"#bd3786\"], [0.5555555555555556, \"#d8576b\"], [0.6666666666666666, \"#ed7953\"], [0.7777777777777778, \"#fb9f3a\"], [0.8888888888888888, \"#fdca26\"], [1.0, \"#f0f921\"]], \"type\": \"heatmapgl\"}], \"histogram\": [{\"marker\": {\"colorbar\": {\"outlinewidth\": 0, \"ticks\": \"\"}}, \"type\": \"histogram\"}], \"histogram2d\": [{\"colorbar\": {\"outlinewidth\": 0, \"ticks\": \"\"}, \"colorscale\": [[0.0, \"#0d0887\"], [0.1111111111111111, \"#46039f\"], [0.2222222222222222, \"#7201a8\"], [0.3333333333333333, \"#9c179e\"], [0.4444444444444444, \"#bd3786\"], [0.5555555555555556, \"#d8576b\"], [0.6666666666666666, \"#ed7953\"], [0.7777777777777778, \"#fb9f3a\"], [0.8888888888888888, \"#fdca26\"], [1.0, \"#f0f921\"]], \"type\": \"histogram2d\"}], \"histogram2dcontour\": [{\"colorbar\": {\"outlinewidth\": 0, \"ticks\": \"\"}, \"colorscale\": [[0.0, \"#0d0887\"], [0.1111111111111111, \"#46039f\"], [0.2222222222222222, \"#7201a8\"], [0.3333333333333333, \"#9c179e\"], [0.4444444444444444, \"#bd3786\"], [0.5555555555555556, \"#d8576b\"], [0.6666666666666666, \"#ed7953\"], [0.7777777777777778, \"#fb9f3a\"], [0.8888888888888888, \"#fdca26\"], [1.0, \"#f0f921\"]], \"type\": \"histogram2dcontour\"}], \"mesh3d\": [{\"colorbar\": {\"outlinewidth\": 0, \"ticks\": \"\"}, \"type\": \"mesh3d\"}], \"parcoords\": [{\"line\": {\"colorbar\": {\"outlinewidth\": 0, \"ticks\": \"\"}}, \"type\": \"parcoords\"}], \"pie\": [{\"automargin\": true, \"type\": \"pie\"}], \"scatter\": [{\"marker\": {\"colorbar\": {\"outlinewidth\": 0, \"ticks\": \"\"}}, \"type\": \"scatter\"}], \"scatter3d\": [{\"line\": {\"colorbar\": {\"outlinewidth\": 0, \"ticks\": \"\"}}, \"marker\": {\"colorbar\": {\"outlinewidth\": 0, \"ticks\": \"\"}}, \"type\": \"scatter3d\"}], \"scattercarpet\": [{\"marker\": {\"colorbar\": {\"outlinewidth\": 0, \"ticks\": \"\"}}, \"type\": \"scattercarpet\"}], \"scattergeo\": [{\"marker\": {\"colorbar\": {\"outlinewidth\": 0, \"ticks\": \"\"}}, \"type\": \"scattergeo\"}], \"scattergl\": [{\"marker\": {\"colorbar\": {\"outlinewidth\": 0, \"ticks\": \"\"}}, \"type\": \"scattergl\"}], \"scattermapbox\": [{\"marker\": {\"colorbar\": {\"outlinewidth\": 0, \"ticks\": \"\"}}, \"type\": \"scattermapbox\"}], \"scatterpolar\": [{\"marker\": {\"colorbar\": {\"outlinewidth\": 0, \"ticks\": \"\"}}, \"type\": \"scatterpolar\"}], \"scatterpolargl\": [{\"marker\": {\"colorbar\": {\"outlinewidth\": 0, \"ticks\": \"\"}}, \"type\": \"scatterpolargl\"}], \"scatterternary\": [{\"marker\": {\"colorbar\": {\"outlinewidth\": 0, \"ticks\": \"\"}}, \"type\": \"scatterternary\"}], \"surface\": [{\"colorbar\": {\"outlinewidth\": 0, \"ticks\": \"\"}, \"colorscale\": [[0.0, \"#0d0887\"], [0.1111111111111111, \"#46039f\"], [0.2222222222222222, \"#7201a8\"], [0.3333333333333333, \"#9c179e\"], [0.4444444444444444, \"#bd3786\"], [0.5555555555555556, \"#d8576b\"], [0.6666666666666666, \"#ed7953\"], [0.7777777777777778, \"#fb9f3a\"], [0.8888888888888888, \"#fdca26\"], [1.0, \"#f0f921\"]], \"type\": \"surface\"}], \"table\": [{\"cells\": {\"fill\": {\"color\": \"#EBF0F8\"}, \"line\": {\"color\": \"white\"}}, \"header\": {\"fill\": {\"color\": \"#C8D4E3\"}, \"line\": {\"color\": \"white\"}}, \"type\": \"table\"}]}, \"layout\": {\"annotationdefaults\": {\"arrowcolor\": \"#2a3f5f\", \"arrowhead\": 0, \"arrowwidth\": 1}, \"coloraxis\": {\"colorbar\": {\"outlinewidth\": 0, \"ticks\": \"\"}}, \"colorscale\": {\"diverging\": [[0, \"#8e0152\"], [0.1, \"#c51b7d\"], [0.2, \"#de77ae\"], [0.3, \"#f1b6da\"], [0.4, \"#fde0ef\"], [0.5, \"#f7f7f7\"], [0.6, \"#e6f5d0\"], [0.7, \"#b8e186\"], [0.8, \"#7fbc41\"], [0.9, \"#4d9221\"], [1, \"#276419\"]], \"sequential\": [[0.0, \"#0d0887\"], [0.1111111111111111, \"#46039f\"], [0.2222222222222222, \"#7201a8\"], [0.3333333333333333, \"#9c179e\"], [0.4444444444444444, \"#bd3786\"], [0.5555555555555556, \"#d8576b\"], [0.6666666666666666, \"#ed7953\"], [0.7777777777777778, \"#fb9f3a\"], [0.8888888888888888, \"#fdca26\"], [1.0, \"#f0f921\"]], \"sequentialminus\": [[0.0, \"#0d0887\"], [0.1111111111111111, \"#46039f\"], [0.2222222222222222, \"#7201a8\"], [0.3333333333333333, \"#9c179e\"], [0.4444444444444444, \"#bd3786\"], [0.5555555555555556, \"#d8576b\"], [0.6666666666666666, \"#ed7953\"], [0.7777777777777778, \"#fb9f3a\"], [0.8888888888888888, \"#fdca26\"], [1.0, \"#f0f921\"]]}, \"colorway\": [\"#636efa\", \"#EF553B\", \"#00cc96\", \"#ab63fa\", \"#FFA15A\", \"#19d3f3\", \"#FF6692\", \"#B6E880\", \"#FF97FF\", \"#FECB52\"], \"font\": {\"color\": \"#2a3f5f\"}, \"geo\": {\"bgcolor\": \"white\", \"lakecolor\": \"white\", \"landcolor\": \"#E5ECF6\", \"showlakes\": true, \"showland\": true, \"subunitcolor\": \"white\"}, \"hoverlabel\": {\"align\": \"left\"}, \"hovermode\": \"closest\", \"mapbox\": {\"style\": \"light\"}, \"paper_bgcolor\": \"white\", \"plot_bgcolor\": \"#E5ECF6\", \"polar\": {\"angularaxis\": {\"gridcolor\": \"white\", \"linecolor\": \"white\", \"ticks\": \"\"}, \"bgcolor\": \"#E5ECF6\", \"radialaxis\": {\"gridcolor\": \"white\", \"linecolor\": \"white\", \"ticks\": \"\"}}, \"scene\": {\"xaxis\": {\"backgroundcolor\": \"#E5ECF6\", \"gridcolor\": \"white\", \"gridwidth\": 2, \"linecolor\": \"white\", \"showbackground\": true, \"ticks\": \"\", \"zerolinecolor\": \"white\"}, \"yaxis\": {\"backgroundcolor\": \"#E5ECF6\", \"gridcolor\": \"white\", \"gridwidth\": 2, \"linecolor\": \"white\", \"showbackground\": true, \"ticks\": \"\", \"zerolinecolor\": \"white\"}, \"zaxis\": {\"backgroundcolor\": \"#E5ECF6\", \"gridcolor\": \"white\", \"gridwidth\": 2, \"linecolor\": \"white\", \"showbackground\": true, \"ticks\": \"\", \"zerolinecolor\": \"white\"}}, \"shapedefaults\": {\"line\": {\"color\": \"#2a3f5f\"}}, \"ternary\": {\"aaxis\": {\"gridcolor\": \"white\", \"linecolor\": \"white\", \"ticks\": \"\"}, \"baxis\": {\"gridcolor\": \"white\", \"linecolor\": \"white\", \"ticks\": \"\"}, \"bgcolor\": \"#E5ECF6\", \"caxis\": {\"gridcolor\": \"white\", \"linecolor\": \"white\", \"ticks\": \"\"}}, \"title\": {\"x\": 0.05}, \"xaxis\": {\"automargin\": true, \"gridcolor\": \"white\", \"linecolor\": \"white\", \"ticks\": \"\", \"title\": {\"standoff\": 15}, \"zerolinecolor\": \"white\", \"zerolinewidth\": 2}, \"yaxis\": {\"automargin\": true, \"gridcolor\": \"white\", \"linecolor\": \"white\", \"ticks\": \"\", \"title\": {\"standoff\": 15}, \"zerolinecolor\": \"white\", \"zerolinewidth\": 2}}}, \"title\": {\"font\": {\"size\": 16}, \"text\": \"Network graph G_downsized\"}, \"xaxis\": {\"showgrid\": false, \"showticklabels\": false, \"zeroline\": false}, \"yaxis\": {\"showgrid\": false, \"showticklabels\": false, \"zeroline\": false}},\n",
       "                        {\"responsive\": true}\n",
       "                    ).then(function(){\n",
       "                            \n",
       "var gd = document.getElementById('43859cde-9172-40bf-9124-22a8d07844a6');\n",
       "var x = new MutationObserver(function (mutations, observer) {{\n",
       "        var display = window.getComputedStyle(gd).display;\n",
       "        if (!display || display === 'none') {{\n",
       "            console.log([gd, 'removed!']);\n",
       "            Plotly.purge(gd);\n",
       "            observer.disconnect();\n",
       "        }}\n",
       "}});\n",
       "\n",
       "// Listen for the removal of the full notebook cells\n",
       "var notebookContainer = gd.closest('#notebook-container');\n",
       "if (notebookContainer) {{\n",
       "    x.observe(notebookContainer, {childList: true});\n",
       "}}\n",
       "\n",
       "// Listen for the clearing of the current output cell\n",
       "var outputEl = gd.closest('.output');\n",
       "if (outputEl) {{\n",
       "    x.observe(outputEl, {childList: true});\n",
       "}}\n",
       "\n",
       "                        })\n",
       "                };\n",
       "                \n",
       "            </script>\n",
       "        </div>\n",
       "</body>\n",
       "</html>"
      ]
     },
     "metadata": {
      "tags": []
     },
     "output_type": "display_data"
    }
   ],
   "source": [
    "# plot the graph G_downsized\n",
    "fig2 = go.Figure(data=[edge_trace_gd, node_trace_gd],\n",
    "             layout=go.Layout(\n",
    "                title='Network graph G_downsized',\n",
    "                titlefont_size=16,\n",
    "                showlegend=False,\n",
    "                hovermode='closest',\n",
    "                margin=dict(b=20,l=5,r=5,t=40),\n",
    "                xaxis=dict(showgrid=False, zeroline=False, showticklabels=False),\n",
    "                yaxis=dict(showgrid=False, zeroline=False, showticklabels=False))\n",
    "                )\n",
    "fig2.show()"
   ]
  },
  {
   "cell_type": "markdown",
   "metadata": {
    "id": "_xMtVnUtlXal"
   },
   "source": [
    "### 4-4 Build a Node2Vec model with G_downsized"
   ]
  },
  {
   "cell_type": "code",
   "execution_count": 81,
   "metadata": {
    "colab": {
     "base_uri": "https://localhost:8080/",
     "height": 51
    },
    "executionInfo": {
     "elapsed": 30831,
     "status": "ok",
     "timestamp": 1601284476174,
     "user": {
      "displayName": "A D",
      "photoUrl": "",
      "userId": "14584707532892118607"
     },
     "user_tz": -120
    },
    "id": "K0uUFcjzvYuY",
    "outputId": "7dcb17e8-99c0-407e-8a42-62f42b60989b"
   },
   "outputs": [
    {
     "name": "stderr",
     "output_type": "stream",
     "text": [
      "Computing transition probabilities: 100%|██████████| 620/620 [00:00<00:00, 10571.01it/s]\n",
      "Generating walks (CPU: 1): 100%|██████████| 50/50 [00:24<00:00,  2.00it/s]\n"
     ]
    }
   ],
   "source": [
    "# Generate walks\n",
    "node2vec = Node2Vec(G_downsized, dimensions=100, walk_length=20, num_walks=50)\n",
    "\n",
    "# Train a node2vec model\n",
    "n2w_model = node2vec.fit(window=10, min_count=1)"
   ]
  },
  {
   "cell_type": "code",
   "execution_count": 82,
   "metadata": {
    "colab": {
     "base_uri": "https://localhost:8080/",
     "height": 34
    },
    "executionInfo": {
     "elapsed": 1717,
     "status": "ok",
     "timestamp": 1601284484558,
     "user": {
      "displayName": "A D",
      "photoUrl": "",
      "userId": "14584707532892118607"
     },
     "user_tz": -120
    },
    "id": "st3fTG3uvYuc",
    "outputId": "4f5982fc-1432-4b52-d2c7-f07a60ab58b6"
   },
   "outputs": [
    {
     "data": {
      "text/plain": [
       "<gensim.models.word2vec.Word2Vec at 0x7ff4869b4dd8>"
      ]
     },
     "execution_count": 82,
     "metadata": {
      "tags": []
     },
     "output_type": "execute_result"
    }
   ],
   "source": [
    "n2w_model"
   ]
  },
  {
   "cell_type": "markdown",
   "metadata": {
    "id": "74Inc2Z4llbO"
   },
   "source": [
    "### 4-5 Build X with the Node2Vec model and split X in train and test sets"
   ]
  },
  {
   "cell_type": "code",
   "execution_count": 83,
   "metadata": {
    "colab": {
     "base_uri": "https://localhost:8080/",
     "height": 85
    },
    "executionInfo": {
     "elapsed": 2206,
     "status": "ok",
     "timestamp": 1601284500147,
     "user": {
      "displayName": "A D",
      "photoUrl": "",
      "userId": "14584707532892118607"
     },
     "user_tz": -120
    },
    "id": "aVnY9ThMvYul",
    "outputId": "9962debe-347d-4774-96a4-af4347c3142d"
   },
   "outputs": [
    {
     "name": "stderr",
     "output_type": "stream",
     "text": [
      "/usr/local/lib/python3.6/dist-packages/ipykernel_launcher.py:2: DeprecationWarning:\n",
      "\n",
      "Call to deprecated `__getitem__` (Method will be removed in 4.0.0, use self.wv.__getitem__() instead).\n",
      "\n"
     ]
    }
   ],
   "source": [
    "# Build X the n2w_model\n",
    "X = [(n2w_model[str(i)]+n2w_model[str(j)]) for i,j in zip(mixed_df['node_1'], mixed_df['node_2'])]"
   ]
  },
  {
   "cell_type": "code",
   "execution_count": 84,
   "metadata": {
    "colab": {
     "base_uri": "https://localhost:8080/",
     "height": 34
    },
    "executionInfo": {
     "elapsed": 1411,
     "status": "ok",
     "timestamp": 1601284519853,
     "user": {
      "displayName": "A D",
      "photoUrl": "",
      "userId": "14584707532892118607"
     },
     "user_tz": -120
    },
    "id": "hbJjaaBivYuv",
    "outputId": "8d65d688-031e-4331-bc67-6cc88bb36e1f"
   },
   "outputs": [
    {
     "data": {
      "text/plain": [
       "80541"
      ]
     },
     "execution_count": 84,
     "metadata": {
      "tags": []
     },
     "output_type": "execute_result"
    }
   ],
   "source": [
    "len(X)"
   ]
  },
  {
   "cell_type": "code",
   "execution_count": 85,
   "metadata": {
    "executionInfo": {
     "elapsed": 2642,
     "status": "ok",
     "timestamp": 1601284530885,
     "user": {
      "displayName": "A D",
      "photoUrl": "",
      "userId": "14584707532892118607"
     },
     "user_tz": -120
    },
    "id": "GZ3lygjsvYu_"
   },
   "outputs": [],
   "source": [
    "# Split X in train and test sets\n",
    "X_train, X_test, y_train, y_test = train_test_split(np.array(X), mixed_df['link'], \n",
    "                                                test_size = 0.25, \n",
    "                                                random_state = 0, stratify=mixed_df['link'])"
   ]
  },
  {
   "cell_type": "code",
   "execution_count": 86,
   "metadata": {
    "colab": {
     "base_uri": "https://localhost:8080/",
     "height": 34
    },
    "executionInfo": {
     "elapsed": 995,
     "status": "ok",
     "timestamp": 1601284535396,
     "user": {
      "displayName": "A D",
      "photoUrl": "",
      "userId": "14584707532892118607"
     },
     "user_tz": -120
    },
    "id": "Qq0J7PadvYvJ",
    "outputId": "a1e6767f-bed1-4e6c-ec42-29175a4262d0"
   },
   "outputs": [
    {
     "data": {
      "text/plain": [
       "((60405, 100), (20136, 100), (60405,), (20136,))"
      ]
     },
     "execution_count": 86,
     "metadata": {
      "tags": []
     },
     "output_type": "execute_result"
    }
   ],
   "source": [
    "X_train.shape, X_test.shape, y_train.shape, y_test.shape"
   ]
  },
  {
   "cell_type": "markdown",
   "metadata": {
    "id": "peZA0Y9kl4sE"
   },
   "source": [
    "## 5- Prediction models"
   ]
  },
  {
   "cell_type": "markdown",
   "metadata": {
    "id": "3UVGoTstmAdt"
   },
   "source": [
    "### 5-1 Logistic Regression model"
   ]
  },
  {
   "cell_type": "code",
   "execution_count": 87,
   "metadata": {
    "colab": {
     "base_uri": "https://localhost:8080/",
     "height": 102
    },
    "executionInfo": {
     "elapsed": 3984,
     "status": "ok",
     "timestamp": 1601284545496,
     "user": {
      "displayName": "A D",
      "photoUrl": "",
      "userId": "14584707532892118607"
     },
     "user_tz": -120
    },
    "id": "rTlWviaVvYvR",
    "outputId": "12cd1e25-9c4b-4076-e790-2d76203b52c4"
   },
   "outputs": [
    {
     "data": {
      "text/plain": [
       "LogisticRegression(C=0.008, class_weight='balanced', dual=False,\n",
       "                   fit_intercept=True, intercept_scaling=1, l1_ratio=None,\n",
       "                   max_iter=1000, multi_class='auto', n_jobs=None, penalty='l2',\n",
       "                   random_state=None, solver='lbfgs', tol=0.0001, verbose=0,\n",
       "                   warm_start=False)"
      ]
     },
     "execution_count": 87,
     "metadata": {
      "tags": []
     },
     "output_type": "execute_result"
    }
   ],
   "source": [
    "# Instantiate a Logistic regression model and fit it\n",
    "lr = LogisticRegression(C=0.008, class_weight=\"balanced\", max_iter=1000)\n",
    "lr.fit(X_train, y_train)"
   ]
  },
  {
   "cell_type": "code",
   "execution_count": 88,
   "metadata": {
    "executionInfo": {
     "elapsed": 1363,
     "status": "ok",
     "timestamp": 1601284550138,
     "user": {
      "displayName": "A D",
      "photoUrl": "",
      "userId": "14584707532892118607"
     },
     "user_tz": -120
    },
    "id": "wmkt1X2gvYvb"
   },
   "outputs": [],
   "source": [
    "# Predict y_train and y_test\n",
    "y_train_pred_lr = lr.predict(X_train)\n",
    "y_test_pred_lr = lr.predict(X_test)"
   ]
  },
  {
   "cell_type": "code",
   "execution_count": 89,
   "metadata": {
    "colab": {
     "base_uri": "https://localhost:8080/",
     "height": 51
    },
    "executionInfo": {
     "elapsed": 2045,
     "status": "ok",
     "timestamp": 1601284580464,
     "user": {
      "displayName": "A D",
      "photoUrl": "",
      "userId": "14584707532892118607"
     },
     "user_tz": -120
    },
    "id": "Qkk_TzLlvYvr",
    "outputId": "a3f5baa6-abf6-46b1-a524-1c2f3f5491eb"
   },
   "outputs": [
    {
     "name": "stdout",
     "output_type": "stream",
     "text": [
      "The ROC AUC score for the prediction on the train set with the Logistic Regression model is 0.7140355868375645.\n",
      "The ROC AUC score for the prediction on the test set with the Logistic Regression model is 0.6701298887262258.\n"
     ]
    }
   ],
   "source": [
    "# Compute the roc_auc_score\n",
    "print(f'The ROC AUC score for the prediction on the train set with the Logistic Regression model is {roc_auc_score(y_train, y_train_pred_lr)}.')\n",
    "print(f'The ROC AUC score for the prediction on the test set with the Logistic Regression model is {roc_auc_score(y_test, y_test_pred_lr)}.')"
   ]
  },
  {
   "cell_type": "code",
   "execution_count": 90,
   "metadata": {
    "executionInfo": {
     "elapsed": 1299,
     "status": "ok",
     "timestamp": 1601284587659,
     "user": {
      "displayName": "A D",
      "photoUrl": "",
      "userId": "14584707532892118607"
     },
     "user_tz": -120
    },
    "id": "gywxclKnmqsG"
   },
   "outputs": [],
   "source": [
    "# Compute the confusion matrices\n",
    "matrix_confusion_train_lr = confusion_matrix(y_train.astype('int'), y_train_pred_lr.astype('int'))\n",
    "matrix_confusion_test_lr = confusion_matrix(y_test.astype('int'), y_test_pred_lr.astype('int'))"
   ]
  },
  {
   "cell_type": "code",
   "execution_count": 91,
   "metadata": {
    "colab": {
     "base_uri": "https://localhost:8080/",
     "height": 542
    },
    "executionInfo": {
     "elapsed": 1442,
     "status": "ok",
     "timestamp": 1601284595046,
     "user": {
      "displayName": "A D",
      "photoUrl": "",
      "userId": "14584707532892118607"
     },
     "user_tz": -120
    },
    "id": "wcIobcitm6kw",
    "outputId": "73df4a6d-b29b-4d9c-86c6-93ba90dc94c5"
   },
   "outputs": [
    {
     "data": {
      "text/html": [
       "<html>\n",
       "<head><meta charset=\"utf-8\" /></head>\n",
       "<body>\n",
       "    <div>\n",
       "            <script src=\"https://cdnjs.cloudflare.com/ajax/libs/mathjax/2.7.5/MathJax.js?config=TeX-AMS-MML_SVG\"></script><script type=\"text/javascript\">if (window.MathJax) {MathJax.Hub.Config({SVG: {font: \"STIX-Web\"}});}</script>\n",
       "                <script type=\"text/javascript\">window.PlotlyConfig = {MathJaxConfig: 'local'};</script>\n",
       "        <script src=\"https://cdn.plot.ly/plotly-latest.min.js\"></script>    \n",
       "            <div id=\"07665443-e400-4929-96fc-c6b2e69800fc\" class=\"plotly-graph-div\" style=\"height:525px; width:100%;\"></div>\n",
       "            <script type=\"text/javascript\">\n",
       "                \n",
       "                    window.PLOTLYENV=window.PLOTLYENV || {};\n",
       "                    \n",
       "                if (document.getElementById(\"07665443-e400-4929-96fc-c6b2e69800fc\")) {\n",
       "                    Plotly.newPlot(\n",
       "                        '07665443-e400-4929-96fc-c6b2e69800fc',\n",
       "                        [{\"colorscale\": [[0.0, \"#0d0887\"], [0.1111111111111111, \"#46039f\"], [0.2222222222222222, \"#7201a8\"], [0.3333333333333333, \"#9c179e\"], [0.4444444444444444, \"#bd3786\"], [0.5555555555555556, \"#d8576b\"], [0.6666666666666666, \"#ed7953\"], [0.7777777777777778, \"#fb9f3a\"], [0.8888888888888888, \"#fdca26\"], [1.0, \"#f0f921\"]], \"reversescale\": false, \"showscale\": false, \"type\": \"heatmap\", \"x\": [0, 1], \"y\": [0, 1], \"z\": [[42551, 16742], [322, 790]]}],\n",
       "                        {\"annotations\": [{\"font\": {\"color\": \"#000000\"}, \"showarrow\": false, \"text\": \"42551\", \"x\": 0, \"xref\": \"x\", \"y\": 0, \"yref\": \"y\"}, {\"font\": {\"color\": \"#FFFFFF\"}, \"showarrow\": false, \"text\": \"16742\", \"x\": 1, \"xref\": \"x\", \"y\": 0, \"yref\": \"y\"}, {\"font\": {\"color\": \"#FFFFFF\"}, \"showarrow\": false, \"text\": \"322\", \"x\": 0, \"xref\": \"x\", \"y\": 1, \"yref\": \"y\"}, {\"font\": {\"color\": \"#FFFFFF\"}, \"showarrow\": false, \"text\": \"790\", \"x\": 1, \"xref\": \"x\", \"y\": 1, \"yref\": \"y\"}], \"template\": {\"data\": {\"bar\": [{\"error_x\": {\"color\": \"#2a3f5f\"}, \"error_y\": {\"color\": \"#2a3f5f\"}, \"marker\": {\"line\": {\"color\": \"#E5ECF6\", \"width\": 0.5}}, \"type\": \"bar\"}], \"barpolar\": [{\"marker\": {\"line\": {\"color\": \"#E5ECF6\", \"width\": 0.5}}, \"type\": \"barpolar\"}], \"carpet\": [{\"aaxis\": {\"endlinecolor\": \"#2a3f5f\", \"gridcolor\": \"white\", \"linecolor\": \"white\", \"minorgridcolor\": \"white\", \"startlinecolor\": \"#2a3f5f\"}, \"baxis\": {\"endlinecolor\": \"#2a3f5f\", \"gridcolor\": \"white\", \"linecolor\": \"white\", \"minorgridcolor\": \"white\", \"startlinecolor\": \"#2a3f5f\"}, \"type\": \"carpet\"}], \"choropleth\": [{\"colorbar\": {\"outlinewidth\": 0, \"ticks\": \"\"}, \"type\": \"choropleth\"}], \"contour\": [{\"colorbar\": {\"outlinewidth\": 0, \"ticks\": \"\"}, \"colorscale\": [[0.0, \"#0d0887\"], [0.1111111111111111, \"#46039f\"], [0.2222222222222222, \"#7201a8\"], [0.3333333333333333, \"#9c179e\"], [0.4444444444444444, \"#bd3786\"], [0.5555555555555556, \"#d8576b\"], [0.6666666666666666, \"#ed7953\"], [0.7777777777777778, \"#fb9f3a\"], [0.8888888888888888, \"#fdca26\"], [1.0, \"#f0f921\"]], \"type\": \"contour\"}], \"contourcarpet\": [{\"colorbar\": {\"outlinewidth\": 0, \"ticks\": \"\"}, \"type\": \"contourcarpet\"}], \"heatmap\": [{\"colorbar\": {\"outlinewidth\": 0, \"ticks\": \"\"}, \"colorscale\": [[0.0, \"#0d0887\"], [0.1111111111111111, \"#46039f\"], [0.2222222222222222, \"#7201a8\"], [0.3333333333333333, \"#9c179e\"], [0.4444444444444444, \"#bd3786\"], [0.5555555555555556, \"#d8576b\"], [0.6666666666666666, \"#ed7953\"], [0.7777777777777778, \"#fb9f3a\"], [0.8888888888888888, \"#fdca26\"], [1.0, \"#f0f921\"]], \"type\": \"heatmap\"}], \"heatmapgl\": [{\"colorbar\": {\"outlinewidth\": 0, \"ticks\": \"\"}, \"colorscale\": [[0.0, \"#0d0887\"], [0.1111111111111111, \"#46039f\"], [0.2222222222222222, \"#7201a8\"], [0.3333333333333333, \"#9c179e\"], [0.4444444444444444, \"#bd3786\"], [0.5555555555555556, \"#d8576b\"], [0.6666666666666666, \"#ed7953\"], [0.7777777777777778, \"#fb9f3a\"], [0.8888888888888888, \"#fdca26\"], [1.0, \"#f0f921\"]], \"type\": \"heatmapgl\"}], \"histogram\": [{\"marker\": {\"colorbar\": {\"outlinewidth\": 0, \"ticks\": \"\"}}, \"type\": \"histogram\"}], \"histogram2d\": [{\"colorbar\": {\"outlinewidth\": 0, \"ticks\": \"\"}, \"colorscale\": [[0.0, \"#0d0887\"], [0.1111111111111111, \"#46039f\"], [0.2222222222222222, \"#7201a8\"], [0.3333333333333333, \"#9c179e\"], [0.4444444444444444, \"#bd3786\"], [0.5555555555555556, \"#d8576b\"], [0.6666666666666666, \"#ed7953\"], [0.7777777777777778, \"#fb9f3a\"], [0.8888888888888888, \"#fdca26\"], [1.0, \"#f0f921\"]], \"type\": \"histogram2d\"}], \"histogram2dcontour\": [{\"colorbar\": {\"outlinewidth\": 0, \"ticks\": \"\"}, \"colorscale\": [[0.0, \"#0d0887\"], [0.1111111111111111, \"#46039f\"], [0.2222222222222222, \"#7201a8\"], [0.3333333333333333, \"#9c179e\"], [0.4444444444444444, \"#bd3786\"], [0.5555555555555556, \"#d8576b\"], [0.6666666666666666, \"#ed7953\"], [0.7777777777777778, \"#fb9f3a\"], [0.8888888888888888, \"#fdca26\"], [1.0, \"#f0f921\"]], \"type\": \"histogram2dcontour\"}], \"mesh3d\": [{\"colorbar\": {\"outlinewidth\": 0, \"ticks\": \"\"}, \"type\": \"mesh3d\"}], \"parcoords\": [{\"line\": {\"colorbar\": {\"outlinewidth\": 0, \"ticks\": \"\"}}, \"type\": \"parcoords\"}], \"pie\": [{\"automargin\": true, \"type\": \"pie\"}], \"scatter\": [{\"marker\": {\"colorbar\": {\"outlinewidth\": 0, \"ticks\": \"\"}}, \"type\": \"scatter\"}], \"scatter3d\": [{\"line\": {\"colorbar\": {\"outlinewidth\": 0, \"ticks\": \"\"}}, \"marker\": {\"colorbar\": {\"outlinewidth\": 0, \"ticks\": \"\"}}, \"type\": \"scatter3d\"}], \"scattercarpet\": [{\"marker\": {\"colorbar\": {\"outlinewidth\": 0, \"ticks\": \"\"}}, \"type\": \"scattercarpet\"}], \"scattergeo\": [{\"marker\": {\"colorbar\": {\"outlinewidth\": 0, \"ticks\": \"\"}}, \"type\": \"scattergeo\"}], \"scattergl\": [{\"marker\": {\"colorbar\": {\"outlinewidth\": 0, \"ticks\": \"\"}}, \"type\": \"scattergl\"}], \"scattermapbox\": [{\"marker\": {\"colorbar\": {\"outlinewidth\": 0, \"ticks\": \"\"}}, \"type\": \"scattermapbox\"}], \"scatterpolar\": [{\"marker\": {\"colorbar\": {\"outlinewidth\": 0, \"ticks\": \"\"}}, \"type\": \"scatterpolar\"}], \"scatterpolargl\": [{\"marker\": {\"colorbar\": {\"outlinewidth\": 0, \"ticks\": \"\"}}, \"type\": \"scatterpolargl\"}], \"scatterternary\": [{\"marker\": {\"colorbar\": {\"outlinewidth\": 0, \"ticks\": \"\"}}, \"type\": \"scatterternary\"}], \"surface\": [{\"colorbar\": {\"outlinewidth\": 0, \"ticks\": \"\"}, \"colorscale\": [[0.0, \"#0d0887\"], [0.1111111111111111, \"#46039f\"], [0.2222222222222222, \"#7201a8\"], [0.3333333333333333, \"#9c179e\"], [0.4444444444444444, \"#bd3786\"], [0.5555555555555556, \"#d8576b\"], [0.6666666666666666, \"#ed7953\"], [0.7777777777777778, \"#fb9f3a\"], [0.8888888888888888, \"#fdca26\"], [1.0, \"#f0f921\"]], \"type\": \"surface\"}], \"table\": [{\"cells\": {\"fill\": {\"color\": \"#EBF0F8\"}, \"line\": {\"color\": \"white\"}}, \"header\": {\"fill\": {\"color\": \"#C8D4E3\"}, \"line\": {\"color\": \"white\"}}, \"type\": \"table\"}]}, \"layout\": {\"annotationdefaults\": {\"arrowcolor\": \"#2a3f5f\", \"arrowhead\": 0, \"arrowwidth\": 1}, \"coloraxis\": {\"colorbar\": {\"outlinewidth\": 0, \"ticks\": \"\"}}, \"colorscale\": {\"diverging\": [[0, \"#8e0152\"], [0.1, \"#c51b7d\"], [0.2, \"#de77ae\"], [0.3, \"#f1b6da\"], [0.4, \"#fde0ef\"], [0.5, \"#f7f7f7\"], [0.6, \"#e6f5d0\"], [0.7, \"#b8e186\"], [0.8, \"#7fbc41\"], [0.9, \"#4d9221\"], [1, \"#276419\"]], \"sequential\": [[0.0, \"#0d0887\"], [0.1111111111111111, \"#46039f\"], [0.2222222222222222, \"#7201a8\"], [0.3333333333333333, \"#9c179e\"], [0.4444444444444444, \"#bd3786\"], [0.5555555555555556, \"#d8576b\"], [0.6666666666666666, \"#ed7953\"], [0.7777777777777778, \"#fb9f3a\"], [0.8888888888888888, \"#fdca26\"], [1.0, \"#f0f921\"]], \"sequentialminus\": [[0.0, \"#0d0887\"], [0.1111111111111111, \"#46039f\"], [0.2222222222222222, \"#7201a8\"], [0.3333333333333333, \"#9c179e\"], [0.4444444444444444, \"#bd3786\"], [0.5555555555555556, \"#d8576b\"], [0.6666666666666666, \"#ed7953\"], [0.7777777777777778, \"#fb9f3a\"], [0.8888888888888888, \"#fdca26\"], [1.0, \"#f0f921\"]]}, \"colorway\": [\"#636efa\", \"#EF553B\", \"#00cc96\", \"#ab63fa\", \"#FFA15A\", \"#19d3f3\", \"#FF6692\", \"#B6E880\", \"#FF97FF\", \"#FECB52\"], \"font\": {\"color\": \"#2a3f5f\"}, \"geo\": {\"bgcolor\": \"white\", \"lakecolor\": \"white\", \"landcolor\": \"#E5ECF6\", \"showlakes\": true, \"showland\": true, \"subunitcolor\": \"white\"}, \"hoverlabel\": {\"align\": \"left\"}, \"hovermode\": \"closest\", \"mapbox\": {\"style\": \"light\"}, \"paper_bgcolor\": \"white\", \"plot_bgcolor\": \"#E5ECF6\", \"polar\": {\"angularaxis\": {\"gridcolor\": \"white\", \"linecolor\": \"white\", \"ticks\": \"\"}, \"bgcolor\": \"#E5ECF6\", \"radialaxis\": {\"gridcolor\": \"white\", \"linecolor\": \"white\", \"ticks\": \"\"}}, \"scene\": {\"xaxis\": {\"backgroundcolor\": \"#E5ECF6\", \"gridcolor\": \"white\", \"gridwidth\": 2, \"linecolor\": \"white\", \"showbackground\": true, \"ticks\": \"\", \"zerolinecolor\": \"white\"}, \"yaxis\": {\"backgroundcolor\": \"#E5ECF6\", \"gridcolor\": \"white\", \"gridwidth\": 2, \"linecolor\": \"white\", \"showbackground\": true, \"ticks\": \"\", \"zerolinecolor\": \"white\"}, \"zaxis\": {\"backgroundcolor\": \"#E5ECF6\", \"gridcolor\": \"white\", \"gridwidth\": 2, \"linecolor\": \"white\", \"showbackground\": true, \"ticks\": \"\", \"zerolinecolor\": \"white\"}}, \"shapedefaults\": {\"line\": {\"color\": \"#2a3f5f\"}}, \"ternary\": {\"aaxis\": {\"gridcolor\": \"white\", \"linecolor\": \"white\", \"ticks\": \"\"}, \"baxis\": {\"gridcolor\": \"white\", \"linecolor\": \"white\", \"ticks\": \"\"}, \"bgcolor\": \"#E5ECF6\", \"caxis\": {\"gridcolor\": \"white\", \"linecolor\": \"white\", \"ticks\": \"\"}}, \"title\": {\"x\": 0.05}, \"xaxis\": {\"automargin\": true, \"gridcolor\": \"white\", \"linecolor\": \"white\", \"ticks\": \"\", \"title\": {\"standoff\": 15}, \"zerolinecolor\": \"white\", \"zerolinewidth\": 2}, \"yaxis\": {\"automargin\": true, \"gridcolor\": \"white\", \"linecolor\": \"white\", \"ticks\": \"\", \"title\": {\"standoff\": 15}, \"zerolinecolor\": \"white\", \"zerolinewidth\": 2}}}, \"title\": {\"text\": \"Confusion matrix train set - model lr: \\\"predicted labels\\\" vs \\\"true labels\\\"\"}, \"xaxis\": {\"dtick\": 1, \"gridcolor\": \"rgb(0, 0, 0)\", \"side\": \"bottom\", \"ticks\": \"\", \"title\": {\"text\": \"Predicted labels\"}}, \"yaxis\": {\"dtick\": 1, \"ticks\": \"\", \"ticksuffix\": \"  \", \"title\": {\"text\": \"True labels\"}}},\n",
       "                        {\"responsive\": true}\n",
       "                    ).then(function(){\n",
       "                            \n",
       "var gd = document.getElementById('07665443-e400-4929-96fc-c6b2e69800fc');\n",
       "var x = new MutationObserver(function (mutations, observer) {{\n",
       "        var display = window.getComputedStyle(gd).display;\n",
       "        if (!display || display === 'none') {{\n",
       "            console.log([gd, 'removed!']);\n",
       "            Plotly.purge(gd);\n",
       "            observer.disconnect();\n",
       "        }}\n",
       "}});\n",
       "\n",
       "// Listen for the removal of the full notebook cells\n",
       "var notebookContainer = gd.closest('#notebook-container');\n",
       "if (notebookContainer) {{\n",
       "    x.observe(notebookContainer, {childList: true});\n",
       "}}\n",
       "\n",
       "// Listen for the clearing of the current output cell\n",
       "var outputEl = gd.closest('.output');\n",
       "if (outputEl) {{\n",
       "    x.observe(outputEl, {childList: true});\n",
       "}}\n",
       "\n",
       "                        })\n",
       "                };\n",
       "                \n",
       "            </script>\n",
       "        </div>\n",
       "</body>\n",
       "</html>"
      ]
     },
     "metadata": {
      "tags": []
     },
     "output_type": "display_data"
    }
   ],
   "source": [
    "x = [0, 1]\n",
    "\n",
    "fig3 = ff.create_annotated_heatmap(matrix_confusion_train_lr, x = x, y = x)\n",
    "\n",
    "update1 = fig3.update_layout(title = 'Confusion matrix train set - model lr: \"predicted labels\" vs \"true labels\"')\n",
    "update2 = fig3.update_xaxes(title = 'Predicted labels', side = 'bottom')\n",
    "update3 = fig3.update_yaxes(title = 'True labels')\n",
    "\n",
    "fig3.show()"
   ]
  },
  {
   "cell_type": "code",
   "execution_count": 92,
   "metadata": {
    "colab": {
     "base_uri": "https://localhost:8080/",
     "height": 542
    },
    "executionInfo": {
     "elapsed": 1540,
     "status": "ok",
     "timestamp": 1601284604094,
     "user": {
      "displayName": "A D",
      "photoUrl": "",
      "userId": "14584707532892118607"
     },
     "user_tz": -120
    },
    "id": "WT5t_rDRnTHo",
    "outputId": "7ecd45c7-99d3-42dc-f1d2-6bddd6183a22"
   },
   "outputs": [
    {
     "data": {
      "text/html": [
       "<html>\n",
       "<head><meta charset=\"utf-8\" /></head>\n",
       "<body>\n",
       "    <div>\n",
       "            <script src=\"https://cdnjs.cloudflare.com/ajax/libs/mathjax/2.7.5/MathJax.js?config=TeX-AMS-MML_SVG\"></script><script type=\"text/javascript\">if (window.MathJax) {MathJax.Hub.Config({SVG: {font: \"STIX-Web\"}});}</script>\n",
       "                <script type=\"text/javascript\">window.PlotlyConfig = {MathJaxConfig: 'local'};</script>\n",
       "        <script src=\"https://cdn.plot.ly/plotly-latest.min.js\"></script>    \n",
       "            <div id=\"f04e05c4-ad7c-4cfc-af8b-72c6c3294d74\" class=\"plotly-graph-div\" style=\"height:525px; width:100%;\"></div>\n",
       "            <script type=\"text/javascript\">\n",
       "                \n",
       "                    window.PLOTLYENV=window.PLOTLYENV || {};\n",
       "                    \n",
       "                if (document.getElementById(\"f04e05c4-ad7c-4cfc-af8b-72c6c3294d74\")) {\n",
       "                    Plotly.newPlot(\n",
       "                        'f04e05c4-ad7c-4cfc-af8b-72c6c3294d74',\n",
       "                        [{\"colorscale\": [[0.0, \"#0d0887\"], [0.1111111111111111, \"#46039f\"], [0.2222222222222222, \"#7201a8\"], [0.3333333333333333, \"#9c179e\"], [0.4444444444444444, \"#bd3786\"], [0.5555555555555556, \"#d8576b\"], [0.6666666666666666, \"#ed7953\"], [0.7777777777777778, \"#fb9f3a\"], [0.8888888888888888, \"#fdca26\"], [1.0, \"#f0f921\"]], \"reversescale\": false, \"showscale\": false, \"type\": \"heatmap\", \"x\": [0, 1], \"y\": [0, 1], \"z\": [[14237, 5528], [141, 230]]}],\n",
       "                        {\"annotations\": [{\"font\": {\"color\": \"#000000\"}, \"showarrow\": false, \"text\": \"14237\", \"x\": 0, \"xref\": \"x\", \"y\": 0, \"yref\": \"y\"}, {\"font\": {\"color\": \"#FFFFFF\"}, \"showarrow\": false, \"text\": \"5528\", \"x\": 1, \"xref\": \"x\", \"y\": 0, \"yref\": \"y\"}, {\"font\": {\"color\": \"#FFFFFF\"}, \"showarrow\": false, \"text\": \"141\", \"x\": 0, \"xref\": \"x\", \"y\": 1, \"yref\": \"y\"}, {\"font\": {\"color\": \"#FFFFFF\"}, \"showarrow\": false, \"text\": \"230\", \"x\": 1, \"xref\": \"x\", \"y\": 1, \"yref\": \"y\"}], \"template\": {\"data\": {\"bar\": [{\"error_x\": {\"color\": \"#2a3f5f\"}, \"error_y\": {\"color\": \"#2a3f5f\"}, \"marker\": {\"line\": {\"color\": \"#E5ECF6\", \"width\": 0.5}}, \"type\": \"bar\"}], \"barpolar\": [{\"marker\": {\"line\": {\"color\": \"#E5ECF6\", \"width\": 0.5}}, \"type\": \"barpolar\"}], \"carpet\": [{\"aaxis\": {\"endlinecolor\": \"#2a3f5f\", \"gridcolor\": \"white\", \"linecolor\": \"white\", \"minorgridcolor\": \"white\", \"startlinecolor\": \"#2a3f5f\"}, \"baxis\": {\"endlinecolor\": \"#2a3f5f\", \"gridcolor\": \"white\", \"linecolor\": \"white\", \"minorgridcolor\": \"white\", \"startlinecolor\": \"#2a3f5f\"}, \"type\": \"carpet\"}], \"choropleth\": [{\"colorbar\": {\"outlinewidth\": 0, \"ticks\": \"\"}, \"type\": \"choropleth\"}], \"contour\": [{\"colorbar\": {\"outlinewidth\": 0, \"ticks\": \"\"}, \"colorscale\": [[0.0, \"#0d0887\"], [0.1111111111111111, \"#46039f\"], [0.2222222222222222, \"#7201a8\"], [0.3333333333333333, \"#9c179e\"], [0.4444444444444444, \"#bd3786\"], [0.5555555555555556, \"#d8576b\"], [0.6666666666666666, \"#ed7953\"], [0.7777777777777778, \"#fb9f3a\"], [0.8888888888888888, \"#fdca26\"], [1.0, \"#f0f921\"]], \"type\": \"contour\"}], \"contourcarpet\": [{\"colorbar\": {\"outlinewidth\": 0, \"ticks\": \"\"}, \"type\": \"contourcarpet\"}], \"heatmap\": [{\"colorbar\": {\"outlinewidth\": 0, \"ticks\": \"\"}, \"colorscale\": [[0.0, \"#0d0887\"], [0.1111111111111111, \"#46039f\"], [0.2222222222222222, \"#7201a8\"], [0.3333333333333333, \"#9c179e\"], [0.4444444444444444, \"#bd3786\"], [0.5555555555555556, \"#d8576b\"], [0.6666666666666666, \"#ed7953\"], [0.7777777777777778, \"#fb9f3a\"], [0.8888888888888888, \"#fdca26\"], [1.0, \"#f0f921\"]], \"type\": \"heatmap\"}], \"heatmapgl\": [{\"colorbar\": {\"outlinewidth\": 0, \"ticks\": \"\"}, \"colorscale\": [[0.0, \"#0d0887\"], [0.1111111111111111, \"#46039f\"], [0.2222222222222222, \"#7201a8\"], [0.3333333333333333, \"#9c179e\"], [0.4444444444444444, \"#bd3786\"], [0.5555555555555556, \"#d8576b\"], [0.6666666666666666, \"#ed7953\"], [0.7777777777777778, \"#fb9f3a\"], [0.8888888888888888, \"#fdca26\"], [1.0, \"#f0f921\"]], \"type\": \"heatmapgl\"}], \"histogram\": [{\"marker\": {\"colorbar\": {\"outlinewidth\": 0, \"ticks\": \"\"}}, \"type\": \"histogram\"}], \"histogram2d\": [{\"colorbar\": {\"outlinewidth\": 0, \"ticks\": \"\"}, \"colorscale\": [[0.0, \"#0d0887\"], [0.1111111111111111, \"#46039f\"], [0.2222222222222222, \"#7201a8\"], [0.3333333333333333, \"#9c179e\"], [0.4444444444444444, \"#bd3786\"], [0.5555555555555556, \"#d8576b\"], [0.6666666666666666, \"#ed7953\"], [0.7777777777777778, \"#fb9f3a\"], [0.8888888888888888, \"#fdca26\"], [1.0, \"#f0f921\"]], \"type\": \"histogram2d\"}], \"histogram2dcontour\": [{\"colorbar\": {\"outlinewidth\": 0, \"ticks\": \"\"}, \"colorscale\": [[0.0, \"#0d0887\"], [0.1111111111111111, \"#46039f\"], [0.2222222222222222, \"#7201a8\"], [0.3333333333333333, \"#9c179e\"], [0.4444444444444444, \"#bd3786\"], [0.5555555555555556, \"#d8576b\"], [0.6666666666666666, \"#ed7953\"], [0.7777777777777778, \"#fb9f3a\"], [0.8888888888888888, \"#fdca26\"], [1.0, \"#f0f921\"]], \"type\": \"histogram2dcontour\"}], \"mesh3d\": [{\"colorbar\": {\"outlinewidth\": 0, \"ticks\": \"\"}, \"type\": \"mesh3d\"}], \"parcoords\": [{\"line\": {\"colorbar\": {\"outlinewidth\": 0, \"ticks\": \"\"}}, \"type\": \"parcoords\"}], \"pie\": [{\"automargin\": true, \"type\": \"pie\"}], \"scatter\": [{\"marker\": {\"colorbar\": {\"outlinewidth\": 0, \"ticks\": \"\"}}, \"type\": \"scatter\"}], \"scatter3d\": [{\"line\": {\"colorbar\": {\"outlinewidth\": 0, \"ticks\": \"\"}}, \"marker\": {\"colorbar\": {\"outlinewidth\": 0, \"ticks\": \"\"}}, \"type\": \"scatter3d\"}], \"scattercarpet\": [{\"marker\": {\"colorbar\": {\"outlinewidth\": 0, \"ticks\": \"\"}}, \"type\": \"scattercarpet\"}], \"scattergeo\": [{\"marker\": {\"colorbar\": {\"outlinewidth\": 0, \"ticks\": \"\"}}, \"type\": \"scattergeo\"}], \"scattergl\": [{\"marker\": {\"colorbar\": {\"outlinewidth\": 0, \"ticks\": \"\"}}, \"type\": \"scattergl\"}], \"scattermapbox\": [{\"marker\": {\"colorbar\": {\"outlinewidth\": 0, \"ticks\": \"\"}}, \"type\": \"scattermapbox\"}], \"scatterpolar\": [{\"marker\": {\"colorbar\": {\"outlinewidth\": 0, \"ticks\": \"\"}}, \"type\": \"scatterpolar\"}], \"scatterpolargl\": [{\"marker\": {\"colorbar\": {\"outlinewidth\": 0, \"ticks\": \"\"}}, \"type\": \"scatterpolargl\"}], \"scatterternary\": [{\"marker\": {\"colorbar\": {\"outlinewidth\": 0, \"ticks\": \"\"}}, \"type\": \"scatterternary\"}], \"surface\": [{\"colorbar\": {\"outlinewidth\": 0, \"ticks\": \"\"}, \"colorscale\": [[0.0, \"#0d0887\"], [0.1111111111111111, \"#46039f\"], [0.2222222222222222, \"#7201a8\"], [0.3333333333333333, \"#9c179e\"], [0.4444444444444444, \"#bd3786\"], [0.5555555555555556, \"#d8576b\"], [0.6666666666666666, \"#ed7953\"], [0.7777777777777778, \"#fb9f3a\"], [0.8888888888888888, \"#fdca26\"], [1.0, \"#f0f921\"]], \"type\": \"surface\"}], \"table\": [{\"cells\": {\"fill\": {\"color\": \"#EBF0F8\"}, \"line\": {\"color\": \"white\"}}, \"header\": {\"fill\": {\"color\": \"#C8D4E3\"}, \"line\": {\"color\": \"white\"}}, \"type\": \"table\"}]}, \"layout\": {\"annotationdefaults\": {\"arrowcolor\": \"#2a3f5f\", \"arrowhead\": 0, \"arrowwidth\": 1}, \"coloraxis\": {\"colorbar\": {\"outlinewidth\": 0, \"ticks\": \"\"}}, \"colorscale\": {\"diverging\": [[0, \"#8e0152\"], [0.1, \"#c51b7d\"], [0.2, \"#de77ae\"], [0.3, \"#f1b6da\"], [0.4, \"#fde0ef\"], [0.5, \"#f7f7f7\"], [0.6, \"#e6f5d0\"], [0.7, \"#b8e186\"], [0.8, \"#7fbc41\"], [0.9, \"#4d9221\"], [1, \"#276419\"]], \"sequential\": [[0.0, \"#0d0887\"], [0.1111111111111111, \"#46039f\"], [0.2222222222222222, \"#7201a8\"], [0.3333333333333333, \"#9c179e\"], [0.4444444444444444, \"#bd3786\"], [0.5555555555555556, \"#d8576b\"], [0.6666666666666666, \"#ed7953\"], [0.7777777777777778, \"#fb9f3a\"], [0.8888888888888888, \"#fdca26\"], [1.0, \"#f0f921\"]], \"sequentialminus\": [[0.0, \"#0d0887\"], [0.1111111111111111, \"#46039f\"], [0.2222222222222222, \"#7201a8\"], [0.3333333333333333, \"#9c179e\"], [0.4444444444444444, \"#bd3786\"], [0.5555555555555556, \"#d8576b\"], [0.6666666666666666, \"#ed7953\"], [0.7777777777777778, \"#fb9f3a\"], [0.8888888888888888, \"#fdca26\"], [1.0, \"#f0f921\"]]}, \"colorway\": [\"#636efa\", \"#EF553B\", \"#00cc96\", \"#ab63fa\", \"#FFA15A\", \"#19d3f3\", \"#FF6692\", \"#B6E880\", \"#FF97FF\", \"#FECB52\"], \"font\": {\"color\": \"#2a3f5f\"}, \"geo\": {\"bgcolor\": \"white\", \"lakecolor\": \"white\", \"landcolor\": \"#E5ECF6\", \"showlakes\": true, \"showland\": true, \"subunitcolor\": \"white\"}, \"hoverlabel\": {\"align\": \"left\"}, \"hovermode\": \"closest\", \"mapbox\": {\"style\": \"light\"}, \"paper_bgcolor\": \"white\", \"plot_bgcolor\": \"#E5ECF6\", \"polar\": {\"angularaxis\": {\"gridcolor\": \"white\", \"linecolor\": \"white\", \"ticks\": \"\"}, \"bgcolor\": \"#E5ECF6\", \"radialaxis\": {\"gridcolor\": \"white\", \"linecolor\": \"white\", \"ticks\": \"\"}}, \"scene\": {\"xaxis\": {\"backgroundcolor\": \"#E5ECF6\", \"gridcolor\": \"white\", \"gridwidth\": 2, \"linecolor\": \"white\", \"showbackground\": true, \"ticks\": \"\", \"zerolinecolor\": \"white\"}, \"yaxis\": {\"backgroundcolor\": \"#E5ECF6\", \"gridcolor\": \"white\", \"gridwidth\": 2, \"linecolor\": \"white\", \"showbackground\": true, \"ticks\": \"\", \"zerolinecolor\": \"white\"}, \"zaxis\": {\"backgroundcolor\": \"#E5ECF6\", \"gridcolor\": \"white\", \"gridwidth\": 2, \"linecolor\": \"white\", \"showbackground\": true, \"ticks\": \"\", \"zerolinecolor\": \"white\"}}, \"shapedefaults\": {\"line\": {\"color\": \"#2a3f5f\"}}, \"ternary\": {\"aaxis\": {\"gridcolor\": \"white\", \"linecolor\": \"white\", \"ticks\": \"\"}, \"baxis\": {\"gridcolor\": \"white\", \"linecolor\": \"white\", \"ticks\": \"\"}, \"bgcolor\": \"#E5ECF6\", \"caxis\": {\"gridcolor\": \"white\", \"linecolor\": \"white\", \"ticks\": \"\"}}, \"title\": {\"x\": 0.05}, \"xaxis\": {\"automargin\": true, \"gridcolor\": \"white\", \"linecolor\": \"white\", \"ticks\": \"\", \"title\": {\"standoff\": 15}, \"zerolinecolor\": \"white\", \"zerolinewidth\": 2}, \"yaxis\": {\"automargin\": true, \"gridcolor\": \"white\", \"linecolor\": \"white\", \"ticks\": \"\", \"title\": {\"standoff\": 15}, \"zerolinecolor\": \"white\", \"zerolinewidth\": 2}}}, \"title\": {\"text\": \"Confusion matrix test set - model lr: \\\"predicted labels\\\" vs \\\"true labels\\\"\"}, \"xaxis\": {\"dtick\": 1, \"gridcolor\": \"rgb(0, 0, 0)\", \"side\": \"bottom\", \"ticks\": \"\", \"title\": {\"text\": \"Predicted labels\"}}, \"yaxis\": {\"dtick\": 1, \"ticks\": \"\", \"ticksuffix\": \"  \", \"title\": {\"text\": \"True labels\"}}},\n",
       "                        {\"responsive\": true}\n",
       "                    ).then(function(){\n",
       "                            \n",
       "var gd = document.getElementById('f04e05c4-ad7c-4cfc-af8b-72c6c3294d74');\n",
       "var x = new MutationObserver(function (mutations, observer) {{\n",
       "        var display = window.getComputedStyle(gd).display;\n",
       "        if (!display || display === 'none') {{\n",
       "            console.log([gd, 'removed!']);\n",
       "            Plotly.purge(gd);\n",
       "            observer.disconnect();\n",
       "        }}\n",
       "}});\n",
       "\n",
       "// Listen for the removal of the full notebook cells\n",
       "var notebookContainer = gd.closest('#notebook-container');\n",
       "if (notebookContainer) {{\n",
       "    x.observe(notebookContainer, {childList: true});\n",
       "}}\n",
       "\n",
       "// Listen for the clearing of the current output cell\n",
       "var outputEl = gd.closest('.output');\n",
       "if (outputEl) {{\n",
       "    x.observe(outputEl, {childList: true});\n",
       "}}\n",
       "\n",
       "                        })\n",
       "                };\n",
       "                \n",
       "            </script>\n",
       "        </div>\n",
       "</body>\n",
       "</html>"
      ]
     },
     "metadata": {
      "tags": []
     },
     "output_type": "display_data"
    }
   ],
   "source": [
    "x = [0, 1]\n",
    "\n",
    "fig4 = ff.create_annotated_heatmap(matrix_confusion_test_lr, x = x, y = x)\n",
    "\n",
    "update1 = fig4.update_layout(title = 'Confusion matrix test set - model lr: \"predicted labels\" vs \"true labels\"')\n",
    "update2 = fig4.update_xaxes(title = 'Predicted labels', side = 'bottom')\n",
    "update3 = fig4.update_yaxes(title = 'True labels')\n",
    "\n",
    "fig4.show()"
   ]
  },
  {
   "cell_type": "markdown",
   "metadata": {
    "id": "orrLL2J0mkxk"
   },
   "source": [
    "We define 0 as negative and 1 as positive. \n",
    "\n",
    "From the confusion matrix of the train set with our Logistic Regression model we have:\n",
    "\n",
    "- 336 False Negatives\n",
    "- 17701 False Positives\n",
    "\n",
    "From the confusion matrix of the test set with our Logistic Regression model we have:\n",
    "\n",
    "- 140 False Negatives\n",
    "- 5961 False Positives\n",
    "\n",
    "We conclude that our Logistic Regression model does not perform well as it fails to detect all the Positives (label 1) and all the Negatives (label 0)."
   ]
  },
  {
   "cell_type": "code",
   "execution_count": 147,
   "metadata": {
    "colab": {
     "base_uri": "https://localhost:8080/",
     "height": 34
    },
    "executionInfo": {
     "elapsed": 1020,
     "status": "ok",
     "timestamp": 1601288902673,
     "user": {
      "displayName": "A D",
      "photoUrl": "",
      "userId": "14584707532892118607"
     },
     "user_tz": -120
    },
    "id": "5bybRsqUAMGg",
    "outputId": "dc225ff7-ffce-4956-a0ef-c2181f19bf57"
   },
   "outputs": [
    {
     "data": {
      "text/plain": [
       "191890"
      ]
     },
     "execution_count": 147,
     "metadata": {
      "tags": []
     },
     "output_type": "execute_result"
    }
   ],
   "source": [
    "# get all the possible combinations of pairs of nodes\n",
    "from itertools import combinations\n",
    "comb_nodes = list(combinations(nodes_list, 2))\n",
    "len(comb_nodes)"
   ]
  },
  {
   "cell_type": "code",
   "execution_count": 156,
   "metadata": {
    "colab": {
     "base_uri": "https://localhost:8080/",
     "height": 34
    },
    "executionInfo": {
     "elapsed": 1079,
     "status": "ok",
     "timestamp": 1601289456736,
     "user": {
      "displayName": "A D",
      "photoUrl": "",
      "userId": "14584707532892118607"
     },
     "user_tz": -120
    },
    "id": "AHYIRboaSbca",
    "outputId": "acdbe0ac-46e8-4d00-eb0f-a60285165901"
   },
   "outputs": [
    {
     "data": {
      "text/plain": [
       "[(0, 276), (0, 58), (0, 132)]"
      ]
     },
     "execution_count": 156,
     "metadata": {
      "tags": []
     },
     "output_type": "execute_result"
    }
   ],
   "source": [
    "comb_nodes[:3]"
   ]
  },
  {
   "cell_type": "code",
   "execution_count": null,
   "metadata": {
    "colab": {
     "base_uri": "https://localhost:8080/",
     "height": 102
    },
    "executionInfo": {
     "elapsed": 1337,
     "status": "ok",
     "timestamp": 1601285407129,
     "user": {
      "displayName": "A D",
      "photoUrl": "",
      "userId": "14584707532892118607"
     },
     "user_tz": -120
    },
    "id": "RpI1KCb5Cbul",
    "outputId": "22e6a471-99e6-49a0-8c94-b910e0252e13"
   },
   "outputs": [
    {
     "name": "stderr",
     "output_type": "stream",
     "text": [
      "/usr/local/lib/python3.6/dist-packages/ipykernel_launcher.py:1: DeprecationWarning:\n",
      "\n",
      "Call to deprecated `__getitem__` (Method will be removed in 4.0.0, use self.wv.__getitem__() instead).\n",
      "\n"
     ]
    },
    {
     "data": {
      "text/plain": [
       "array([0])"
      ]
     },
     "execution_count": 115,
     "metadata": {
      "tags": []
     },
     "output_type": "execute_result"
    }
   ],
   "source": [
    "X_0_132 = n2w_model[str(0)]+n2w_model[str(132)]\n",
    "X_0_132 = X_0_132.reshape(1, 100)\n",
    "lr.predict(X_0_132)"
   ]
  },
  {
   "cell_type": "code",
   "execution_count": null,
   "metadata": {
    "id": "MG9h8NLCDzKU"
   },
   "outputs": [],
   "source": [
    "index_test = y_test.index"
   ]
  },
  {
   "cell_type": "code",
   "execution_count": 150,
   "metadata": {
    "executionInfo": {
     "elapsed": 768,
     "status": "ok",
     "timestamp": 1601289073661,
     "user": {
      "displayName": "A D",
      "photoUrl": "",
      "userId": "14584707532892118607"
     },
     "user_tz": -120
    },
    "id": "4Q17QBbOD6EU"
   },
   "outputs": [],
   "source": [
    "# get the index of the pairs of nodes with an existing links correctly predicted by the Logistic Regression model (lr)\n",
    "ar = np.where(((y_test_pred_lr == 1) & (y_test == 1)))[0]\n",
    "indexes_link_1 = y_test.index[ar]"
   ]
  },
  {
   "cell_type": "code",
   "execution_count": 152,
   "metadata": {
    "colab": {
     "base_uri": "https://localhost:8080/",
     "height": 34
    },
    "executionInfo": {
     "elapsed": 890,
     "status": "ok",
     "timestamp": 1601289246565,
     "user": {
      "displayName": "A D",
      "photoUrl": "",
      "userId": "14584707532892118607"
     },
     "user_tz": -120
    },
    "id": "WUNlWCFcRqXI",
    "outputId": "60a8e907-f8a7-4567-e0f0-dabb46cfd71b"
   },
   "outputs": [
    {
     "data": {
      "text/plain": [
       "80473"
      ]
     },
     "execution_count": 152,
     "metadata": {
      "tags": []
     },
     "output_type": "execute_result"
    }
   ],
   "source": [
    "indexes_link_1[0]"
   ]
  },
  {
   "cell_type": "code",
   "execution_count": 153,
   "metadata": {
    "colab": {
     "base_uri": "https://localhost:8080/",
     "height": 85
    },
    "executionInfo": {
     "elapsed": 887,
     "status": "ok",
     "timestamp": 1601289251206,
     "user": {
      "displayName": "A D",
      "photoUrl": "",
      "userId": "14584707532892118607"
     },
     "user_tz": -120
    },
    "id": "GAcJ9D_iIGSZ",
    "outputId": "a1578250-6536-4625-9c75-bb9ff2588f11"
   },
   "outputs": [
    {
     "data": {
      "text/plain": [
       "node_1    434\n",
       "node_2    584\n",
       "link        1\n",
       "Name: 80473, dtype: object"
      ]
     },
     "execution_count": 153,
     "metadata": {
      "tags": []
     },
     "output_type": "execute_result"
    }
   ],
   "source": [
    "mixed_df.iloc[80473]"
   ]
  },
  {
   "cell_type": "code",
   "execution_count": 154,
   "metadata": {
    "colab": {
     "base_uri": "https://localhost:8080/",
     "height": 102
    },
    "executionInfo": {
     "elapsed": 821,
     "status": "ok",
     "timestamp": 1601289308250,
     "user": {
      "displayName": "A D",
      "photoUrl": "",
      "userId": "14584707532892118607"
     },
     "user_tz": -120
    },
    "id": "wS_MknnrIVZX",
    "outputId": "ac6e0594-bc87-4edf-bfd8-c2d6656b60e7"
   },
   "outputs": [
    {
     "name": "stderr",
     "output_type": "stream",
     "text": [
      "/usr/local/lib/python3.6/dist-packages/ipykernel_launcher.py:2: DeprecationWarning:\n",
      "\n",
      "Call to deprecated `__getitem__` (Method will be removed in 4.0.0, use self.wv.__getitem__() instead).\n",
      "\n"
     ]
    },
    {
     "data": {
      "text/plain": [
       "array([1])"
      ]
     },
     "execution_count": 154,
     "metadata": {
      "tags": []
     },
     "output_type": "execute_result"
    }
   ],
   "source": [
    "# retrieve the prediction individually for the pair of nodes (434, 584)\n",
    "X_434_584 = n2w_model[str(434)]+n2w_model[str(584)]\n",
    "X_434_584 = X_434_584.reshape(1, 100)\n",
    "lr.predict(X_434_584)"
   ]
  },
  {
   "cell_type": "markdown",
   "metadata": {
    "id": "FLaWm1RE2aCE"
   },
   "source": [
    "### 5-2 SVC model"
   ]
  },
  {
   "cell_type": "code",
   "execution_count": null,
   "metadata": {
    "colab": {
     "base_uri": "https://localhost:8080/",
     "height": 85
    },
    "executionInfo": {
     "elapsed": 431074,
     "status": "ok",
     "timestamp": 1601224678624,
     "user": {
      "displayName": "A D",
      "photoUrl": "",
      "userId": "14584707532892118607"
     },
     "user_tz": -120
    },
    "id": "pRg3QZBz2aCF",
    "outputId": "a9b6ff6f-1b70-46be-e6f7-ee9107c1b90b"
   },
   "outputs": [
    {
     "data": {
      "text/plain": [
       "SVC(C=1.0, break_ties=False, cache_size=200, class_weight='balanced', coef0=0.0,\n",
       "    decision_function_shape='ovr', degree=3, gamma='scale', kernel='rbf',\n",
       "    max_iter=-1, probability=False, random_state=None, shrinking=True,\n",
       "    tol=0.001, verbose=False)"
      ]
     },
     "execution_count": 46,
     "metadata": {
      "tags": []
     },
     "output_type": "execute_result"
    }
   ],
   "source": [
    "# Instantiate a SVC model and fit it\n",
    "from sklearn.svm import SVC\n",
    "svc = SVC(class_weight='balanced')\n",
    "svc.fit(X_train, y_train)"
   ]
  },
  {
   "cell_type": "code",
   "execution_count": null,
   "metadata": {
    "id": "jwT9tGky2aCN"
   },
   "outputs": [],
   "source": [
    "# Predict y_train and y_test\n",
    "y_train_pred_svc = svc.predict(X_train)\n",
    "y_test_pred_svc = svc.predict(X_test)"
   ]
  },
  {
   "cell_type": "code",
   "execution_count": null,
   "metadata": {
    "colab": {
     "base_uri": "https://localhost:8080/",
     "height": 51
    },
    "executionInfo": {
     "elapsed": 1589,
     "status": "ok",
     "timestamp": 1601224974789,
     "user": {
      "displayName": "A D",
      "photoUrl": "",
      "userId": "14584707532892118607"
     },
     "user_tz": -120
    },
    "id": "HUzcCnqd2aCR",
    "outputId": "4bc7b8ce-e49e-4d65-fd7d-e4b68f25457d"
   },
   "outputs": [
    {
     "name": "stdout",
     "output_type": "stream",
     "text": [
      "The ROC AUC score for the prediction on the train set with the SVC model is 0.9555504037563972.\n",
      "The ROC AUC score for the prediction on the test set with the SVC model is 0.7790003566161153.\n"
     ]
    }
   ],
   "source": [
    "# Compute the roc_auc_score\n",
    "print(f'The ROC AUC score for the prediction on the train set with the SVC model is {roc_auc_score(y_train, y_train_pred_svc)}.')\n",
    "print(f'The ROC AUC score for the prediction on the test set with the SVC model is {roc_auc_score(y_test, y_test_pred_svc)}.')"
   ]
  },
  {
   "cell_type": "code",
   "execution_count": null,
   "metadata": {
    "id": "Pitluv6Q2aCZ"
   },
   "outputs": [],
   "source": [
    "# Compute the confusion matrices\n",
    "matrix_confusion_train_svc = confusion_matrix(y_train.astype('int'), y_train_pred_svc.astype('int'))\n",
    "matrix_confusion_test_svc = confusion_matrix(y_test.astype('int'), y_test_pred_svc.astype('int'))"
   ]
  },
  {
   "cell_type": "code",
   "execution_count": null,
   "metadata": {
    "colab": {
     "base_uri": "https://localhost:8080/",
     "height": 542
    },
    "executionInfo": {
     "elapsed": 1341,
     "status": "ok",
     "timestamp": 1601224988965,
     "user": {
      "displayName": "A D",
      "photoUrl": "",
      "userId": "14584707532892118607"
     },
     "user_tz": -120
    },
    "id": "HTzU2NV32aCk",
    "outputId": "c44dbbdf-23a6-49cd-8ede-a864bf1c7d47"
   },
   "outputs": [
    {
     "data": {
      "text/html": [
       "<html>\n",
       "<head><meta charset=\"utf-8\" /></head>\n",
       "<body>\n",
       "    <div>\n",
       "            <script src=\"https://cdnjs.cloudflare.com/ajax/libs/mathjax/2.7.5/MathJax.js?config=TeX-AMS-MML_SVG\"></script><script type=\"text/javascript\">if (window.MathJax) {MathJax.Hub.Config({SVG: {font: \"STIX-Web\"}});}</script>\n",
       "                <script type=\"text/javascript\">window.PlotlyConfig = {MathJaxConfig: 'local'};</script>\n",
       "        <script src=\"https://cdn.plot.ly/plotly-latest.min.js\"></script>    \n",
       "            <div id=\"f2c157be-f3d2-4a16-a0ce-59fef4a5c753\" class=\"plotly-graph-div\" style=\"height:525px; width:100%;\"></div>\n",
       "            <script type=\"text/javascript\">\n",
       "                \n",
       "                    window.PLOTLYENV=window.PLOTLYENV || {};\n",
       "                    \n",
       "                if (document.getElementById(\"f2c157be-f3d2-4a16-a0ce-59fef4a5c753\")) {\n",
       "                    Plotly.newPlot(\n",
       "                        'f2c157be-f3d2-4a16-a0ce-59fef4a5c753',\n",
       "                        [{\"colorscale\": [[0.0, \"#0d0887\"], [0.1111111111111111, \"#46039f\"], [0.2222222222222222, \"#7201a8\"], [0.3333333333333333, \"#9c179e\"], [0.4444444444444444, \"#bd3786\"], [0.5555555555555556, \"#d8576b\"], [0.6666666666666666, \"#ed7953\"], [0.7777777777777778, \"#fb9f3a\"], [0.8888888888888888, \"#fdca26\"], [1.0, \"#f0f921\"]], \"reversescale\": false, \"showscale\": false, \"type\": \"heatmap\", \"x\": [0, 1], \"y\": [0, 1], \"z\": [[55035, 4258], [19, 1093]]}],\n",
       "                        {\"annotations\": [{\"font\": {\"color\": \"#000000\"}, \"showarrow\": false, \"text\": \"55035\", \"x\": 0, \"xref\": \"x\", \"y\": 0, \"yref\": \"y\"}, {\"font\": {\"color\": \"#FFFFFF\"}, \"showarrow\": false, \"text\": \"4258\", \"x\": 1, \"xref\": \"x\", \"y\": 0, \"yref\": \"y\"}, {\"font\": {\"color\": \"#FFFFFF\"}, \"showarrow\": false, \"text\": \"19\", \"x\": 0, \"xref\": \"x\", \"y\": 1, \"yref\": \"y\"}, {\"font\": {\"color\": \"#FFFFFF\"}, \"showarrow\": false, \"text\": \"1093\", \"x\": 1, \"xref\": \"x\", \"y\": 1, \"yref\": \"y\"}], \"template\": {\"data\": {\"bar\": [{\"error_x\": {\"color\": \"#2a3f5f\"}, \"error_y\": {\"color\": \"#2a3f5f\"}, \"marker\": {\"line\": {\"color\": \"#E5ECF6\", \"width\": 0.5}}, \"type\": \"bar\"}], \"barpolar\": [{\"marker\": {\"line\": {\"color\": \"#E5ECF6\", \"width\": 0.5}}, \"type\": \"barpolar\"}], \"carpet\": [{\"aaxis\": {\"endlinecolor\": \"#2a3f5f\", \"gridcolor\": \"white\", \"linecolor\": \"white\", \"minorgridcolor\": \"white\", \"startlinecolor\": \"#2a3f5f\"}, \"baxis\": {\"endlinecolor\": \"#2a3f5f\", \"gridcolor\": \"white\", \"linecolor\": \"white\", \"minorgridcolor\": \"white\", \"startlinecolor\": \"#2a3f5f\"}, \"type\": \"carpet\"}], \"choropleth\": [{\"colorbar\": {\"outlinewidth\": 0, \"ticks\": \"\"}, \"type\": \"choropleth\"}], \"contour\": [{\"colorbar\": {\"outlinewidth\": 0, \"ticks\": \"\"}, \"colorscale\": [[0.0, \"#0d0887\"], [0.1111111111111111, \"#46039f\"], [0.2222222222222222, \"#7201a8\"], [0.3333333333333333, \"#9c179e\"], [0.4444444444444444, \"#bd3786\"], [0.5555555555555556, \"#d8576b\"], [0.6666666666666666, \"#ed7953\"], [0.7777777777777778, \"#fb9f3a\"], [0.8888888888888888, \"#fdca26\"], [1.0, \"#f0f921\"]], \"type\": \"contour\"}], \"contourcarpet\": [{\"colorbar\": {\"outlinewidth\": 0, \"ticks\": \"\"}, \"type\": \"contourcarpet\"}], \"heatmap\": [{\"colorbar\": {\"outlinewidth\": 0, \"ticks\": \"\"}, \"colorscale\": [[0.0, \"#0d0887\"], [0.1111111111111111, \"#46039f\"], [0.2222222222222222, \"#7201a8\"], [0.3333333333333333, \"#9c179e\"], [0.4444444444444444, \"#bd3786\"], [0.5555555555555556, \"#d8576b\"], [0.6666666666666666, \"#ed7953\"], [0.7777777777777778, \"#fb9f3a\"], [0.8888888888888888, \"#fdca26\"], [1.0, \"#f0f921\"]], \"type\": \"heatmap\"}], \"heatmapgl\": [{\"colorbar\": {\"outlinewidth\": 0, \"ticks\": \"\"}, \"colorscale\": [[0.0, \"#0d0887\"], [0.1111111111111111, \"#46039f\"], [0.2222222222222222, \"#7201a8\"], [0.3333333333333333, \"#9c179e\"], [0.4444444444444444, \"#bd3786\"], [0.5555555555555556, \"#d8576b\"], [0.6666666666666666, \"#ed7953\"], [0.7777777777777778, \"#fb9f3a\"], [0.8888888888888888, \"#fdca26\"], [1.0, \"#f0f921\"]], \"type\": \"heatmapgl\"}], \"histogram\": [{\"marker\": {\"colorbar\": {\"outlinewidth\": 0, \"ticks\": \"\"}}, \"type\": \"histogram\"}], \"histogram2d\": [{\"colorbar\": {\"outlinewidth\": 0, \"ticks\": \"\"}, \"colorscale\": [[0.0, \"#0d0887\"], [0.1111111111111111, \"#46039f\"], [0.2222222222222222, \"#7201a8\"], [0.3333333333333333, \"#9c179e\"], [0.4444444444444444, \"#bd3786\"], [0.5555555555555556, \"#d8576b\"], [0.6666666666666666, \"#ed7953\"], [0.7777777777777778, \"#fb9f3a\"], [0.8888888888888888, \"#fdca26\"], [1.0, \"#f0f921\"]], \"type\": \"histogram2d\"}], \"histogram2dcontour\": [{\"colorbar\": {\"outlinewidth\": 0, \"ticks\": \"\"}, \"colorscale\": [[0.0, \"#0d0887\"], [0.1111111111111111, \"#46039f\"], [0.2222222222222222, \"#7201a8\"], [0.3333333333333333, \"#9c179e\"], [0.4444444444444444, \"#bd3786\"], [0.5555555555555556, \"#d8576b\"], [0.6666666666666666, \"#ed7953\"], [0.7777777777777778, \"#fb9f3a\"], [0.8888888888888888, \"#fdca26\"], [1.0, \"#f0f921\"]], \"type\": \"histogram2dcontour\"}], \"mesh3d\": [{\"colorbar\": {\"outlinewidth\": 0, \"ticks\": \"\"}, \"type\": \"mesh3d\"}], \"parcoords\": [{\"line\": {\"colorbar\": {\"outlinewidth\": 0, \"ticks\": \"\"}}, \"type\": \"parcoords\"}], \"pie\": [{\"automargin\": true, \"type\": \"pie\"}], \"scatter\": [{\"marker\": {\"colorbar\": {\"outlinewidth\": 0, \"ticks\": \"\"}}, \"type\": \"scatter\"}], \"scatter3d\": [{\"line\": {\"colorbar\": {\"outlinewidth\": 0, \"ticks\": \"\"}}, \"marker\": {\"colorbar\": {\"outlinewidth\": 0, \"ticks\": \"\"}}, \"type\": \"scatter3d\"}], \"scattercarpet\": [{\"marker\": {\"colorbar\": {\"outlinewidth\": 0, \"ticks\": \"\"}}, \"type\": \"scattercarpet\"}], \"scattergeo\": [{\"marker\": {\"colorbar\": {\"outlinewidth\": 0, \"ticks\": \"\"}}, \"type\": \"scattergeo\"}], \"scattergl\": [{\"marker\": {\"colorbar\": {\"outlinewidth\": 0, \"ticks\": \"\"}}, \"type\": \"scattergl\"}], \"scattermapbox\": [{\"marker\": {\"colorbar\": {\"outlinewidth\": 0, \"ticks\": \"\"}}, \"type\": \"scattermapbox\"}], \"scatterpolar\": [{\"marker\": {\"colorbar\": {\"outlinewidth\": 0, \"ticks\": \"\"}}, \"type\": \"scatterpolar\"}], \"scatterpolargl\": [{\"marker\": {\"colorbar\": {\"outlinewidth\": 0, \"ticks\": \"\"}}, \"type\": \"scatterpolargl\"}], \"scatterternary\": [{\"marker\": {\"colorbar\": {\"outlinewidth\": 0, \"ticks\": \"\"}}, \"type\": \"scatterternary\"}], \"surface\": [{\"colorbar\": {\"outlinewidth\": 0, \"ticks\": \"\"}, \"colorscale\": [[0.0, \"#0d0887\"], [0.1111111111111111, \"#46039f\"], [0.2222222222222222, \"#7201a8\"], [0.3333333333333333, \"#9c179e\"], [0.4444444444444444, \"#bd3786\"], [0.5555555555555556, \"#d8576b\"], [0.6666666666666666, \"#ed7953\"], [0.7777777777777778, \"#fb9f3a\"], [0.8888888888888888, \"#fdca26\"], [1.0, \"#f0f921\"]], \"type\": \"surface\"}], \"table\": [{\"cells\": {\"fill\": {\"color\": \"#EBF0F8\"}, \"line\": {\"color\": \"white\"}}, \"header\": {\"fill\": {\"color\": \"#C8D4E3\"}, \"line\": {\"color\": \"white\"}}, \"type\": \"table\"}]}, \"layout\": {\"annotationdefaults\": {\"arrowcolor\": \"#2a3f5f\", \"arrowhead\": 0, \"arrowwidth\": 1}, \"coloraxis\": {\"colorbar\": {\"outlinewidth\": 0, \"ticks\": \"\"}}, \"colorscale\": {\"diverging\": [[0, \"#8e0152\"], [0.1, \"#c51b7d\"], [0.2, \"#de77ae\"], [0.3, \"#f1b6da\"], [0.4, \"#fde0ef\"], [0.5, \"#f7f7f7\"], [0.6, \"#e6f5d0\"], [0.7, \"#b8e186\"], [0.8, \"#7fbc41\"], [0.9, \"#4d9221\"], [1, \"#276419\"]], \"sequential\": [[0.0, \"#0d0887\"], [0.1111111111111111, \"#46039f\"], [0.2222222222222222, \"#7201a8\"], [0.3333333333333333, \"#9c179e\"], [0.4444444444444444, \"#bd3786\"], [0.5555555555555556, \"#d8576b\"], [0.6666666666666666, \"#ed7953\"], [0.7777777777777778, \"#fb9f3a\"], [0.8888888888888888, \"#fdca26\"], [1.0, \"#f0f921\"]], \"sequentialminus\": [[0.0, \"#0d0887\"], [0.1111111111111111, \"#46039f\"], [0.2222222222222222, \"#7201a8\"], [0.3333333333333333, \"#9c179e\"], [0.4444444444444444, \"#bd3786\"], [0.5555555555555556, \"#d8576b\"], [0.6666666666666666, \"#ed7953\"], [0.7777777777777778, \"#fb9f3a\"], [0.8888888888888888, \"#fdca26\"], [1.0, \"#f0f921\"]]}, \"colorway\": [\"#636efa\", \"#EF553B\", \"#00cc96\", \"#ab63fa\", \"#FFA15A\", \"#19d3f3\", \"#FF6692\", \"#B6E880\", \"#FF97FF\", \"#FECB52\"], \"font\": {\"color\": \"#2a3f5f\"}, \"geo\": {\"bgcolor\": \"white\", \"lakecolor\": \"white\", \"landcolor\": \"#E5ECF6\", \"showlakes\": true, \"showland\": true, \"subunitcolor\": \"white\"}, \"hoverlabel\": {\"align\": \"left\"}, \"hovermode\": \"closest\", \"mapbox\": {\"style\": \"light\"}, \"paper_bgcolor\": \"white\", \"plot_bgcolor\": \"#E5ECF6\", \"polar\": {\"angularaxis\": {\"gridcolor\": \"white\", \"linecolor\": \"white\", \"ticks\": \"\"}, \"bgcolor\": \"#E5ECF6\", \"radialaxis\": {\"gridcolor\": \"white\", \"linecolor\": \"white\", \"ticks\": \"\"}}, \"scene\": {\"xaxis\": {\"backgroundcolor\": \"#E5ECF6\", \"gridcolor\": \"white\", \"gridwidth\": 2, \"linecolor\": \"white\", \"showbackground\": true, \"ticks\": \"\", \"zerolinecolor\": \"white\"}, \"yaxis\": {\"backgroundcolor\": \"#E5ECF6\", \"gridcolor\": \"white\", \"gridwidth\": 2, \"linecolor\": \"white\", \"showbackground\": true, \"ticks\": \"\", \"zerolinecolor\": \"white\"}, \"zaxis\": {\"backgroundcolor\": \"#E5ECF6\", \"gridcolor\": \"white\", \"gridwidth\": 2, \"linecolor\": \"white\", \"showbackground\": true, \"ticks\": \"\", \"zerolinecolor\": \"white\"}}, \"shapedefaults\": {\"line\": {\"color\": \"#2a3f5f\"}}, \"ternary\": {\"aaxis\": {\"gridcolor\": \"white\", \"linecolor\": \"white\", \"ticks\": \"\"}, \"baxis\": {\"gridcolor\": \"white\", \"linecolor\": \"white\", \"ticks\": \"\"}, \"bgcolor\": \"#E5ECF6\", \"caxis\": {\"gridcolor\": \"white\", \"linecolor\": \"white\", \"ticks\": \"\"}}, \"title\": {\"x\": 0.05}, \"xaxis\": {\"automargin\": true, \"gridcolor\": \"white\", \"linecolor\": \"white\", \"ticks\": \"\", \"title\": {\"standoff\": 15}, \"zerolinecolor\": \"white\", \"zerolinewidth\": 2}, \"yaxis\": {\"automargin\": true, \"gridcolor\": \"white\", \"linecolor\": \"white\", \"ticks\": \"\", \"title\": {\"standoff\": 15}, \"zerolinecolor\": \"white\", \"zerolinewidth\": 2}}}, \"title\": {\"text\": \"Confusion matrix train set - model svc: \\\"predicted labels\\\" vs \\\"true labels\\\"\"}, \"xaxis\": {\"dtick\": 1, \"gridcolor\": \"rgb(0, 0, 0)\", \"side\": \"bottom\", \"ticks\": \"\", \"title\": {\"text\": \"Predicted labels\"}}, \"yaxis\": {\"dtick\": 1, \"ticks\": \"\", \"ticksuffix\": \"  \", \"title\": {\"text\": \"True labels\"}}},\n",
       "                        {\"responsive\": true}\n",
       "                    ).then(function(){\n",
       "                            \n",
       "var gd = document.getElementById('f2c157be-f3d2-4a16-a0ce-59fef4a5c753');\n",
       "var x = new MutationObserver(function (mutations, observer) {{\n",
       "        var display = window.getComputedStyle(gd).display;\n",
       "        if (!display || display === 'none') {{\n",
       "            console.log([gd, 'removed!']);\n",
       "            Plotly.purge(gd);\n",
       "            observer.disconnect();\n",
       "        }}\n",
       "}});\n",
       "\n",
       "// Listen for the removal of the full notebook cells\n",
       "var notebookContainer = gd.closest('#notebook-container');\n",
       "if (notebookContainer) {{\n",
       "    x.observe(notebookContainer, {childList: true});\n",
       "}}\n",
       "\n",
       "// Listen for the clearing of the current output cell\n",
       "var outputEl = gd.closest('.output');\n",
       "if (outputEl) {{\n",
       "    x.observe(outputEl, {childList: true});\n",
       "}}\n",
       "\n",
       "                        })\n",
       "                };\n",
       "                \n",
       "            </script>\n",
       "        </div>\n",
       "</body>\n",
       "</html>"
      ]
     },
     "metadata": {
      "tags": []
     },
     "output_type": "display_data"
    }
   ],
   "source": [
    "x = [0, 1]\n",
    "\n",
    "fig5 = ff.create_annotated_heatmap(matrix_confusion_train_svc, x = x, y = x)\n",
    "\n",
    "update1 = fig5.update_layout(title = 'Confusion matrix train set - model svc: \"predicted labels\" vs \"true labels\"')\n",
    "update2 = fig5.update_xaxes(title = 'Predicted labels', side = 'bottom')\n",
    "update3 = fig5.update_yaxes(title = 'True labels')\n",
    "\n",
    "fig5.show()"
   ]
  },
  {
   "cell_type": "code",
   "execution_count": null,
   "metadata": {
    "colab": {
     "base_uri": "https://localhost:8080/",
     "height": 542
    },
    "executionInfo": {
     "elapsed": 2588,
     "status": "ok",
     "timestamp": 1601225022042,
     "user": {
      "displayName": "A D",
      "photoUrl": "",
      "userId": "14584707532892118607"
     },
     "user_tz": -120
    },
    "id": "p2cWDakT2aCn",
    "outputId": "3200f74e-de7c-4dba-d5b5-9eb1bc070d9e"
   },
   "outputs": [
    {
     "data": {
      "text/html": [
       "<html>\n",
       "<head><meta charset=\"utf-8\" /></head>\n",
       "<body>\n",
       "    <div>\n",
       "            <script src=\"https://cdnjs.cloudflare.com/ajax/libs/mathjax/2.7.5/MathJax.js?config=TeX-AMS-MML_SVG\"></script><script type=\"text/javascript\">if (window.MathJax) {MathJax.Hub.Config({SVG: {font: \"STIX-Web\"}});}</script>\n",
       "                <script type=\"text/javascript\">window.PlotlyConfig = {MathJaxConfig: 'local'};</script>\n",
       "        <script src=\"https://cdn.plot.ly/plotly-latest.min.js\"></script>    \n",
       "            <div id=\"6a236f7b-f55c-4eb9-8b69-54c535e14361\" class=\"plotly-graph-div\" style=\"height:525px; width:100%;\"></div>\n",
       "            <script type=\"text/javascript\">\n",
       "                \n",
       "                    window.PLOTLYENV=window.PLOTLYENV || {};\n",
       "                    \n",
       "                if (document.getElementById(\"6a236f7b-f55c-4eb9-8b69-54c535e14361\")) {\n",
       "                    Plotly.newPlot(\n",
       "                        '6a236f7b-f55c-4eb9-8b69-54c535e14361',\n",
       "                        [{\"colorscale\": [[0.0, \"#0d0887\"], [0.1111111111111111, \"#46039f\"], [0.2222222222222222, \"#7201a8\"], [0.3333333333333333, \"#9c179e\"], [0.4444444444444444, \"#bd3786\"], [0.5555555555555556, \"#d8576b\"], [0.6666666666666666, \"#ed7953\"], [0.7777777777777778, \"#fb9f3a\"], [0.8888888888888888, \"#fdca26\"], [1.0, \"#f0f921\"]], \"reversescale\": false, \"showscale\": false, \"type\": \"heatmap\", \"x\": [0, 1], \"y\": [0, 1], \"z\": [[18221, 1544], [135, 236]]}],\n",
       "                        {\"annotations\": [{\"font\": {\"color\": \"#000000\"}, \"showarrow\": false, \"text\": \"18221\", \"x\": 0, \"xref\": \"x\", \"y\": 0, \"yref\": \"y\"}, {\"font\": {\"color\": \"#FFFFFF\"}, \"showarrow\": false, \"text\": \"1544\", \"x\": 1, \"xref\": \"x\", \"y\": 0, \"yref\": \"y\"}, {\"font\": {\"color\": \"#FFFFFF\"}, \"showarrow\": false, \"text\": \"135\", \"x\": 0, \"xref\": \"x\", \"y\": 1, \"yref\": \"y\"}, {\"font\": {\"color\": \"#FFFFFF\"}, \"showarrow\": false, \"text\": \"236\", \"x\": 1, \"xref\": \"x\", \"y\": 1, \"yref\": \"y\"}], \"template\": {\"data\": {\"bar\": [{\"error_x\": {\"color\": \"#2a3f5f\"}, \"error_y\": {\"color\": \"#2a3f5f\"}, \"marker\": {\"line\": {\"color\": \"#E5ECF6\", \"width\": 0.5}}, \"type\": \"bar\"}], \"barpolar\": [{\"marker\": {\"line\": {\"color\": \"#E5ECF6\", \"width\": 0.5}}, \"type\": \"barpolar\"}], \"carpet\": [{\"aaxis\": {\"endlinecolor\": \"#2a3f5f\", \"gridcolor\": \"white\", \"linecolor\": \"white\", \"minorgridcolor\": \"white\", \"startlinecolor\": \"#2a3f5f\"}, \"baxis\": {\"endlinecolor\": \"#2a3f5f\", \"gridcolor\": \"white\", \"linecolor\": \"white\", \"minorgridcolor\": \"white\", \"startlinecolor\": \"#2a3f5f\"}, \"type\": \"carpet\"}], \"choropleth\": [{\"colorbar\": {\"outlinewidth\": 0, \"ticks\": \"\"}, \"type\": \"choropleth\"}], \"contour\": [{\"colorbar\": {\"outlinewidth\": 0, \"ticks\": \"\"}, \"colorscale\": [[0.0, \"#0d0887\"], [0.1111111111111111, \"#46039f\"], [0.2222222222222222, \"#7201a8\"], [0.3333333333333333, \"#9c179e\"], [0.4444444444444444, \"#bd3786\"], [0.5555555555555556, \"#d8576b\"], [0.6666666666666666, \"#ed7953\"], [0.7777777777777778, \"#fb9f3a\"], [0.8888888888888888, \"#fdca26\"], [1.0, \"#f0f921\"]], \"type\": \"contour\"}], \"contourcarpet\": [{\"colorbar\": {\"outlinewidth\": 0, \"ticks\": \"\"}, \"type\": \"contourcarpet\"}], \"heatmap\": [{\"colorbar\": {\"outlinewidth\": 0, \"ticks\": \"\"}, \"colorscale\": [[0.0, \"#0d0887\"], [0.1111111111111111, \"#46039f\"], [0.2222222222222222, \"#7201a8\"], [0.3333333333333333, \"#9c179e\"], [0.4444444444444444, \"#bd3786\"], [0.5555555555555556, \"#d8576b\"], [0.6666666666666666, \"#ed7953\"], [0.7777777777777778, \"#fb9f3a\"], [0.8888888888888888, \"#fdca26\"], [1.0, \"#f0f921\"]], \"type\": \"heatmap\"}], \"heatmapgl\": [{\"colorbar\": {\"outlinewidth\": 0, \"ticks\": \"\"}, \"colorscale\": [[0.0, \"#0d0887\"], [0.1111111111111111, \"#46039f\"], [0.2222222222222222, \"#7201a8\"], [0.3333333333333333, \"#9c179e\"], [0.4444444444444444, \"#bd3786\"], [0.5555555555555556, \"#d8576b\"], [0.6666666666666666, \"#ed7953\"], [0.7777777777777778, \"#fb9f3a\"], [0.8888888888888888, \"#fdca26\"], [1.0, \"#f0f921\"]], \"type\": \"heatmapgl\"}], \"histogram\": [{\"marker\": {\"colorbar\": {\"outlinewidth\": 0, \"ticks\": \"\"}}, \"type\": \"histogram\"}], \"histogram2d\": [{\"colorbar\": {\"outlinewidth\": 0, \"ticks\": \"\"}, \"colorscale\": [[0.0, \"#0d0887\"], [0.1111111111111111, \"#46039f\"], [0.2222222222222222, \"#7201a8\"], [0.3333333333333333, \"#9c179e\"], [0.4444444444444444, \"#bd3786\"], [0.5555555555555556, \"#d8576b\"], [0.6666666666666666, \"#ed7953\"], [0.7777777777777778, \"#fb9f3a\"], [0.8888888888888888, \"#fdca26\"], [1.0, \"#f0f921\"]], \"type\": \"histogram2d\"}], \"histogram2dcontour\": [{\"colorbar\": {\"outlinewidth\": 0, \"ticks\": \"\"}, \"colorscale\": [[0.0, \"#0d0887\"], [0.1111111111111111, \"#46039f\"], [0.2222222222222222, \"#7201a8\"], [0.3333333333333333, \"#9c179e\"], [0.4444444444444444, \"#bd3786\"], [0.5555555555555556, \"#d8576b\"], [0.6666666666666666, \"#ed7953\"], [0.7777777777777778, \"#fb9f3a\"], [0.8888888888888888, \"#fdca26\"], [1.0, \"#f0f921\"]], \"type\": \"histogram2dcontour\"}], \"mesh3d\": [{\"colorbar\": {\"outlinewidth\": 0, \"ticks\": \"\"}, \"type\": \"mesh3d\"}], \"parcoords\": [{\"line\": {\"colorbar\": {\"outlinewidth\": 0, \"ticks\": \"\"}}, \"type\": \"parcoords\"}], \"pie\": [{\"automargin\": true, \"type\": \"pie\"}], \"scatter\": [{\"marker\": {\"colorbar\": {\"outlinewidth\": 0, \"ticks\": \"\"}}, \"type\": \"scatter\"}], \"scatter3d\": [{\"line\": {\"colorbar\": {\"outlinewidth\": 0, \"ticks\": \"\"}}, \"marker\": {\"colorbar\": {\"outlinewidth\": 0, \"ticks\": \"\"}}, \"type\": \"scatter3d\"}], \"scattercarpet\": [{\"marker\": {\"colorbar\": {\"outlinewidth\": 0, \"ticks\": \"\"}}, \"type\": \"scattercarpet\"}], \"scattergeo\": [{\"marker\": {\"colorbar\": {\"outlinewidth\": 0, \"ticks\": \"\"}}, \"type\": \"scattergeo\"}], \"scattergl\": [{\"marker\": {\"colorbar\": {\"outlinewidth\": 0, \"ticks\": \"\"}}, \"type\": \"scattergl\"}], \"scattermapbox\": [{\"marker\": {\"colorbar\": {\"outlinewidth\": 0, \"ticks\": \"\"}}, \"type\": \"scattermapbox\"}], \"scatterpolar\": [{\"marker\": {\"colorbar\": {\"outlinewidth\": 0, \"ticks\": \"\"}}, \"type\": \"scatterpolar\"}], \"scatterpolargl\": [{\"marker\": {\"colorbar\": {\"outlinewidth\": 0, \"ticks\": \"\"}}, \"type\": \"scatterpolargl\"}], \"scatterternary\": [{\"marker\": {\"colorbar\": {\"outlinewidth\": 0, \"ticks\": \"\"}}, \"type\": \"scatterternary\"}], \"surface\": [{\"colorbar\": {\"outlinewidth\": 0, \"ticks\": \"\"}, \"colorscale\": [[0.0, \"#0d0887\"], [0.1111111111111111, \"#46039f\"], [0.2222222222222222, \"#7201a8\"], [0.3333333333333333, \"#9c179e\"], [0.4444444444444444, \"#bd3786\"], [0.5555555555555556, \"#d8576b\"], [0.6666666666666666, \"#ed7953\"], [0.7777777777777778, \"#fb9f3a\"], [0.8888888888888888, \"#fdca26\"], [1.0, \"#f0f921\"]], \"type\": \"surface\"}], \"table\": [{\"cells\": {\"fill\": {\"color\": \"#EBF0F8\"}, \"line\": {\"color\": \"white\"}}, \"header\": {\"fill\": {\"color\": \"#C8D4E3\"}, \"line\": {\"color\": \"white\"}}, \"type\": \"table\"}]}, \"layout\": {\"annotationdefaults\": {\"arrowcolor\": \"#2a3f5f\", \"arrowhead\": 0, \"arrowwidth\": 1}, \"coloraxis\": {\"colorbar\": {\"outlinewidth\": 0, \"ticks\": \"\"}}, \"colorscale\": {\"diverging\": [[0, \"#8e0152\"], [0.1, \"#c51b7d\"], [0.2, \"#de77ae\"], [0.3, \"#f1b6da\"], [0.4, \"#fde0ef\"], [0.5, \"#f7f7f7\"], [0.6, \"#e6f5d0\"], [0.7, \"#b8e186\"], [0.8, \"#7fbc41\"], [0.9, \"#4d9221\"], [1, \"#276419\"]], \"sequential\": [[0.0, \"#0d0887\"], [0.1111111111111111, \"#46039f\"], [0.2222222222222222, \"#7201a8\"], [0.3333333333333333, \"#9c179e\"], [0.4444444444444444, \"#bd3786\"], [0.5555555555555556, \"#d8576b\"], [0.6666666666666666, \"#ed7953\"], [0.7777777777777778, \"#fb9f3a\"], [0.8888888888888888, \"#fdca26\"], [1.0, \"#f0f921\"]], \"sequentialminus\": [[0.0, \"#0d0887\"], [0.1111111111111111, \"#46039f\"], [0.2222222222222222, \"#7201a8\"], [0.3333333333333333, \"#9c179e\"], [0.4444444444444444, \"#bd3786\"], [0.5555555555555556, \"#d8576b\"], [0.6666666666666666, \"#ed7953\"], [0.7777777777777778, \"#fb9f3a\"], [0.8888888888888888, \"#fdca26\"], [1.0, \"#f0f921\"]]}, \"colorway\": [\"#636efa\", \"#EF553B\", \"#00cc96\", \"#ab63fa\", \"#FFA15A\", \"#19d3f3\", \"#FF6692\", \"#B6E880\", \"#FF97FF\", \"#FECB52\"], \"font\": {\"color\": \"#2a3f5f\"}, \"geo\": {\"bgcolor\": \"white\", \"lakecolor\": \"white\", \"landcolor\": \"#E5ECF6\", \"showlakes\": true, \"showland\": true, \"subunitcolor\": \"white\"}, \"hoverlabel\": {\"align\": \"left\"}, \"hovermode\": \"closest\", \"mapbox\": {\"style\": \"light\"}, \"paper_bgcolor\": \"white\", \"plot_bgcolor\": \"#E5ECF6\", \"polar\": {\"angularaxis\": {\"gridcolor\": \"white\", \"linecolor\": \"white\", \"ticks\": \"\"}, \"bgcolor\": \"#E5ECF6\", \"radialaxis\": {\"gridcolor\": \"white\", \"linecolor\": \"white\", \"ticks\": \"\"}}, \"scene\": {\"xaxis\": {\"backgroundcolor\": \"#E5ECF6\", \"gridcolor\": \"white\", \"gridwidth\": 2, \"linecolor\": \"white\", \"showbackground\": true, \"ticks\": \"\", \"zerolinecolor\": \"white\"}, \"yaxis\": {\"backgroundcolor\": \"#E5ECF6\", \"gridcolor\": \"white\", \"gridwidth\": 2, \"linecolor\": \"white\", \"showbackground\": true, \"ticks\": \"\", \"zerolinecolor\": \"white\"}, \"zaxis\": {\"backgroundcolor\": \"#E5ECF6\", \"gridcolor\": \"white\", \"gridwidth\": 2, \"linecolor\": \"white\", \"showbackground\": true, \"ticks\": \"\", \"zerolinecolor\": \"white\"}}, \"shapedefaults\": {\"line\": {\"color\": \"#2a3f5f\"}}, \"ternary\": {\"aaxis\": {\"gridcolor\": \"white\", \"linecolor\": \"white\", \"ticks\": \"\"}, \"baxis\": {\"gridcolor\": \"white\", \"linecolor\": \"white\", \"ticks\": \"\"}, \"bgcolor\": \"#E5ECF6\", \"caxis\": {\"gridcolor\": \"white\", \"linecolor\": \"white\", \"ticks\": \"\"}}, \"title\": {\"x\": 0.05}, \"xaxis\": {\"automargin\": true, \"gridcolor\": \"white\", \"linecolor\": \"white\", \"ticks\": \"\", \"title\": {\"standoff\": 15}, \"zerolinecolor\": \"white\", \"zerolinewidth\": 2}, \"yaxis\": {\"automargin\": true, \"gridcolor\": \"white\", \"linecolor\": \"white\", \"ticks\": \"\", \"title\": {\"standoff\": 15}, \"zerolinecolor\": \"white\", \"zerolinewidth\": 2}}}, \"title\": {\"text\": \"Confusion matrix test set - model svc: \\\"predicted labels\\\" vs \\\"true labels\\\"\"}, \"xaxis\": {\"dtick\": 1, \"gridcolor\": \"rgb(0, 0, 0)\", \"side\": \"bottom\", \"ticks\": \"\", \"title\": {\"text\": \"Predicted labels\"}}, \"yaxis\": {\"dtick\": 1, \"ticks\": \"\", \"ticksuffix\": \"  \", \"title\": {\"text\": \"True labels\"}}},\n",
       "                        {\"responsive\": true}\n",
       "                    ).then(function(){\n",
       "                            \n",
       "var gd = document.getElementById('6a236f7b-f55c-4eb9-8b69-54c535e14361');\n",
       "var x = new MutationObserver(function (mutations, observer) {{\n",
       "        var display = window.getComputedStyle(gd).display;\n",
       "        if (!display || display === 'none') {{\n",
       "            console.log([gd, 'removed!']);\n",
       "            Plotly.purge(gd);\n",
       "            observer.disconnect();\n",
       "        }}\n",
       "}});\n",
       "\n",
       "// Listen for the removal of the full notebook cells\n",
       "var notebookContainer = gd.closest('#notebook-container');\n",
       "if (notebookContainer) {{\n",
       "    x.observe(notebookContainer, {childList: true});\n",
       "}}\n",
       "\n",
       "// Listen for the clearing of the current output cell\n",
       "var outputEl = gd.closest('.output');\n",
       "if (outputEl) {{\n",
       "    x.observe(outputEl, {childList: true});\n",
       "}}\n",
       "\n",
       "                        })\n",
       "                };\n",
       "                \n",
       "            </script>\n",
       "        </div>\n",
       "</body>\n",
       "</html>"
      ]
     },
     "metadata": {
      "tags": []
     },
     "output_type": "display_data"
    }
   ],
   "source": [
    "x = [0, 1]\n",
    "\n",
    "fig6= ff.create_annotated_heatmap(matrix_confusion_test_svc, x = x, y = x)\n",
    "\n",
    "update1 = fig6.update_layout(title = 'Confusion matrix test set - model svc: \"predicted labels\" vs \"true labels\"')\n",
    "update2 = fig6.update_xaxes(title = 'Predicted labels', side = 'bottom')\n",
    "update3 = fig6.update_yaxes(title = 'True labels')\n",
    "\n",
    "fig6.show()"
   ]
  },
  {
   "cell_type": "markdown",
   "metadata": {
    "id": "AxWCgnbg2aCq"
   },
   "source": [
    "We define 0 as negative and 1 as positive. \n",
    "\n",
    "From the confusion matrix of the train set with our SVC model we have:\n",
    "\n",
    "- 19 False Negatives\n",
    "- 4258 False Positives\n",
    "\n",
    "From the confusion matrix of the test set with our SVC model we have:\n",
    "\n",
    "- 135 False Negatives\n",
    "- 1544 False Positives\n",
    "\n",
    "We conclude that our SVC model is better than the Logistic Regression model."
   ]
  },
  {
   "cell_type": "markdown",
   "metadata": {
    "id": "f5Ykm9jfmM65"
   },
   "source": [
    "### 5-2 Lightgbm model"
   ]
  },
  {
   "cell_type": "code",
   "execution_count": null,
   "metadata": {
    "colab": {
     "base_uri": "https://localhost:8080/",
     "height": 1000
    },
    "executionInfo": {
     "elapsed": 14435,
     "status": "ok",
     "timestamp": 1601225286934,
     "user": {
      "displayName": "A D",
      "photoUrl": "",
      "userId": "14584707532892118607"
     },
     "user_tz": -120
    },
    "id": "YxmLf_28vYvy",
    "outputId": "51a6aab9-f572-4752-d6eb-71e23c65e5c1"
   },
   "outputs": [
    {
     "name": "stdout",
     "output_type": "stream",
     "text": [
      "[3601]\tvalid_0's auc: 0.861887\n",
      "[3602]\tvalid_0's auc: 0.861896\n",
      "[3603]\tvalid_0's auc: 0.861901\n",
      "[3604]\tvalid_0's auc: 0.861873\n",
      "[3605]\tvalid_0's auc: 0.861865\n",
      "[3606]\tvalid_0's auc: 0.861839\n",
      "[3607]\tvalid_0's auc: 0.861834\n",
      "[3608]\tvalid_0's auc: 0.861797\n",
      "[3609]\tvalid_0's auc: 0.861847\n",
      "[3610]\tvalid_0's auc: 0.861882\n",
      "[3611]\tvalid_0's auc: 0.86189\n",
      "[3612]\tvalid_0's auc: 0.86188\n",
      "[3613]\tvalid_0's auc: 0.861903\n",
      "[3614]\tvalid_0's auc: 0.861916\n",
      "[3615]\tvalid_0's auc: 0.861909\n",
      "[3616]\tvalid_0's auc: 0.861905\n",
      "[3617]\tvalid_0's auc: 0.861877\n",
      "[3618]\tvalid_0's auc: 0.861896\n",
      "[3619]\tvalid_0's auc: 0.861873\n",
      "[3620]\tvalid_0's auc: 0.861846\n",
      "[3621]\tvalid_0's auc: 0.861827\n",
      "[3622]\tvalid_0's auc: 0.861846\n",
      "[3623]\tvalid_0's auc: 0.861841\n",
      "[3624]\tvalid_0's auc: 0.861874\n",
      "[3625]\tvalid_0's auc: 0.861875\n",
      "[3626]\tvalid_0's auc: 0.861894\n",
      "[3627]\tvalid_0's auc: 0.861905\n",
      "[3628]\tvalid_0's auc: 0.861895\n",
      "[3629]\tvalid_0's auc: 0.861898\n",
      "[3630]\tvalid_0's auc: 0.861907\n",
      "[3631]\tvalid_0's auc: 0.861932\n",
      "[3632]\tvalid_0's auc: 0.861909\n",
      "[3633]\tvalid_0's auc: 0.8619\n",
      "[3634]\tvalid_0's auc: 0.861902\n",
      "[3635]\tvalid_0's auc: 0.861907\n",
      "[3636]\tvalid_0's auc: 0.861907\n",
      "[3637]\tvalid_0's auc: 0.861887\n",
      "[3638]\tvalid_0's auc: 0.861876\n",
      "[3639]\tvalid_0's auc: 0.861926\n",
      "[3640]\tvalid_0's auc: 0.861928\n",
      "[3641]\tvalid_0's auc: 0.861902\n",
      "[3642]\tvalid_0's auc: 0.861873\n",
      "[3643]\tvalid_0's auc: 0.8619\n",
      "[3644]\tvalid_0's auc: 0.861879\n",
      "[3645]\tvalid_0's auc: 0.861889\n",
      "[3646]\tvalid_0's auc: 0.861907\n",
      "[3647]\tvalid_0's auc: 0.86193\n",
      "[3648]\tvalid_0's auc: 0.86193\n",
      "[3649]\tvalid_0's auc: 0.861947\n",
      "[3650]\tvalid_0's auc: 0.861933\n",
      "[3651]\tvalid_0's auc: 0.861901\n",
      "[3652]\tvalid_0's auc: 0.861949\n",
      "[3653]\tvalid_0's auc: 0.861943\n",
      "[3654]\tvalid_0's auc: 0.861905\n",
      "[3655]\tvalid_0's auc: 0.861867\n",
      "[3656]\tvalid_0's auc: 0.861868\n",
      "[3657]\tvalid_0's auc: 0.861847\n",
      "[3658]\tvalid_0's auc: 0.86185\n",
      "[3659]\tvalid_0's auc: 0.861845\n",
      "[3660]\tvalid_0's auc: 0.861829\n",
      "[3661]\tvalid_0's auc: 0.861814\n",
      "[3662]\tvalid_0's auc: 0.861855\n",
      "[3663]\tvalid_0's auc: 0.861843\n",
      "[3664]\tvalid_0's auc: 0.8618\n",
      "[3665]\tvalid_0's auc: 0.861832\n",
      "[3666]\tvalid_0's auc: 0.861817\n",
      "[3667]\tvalid_0's auc: 0.861793\n",
      "[3668]\tvalid_0's auc: 0.861769\n",
      "[3669]\tvalid_0's auc: 0.861788\n",
      "[3670]\tvalid_0's auc: 0.861746\n",
      "[3671]\tvalid_0's auc: 0.861717\n",
      "[3672]\tvalid_0's auc: 0.861712\n",
      "[3673]\tvalid_0's auc: 0.86171\n",
      "[3674]\tvalid_0's auc: 0.861697\n",
      "[3675]\tvalid_0's auc: 0.861695\n",
      "[3676]\tvalid_0's auc: 0.861647\n",
      "[3677]\tvalid_0's auc: 0.861642\n",
      "[3678]\tvalid_0's auc: 0.861661\n",
      "[3679]\tvalid_0's auc: 0.861624\n",
      "[3680]\tvalid_0's auc: 0.861592\n",
      "[3681]\tvalid_0's auc: 0.861609\n",
      "[3682]\tvalid_0's auc: 0.8616\n",
      "[3683]\tvalid_0's auc: 0.861604\n",
      "[3684]\tvalid_0's auc: 0.861572\n",
      "[3685]\tvalid_0's auc: 0.861556\n",
      "[3686]\tvalid_0's auc: 0.861529\n",
      "[3687]\tvalid_0's auc: 0.861533\n",
      "[3688]\tvalid_0's auc: 0.861536\n",
      "[3689]\tvalid_0's auc: 0.861581\n",
      "[3690]\tvalid_0's auc: 0.861579\n",
      "[3691]\tvalid_0's auc: 0.861606\n",
      "[3692]\tvalid_0's auc: 0.861578\n",
      "[3693]\tvalid_0's auc: 0.861593\n",
      "[3694]\tvalid_0's auc: 0.861581\n",
      "[3695]\tvalid_0's auc: 0.861575\n",
      "[3696]\tvalid_0's auc: 0.861555\n",
      "[3697]\tvalid_0's auc: 0.861569\n",
      "[3698]\tvalid_0's auc: 0.861577\n",
      "[3699]\tvalid_0's auc: 0.861567\n",
      "[3700]\tvalid_0's auc: 0.861564\n",
      "[3701]\tvalid_0's auc: 0.861585\n",
      "[3702]\tvalid_0's auc: 0.861625\n",
      "[3703]\tvalid_0's auc: 0.861622\n",
      "[3704]\tvalid_0's auc: 0.861605\n",
      "[3705]\tvalid_0's auc: 0.861599\n",
      "[3706]\tvalid_0's auc: 0.861639\n",
      "[3707]\tvalid_0's auc: 0.86168\n",
      "[3708]\tvalid_0's auc: 0.861702\n",
      "[3709]\tvalid_0's auc: 0.861676\n",
      "[3710]\tvalid_0's auc: 0.861698\n",
      "[3711]\tvalid_0's auc: 0.861699\n",
      "[3712]\tvalid_0's auc: 0.86173\n",
      "[3713]\tvalid_0's auc: 0.861744\n",
      "[3714]\tvalid_0's auc: 0.861753\n",
      "[3715]\tvalid_0's auc: 0.861753\n",
      "[3716]\tvalid_0's auc: 0.861713\n",
      "[3717]\tvalid_0's auc: 0.861753\n",
      "[3718]\tvalid_0's auc: 0.86178\n",
      "[3719]\tvalid_0's auc: 0.861802\n",
      "[3720]\tvalid_0's auc: 0.861805\n",
      "[3721]\tvalid_0's auc: 0.861825\n",
      "[3722]\tvalid_0's auc: 0.861837\n",
      "[3723]\tvalid_0's auc: 0.861869\n",
      "[3724]\tvalid_0's auc: 0.86187\n",
      "[3725]\tvalid_0's auc: 0.861858\n",
      "[3726]\tvalid_0's auc: 0.861847\n",
      "[3727]\tvalid_0's auc: 0.861862\n",
      "[3728]\tvalid_0's auc: 0.861842\n",
      "[3729]\tvalid_0's auc: 0.861819\n",
      "[3730]\tvalid_0's auc: 0.861819\n",
      "[3731]\tvalid_0's auc: 0.861801\n",
      "[3732]\tvalid_0's auc: 0.861789\n",
      "[3733]\tvalid_0's auc: 0.861804\n",
      "[3734]\tvalid_0's auc: 0.861784\n",
      "[3735]\tvalid_0's auc: 0.86175\n",
      "[3736]\tvalid_0's auc: 0.861782\n",
      "[3737]\tvalid_0's auc: 0.861805\n",
      "[3738]\tvalid_0's auc: 0.861814\n",
      "[3739]\tvalid_0's auc: 0.86183\n",
      "[3740]\tvalid_0's auc: 0.86186\n",
      "[3741]\tvalid_0's auc: 0.86186\n",
      "[3742]\tvalid_0's auc: 0.861888\n",
      "[3743]\tvalid_0's auc: 0.861904\n",
      "[3744]\tvalid_0's auc: 0.861902\n",
      "[3745]\tvalid_0's auc: 0.86193\n",
      "[3746]\tvalid_0's auc: 0.861931\n",
      "[3747]\tvalid_0's auc: 0.861936\n",
      "[3748]\tvalid_0's auc: 0.861958\n",
      "[3749]\tvalid_0's auc: 0.861979\n",
      "[3750]\tvalid_0's auc: 0.861948\n",
      "[3751]\tvalid_0's auc: 0.861961\n",
      "[3752]\tvalid_0's auc: 0.861993\n",
      "[3753]\tvalid_0's auc: 0.861987\n",
      "[3754]\tvalid_0's auc: 0.861971\n",
      "[3755]\tvalid_0's auc: 0.861992\n",
      "[3756]\tvalid_0's auc: 0.862035\n",
      "[3757]\tvalid_0's auc: 0.862075\n",
      "[3758]\tvalid_0's auc: 0.862109\n",
      "[3759]\tvalid_0's auc: 0.862123\n",
      "[3760]\tvalid_0's auc: 0.862158\n",
      "[3761]\tvalid_0's auc: 0.862162\n",
      "[3762]\tvalid_0's auc: 0.862159\n",
      "[3763]\tvalid_0's auc: 0.862148\n",
      "[3764]\tvalid_0's auc: 0.862171\n",
      "[3765]\tvalid_0's auc: 0.862175\n",
      "[3766]\tvalid_0's auc: 0.862166\n",
      "[3767]\tvalid_0's auc: 0.862174\n",
      "[3768]\tvalid_0's auc: 0.862192\n",
      "[3769]\tvalid_0's auc: 0.86222\n",
      "[3770]\tvalid_0's auc: 0.862232\n",
      "[3771]\tvalid_0's auc: 0.862236\n",
      "[3772]\tvalid_0's auc: 0.862256\n",
      "[3773]\tvalid_0's auc: 0.862261\n",
      "[3774]\tvalid_0's auc: 0.862266\n",
      "[3775]\tvalid_0's auc: 0.862233\n",
      "[3776]\tvalid_0's auc: 0.862217\n",
      "[3777]\tvalid_0's auc: 0.862215\n",
      "[3778]\tvalid_0's auc: 0.862214\n",
      "[3779]\tvalid_0's auc: 0.862233\n",
      "[3780]\tvalid_0's auc: 0.862238\n",
      "[3781]\tvalid_0's auc: 0.862262\n",
      "[3782]\tvalid_0's auc: 0.862292\n",
      "[3783]\tvalid_0's auc: 0.862321\n",
      "[3784]\tvalid_0's auc: 0.862334\n",
      "[3785]\tvalid_0's auc: 0.862378\n",
      "[3786]\tvalid_0's auc: 0.862387\n",
      "[3787]\tvalid_0's auc: 0.86243\n",
      "[3788]\tvalid_0's auc: 0.862434\n",
      "[3789]\tvalid_0's auc: 0.862434\n",
      "[3790]\tvalid_0's auc: 0.862439\n",
      "[3791]\tvalid_0's auc: 0.862469\n",
      "[3792]\tvalid_0's auc: 0.86247\n",
      "[3793]\tvalid_0's auc: 0.862538\n",
      "[3794]\tvalid_0's auc: 0.862569\n",
      "[3795]\tvalid_0's auc: 0.862586\n",
      "[3796]\tvalid_0's auc: 0.862599\n",
      "[3797]\tvalid_0's auc: 0.86261\n",
      "[3798]\tvalid_0's auc: 0.862569\n",
      "[3799]\tvalid_0's auc: 0.862585\n",
      "[3800]\tvalid_0's auc: 0.862574\n",
      "[3801]\tvalid_0's auc: 0.862602\n",
      "[3802]\tvalid_0's auc: 0.86262\n",
      "[3803]\tvalid_0's auc: 0.862598\n",
      "[3804]\tvalid_0's auc: 0.8626\n",
      "[3805]\tvalid_0's auc: 0.862589\n",
      "[3806]\tvalid_0's auc: 0.862572\n",
      "[3807]\tvalid_0's auc: 0.862563\n",
      "[3808]\tvalid_0's auc: 0.862585\n",
      "[3809]\tvalid_0's auc: 0.862599\n",
      "[3810]\tvalid_0's auc: 0.862573\n",
      "[3811]\tvalid_0's auc: 0.862584\n",
      "[3812]\tvalid_0's auc: 0.862563\n",
      "[3813]\tvalid_0's auc: 0.86254\n",
      "[3814]\tvalid_0's auc: 0.86253\n",
      "[3815]\tvalid_0's auc: 0.862496\n",
      "[3816]\tvalid_0's auc: 0.862488\n",
      "[3817]\tvalid_0's auc: 0.862464\n",
      "[3818]\tvalid_0's auc: 0.862457\n",
      "[3819]\tvalid_0's auc: 0.862491\n",
      "[3820]\tvalid_0's auc: 0.862509\n",
      "[3821]\tvalid_0's auc: 0.862511\n",
      "[3822]\tvalid_0's auc: 0.862527\n",
      "[3823]\tvalid_0's auc: 0.862568\n",
      "[3824]\tvalid_0's auc: 0.8626\n",
      "[3825]\tvalid_0's auc: 0.862639\n",
      "[3826]\tvalid_0's auc: 0.862644\n",
      "[3827]\tvalid_0's auc: 0.862617\n",
      "[3828]\tvalid_0's auc: 0.862668\n",
      "[3829]\tvalid_0's auc: 0.862693\n",
      "[3830]\tvalid_0's auc: 0.862665\n",
      "[3831]\tvalid_0's auc: 0.862657\n",
      "[3832]\tvalid_0's auc: 0.862643\n",
      "[3833]\tvalid_0's auc: 0.862602\n",
      "[3834]\tvalid_0's auc: 0.862584\n",
      "[3835]\tvalid_0's auc: 0.862605\n",
      "[3836]\tvalid_0's auc: 0.862622\n",
      "[3837]\tvalid_0's auc: 0.862636\n",
      "[3838]\tvalid_0's auc: 0.862652\n",
      "[3839]\tvalid_0's auc: 0.862675\n",
      "[3840]\tvalid_0's auc: 0.862644\n",
      "[3841]\tvalid_0's auc: 0.86265\n",
      "[3842]\tvalid_0's auc: 0.862669\n",
      "[3843]\tvalid_0's auc: 0.862647\n",
      "[3844]\tvalid_0's auc: 0.862622\n",
      "[3845]\tvalid_0's auc: 0.862635\n",
      "[3846]\tvalid_0's auc: 0.862635\n",
      "[3847]\tvalid_0's auc: 0.862655\n",
      "[3848]\tvalid_0's auc: 0.86267\n",
      "[3849]\tvalid_0's auc: 0.862649\n",
      "[3850]\tvalid_0's auc: 0.862631\n",
      "[3851]\tvalid_0's auc: 0.862649\n",
      "[3852]\tvalid_0's auc: 0.862636\n",
      "[3853]\tvalid_0's auc: 0.862646\n",
      "[3854]\tvalid_0's auc: 0.862667\n",
      "[3855]\tvalid_0's auc: 0.862635\n",
      "[3856]\tvalid_0's auc: 0.862603\n",
      "[3857]\tvalid_0's auc: 0.862578\n",
      "[3858]\tvalid_0's auc: 0.862577\n",
      "[3859]\tvalid_0's auc: 0.862565\n",
      "[3860]\tvalid_0's auc: 0.862568\n",
      "[3861]\tvalid_0's auc: 0.86259\n",
      "[3862]\tvalid_0's auc: 0.862578\n",
      "[3863]\tvalid_0's auc: 0.862626\n",
      "[3864]\tvalid_0's auc: 0.862626\n",
      "[3865]\tvalid_0's auc: 0.862589\n",
      "[3866]\tvalid_0's auc: 0.862583\n",
      "[3867]\tvalid_0's auc: 0.862622\n",
      "[3868]\tvalid_0's auc: 0.862613\n",
      "[3869]\tvalid_0's auc: 0.862545\n",
      "[3870]\tvalid_0's auc: 0.862567\n",
      "[3871]\tvalid_0's auc: 0.86259\n",
      "[3872]\tvalid_0's auc: 0.862596\n",
      "[3873]\tvalid_0's auc: 0.862592\n",
      "[3874]\tvalid_0's auc: 0.862583\n",
      "[3875]\tvalid_0's auc: 0.862577\n",
      "[3876]\tvalid_0's auc: 0.862585\n",
      "[3877]\tvalid_0's auc: 0.862628\n",
      "[3878]\tvalid_0's auc: 0.862652\n",
      "[3879]\tvalid_0's auc: 0.862668\n",
      "[3880]\tvalid_0's auc: 0.862671\n",
      "[3881]\tvalid_0's auc: 0.862699\n",
      "[3882]\tvalid_0's auc: 0.862679\n",
      "[3883]\tvalid_0's auc: 0.862679\n",
      "[3884]\tvalid_0's auc: 0.862697\n",
      "[3885]\tvalid_0's auc: 0.862728\n",
      "[3886]\tvalid_0's auc: 0.862741\n",
      "[3887]\tvalid_0's auc: 0.862768\n",
      "[3888]\tvalid_0's auc: 0.862772\n",
      "[3889]\tvalid_0's auc: 0.862783\n",
      "[3890]\tvalid_0's auc: 0.862781\n",
      "[3891]\tvalid_0's auc: 0.862809\n",
      "[3892]\tvalid_0's auc: 0.862791\n",
      "[3893]\tvalid_0's auc: 0.862817\n",
      "[3894]\tvalid_0's auc: 0.862828\n",
      "[3895]\tvalid_0's auc: 0.862824\n",
      "[3896]\tvalid_0's auc: 0.862804\n",
      "[3897]\tvalid_0's auc: 0.862806\n",
      "[3898]\tvalid_0's auc: 0.862793\n",
      "[3899]\tvalid_0's auc: 0.862813\n",
      "[3900]\tvalid_0's auc: 0.862798\n",
      "[3901]\tvalid_0's auc: 0.862762\n",
      "[3902]\tvalid_0's auc: 0.862792\n",
      "[3903]\tvalid_0's auc: 0.862811\n",
      "[3904]\tvalid_0's auc: 0.8628\n",
      "[3905]\tvalid_0's auc: 0.862826\n",
      "[3906]\tvalid_0's auc: 0.862847\n",
      "[3907]\tvalid_0's auc: 0.86289\n",
      "[3908]\tvalid_0's auc: 0.862928\n",
      "[3909]\tvalid_0's auc: 0.862939\n",
      "[3910]\tvalid_0's auc: 0.862927\n",
      "[3911]\tvalid_0's auc: 0.862917\n",
      "[3912]\tvalid_0's auc: 0.862931\n",
      "[3913]\tvalid_0's auc: 0.862949\n",
      "[3914]\tvalid_0's auc: 0.862952\n",
      "[3915]\tvalid_0's auc: 0.862968\n",
      "[3916]\tvalid_0's auc: 0.86296\n",
      "[3917]\tvalid_0's auc: 0.862938\n",
      "[3918]\tvalid_0's auc: 0.862938\n",
      "[3919]\tvalid_0's auc: 0.862924\n",
      "[3920]\tvalid_0's auc: 0.862946\n",
      "[3921]\tvalid_0's auc: 0.862954\n",
      "[3922]\tvalid_0's auc: 0.862938\n",
      "[3923]\tvalid_0's auc: 0.862953\n",
      "[3924]\tvalid_0's auc: 0.862967\n",
      "[3925]\tvalid_0's auc: 0.863\n",
      "[3926]\tvalid_0's auc: 0.863013\n",
      "[3927]\tvalid_0's auc: 0.863018\n",
      "[3928]\tvalid_0's auc: 0.863005\n",
      "[3929]\tvalid_0's auc: 0.863058\n",
      "[3930]\tvalid_0's auc: 0.86309\n",
      "[3931]\tvalid_0's auc: 0.863054\n",
      "[3932]\tvalid_0's auc: 0.863027\n",
      "[3933]\tvalid_0's auc: 0.863024\n",
      "[3934]\tvalid_0's auc: 0.863034\n",
      "[3935]\tvalid_0's auc: 0.863033\n",
      "[3936]\tvalid_0's auc: 0.863073\n",
      "[3937]\tvalid_0's auc: 0.863079\n",
      "[3938]\tvalid_0's auc: 0.863092\n",
      "[3939]\tvalid_0's auc: 0.863094\n",
      "[3940]\tvalid_0's auc: 0.863143\n",
      "[3941]\tvalid_0's auc: 0.863131\n",
      "[3942]\tvalid_0's auc: 0.863177\n",
      "[3943]\tvalid_0's auc: 0.863195\n",
      "[3944]\tvalid_0's auc: 0.863219\n",
      "[3945]\tvalid_0's auc: 0.863208\n",
      "[3946]\tvalid_0's auc: 0.863212\n",
      "[3947]\tvalid_0's auc: 0.863209\n",
      "[3948]\tvalid_0's auc: 0.863186\n",
      "[3949]\tvalid_0's auc: 0.863183\n",
      "[3950]\tvalid_0's auc: 0.863197\n",
      "[3951]\tvalid_0's auc: 0.863215\n",
      "[3952]\tvalid_0's auc: 0.863229\n",
      "[3953]\tvalid_0's auc: 0.863229\n",
      "[3954]\tvalid_0's auc: 0.86324\n",
      "[3955]\tvalid_0's auc: 0.863236\n",
      "[3956]\tvalid_0's auc: 0.863255\n",
      "[3957]\tvalid_0's auc: 0.863253\n",
      "[3958]\tvalid_0's auc: 0.863219\n",
      "[3959]\tvalid_0's auc: 0.863217\n",
      "[3960]\tvalid_0's auc: 0.863243\n",
      "[3961]\tvalid_0's auc: 0.863244\n",
      "[3962]\tvalid_0's auc: 0.863229\n",
      "[3963]\tvalid_0's auc: 0.86326\n",
      "[3964]\tvalid_0's auc: 0.863267\n",
      "[3965]\tvalid_0's auc: 0.863299\n",
      "[3966]\tvalid_0's auc: 0.86327\n",
      "[3967]\tvalid_0's auc: 0.863237\n",
      "[3968]\tvalid_0's auc: 0.863232\n",
      "[3969]\tvalid_0's auc: 0.863236\n",
      "[3970]\tvalid_0's auc: 0.863209\n",
      "[3971]\tvalid_0's auc: 0.863183\n",
      "[3972]\tvalid_0's auc: 0.863172\n",
      "[3973]\tvalid_0's auc: 0.863174\n",
      "[3974]\tvalid_0's auc: 0.863158\n",
      "[3975]\tvalid_0's auc: 0.863133\n",
      "[3976]\tvalid_0's auc: 0.863119\n",
      "[3977]\tvalid_0's auc: 0.863088\n",
      "[3978]\tvalid_0's auc: 0.863089\n",
      "[3979]\tvalid_0's auc: 0.86306\n",
      "[3980]\tvalid_0's auc: 0.863035\n",
      "[3981]\tvalid_0's auc: 0.863056\n",
      "[3982]\tvalid_0's auc: 0.863091\n",
      "[3983]\tvalid_0's auc: 0.863063\n",
      "[3984]\tvalid_0's auc: 0.863082\n",
      "[3985]\tvalid_0's auc: 0.86313\n",
      "[3986]\tvalid_0's auc: 0.863134\n",
      "[3987]\tvalid_0's auc: 0.86316\n",
      "[3988]\tvalid_0's auc: 0.863139\n",
      "[3989]\tvalid_0's auc: 0.863076\n",
      "[3990]\tvalid_0's auc: 0.863072\n",
      "[3991]\tvalid_0's auc: 0.863117\n",
      "[3992]\tvalid_0's auc: 0.863138\n",
      "[3993]\tvalid_0's auc: 0.863147\n",
      "[3994]\tvalid_0's auc: 0.863142\n",
      "[3995]\tvalid_0's auc: 0.863162\n",
      "[3996]\tvalid_0's auc: 0.863149\n",
      "[3997]\tvalid_0's auc: 0.863114\n",
      "[3998]\tvalid_0's auc: 0.863137\n",
      "[3999]\tvalid_0's auc: 0.863159\n",
      "[4000]\tvalid_0's auc: 0.863157\n",
      "Did not meet early stopping. Best iteration is:\n",
      "[3965]\tvalid_0's auc: 0.863299\n"
     ]
    }
   ],
   "source": [
    "# Build a lightGBM model\n",
    "train_data = lgbm.Dataset(X_train, y_train)\n",
    "test_data = lgbm.Dataset(X_test, y_test)\n",
    "\n",
    "# define parameters\n",
    "parameters = {\n",
    "    'objective': 'binary',\n",
    "    'metric': 'auc',\n",
    "    'is_unbalance': 'true',\n",
    "    'feature_fraction': 0.5,\n",
    "    'bagging_fraction': 0.5,\n",
    "    'bagging_freq': 20,\n",
    "    'num_threads' : 2,\n",
    "    'learning_rate': 0.005\n",
    "}\n",
    "\n",
    "# train lightGBM model\n",
    "model = lgbm.train(parameters,\n",
    "                   train_data,\n",
    "                   valid_sets=test_data,\n",
    "                   num_boost_round=4000,\n",
    "                   early_stopping_rounds=1000)"
   ]
  },
  {
   "cell_type": "code",
   "execution_count": null,
   "metadata": {
    "id": "TahG2ULQvYv6"
   },
   "outputs": [],
   "source": [
    "# Predict y_train and y_test\n",
    "y_train_pred_lgbm = model.predict(X_train)\n",
    "y_test_pred_lgbm = model.predict(X_test)"
   ]
  },
  {
   "cell_type": "code",
   "execution_count": null,
   "metadata": {
    "colab": {
     "base_uri": "https://localhost:8080/",
     "height": 51
    },
    "executionInfo": {
     "elapsed": 1203,
     "status": "ok",
     "timestamp": 1601225333607,
     "user": {
      "displayName": "A D",
      "photoUrl": "",
      "userId": "14584707532892118607"
     },
     "user_tz": -120
    },
    "id": "FvMetMwxvYwD",
    "outputId": "b14dcadd-2625-4dae-e2b9-5d606067fe72"
   },
   "outputs": [
    {
     "name": "stdout",
     "output_type": "stream",
     "text": [
      "The ROC AUC score for the prediction on the train set with the LGBM model is 0.998989213668446.\n",
      "The ROC AUC score for the prediction on the test set with the LGBM model is 0.8632994286641625.\n"
     ]
    }
   ],
   "source": [
    "# Compute the roc_auc_score\n",
    "print(f'The ROC AUC score for the prediction on the train set with the LGBM model is {roc_auc_score(y_train, y_train_pred_lgbm)}.')\n",
    "print(f'The ROC AUC score for the prediction on the test set with the LGBM model is {roc_auc_score(y_test, y_test_pred_lgbm)}.')"
   ]
  },
  {
   "cell_type": "code",
   "execution_count": null,
   "metadata": {
    "id": "GvrDsH5AlzQ7"
   },
   "outputs": [],
   "source": [
    "# Compute the confusion matrices\n",
    "matrix_confusion_train_lgbm = confusion_matrix(y_train.astype('int'), y_train_pred_lgbm.astype('int'))\n",
    "matrix_confusion_test_lgbm = confusion_matrix(y_test.astype('int'), y_test_pred_lgbm.astype('int'))"
   ]
  },
  {
   "cell_type": "code",
   "execution_count": null,
   "metadata": {
    "colab": {
     "base_uri": "https://localhost:8080/",
     "height": 542
    },
    "executionInfo": {
     "elapsed": 851,
     "status": "ok",
     "timestamp": 1601225342232,
     "user": {
      "displayName": "A D",
      "photoUrl": "",
      "userId": "14584707532892118607"
     },
     "user_tz": -120
    },
    "id": "JgWYLnkpqB-R",
    "outputId": "6c9d8e1d-a50a-4de5-cc6e-91c29ca04630"
   },
   "outputs": [
    {
     "data": {
      "text/html": [
       "<html>\n",
       "<head><meta charset=\"utf-8\" /></head>\n",
       "<body>\n",
       "    <div>\n",
       "            <script src=\"https://cdnjs.cloudflare.com/ajax/libs/mathjax/2.7.5/MathJax.js?config=TeX-AMS-MML_SVG\"></script><script type=\"text/javascript\">if (window.MathJax) {MathJax.Hub.Config({SVG: {font: \"STIX-Web\"}});}</script>\n",
       "                <script type=\"text/javascript\">window.PlotlyConfig = {MathJaxConfig: 'local'};</script>\n",
       "        <script src=\"https://cdn.plot.ly/plotly-latest.min.js\"></script>    \n",
       "            <div id=\"7f2928f1-3189-418f-ae48-7f9e304f6d9f\" class=\"plotly-graph-div\" style=\"height:525px; width:100%;\"></div>\n",
       "            <script type=\"text/javascript\">\n",
       "                \n",
       "                    window.PLOTLYENV=window.PLOTLYENV || {};\n",
       "                    \n",
       "                if (document.getElementById(\"7f2928f1-3189-418f-ae48-7f9e304f6d9f\")) {\n",
       "                    Plotly.newPlot(\n",
       "                        '7f2928f1-3189-418f-ae48-7f9e304f6d9f',\n",
       "                        [{\"colorscale\": [[0.0, \"#0d0887\"], [0.1111111111111111, \"#46039f\"], [0.2222222222222222, \"#7201a8\"], [0.3333333333333333, \"#9c179e\"], [0.4444444444444444, \"#bd3786\"], [0.5555555555555556, \"#d8576b\"], [0.6666666666666666, \"#ed7953\"], [0.7777777777777778, \"#fb9f3a\"], [0.8888888888888888, \"#fdca26\"], [1.0, \"#f0f921\"]], \"reversescale\": false, \"showscale\": false, \"type\": \"heatmap\", \"x\": [0, 1], \"y\": [0, 1], \"z\": [[59293, 0], [1112, 0]]}],\n",
       "                        {\"annotations\": [{\"font\": {\"color\": \"#000000\"}, \"showarrow\": false, \"text\": \"59293\", \"x\": 0, \"xref\": \"x\", \"y\": 0, \"yref\": \"y\"}, {\"font\": {\"color\": \"#FFFFFF\"}, \"showarrow\": false, \"text\": \"0\", \"x\": 1, \"xref\": \"x\", \"y\": 0, \"yref\": \"y\"}, {\"font\": {\"color\": \"#FFFFFF\"}, \"showarrow\": false, \"text\": \"1112\", \"x\": 0, \"xref\": \"x\", \"y\": 1, \"yref\": \"y\"}, {\"font\": {\"color\": \"#FFFFFF\"}, \"showarrow\": false, \"text\": \"0\", \"x\": 1, \"xref\": \"x\", \"y\": 1, \"yref\": \"y\"}], \"template\": {\"data\": {\"bar\": [{\"error_x\": {\"color\": \"#2a3f5f\"}, \"error_y\": {\"color\": \"#2a3f5f\"}, \"marker\": {\"line\": {\"color\": \"#E5ECF6\", \"width\": 0.5}}, \"type\": \"bar\"}], \"barpolar\": [{\"marker\": {\"line\": {\"color\": \"#E5ECF6\", \"width\": 0.5}}, \"type\": \"barpolar\"}], \"carpet\": [{\"aaxis\": {\"endlinecolor\": \"#2a3f5f\", \"gridcolor\": \"white\", \"linecolor\": \"white\", \"minorgridcolor\": \"white\", \"startlinecolor\": \"#2a3f5f\"}, \"baxis\": {\"endlinecolor\": \"#2a3f5f\", \"gridcolor\": \"white\", \"linecolor\": \"white\", \"minorgridcolor\": \"white\", \"startlinecolor\": \"#2a3f5f\"}, \"type\": \"carpet\"}], \"choropleth\": [{\"colorbar\": {\"outlinewidth\": 0, \"ticks\": \"\"}, \"type\": \"choropleth\"}], \"contour\": [{\"colorbar\": {\"outlinewidth\": 0, \"ticks\": \"\"}, \"colorscale\": [[0.0, \"#0d0887\"], [0.1111111111111111, \"#46039f\"], [0.2222222222222222, \"#7201a8\"], [0.3333333333333333, \"#9c179e\"], [0.4444444444444444, \"#bd3786\"], [0.5555555555555556, \"#d8576b\"], [0.6666666666666666, \"#ed7953\"], [0.7777777777777778, \"#fb9f3a\"], [0.8888888888888888, \"#fdca26\"], [1.0, \"#f0f921\"]], \"type\": \"contour\"}], \"contourcarpet\": [{\"colorbar\": {\"outlinewidth\": 0, \"ticks\": \"\"}, \"type\": \"contourcarpet\"}], \"heatmap\": [{\"colorbar\": {\"outlinewidth\": 0, \"ticks\": \"\"}, \"colorscale\": [[0.0, \"#0d0887\"], [0.1111111111111111, \"#46039f\"], [0.2222222222222222, \"#7201a8\"], [0.3333333333333333, \"#9c179e\"], [0.4444444444444444, \"#bd3786\"], [0.5555555555555556, \"#d8576b\"], [0.6666666666666666, \"#ed7953\"], [0.7777777777777778, \"#fb9f3a\"], [0.8888888888888888, \"#fdca26\"], [1.0, \"#f0f921\"]], \"type\": \"heatmap\"}], \"heatmapgl\": [{\"colorbar\": {\"outlinewidth\": 0, \"ticks\": \"\"}, \"colorscale\": [[0.0, \"#0d0887\"], [0.1111111111111111, \"#46039f\"], [0.2222222222222222, \"#7201a8\"], [0.3333333333333333, \"#9c179e\"], [0.4444444444444444, \"#bd3786\"], [0.5555555555555556, \"#d8576b\"], [0.6666666666666666, \"#ed7953\"], [0.7777777777777778, \"#fb9f3a\"], [0.8888888888888888, \"#fdca26\"], [1.0, \"#f0f921\"]], \"type\": \"heatmapgl\"}], \"histogram\": [{\"marker\": {\"colorbar\": {\"outlinewidth\": 0, \"ticks\": \"\"}}, \"type\": \"histogram\"}], \"histogram2d\": [{\"colorbar\": {\"outlinewidth\": 0, \"ticks\": \"\"}, \"colorscale\": [[0.0, \"#0d0887\"], [0.1111111111111111, \"#46039f\"], [0.2222222222222222, \"#7201a8\"], [0.3333333333333333, \"#9c179e\"], [0.4444444444444444, \"#bd3786\"], [0.5555555555555556, \"#d8576b\"], [0.6666666666666666, \"#ed7953\"], [0.7777777777777778, \"#fb9f3a\"], [0.8888888888888888, \"#fdca26\"], [1.0, \"#f0f921\"]], \"type\": \"histogram2d\"}], \"histogram2dcontour\": [{\"colorbar\": {\"outlinewidth\": 0, \"ticks\": \"\"}, \"colorscale\": [[0.0, \"#0d0887\"], [0.1111111111111111, \"#46039f\"], [0.2222222222222222, \"#7201a8\"], [0.3333333333333333, \"#9c179e\"], [0.4444444444444444, \"#bd3786\"], [0.5555555555555556, \"#d8576b\"], [0.6666666666666666, \"#ed7953\"], [0.7777777777777778, \"#fb9f3a\"], [0.8888888888888888, \"#fdca26\"], [1.0, \"#f0f921\"]], \"type\": \"histogram2dcontour\"}], \"mesh3d\": [{\"colorbar\": {\"outlinewidth\": 0, \"ticks\": \"\"}, \"type\": \"mesh3d\"}], \"parcoords\": [{\"line\": {\"colorbar\": {\"outlinewidth\": 0, \"ticks\": \"\"}}, \"type\": \"parcoords\"}], \"pie\": [{\"automargin\": true, \"type\": \"pie\"}], \"scatter\": [{\"marker\": {\"colorbar\": {\"outlinewidth\": 0, \"ticks\": \"\"}}, \"type\": \"scatter\"}], \"scatter3d\": [{\"line\": {\"colorbar\": {\"outlinewidth\": 0, \"ticks\": \"\"}}, \"marker\": {\"colorbar\": {\"outlinewidth\": 0, \"ticks\": \"\"}}, \"type\": \"scatter3d\"}], \"scattercarpet\": [{\"marker\": {\"colorbar\": {\"outlinewidth\": 0, \"ticks\": \"\"}}, \"type\": \"scattercarpet\"}], \"scattergeo\": [{\"marker\": {\"colorbar\": {\"outlinewidth\": 0, \"ticks\": \"\"}}, \"type\": \"scattergeo\"}], \"scattergl\": [{\"marker\": {\"colorbar\": {\"outlinewidth\": 0, \"ticks\": \"\"}}, \"type\": \"scattergl\"}], \"scattermapbox\": [{\"marker\": {\"colorbar\": {\"outlinewidth\": 0, \"ticks\": \"\"}}, \"type\": \"scattermapbox\"}], \"scatterpolar\": [{\"marker\": {\"colorbar\": {\"outlinewidth\": 0, \"ticks\": \"\"}}, \"type\": \"scatterpolar\"}], \"scatterpolargl\": [{\"marker\": {\"colorbar\": {\"outlinewidth\": 0, \"ticks\": \"\"}}, \"type\": \"scatterpolargl\"}], \"scatterternary\": [{\"marker\": {\"colorbar\": {\"outlinewidth\": 0, \"ticks\": \"\"}}, \"type\": \"scatterternary\"}], \"surface\": [{\"colorbar\": {\"outlinewidth\": 0, \"ticks\": \"\"}, \"colorscale\": [[0.0, \"#0d0887\"], [0.1111111111111111, \"#46039f\"], [0.2222222222222222, \"#7201a8\"], [0.3333333333333333, \"#9c179e\"], [0.4444444444444444, \"#bd3786\"], [0.5555555555555556, \"#d8576b\"], [0.6666666666666666, \"#ed7953\"], [0.7777777777777778, \"#fb9f3a\"], [0.8888888888888888, \"#fdca26\"], [1.0, \"#f0f921\"]], \"type\": \"surface\"}], \"table\": [{\"cells\": {\"fill\": {\"color\": \"#EBF0F8\"}, \"line\": {\"color\": \"white\"}}, \"header\": {\"fill\": {\"color\": \"#C8D4E3\"}, \"line\": {\"color\": \"white\"}}, \"type\": \"table\"}]}, \"layout\": {\"annotationdefaults\": {\"arrowcolor\": \"#2a3f5f\", \"arrowhead\": 0, \"arrowwidth\": 1}, \"coloraxis\": {\"colorbar\": {\"outlinewidth\": 0, \"ticks\": \"\"}}, \"colorscale\": {\"diverging\": [[0, \"#8e0152\"], [0.1, \"#c51b7d\"], [0.2, \"#de77ae\"], [0.3, \"#f1b6da\"], [0.4, \"#fde0ef\"], [0.5, \"#f7f7f7\"], [0.6, \"#e6f5d0\"], [0.7, \"#b8e186\"], [0.8, \"#7fbc41\"], [0.9, \"#4d9221\"], [1, \"#276419\"]], \"sequential\": [[0.0, \"#0d0887\"], [0.1111111111111111, \"#46039f\"], [0.2222222222222222, \"#7201a8\"], [0.3333333333333333, \"#9c179e\"], [0.4444444444444444, \"#bd3786\"], [0.5555555555555556, \"#d8576b\"], [0.6666666666666666, \"#ed7953\"], [0.7777777777777778, \"#fb9f3a\"], [0.8888888888888888, \"#fdca26\"], [1.0, \"#f0f921\"]], \"sequentialminus\": [[0.0, \"#0d0887\"], [0.1111111111111111, \"#46039f\"], [0.2222222222222222, \"#7201a8\"], [0.3333333333333333, \"#9c179e\"], [0.4444444444444444, \"#bd3786\"], [0.5555555555555556, \"#d8576b\"], [0.6666666666666666, \"#ed7953\"], [0.7777777777777778, \"#fb9f3a\"], [0.8888888888888888, \"#fdca26\"], [1.0, \"#f0f921\"]]}, \"colorway\": [\"#636efa\", \"#EF553B\", \"#00cc96\", \"#ab63fa\", \"#FFA15A\", \"#19d3f3\", \"#FF6692\", \"#B6E880\", \"#FF97FF\", \"#FECB52\"], \"font\": {\"color\": \"#2a3f5f\"}, \"geo\": {\"bgcolor\": \"white\", \"lakecolor\": \"white\", \"landcolor\": \"#E5ECF6\", \"showlakes\": true, \"showland\": true, \"subunitcolor\": \"white\"}, \"hoverlabel\": {\"align\": \"left\"}, \"hovermode\": \"closest\", \"mapbox\": {\"style\": \"light\"}, \"paper_bgcolor\": \"white\", \"plot_bgcolor\": \"#E5ECF6\", \"polar\": {\"angularaxis\": {\"gridcolor\": \"white\", \"linecolor\": \"white\", \"ticks\": \"\"}, \"bgcolor\": \"#E5ECF6\", \"radialaxis\": {\"gridcolor\": \"white\", \"linecolor\": \"white\", \"ticks\": \"\"}}, \"scene\": {\"xaxis\": {\"backgroundcolor\": \"#E5ECF6\", \"gridcolor\": \"white\", \"gridwidth\": 2, \"linecolor\": \"white\", \"showbackground\": true, \"ticks\": \"\", \"zerolinecolor\": \"white\"}, \"yaxis\": {\"backgroundcolor\": \"#E5ECF6\", \"gridcolor\": \"white\", \"gridwidth\": 2, \"linecolor\": \"white\", \"showbackground\": true, \"ticks\": \"\", \"zerolinecolor\": \"white\"}, \"zaxis\": {\"backgroundcolor\": \"#E5ECF6\", \"gridcolor\": \"white\", \"gridwidth\": 2, \"linecolor\": \"white\", \"showbackground\": true, \"ticks\": \"\", \"zerolinecolor\": \"white\"}}, \"shapedefaults\": {\"line\": {\"color\": \"#2a3f5f\"}}, \"ternary\": {\"aaxis\": {\"gridcolor\": \"white\", \"linecolor\": \"white\", \"ticks\": \"\"}, \"baxis\": {\"gridcolor\": \"white\", \"linecolor\": \"white\", \"ticks\": \"\"}, \"bgcolor\": \"#E5ECF6\", \"caxis\": {\"gridcolor\": \"white\", \"linecolor\": \"white\", \"ticks\": \"\"}}, \"title\": {\"x\": 0.05}, \"xaxis\": {\"automargin\": true, \"gridcolor\": \"white\", \"linecolor\": \"white\", \"ticks\": \"\", \"title\": {\"standoff\": 15}, \"zerolinecolor\": \"white\", \"zerolinewidth\": 2}, \"yaxis\": {\"automargin\": true, \"gridcolor\": \"white\", \"linecolor\": \"white\", \"ticks\": \"\", \"title\": {\"standoff\": 15}, \"zerolinecolor\": \"white\", \"zerolinewidth\": 2}}}, \"title\": {\"text\": \"Confusion matrix train set - model lgbm: \\\"predicted labels\\\" vs \\\"true labels\\\"\"}, \"xaxis\": {\"dtick\": 1, \"gridcolor\": \"rgb(0, 0, 0)\", \"side\": \"bottom\", \"ticks\": \"\", \"title\": {\"text\": \"Predicted labels\"}}, \"yaxis\": {\"dtick\": 1, \"ticks\": \"\", \"ticksuffix\": \"  \", \"title\": {\"text\": \"True labels\"}}},\n",
       "                        {\"responsive\": true}\n",
       "                    ).then(function(){\n",
       "                            \n",
       "var gd = document.getElementById('7f2928f1-3189-418f-ae48-7f9e304f6d9f');\n",
       "var x = new MutationObserver(function (mutations, observer) {{\n",
       "        var display = window.getComputedStyle(gd).display;\n",
       "        if (!display || display === 'none') {{\n",
       "            console.log([gd, 'removed!']);\n",
       "            Plotly.purge(gd);\n",
       "            observer.disconnect();\n",
       "        }}\n",
       "}});\n",
       "\n",
       "// Listen for the removal of the full notebook cells\n",
       "var notebookContainer = gd.closest('#notebook-container');\n",
       "if (notebookContainer) {{\n",
       "    x.observe(notebookContainer, {childList: true});\n",
       "}}\n",
       "\n",
       "// Listen for the clearing of the current output cell\n",
       "var outputEl = gd.closest('.output');\n",
       "if (outputEl) {{\n",
       "    x.observe(outputEl, {childList: true});\n",
       "}}\n",
       "\n",
       "                        })\n",
       "                };\n",
       "                \n",
       "            </script>\n",
       "        </div>\n",
       "</body>\n",
       "</html>"
      ]
     },
     "metadata": {
      "tags": []
     },
     "output_type": "display_data"
    }
   ],
   "source": [
    "x = [0, 1]\n",
    "\n",
    "fig7 = ff.create_annotated_heatmap(matrix_confusion_train_lgbm, x = x, y = x)\n",
    "\n",
    "update1 = fig7.update_layout(title = 'Confusion matrix train set - model lgbm: \"predicted labels\" vs \"true labels\"')\n",
    "update2 = fig7.update_xaxes(title = 'Predicted labels', side = 'bottom')\n",
    "update3 = fig7.update_yaxes(title = 'True labels')\n",
    "\n",
    "fig7.show()"
   ]
  },
  {
   "cell_type": "code",
   "execution_count": null,
   "metadata": {
    "colab": {
     "base_uri": "https://localhost:8080/",
     "height": 542
    },
    "executionInfo": {
     "elapsed": 998,
     "status": "ok",
     "timestamp": 1601225354901,
     "user": {
      "displayName": "A D",
      "photoUrl": "",
      "userId": "14584707532892118607"
     },
     "user_tz": -120
    },
    "id": "lbqitwT3q7nE",
    "outputId": "4e7dad8e-e634-4357-dd85-6707f2cf8805"
   },
   "outputs": [
    {
     "data": {
      "text/html": [
       "<html>\n",
       "<head><meta charset=\"utf-8\" /></head>\n",
       "<body>\n",
       "    <div>\n",
       "            <script src=\"https://cdnjs.cloudflare.com/ajax/libs/mathjax/2.7.5/MathJax.js?config=TeX-AMS-MML_SVG\"></script><script type=\"text/javascript\">if (window.MathJax) {MathJax.Hub.Config({SVG: {font: \"STIX-Web\"}});}</script>\n",
       "                <script type=\"text/javascript\">window.PlotlyConfig = {MathJaxConfig: 'local'};</script>\n",
       "        <script src=\"https://cdn.plot.ly/plotly-latest.min.js\"></script>    \n",
       "            <div id=\"59ade13e-5a20-45c6-9ab1-262d71541a40\" class=\"plotly-graph-div\" style=\"height:525px; width:100%;\"></div>\n",
       "            <script type=\"text/javascript\">\n",
       "                \n",
       "                    window.PLOTLYENV=window.PLOTLYENV || {};\n",
       "                    \n",
       "                if (document.getElementById(\"59ade13e-5a20-45c6-9ab1-262d71541a40\")) {\n",
       "                    Plotly.newPlot(\n",
       "                        '59ade13e-5a20-45c6-9ab1-262d71541a40',\n",
       "                        [{\"colorscale\": [[0.0, \"#0d0887\"], [0.1111111111111111, \"#46039f\"], [0.2222222222222222, \"#7201a8\"], [0.3333333333333333, \"#9c179e\"], [0.4444444444444444, \"#bd3786\"], [0.5555555555555556, \"#d8576b\"], [0.6666666666666666, \"#ed7953\"], [0.7777777777777778, \"#fb9f3a\"], [0.8888888888888888, \"#fdca26\"], [1.0, \"#f0f921\"]], \"reversescale\": false, \"showscale\": false, \"type\": \"heatmap\", \"x\": [0, 1], \"y\": [0, 1], \"z\": [[19765, 0], [371, 0]]}],\n",
       "                        {\"annotations\": [{\"font\": {\"color\": \"#000000\"}, \"showarrow\": false, \"text\": \"19765\", \"x\": 0, \"xref\": \"x\", \"y\": 0, \"yref\": \"y\"}, {\"font\": {\"color\": \"#FFFFFF\"}, \"showarrow\": false, \"text\": \"0\", \"x\": 1, \"xref\": \"x\", \"y\": 0, \"yref\": \"y\"}, {\"font\": {\"color\": \"#FFFFFF\"}, \"showarrow\": false, \"text\": \"371\", \"x\": 0, \"xref\": \"x\", \"y\": 1, \"yref\": \"y\"}, {\"font\": {\"color\": \"#FFFFFF\"}, \"showarrow\": false, \"text\": \"0\", \"x\": 1, \"xref\": \"x\", \"y\": 1, \"yref\": \"y\"}], \"template\": {\"data\": {\"bar\": [{\"error_x\": {\"color\": \"#2a3f5f\"}, \"error_y\": {\"color\": \"#2a3f5f\"}, \"marker\": {\"line\": {\"color\": \"#E5ECF6\", \"width\": 0.5}}, \"type\": \"bar\"}], \"barpolar\": [{\"marker\": {\"line\": {\"color\": \"#E5ECF6\", \"width\": 0.5}}, \"type\": \"barpolar\"}], \"carpet\": [{\"aaxis\": {\"endlinecolor\": \"#2a3f5f\", \"gridcolor\": \"white\", \"linecolor\": \"white\", \"minorgridcolor\": \"white\", \"startlinecolor\": \"#2a3f5f\"}, \"baxis\": {\"endlinecolor\": \"#2a3f5f\", \"gridcolor\": \"white\", \"linecolor\": \"white\", \"minorgridcolor\": \"white\", \"startlinecolor\": \"#2a3f5f\"}, \"type\": \"carpet\"}], \"choropleth\": [{\"colorbar\": {\"outlinewidth\": 0, \"ticks\": \"\"}, \"type\": \"choropleth\"}], \"contour\": [{\"colorbar\": {\"outlinewidth\": 0, \"ticks\": \"\"}, \"colorscale\": [[0.0, \"#0d0887\"], [0.1111111111111111, \"#46039f\"], [0.2222222222222222, \"#7201a8\"], [0.3333333333333333, \"#9c179e\"], [0.4444444444444444, \"#bd3786\"], [0.5555555555555556, \"#d8576b\"], [0.6666666666666666, \"#ed7953\"], [0.7777777777777778, \"#fb9f3a\"], [0.8888888888888888, \"#fdca26\"], [1.0, \"#f0f921\"]], \"type\": \"contour\"}], \"contourcarpet\": [{\"colorbar\": {\"outlinewidth\": 0, \"ticks\": \"\"}, \"type\": \"contourcarpet\"}], \"heatmap\": [{\"colorbar\": {\"outlinewidth\": 0, \"ticks\": \"\"}, \"colorscale\": [[0.0, \"#0d0887\"], [0.1111111111111111, \"#46039f\"], [0.2222222222222222, \"#7201a8\"], [0.3333333333333333, \"#9c179e\"], [0.4444444444444444, \"#bd3786\"], [0.5555555555555556, \"#d8576b\"], [0.6666666666666666, \"#ed7953\"], [0.7777777777777778, \"#fb9f3a\"], [0.8888888888888888, \"#fdca26\"], [1.0, \"#f0f921\"]], \"type\": \"heatmap\"}], \"heatmapgl\": [{\"colorbar\": {\"outlinewidth\": 0, \"ticks\": \"\"}, \"colorscale\": [[0.0, \"#0d0887\"], [0.1111111111111111, \"#46039f\"], [0.2222222222222222, \"#7201a8\"], [0.3333333333333333, \"#9c179e\"], [0.4444444444444444, \"#bd3786\"], [0.5555555555555556, \"#d8576b\"], [0.6666666666666666, \"#ed7953\"], [0.7777777777777778, \"#fb9f3a\"], [0.8888888888888888, \"#fdca26\"], [1.0, \"#f0f921\"]], \"type\": \"heatmapgl\"}], \"histogram\": [{\"marker\": {\"colorbar\": {\"outlinewidth\": 0, \"ticks\": \"\"}}, \"type\": \"histogram\"}], \"histogram2d\": [{\"colorbar\": {\"outlinewidth\": 0, \"ticks\": \"\"}, \"colorscale\": [[0.0, \"#0d0887\"], [0.1111111111111111, \"#46039f\"], [0.2222222222222222, \"#7201a8\"], [0.3333333333333333, \"#9c179e\"], [0.4444444444444444, \"#bd3786\"], [0.5555555555555556, \"#d8576b\"], [0.6666666666666666, \"#ed7953\"], [0.7777777777777778, \"#fb9f3a\"], [0.8888888888888888, \"#fdca26\"], [1.0, \"#f0f921\"]], \"type\": \"histogram2d\"}], \"histogram2dcontour\": [{\"colorbar\": {\"outlinewidth\": 0, \"ticks\": \"\"}, \"colorscale\": [[0.0, \"#0d0887\"], [0.1111111111111111, \"#46039f\"], [0.2222222222222222, \"#7201a8\"], [0.3333333333333333, \"#9c179e\"], [0.4444444444444444, \"#bd3786\"], [0.5555555555555556, \"#d8576b\"], [0.6666666666666666, \"#ed7953\"], [0.7777777777777778, \"#fb9f3a\"], [0.8888888888888888, \"#fdca26\"], [1.0, \"#f0f921\"]], \"type\": \"histogram2dcontour\"}], \"mesh3d\": [{\"colorbar\": {\"outlinewidth\": 0, \"ticks\": \"\"}, \"type\": \"mesh3d\"}], \"parcoords\": [{\"line\": {\"colorbar\": {\"outlinewidth\": 0, \"ticks\": \"\"}}, \"type\": \"parcoords\"}], \"pie\": [{\"automargin\": true, \"type\": \"pie\"}], \"scatter\": [{\"marker\": {\"colorbar\": {\"outlinewidth\": 0, \"ticks\": \"\"}}, \"type\": \"scatter\"}], \"scatter3d\": [{\"line\": {\"colorbar\": {\"outlinewidth\": 0, \"ticks\": \"\"}}, \"marker\": {\"colorbar\": {\"outlinewidth\": 0, \"ticks\": \"\"}}, \"type\": \"scatter3d\"}], \"scattercarpet\": [{\"marker\": {\"colorbar\": {\"outlinewidth\": 0, \"ticks\": \"\"}}, \"type\": \"scattercarpet\"}], \"scattergeo\": [{\"marker\": {\"colorbar\": {\"outlinewidth\": 0, \"ticks\": \"\"}}, \"type\": \"scattergeo\"}], \"scattergl\": [{\"marker\": {\"colorbar\": {\"outlinewidth\": 0, \"ticks\": \"\"}}, \"type\": \"scattergl\"}], \"scattermapbox\": [{\"marker\": {\"colorbar\": {\"outlinewidth\": 0, \"ticks\": \"\"}}, \"type\": \"scattermapbox\"}], \"scatterpolar\": [{\"marker\": {\"colorbar\": {\"outlinewidth\": 0, \"ticks\": \"\"}}, \"type\": \"scatterpolar\"}], \"scatterpolargl\": [{\"marker\": {\"colorbar\": {\"outlinewidth\": 0, \"ticks\": \"\"}}, \"type\": \"scatterpolargl\"}], \"scatterternary\": [{\"marker\": {\"colorbar\": {\"outlinewidth\": 0, \"ticks\": \"\"}}, \"type\": \"scatterternary\"}], \"surface\": [{\"colorbar\": {\"outlinewidth\": 0, \"ticks\": \"\"}, \"colorscale\": [[0.0, \"#0d0887\"], [0.1111111111111111, \"#46039f\"], [0.2222222222222222, \"#7201a8\"], [0.3333333333333333, \"#9c179e\"], [0.4444444444444444, \"#bd3786\"], [0.5555555555555556, \"#d8576b\"], [0.6666666666666666, \"#ed7953\"], [0.7777777777777778, \"#fb9f3a\"], [0.8888888888888888, \"#fdca26\"], [1.0, \"#f0f921\"]], \"type\": \"surface\"}], \"table\": [{\"cells\": {\"fill\": {\"color\": \"#EBF0F8\"}, \"line\": {\"color\": \"white\"}}, \"header\": {\"fill\": {\"color\": \"#C8D4E3\"}, \"line\": {\"color\": \"white\"}}, \"type\": \"table\"}]}, \"layout\": {\"annotationdefaults\": {\"arrowcolor\": \"#2a3f5f\", \"arrowhead\": 0, \"arrowwidth\": 1}, \"coloraxis\": {\"colorbar\": {\"outlinewidth\": 0, \"ticks\": \"\"}}, \"colorscale\": {\"diverging\": [[0, \"#8e0152\"], [0.1, \"#c51b7d\"], [0.2, \"#de77ae\"], [0.3, \"#f1b6da\"], [0.4, \"#fde0ef\"], [0.5, \"#f7f7f7\"], [0.6, \"#e6f5d0\"], [0.7, \"#b8e186\"], [0.8, \"#7fbc41\"], [0.9, \"#4d9221\"], [1, \"#276419\"]], \"sequential\": [[0.0, \"#0d0887\"], [0.1111111111111111, \"#46039f\"], [0.2222222222222222, \"#7201a8\"], [0.3333333333333333, \"#9c179e\"], [0.4444444444444444, \"#bd3786\"], [0.5555555555555556, \"#d8576b\"], [0.6666666666666666, \"#ed7953\"], [0.7777777777777778, \"#fb9f3a\"], [0.8888888888888888, \"#fdca26\"], [1.0, \"#f0f921\"]], \"sequentialminus\": [[0.0, \"#0d0887\"], [0.1111111111111111, \"#46039f\"], [0.2222222222222222, \"#7201a8\"], [0.3333333333333333, \"#9c179e\"], [0.4444444444444444, \"#bd3786\"], [0.5555555555555556, \"#d8576b\"], [0.6666666666666666, \"#ed7953\"], [0.7777777777777778, \"#fb9f3a\"], [0.8888888888888888, \"#fdca26\"], [1.0, \"#f0f921\"]]}, \"colorway\": [\"#636efa\", \"#EF553B\", \"#00cc96\", \"#ab63fa\", \"#FFA15A\", \"#19d3f3\", \"#FF6692\", \"#B6E880\", \"#FF97FF\", \"#FECB52\"], \"font\": {\"color\": \"#2a3f5f\"}, \"geo\": {\"bgcolor\": \"white\", \"lakecolor\": \"white\", \"landcolor\": \"#E5ECF6\", \"showlakes\": true, \"showland\": true, \"subunitcolor\": \"white\"}, \"hoverlabel\": {\"align\": \"left\"}, \"hovermode\": \"closest\", \"mapbox\": {\"style\": \"light\"}, \"paper_bgcolor\": \"white\", \"plot_bgcolor\": \"#E5ECF6\", \"polar\": {\"angularaxis\": {\"gridcolor\": \"white\", \"linecolor\": \"white\", \"ticks\": \"\"}, \"bgcolor\": \"#E5ECF6\", \"radialaxis\": {\"gridcolor\": \"white\", \"linecolor\": \"white\", \"ticks\": \"\"}}, \"scene\": {\"xaxis\": {\"backgroundcolor\": \"#E5ECF6\", \"gridcolor\": \"white\", \"gridwidth\": 2, \"linecolor\": \"white\", \"showbackground\": true, \"ticks\": \"\", \"zerolinecolor\": \"white\"}, \"yaxis\": {\"backgroundcolor\": \"#E5ECF6\", \"gridcolor\": \"white\", \"gridwidth\": 2, \"linecolor\": \"white\", \"showbackground\": true, \"ticks\": \"\", \"zerolinecolor\": \"white\"}, \"zaxis\": {\"backgroundcolor\": \"#E5ECF6\", \"gridcolor\": \"white\", \"gridwidth\": 2, \"linecolor\": \"white\", \"showbackground\": true, \"ticks\": \"\", \"zerolinecolor\": \"white\"}}, \"shapedefaults\": {\"line\": {\"color\": \"#2a3f5f\"}}, \"ternary\": {\"aaxis\": {\"gridcolor\": \"white\", \"linecolor\": \"white\", \"ticks\": \"\"}, \"baxis\": {\"gridcolor\": \"white\", \"linecolor\": \"white\", \"ticks\": \"\"}, \"bgcolor\": \"#E5ECF6\", \"caxis\": {\"gridcolor\": \"white\", \"linecolor\": \"white\", \"ticks\": \"\"}}, \"title\": {\"x\": 0.05}, \"xaxis\": {\"automargin\": true, \"gridcolor\": \"white\", \"linecolor\": \"white\", \"ticks\": \"\", \"title\": {\"standoff\": 15}, \"zerolinecolor\": \"white\", \"zerolinewidth\": 2}, \"yaxis\": {\"automargin\": true, \"gridcolor\": \"white\", \"linecolor\": \"white\", \"ticks\": \"\", \"title\": {\"standoff\": 15}, \"zerolinecolor\": \"white\", \"zerolinewidth\": 2}}}, \"title\": {\"text\": \"Confusion matrix test set - model lgbm: \\\"predicted labels\\\" vs \\\"true labels\\\"\"}, \"xaxis\": {\"dtick\": 1, \"gridcolor\": \"rgb(0, 0, 0)\", \"side\": \"bottom\", \"ticks\": \"\", \"title\": {\"text\": \"Predicted labels\"}}, \"yaxis\": {\"dtick\": 1, \"ticks\": \"\", \"ticksuffix\": \"  \", \"title\": {\"text\": \"True labels\"}}},\n",
       "                        {\"responsive\": true}\n",
       "                    ).then(function(){\n",
       "                            \n",
       "var gd = document.getElementById('59ade13e-5a20-45c6-9ab1-262d71541a40');\n",
       "var x = new MutationObserver(function (mutations, observer) {{\n",
       "        var display = window.getComputedStyle(gd).display;\n",
       "        if (!display || display === 'none') {{\n",
       "            console.log([gd, 'removed!']);\n",
       "            Plotly.purge(gd);\n",
       "            observer.disconnect();\n",
       "        }}\n",
       "}});\n",
       "\n",
       "// Listen for the removal of the full notebook cells\n",
       "var notebookContainer = gd.closest('#notebook-container');\n",
       "if (notebookContainer) {{\n",
       "    x.observe(notebookContainer, {childList: true});\n",
       "}}\n",
       "\n",
       "// Listen for the clearing of the current output cell\n",
       "var outputEl = gd.closest('.output');\n",
       "if (outputEl) {{\n",
       "    x.observe(outputEl, {childList: true});\n",
       "}}\n",
       "\n",
       "                        })\n",
       "                };\n",
       "                \n",
       "            </script>\n",
       "        </div>\n",
       "</body>\n",
       "</html>"
      ]
     },
     "metadata": {
      "tags": []
     },
     "output_type": "display_data"
    }
   ],
   "source": [
    "x = [0, 1]\n",
    "\n",
    "fig8 = ff.create_annotated_heatmap(matrix_confusion_test_lgbm, x = x, y = x)\n",
    "\n",
    "update1 = fig8.update_layout(title = 'Confusion matrix test set - model lgbm: \"predicted labels\" vs \"true labels\"')\n",
    "update2 = fig8.update_xaxes(title = 'Predicted labels', side = 'bottom')\n",
    "update3 = fig8.update_yaxes(title = 'True labels')\n",
    "\n",
    "fig8.show()"
   ]
  },
  {
   "cell_type": "markdown",
   "metadata": {
    "id": "dYnULBKU3QMN"
   },
   "source": [
    "We define 0 as negative and 1 as positive.\n",
    "\n",
    "From the confusion matrix of the train set with our LGBM model we have 1112 False Negatives.\n",
    "\n",
    "From the confusion matrix of the test set with our LGBM model we have 371 False Negatives.\n",
    "\n",
    "We conclude that our LGBM model does not perform well as it fails to detect all the Positives (label 1)."
   ]
  },
  {
   "cell_type": "markdown",
   "metadata": {
    "id": "MKkomJNnX9Q9"
   },
   "source": [
    "### 5-5 Model with a Node2Vec implementation from the library [StellarGraph](https://stellargraph.readthedocs.io/en/stable/demos/link-prediction/index.html)"
   ]
  },
  {
   "cell_type": "code",
   "execution_count": 16,
   "metadata": {
    "executionInfo": {
     "elapsed": 1668,
     "status": "ok",
     "timestamp": 1601282676522,
     "user": {
      "displayName": "A D",
      "photoUrl": "",
      "userId": "14584707532892118607"
     },
     "user_tz": -120
    },
    "id": "EW2jJz_XY5Sa"
   },
   "outputs": [],
   "source": [
    "# change the type of data in the dataframe edges_df\n",
    "edges_df = edges_df.astype('str')"
   ]
  },
  {
   "cell_type": "code",
   "execution_count": 17,
   "metadata": {
    "colab": {
     "base_uri": "https://localhost:8080/",
     "height": 170
    },
    "executionInfo": {
     "elapsed": 1513,
     "status": "ok",
     "timestamp": 1601282683077,
     "user": {
      "displayName": "A D",
      "photoUrl": "",
      "userId": "14584707532892118607"
     },
     "user_tz": -120
    },
    "id": "AmkVdDU4axaN",
    "outputId": "731a58ad-b636-4ca6-b33a-8b74f857186b"
   },
   "outputs": [
    {
     "name": "stdout",
     "output_type": "stream",
     "text": [
      "<class 'pandas.core.frame.DataFrame'>\n",
      "RangeIndex: 2102 entries, 0 to 2101\n",
      "Data columns (total 2 columns):\n",
      " #   Column  Non-Null Count  Dtype \n",
      "---  ------  --------------  ----- \n",
      " 0   node_1  2102 non-null   object\n",
      " 1   node_2  2102 non-null   object\n",
      "dtypes: object(2)\n",
      "memory usage: 33.0+ KB\n"
     ]
    }
   ],
   "source": [
    "edges_df.info()"
   ]
  },
  {
   "cell_type": "code",
   "execution_count": 18,
   "metadata": {
    "executionInfo": {
     "elapsed": 1312,
     "status": "ok",
     "timestamp": 1601282689139,
     "user": {
      "displayName": "A D",
      "photoUrl": "",
      "userId": "14584707532892118607"
     },
     "user_tz": -120
    },
    "id": "LDli-28aa69n"
   },
   "outputs": [],
   "source": [
    "# build a stellargraph object\n",
    "graph = StellarGraph(edges=edges_df, source_column='node_1', target_column='node_2')"
   ]
  },
  {
   "cell_type": "code",
   "execution_count": 19,
   "metadata": {
    "colab": {
     "base_uri": "https://localhost:8080/",
     "height": 68
    },
    "executionInfo": {
     "elapsed": 1299,
     "status": "ok",
     "timestamp": 1601282694077,
     "user": {
      "displayName": "A D",
      "photoUrl": "",
      "userId": "14584707532892118607"
     },
     "user_tz": -120
    },
    "id": "xlfpMiRXbDjf",
    "outputId": "9d14965d-a9c2-4619-a103-b0d72bd41d24"
   },
   "outputs": [
    {
     "name": "stdout",
     "output_type": "stream",
     "text": [
      "The type of graph is <class 'stellargraph.core.graph.StellarGraph'>.\n",
      "The number of nodes of graph is 620.\n",
      "The number of edges of graph is 2102.\n"
     ]
    }
   ],
   "source": [
    "print(f'The type of graph is {type(graph)}.')\n",
    "print(f'The number of nodes of graph is {graph.number_of_nodes()}.')\n",
    "print(f'The number of edges of graph is {graph.number_of_edges()}.')"
   ]
  },
  {
   "cell_type": "code",
   "execution_count": 20,
   "metadata": {
    "colab": {
     "base_uri": "https://localhost:8080/",
     "height": 34
    },
    "executionInfo": {
     "elapsed": 2389,
     "status": "ok",
     "timestamp": 1601282700230,
     "user": {
      "displayName": "A D",
      "photoUrl": "",
      "userId": "14584707532892118607"
     },
     "user_tz": -120
    },
    "id": "LhwSgIHybG4R",
    "outputId": "7bcdb7c4-3591-4e1b-c7d3-7acf28c7e63b"
   },
   "outputs": [
    {
     "name": "stdout",
     "output_type": "stream",
     "text": [
      "** Sampled 210 positive and 210 negative edges. **\n"
     ]
    }
   ],
   "source": [
    "# Define an edge splitter on the original graph:\n",
    "edge_splitter_test = EdgeSplitter(graph)\n",
    "\n",
    "# Randomly sample a fraction p=0.1 of all positive links, and same number of negative links, from graph, and obtain the\n",
    "# reduced graph graph_test with the sampled links removed:\n",
    "graph_test, examples_test, labels_test = edge_splitter_test.train_test_split(\n",
    "    p=0.1, method=\"global\", keep_connected=True\n",
    ")"
   ]
  },
  {
   "cell_type": "code",
   "execution_count": 21,
   "metadata": {
    "colab": {
     "base_uri": "https://localhost:8080/",
     "height": 34
    },
    "executionInfo": {
     "elapsed": 1962,
     "status": "ok",
     "timestamp": 1601282707356,
     "user": {
      "displayName": "A D",
      "photoUrl": "",
      "userId": "14584707532892118607"
     },
     "user_tz": -120
    },
    "id": "oMGZOVUZbPUK",
    "outputId": "0d53e791-dfc0-42a9-a482-e0acfbb11d7e"
   },
   "outputs": [
    {
     "data": {
      "text/plain": [
       "True"
      ]
     },
     "execution_count": 21,
     "metadata": {
      "tags": []
     },
     "output_type": "execute_result"
    }
   ],
   "source": [
    "# check if the graph_test is still connected\n",
    "g_test = graph_test.to_networkx()\n",
    "nx.is_connected(g_test)"
   ]
  },
  {
   "cell_type": "code",
   "execution_count": 22,
   "metadata": {
    "colab": {
     "base_uri": "https://localhost:8080/",
     "height": 85
    },
    "executionInfo": {
     "elapsed": 990,
     "status": "ok",
     "timestamp": 1601282716199,
     "user": {
      "displayName": "A D",
      "photoUrl": "",
      "userId": "14584707532892118607"
     },
     "user_tz": -120
    },
    "id": "JfCywnqHbXYa",
    "outputId": "2538f95e-1e3c-45f3-c470-cb477ce2f8fa"
   },
   "outputs": [
    {
     "name": "stdout",
     "output_type": "stream",
     "text": [
      "The type of graph_test is <class 'stellargraph.core.graph.StellarGraph'>.\n",
      "The number of nodes of graph_test is 620.\n",
      "The number of edges of graph_test is 1892.\n",
      "graph_test keeps 0.9 fraction of the edges of graph.\n"
     ]
    }
   ],
   "source": [
    "# print info on graph_test\n",
    "print(f'The type of graph_test is {type(graph_test)}.')\n",
    "print(f'The number of nodes of graph_test is {graph_test.number_of_nodes()}.')\n",
    "print(f'The number of edges of graph_test is {graph_test.number_of_edges()}.')\n",
    "print(f'graph_test keeps {round(graph_test.number_of_edges() / graph.number_of_edges(), 2)} fraction of the edges of graph.')"
   ]
  },
  {
   "cell_type": "code",
   "execution_count": 23,
   "metadata": {
    "colab": {
     "base_uri": "https://localhost:8080/",
     "height": 34
    },
    "executionInfo": {
     "elapsed": 1432,
     "status": "ok",
     "timestamp": 1601282724816,
     "user": {
      "displayName": "A D",
      "photoUrl": "",
      "userId": "14584707532892118607"
     },
     "user_tz": -120
    },
    "id": "N1s5Vvp8b4cH",
    "outputId": "d955b4d4-ed61-4043-bfb2-e342ef889acf"
   },
   "outputs": [
    {
     "name": "stdout",
     "output_type": "stream",
     "text": [
      "** Sampled 189 positive and 189 negative edges. **\n"
     ]
    }
   ],
   "source": [
    "# Do the same process to compute a training subset from within the test graph\n",
    "edge_splitter_train = EdgeSplitter(graph_test, graph)\n",
    "graph_train, examples, labels = edge_splitter_train.train_test_split(\n",
    "    p=0.1, method=\"global\", keep_connected=True\n",
    ")\n",
    "(\n",
    "    examples_train,\n",
    "    examples_model_selection,\n",
    "    labels_train,\n",
    "    labels_model_selection,\n",
    ") = train_test_split(examples, labels, train_size=0.75, test_size=0.25)"
   ]
  },
  {
   "cell_type": "code",
   "execution_count": 24,
   "metadata": {
    "colab": {
     "base_uri": "https://localhost:8080/",
     "height": 34
    },
    "executionInfo": {
     "elapsed": 1179,
     "status": "ok",
     "timestamp": 1601282738849,
     "user": {
      "displayName": "A D",
      "photoUrl": "",
      "userId": "14584707532892118607"
     },
     "user_tz": -120
    },
    "id": "kXAHsmSGb-sS",
    "outputId": "a836f3b3-1493-46d1-d64a-3c5866a0c5c1"
   },
   "outputs": [
    {
     "data": {
      "text/plain": [
       "True"
      ]
     },
     "execution_count": 24,
     "metadata": {
      "tags": []
     },
     "output_type": "execute_result"
    }
   ],
   "source": [
    "# check if graph_test is connected\n",
    "g_train = graph_train.to_networkx()\n",
    "nx.is_connected(g_train)"
   ]
  },
  {
   "cell_type": "code",
   "execution_count": 25,
   "metadata": {
    "colab": {
     "base_uri": "https://localhost:8080/",
     "height": 34
    },
    "executionInfo": {
     "elapsed": 1308,
     "status": "ok",
     "timestamp": 1601282751398,
     "user": {
      "displayName": "A D",
      "photoUrl": "",
      "userId": "14584707532892118607"
     },
     "user_tz": -120
    },
    "id": "yiWZz4wkj1Ka",
    "outputId": "c0fa8c10-a0e9-4f45-b205-70a86144e00e"
   },
   "outputs": [
    {
     "data": {
      "text/plain": [
       "((378, 2), (378,))"
      ]
     },
     "execution_count": 25,
     "metadata": {
      "tags": []
     },
     "output_type": "execute_result"
    }
   ],
   "source": [
    "examples.shape, labels.shape"
   ]
  },
  {
   "cell_type": "code",
   "execution_count": 26,
   "metadata": {
    "colab": {
     "base_uri": "https://localhost:8080/",
     "height": 34
    },
    "executionInfo": {
     "elapsed": 866,
     "status": "ok",
     "timestamp": 1601282760278,
     "user": {
      "displayName": "A D",
      "photoUrl": "",
      "userId": "14584707532892118607"
     },
     "user_tz": -120
    },
    "id": "CGl9-XWGj1Kj",
    "outputId": "07608a97-6353-468f-d9c1-ef1fd97e08db"
   },
   "outputs": [
    {
     "data": {
      "text/plain": [
       "((283, 2), (95, 2), (283,), (95,))"
      ]
     },
     "execution_count": 26,
     "metadata": {
      "tags": []
     },
     "output_type": "execute_result"
    }
   ],
   "source": [
    "examples_train.shape, examples_model_selection.shape, labels_train.shape, labels_model_selection.shape"
   ]
  },
  {
   "cell_type": "code",
   "execution_count": 27,
   "metadata": {
    "colab": {
     "base_uri": "https://localhost:8080/",
     "height": 34
    },
    "executionInfo": {
     "elapsed": 1646,
     "status": "ok",
     "timestamp": 1601282768750,
     "user": {
      "displayName": "A D",
      "photoUrl": "",
      "userId": "14584707532892118607"
     },
     "user_tz": -120
    },
    "id": "3fXf415hj1Kp",
    "outputId": "9e305dac-6d40-411e-d5cb-2b1950c37baf"
   },
   "outputs": [
    {
     "data": {
      "text/plain": [
       "((array([0, 1]), array([150, 133])), (array([0, 1]), array([39, 56])))"
      ]
     },
     "execution_count": 27,
     "metadata": {
      "tags": []
     },
     "output_type": "execute_result"
    }
   ],
   "source": [
    "np.unique(labels_train, return_counts=True), np.unique(labels_model_selection, return_counts=True)"
   ]
  },
  {
   "cell_type": "code",
   "execution_count": 28,
   "metadata": {
    "colab": {
     "base_uri": "https://localhost:8080/",
     "height": 85
    },
    "executionInfo": {
     "elapsed": 1115,
     "status": "ok",
     "timestamp": 1601282777595,
     "user": {
      "displayName": "A D",
      "photoUrl": "",
      "userId": "14584707532892118607"
     },
     "user_tz": -120
    },
    "id": "8qQ85XPqj1Kv",
    "outputId": "f9e44cdb-241f-4517-ef99-e1eae5624271"
   },
   "outputs": [
    {
     "name": "stdout",
     "output_type": "stream",
     "text": [
      "The type of graph_train is <class 'stellargraph.core.graph.StellarGraph'>.\n",
      "The number of nodes of graph_train is 620.\n",
      "The number of edges of graph_train is 1703.\n",
      "graph_train keeps 0.9 fraction of the edges of graph_test.\n"
     ]
    }
   ],
   "source": [
    "# print info on graph_train\n",
    "print(f'The type of graph_train is {type(graph_train)}.')\n",
    "print(f'The number of nodes of graph_train is {graph_train.number_of_nodes()}.')\n",
    "print(f'The number of edges of graph_train is {graph_train.number_of_edges()}.')\n",
    "print(f'graph_train keeps {round(graph_train.number_of_edges() / graph_test.number_of_edges(), 2)} fraction of the edges of graph_test.')"
   ]
  },
  {
   "cell_type": "code",
   "execution_count": 29,
   "metadata": {
    "colab": {
     "base_uri": "https://localhost:8080/",
     "height": 173
    },
    "executionInfo": {
     "elapsed": 1272,
     "status": "ok",
     "timestamp": 1601282782751,
     "user": {
      "displayName": "A D",
      "photoUrl": "",
      "userId": "14584707532892118607"
     },
     "user_tz": -120
    },
    "id": "L3DJrl7GcjO_",
    "outputId": "db7f026d-008d-4abf-b76a-33c1caf2868c"
   },
   "outputs": [
    {
     "data": {
      "text/html": [
       "<div>\n",
       "<style scoped>\n",
       "    .dataframe tbody tr th:only-of-type {\n",
       "        vertical-align: middle;\n",
       "    }\n",
       "\n",
       "    .dataframe tbody tr th {\n",
       "        vertical-align: top;\n",
       "    }\n",
       "\n",
       "    .dataframe thead th {\n",
       "        text-align: right;\n",
       "    }\n",
       "</style>\n",
       "<table border=\"1\" class=\"dataframe\">\n",
       "  <thead>\n",
       "    <tr style=\"text-align: right;\">\n",
       "      <th></th>\n",
       "      <th>Number of Examples</th>\n",
       "      <th>Hidden from</th>\n",
       "      <th>Picked from</th>\n",
       "      <th>Use</th>\n",
       "    </tr>\n",
       "    <tr>\n",
       "      <th>Split</th>\n",
       "      <th></th>\n",
       "      <th></th>\n",
       "      <th></th>\n",
       "      <th></th>\n",
       "    </tr>\n",
       "  </thead>\n",
       "  <tbody>\n",
       "    <tr>\n",
       "      <th>Training Set</th>\n",
       "      <td>283</td>\n",
       "      <td>Train Graph</td>\n",
       "      <td>Test Graph</td>\n",
       "      <td>Train the Link Classifier</td>\n",
       "    </tr>\n",
       "    <tr>\n",
       "      <th>Model Selection</th>\n",
       "      <td>95</td>\n",
       "      <td>Train Graph</td>\n",
       "      <td>Test Graph</td>\n",
       "      <td>Select the best Link Classifier model</td>\n",
       "    </tr>\n",
       "    <tr>\n",
       "      <th>Test set</th>\n",
       "      <td>420</td>\n",
       "      <td>Test Graph</td>\n",
       "      <td>Full Graph</td>\n",
       "      <td>Evaluate the best Link Classifier</td>\n",
       "    </tr>\n",
       "  </tbody>\n",
       "</table>\n",
       "</div>"
      ],
      "text/plain": [
       "                 Number of Examples  ...                                    Use\n",
       "Split                                ...                                       \n",
       "Training Set                    283  ...              Train the Link Classifier\n",
       "Model Selection                  95  ...  Select the best Link Classifier model\n",
       "Test set                        420  ...      Evaluate the best Link Classifier\n",
       "\n",
       "[3 rows x 4 columns]"
      ]
     },
     "execution_count": 29,
     "metadata": {
      "tags": []
     },
     "output_type": "execute_result"
    }
   ],
   "source": [
    "pd.DataFrame(\n",
    "    [\n",
    "        (\n",
    "            \"Training Set\",\n",
    "            len(examples_train),\n",
    "            \"Train Graph\",\n",
    "            \"Test Graph\",\n",
    "            \"Train the Link Classifier\",\n",
    "        ),\n",
    "        (\n",
    "            \"Model Selection\",\n",
    "            len(examples_model_selection),\n",
    "            \"Train Graph\",\n",
    "            \"Test Graph\",\n",
    "            \"Select the best Link Classifier model\",\n",
    "        ),\n",
    "        (\n",
    "            \"Test set\",\n",
    "            len(examples_test),\n",
    "            \"Test Graph\",\n",
    "            \"Full Graph\",\n",
    "            \"Evaluate the best Link Classifier\",\n",
    "        ),\n",
    "    ],\n",
    "    columns=(\"Split\", \"Number of Examples\", \"Hidden from\", \"Picked from\", \"Use\"),\n",
    ").set_index(\"Split\")"
   ]
  },
  {
   "cell_type": "code",
   "execution_count": 30,
   "metadata": {
    "executionInfo": {
     "elapsed": 977,
     "status": "ok",
     "timestamp": 1601282793151,
     "user": {
      "displayName": "A D",
      "photoUrl": "",
      "userId": "14584707532892118607"
     },
     "user_tz": -120
    },
    "id": "Eo_8-l4ij1K6"
   },
   "outputs": [],
   "source": [
    "p = 1.0\n",
    "q = 1.0\n",
    "dimensions = 128\n",
    "num_walks = 10\n",
    "walk_length = 80\n",
    "window_size = 10\n",
    "num_iter = 1\n",
    "workers = multiprocessing.cpu_count()"
   ]
  },
  {
   "cell_type": "code",
   "execution_count": 31,
   "metadata": {
    "executionInfo": {
     "elapsed": 1414,
     "status": "ok",
     "timestamp": 1601282798644,
     "user": {
      "displayName": "A D",
      "photoUrl": "",
      "userId": "14584707532892118607"
     },
     "user_tz": -120
    },
    "id": "tzqc4-iSj1LI"
   },
   "outputs": [],
   "source": [
    "def node2vec_embedding(graph, name):\n",
    "    rw = BiasedRandomWalk(graph)\n",
    "    walks = rw.run(graph.nodes(), n=num_walks, length=walk_length, p=p, q=q)\n",
    "    print(f\"Number of random walks for '{name}': {len(walks)}\")\n",
    "\n",
    "    model = Word2Vec(\n",
    "        walks,\n",
    "        size=dimensions,\n",
    "        window=window_size,\n",
    "        min_count=0,\n",
    "        sg=1,\n",
    "        workers=workers,\n",
    "        iter=num_iter,\n",
    "    )\n",
    "\n",
    "    def get_embedding(u):\n",
    "        return model.wv[u]\n",
    "\n",
    "    return get_embedding"
   ]
  },
  {
   "cell_type": "code",
   "execution_count": 32,
   "metadata": {
    "colab": {
     "base_uri": "https://localhost:8080/",
     "height": 51
    },
    "executionInfo": {
     "elapsed": 43934,
     "status": "ok",
     "timestamp": 1601282853638,
     "user": {
      "displayName": "A D",
      "photoUrl": "",
      "userId": "14584707532892118607"
     },
     "user_tz": -120
    },
    "id": "Z5hYn9CUj1LQ",
    "outputId": "b9d4e03f-6c25-4ab2-f756-1ac891b0435e"
   },
   "outputs": [
    {
     "name": "stdout",
     "output_type": "stream",
     "text": [
      "Number of random walks for 'Train Graph': 6200\n"
     ]
    },
    {
     "data": {
      "text/plain": [
       "<function __main__.node2vec_embedding.<locals>.get_embedding>"
      ]
     },
     "execution_count": 32,
     "metadata": {
      "tags": []
     },
     "output_type": "execute_result"
    }
   ],
   "source": [
    "embedding_train = node2vec_embedding(graph_train, \"Train Graph\")\n",
    "embedding_train"
   ]
  },
  {
   "cell_type": "code",
   "execution_count": 33,
   "metadata": {
    "executionInfo": {
     "elapsed": 1424,
     "status": "ok",
     "timestamp": 1601282859333,
     "user": {
      "displayName": "A D",
      "photoUrl": "",
      "userId": "14584707532892118607"
     },
     "user_tz": -120
    },
    "id": "2lTXWsi9j1LY"
   },
   "outputs": [],
   "source": [
    "from sklearn.pipeline import Pipeline\n",
    "from sklearn.linear_model import LogisticRegressionCV\n",
    "from sklearn.metrics import roc_auc_score\n",
    "from sklearn.preprocessing import StandardScaler\n",
    "\n",
    "\n",
    "# 1. link embeddings\n",
    "def link_examples_to_features(link_examples, transform_node, binary_operator):\n",
    "    return [\n",
    "        binary_operator(transform_node(src), transform_node(dst))\n",
    "        for src, dst in link_examples\n",
    "    ]\n",
    "\n",
    "\n",
    "# 2. training classifier\n",
    "def train_link_prediction_model(\n",
    "    link_examples, link_labels, get_embedding, binary_operator\n",
    "):\n",
    "    clf = link_prediction_classifier()\n",
    "    link_features = link_examples_to_features(\n",
    "        link_examples, get_embedding, binary_operator\n",
    "    )\n",
    "    clf.fit(link_features, link_labels)\n",
    "    return clf\n",
    "\n",
    "\n",
    "def link_prediction_classifier(max_iter=2000):\n",
    "    lr_clf = LogisticRegressionCV(Cs=1, cv=10, scoring=\"roc_auc\", max_iter=max_iter)\n",
    "    return Pipeline(steps=[(\"sc\", StandardScaler()), (\"clf\", lr_clf)])\n",
    "\n",
    "\n",
    "# 3. and 4. evaluate classifier\n",
    "def evaluate_link_prediction_model(\n",
    "    clf, link_examples_test, link_labels_test, get_embedding, binary_operator\n",
    "):\n",
    "    link_features_test = link_examples_to_features(\n",
    "        link_examples_test, get_embedding, binary_operator\n",
    "    )\n",
    "    score = evaluate_roc_auc(clf, link_features_test, link_labels_test)\n",
    "    return score\n",
    "\n",
    "\n",
    "def evaluate_roc_auc(clf, link_features, link_labels):\n",
    "    predicted = clf.predict_proba(link_features)\n",
    "\n",
    "    # check which class corresponds to positive links\n",
    "    positive_column = list(clf.classes_).index(1)\n",
    "    return roc_auc_score(link_labels, predicted[:, positive_column])"
   ]
  },
  {
   "cell_type": "code",
   "execution_count": 34,
   "metadata": {
    "executionInfo": {
     "elapsed": 1280,
     "status": "ok",
     "timestamp": 1601282870567,
     "user": {
      "displayName": "A D",
      "photoUrl": "",
      "userId": "14584707532892118607"
     },
     "user_tz": -120
    },
    "id": "UX1_rMyNj1Lj"
   },
   "outputs": [],
   "source": [
    "def operator_hadamard(u, v):\n",
    "    return u * v\n",
    "\n",
    "\n",
    "def operator_l1(u, v):\n",
    "    return np.abs(u - v)\n",
    "\n",
    "\n",
    "def operator_l2(u, v):\n",
    "    return (u - v) ** 2\n",
    "\n",
    "\n",
    "def operator_avg(u, v):\n",
    "    return (u + v) / 2.0\n",
    "\n",
    "\n",
    "def run_link_prediction(binary_operator):\n",
    "    clf = train_link_prediction_model(\n",
    "        examples_train, labels_train, embedding_train, binary_operator\n",
    "    )\n",
    "    score = evaluate_link_prediction_model(\n",
    "        clf,\n",
    "        examples_model_selection,\n",
    "        labels_model_selection,\n",
    "        embedding_train,\n",
    "        binary_operator,\n",
    "    )\n",
    "\n",
    "    return {\n",
    "        \"classifier\": clf,\n",
    "        \"binary_operator\": binary_operator,\n",
    "        \"score\": score,\n",
    "    }\n",
    "\n",
    "\n",
    "binary_operators = [operator_hadamard, operator_l1, operator_l2, operator_avg]"
   ]
  },
  {
   "cell_type": "code",
   "execution_count": 35,
   "metadata": {
    "colab": {
     "base_uri": "https://localhost:8080/",
     "height": 221
    },
    "executionInfo": {
     "elapsed": 1026,
     "status": "ok",
     "timestamp": 1601282878101,
     "user": {
      "displayName": "A D",
      "photoUrl": "",
      "userId": "14584707532892118607"
     },
     "user_tz": -120
    },
    "id": "JMAhNLxrj1Lo",
    "outputId": "4d867ae0-01d4-4b1c-d727-b49753f38817"
   },
   "outputs": [
    {
     "name": "stdout",
     "output_type": "stream",
     "text": [
      "Best result from 'operator_l2'\n"
     ]
    },
    {
     "data": {
      "text/html": [
       "<div>\n",
       "<style scoped>\n",
       "    .dataframe tbody tr th:only-of-type {\n",
       "        vertical-align: middle;\n",
       "    }\n",
       "\n",
       "    .dataframe tbody tr th {\n",
       "        vertical-align: top;\n",
       "    }\n",
       "\n",
       "    .dataframe thead th {\n",
       "        text-align: right;\n",
       "    }\n",
       "</style>\n",
       "<table border=\"1\" class=\"dataframe\">\n",
       "  <thead>\n",
       "    <tr style=\"text-align: right;\">\n",
       "      <th></th>\n",
       "      <th>ROC AUC score</th>\n",
       "    </tr>\n",
       "    <tr>\n",
       "      <th>name</th>\n",
       "      <th></th>\n",
       "    </tr>\n",
       "  </thead>\n",
       "  <tbody>\n",
       "    <tr>\n",
       "      <th>operator_hadamard</th>\n",
       "      <td>0.906593</td>\n",
       "    </tr>\n",
       "    <tr>\n",
       "      <th>operator_l1</th>\n",
       "      <td>0.942308</td>\n",
       "    </tr>\n",
       "    <tr>\n",
       "      <th>operator_l2</th>\n",
       "      <td>0.944139</td>\n",
       "    </tr>\n",
       "    <tr>\n",
       "      <th>operator_avg</th>\n",
       "      <td>0.701923</td>\n",
       "    </tr>\n",
       "  </tbody>\n",
       "</table>\n",
       "</div>"
      ],
      "text/plain": [
       "                   ROC AUC score\n",
       "name                            \n",
       "operator_hadamard       0.906593\n",
       "operator_l1             0.942308\n",
       "operator_l2             0.944139\n",
       "operator_avg            0.701923"
      ]
     },
     "execution_count": 35,
     "metadata": {
      "tags": []
     },
     "output_type": "execute_result"
    }
   ],
   "source": [
    "results = [run_link_prediction(op) for op in binary_operators]\n",
    "best_result = max(results, key=lambda result: result[\"score\"])\n",
    "\n",
    "print(f\"Best result from '{best_result['binary_operator'].__name__}'\")\n",
    "\n",
    "pd.DataFrame(\n",
    "    [(result[\"binary_operator\"].__name__, result[\"score\"]) for result in results],\n",
    "    columns=(\"name\", \"ROC AUC score\"),\n",
    ").set_index(\"name\")"
   ]
  },
  {
   "cell_type": "code",
   "execution_count": 36,
   "metadata": {
    "colab": {
     "base_uri": "https://localhost:8080/",
     "height": 34
    },
    "executionInfo": {
     "elapsed": 43880,
     "status": "ok",
     "timestamp": 1601282931722,
     "user": {
      "displayName": "A D",
      "photoUrl": "",
      "userId": "14584707532892118607"
     },
     "user_tz": -120
    },
    "id": "NDbUYUTZj1Ls",
    "outputId": "a59d2ef9-f550-40bc-9439-10738d0a0041"
   },
   "outputs": [
    {
     "name": "stdout",
     "output_type": "stream",
     "text": [
      "Number of random walks for 'Test Graph': 6200\n"
     ]
    }
   ],
   "source": [
    "embedding_test = node2vec_embedding(graph_test, \"Test Graph\")"
   ]
  },
  {
   "cell_type": "code",
   "execution_count": 37,
   "metadata": {
    "colab": {
     "base_uri": "https://localhost:8080/",
     "height": 34
    },
    "executionInfo": {
     "elapsed": 1475,
     "status": "ok",
     "timestamp": 1601282938416,
     "user": {
      "displayName": "A D",
      "photoUrl": "",
      "userId": "14584707532892118607"
     },
     "user_tz": -120
    },
    "id": "5xXyfPl0j1L0",
    "outputId": "3e688aea-f9ba-4651-8f80-de3e4d0370be"
   },
   "outputs": [
    {
     "name": "stdout",
     "output_type": "stream",
     "text": [
      "ROC AUC score on test set using 'operator_l2': 0.9382766439909297\n"
     ]
    }
   ],
   "source": [
    "test_score = evaluate_link_prediction_model(\n",
    "    best_result[\"classifier\"],\n",
    "    examples_test,\n",
    "    labels_test,\n",
    "    embedding_test,\n",
    "    best_result[\"binary_operator\"],\n",
    ")\n",
    "print(\n",
    "    f\"ROC AUC score on test set using '{best_result['binary_operator'].__name__}': {test_score}\"\n",
    ")"
   ]
  },
  {
   "cell_type": "code",
   "execution_count": 38,
   "metadata": {
    "executionInfo": {
     "elapsed": 1298,
     "status": "ok",
     "timestamp": 1601282957906,
     "user": {
      "displayName": "A D",
      "photoUrl": "",
      "userId": "14584707532892118607"
     },
     "user_tz": -120
    },
    "id": "_MbihfxafOft"
   },
   "outputs": [],
   "source": [
    "link_features_test = link_examples_to_features(\n",
    "        examples_test, embedding_test, best_result[\"binary_operator\"])"
   ]
  },
  {
   "cell_type": "code",
   "execution_count": 41,
   "metadata": {
    "executionInfo": {
     "elapsed": 1230,
     "status": "ok",
     "timestamp": 1601283121373,
     "user": {
      "displayName": "A D",
      "photoUrl": "",
      "userId": "14584707532892118607"
     },
     "user_tz": -120
    },
    "id": "zhBLmDCPgRnh"
   },
   "outputs": [],
   "source": [
    "labels_test_pred = best_result[\"classifier\"].predict(link_features_test)"
   ]
  },
  {
   "cell_type": "code",
   "execution_count": 42,
   "metadata": {
    "colab": {
     "base_uri": "https://localhost:8080/",
     "height": 34
    },
    "executionInfo": {
     "elapsed": 1282,
     "status": "ok",
     "timestamp": 1601283130945,
     "user": {
      "displayName": "A D",
      "photoUrl": "",
      "userId": "14584707532892118607"
     },
     "user_tz": -120
    },
    "id": "KXRq3s22gsJV",
    "outputId": "b0dfb643-f910-4789-ede9-02aeb8a6848b"
   },
   "outputs": [
    {
     "data": {
      "text/plain": [
       "((420,), (420,))"
      ]
     },
     "execution_count": 42,
     "metadata": {
      "tags": []
     },
     "output_type": "execute_result"
    }
   ],
   "source": [
    "labels_test_pred.shape, labels_test.shape"
   ]
  },
  {
   "cell_type": "code",
   "execution_count": 43,
   "metadata": {
    "executionInfo": {
     "elapsed": 1116,
     "status": "ok",
     "timestamp": 1601283138724,
     "user": {
      "displayName": "A D",
      "photoUrl": "",
      "userId": "14584707532892118607"
     },
     "user_tz": -120
    },
    "id": "JFxj18IVhJ2D"
   },
   "outputs": [],
   "source": [
    "# Compute the confusion matrices\n",
    "matrix_confusion_test_stellargraph = confusion_matrix(labels_test.astype('int'), labels_test_pred.astype('int'))"
   ]
  },
  {
   "cell_type": "code",
   "execution_count": 44,
   "metadata": {
    "colab": {
     "base_uri": "https://localhost:8080/",
     "height": 542
    },
    "executionInfo": {
     "elapsed": 1656,
     "status": "ok",
     "timestamp": 1601283146085,
     "user": {
      "displayName": "A D",
      "photoUrl": "",
      "userId": "14584707532892118607"
     },
     "user_tz": -120
    },
    "id": "vlREprZKhJ2O",
    "outputId": "9c96828c-f414-4ade-ae62-768a62b8ac75"
   },
   "outputs": [
    {
     "data": {
      "text/html": [
       "<html>\n",
       "<head><meta charset=\"utf-8\" /></head>\n",
       "<body>\n",
       "    <div>\n",
       "            <script src=\"https://cdnjs.cloudflare.com/ajax/libs/mathjax/2.7.5/MathJax.js?config=TeX-AMS-MML_SVG\"></script><script type=\"text/javascript\">if (window.MathJax) {MathJax.Hub.Config({SVG: {font: \"STIX-Web\"}});}</script>\n",
       "                <script type=\"text/javascript\">window.PlotlyConfig = {MathJaxConfig: 'local'};</script>\n",
       "        <script src=\"https://cdn.plot.ly/plotly-latest.min.js\"></script>    \n",
       "            <div id=\"e1f80078-d9e2-425f-b6ac-2ce129a93429\" class=\"plotly-graph-div\" style=\"height:525px; width:100%;\"></div>\n",
       "            <script type=\"text/javascript\">\n",
       "                \n",
       "                    window.PLOTLYENV=window.PLOTLYENV || {};\n",
       "                    \n",
       "                if (document.getElementById(\"e1f80078-d9e2-425f-b6ac-2ce129a93429\")) {\n",
       "                    Plotly.newPlot(\n",
       "                        'e1f80078-d9e2-425f-b6ac-2ce129a93429',\n",
       "                        [{\"colorscale\": [[0.0, \"#0d0887\"], [0.1111111111111111, \"#46039f\"], [0.2222222222222222, \"#7201a8\"], [0.3333333333333333, \"#9c179e\"], [0.4444444444444444, \"#bd3786\"], [0.5555555555555556, \"#d8576b\"], [0.6666666666666666, \"#ed7953\"], [0.7777777777777778, \"#fb9f3a\"], [0.8888888888888888, \"#fdca26\"], [1.0, \"#f0f921\"]], \"reversescale\": false, \"showscale\": false, \"type\": \"heatmap\", \"x\": [0, 1], \"y\": [0, 1], \"z\": [[184, 26], [36, 174]]}],\n",
       "                        {\"annotations\": [{\"font\": {\"color\": \"#000000\"}, \"showarrow\": false, \"text\": \"184\", \"x\": 0, \"xref\": \"x\", \"y\": 0, \"yref\": \"y\"}, {\"font\": {\"color\": \"#FFFFFF\"}, \"showarrow\": false, \"text\": \"26\", \"x\": 1, \"xref\": \"x\", \"y\": 0, \"yref\": \"y\"}, {\"font\": {\"color\": \"#FFFFFF\"}, \"showarrow\": false, \"text\": \"36\", \"x\": 0, \"xref\": \"x\", \"y\": 1, \"yref\": \"y\"}, {\"font\": {\"color\": \"#000000\"}, \"showarrow\": false, \"text\": \"174\", \"x\": 1, \"xref\": \"x\", \"y\": 1, \"yref\": \"y\"}], \"template\": {\"data\": {\"bar\": [{\"error_x\": {\"color\": \"#2a3f5f\"}, \"error_y\": {\"color\": \"#2a3f5f\"}, \"marker\": {\"line\": {\"color\": \"#E5ECF6\", \"width\": 0.5}}, \"type\": \"bar\"}], \"barpolar\": [{\"marker\": {\"line\": {\"color\": \"#E5ECF6\", \"width\": 0.5}}, \"type\": \"barpolar\"}], \"carpet\": [{\"aaxis\": {\"endlinecolor\": \"#2a3f5f\", \"gridcolor\": \"white\", \"linecolor\": \"white\", \"minorgridcolor\": \"white\", \"startlinecolor\": \"#2a3f5f\"}, \"baxis\": {\"endlinecolor\": \"#2a3f5f\", \"gridcolor\": \"white\", \"linecolor\": \"white\", \"minorgridcolor\": \"white\", \"startlinecolor\": \"#2a3f5f\"}, \"type\": \"carpet\"}], \"choropleth\": [{\"colorbar\": {\"outlinewidth\": 0, \"ticks\": \"\"}, \"type\": \"choropleth\"}], \"contour\": [{\"colorbar\": {\"outlinewidth\": 0, \"ticks\": \"\"}, \"colorscale\": [[0.0, \"#0d0887\"], [0.1111111111111111, \"#46039f\"], [0.2222222222222222, \"#7201a8\"], [0.3333333333333333, \"#9c179e\"], [0.4444444444444444, \"#bd3786\"], [0.5555555555555556, \"#d8576b\"], [0.6666666666666666, \"#ed7953\"], [0.7777777777777778, \"#fb9f3a\"], [0.8888888888888888, \"#fdca26\"], [1.0, \"#f0f921\"]], \"type\": \"contour\"}], \"contourcarpet\": [{\"colorbar\": {\"outlinewidth\": 0, \"ticks\": \"\"}, \"type\": \"contourcarpet\"}], \"heatmap\": [{\"colorbar\": {\"outlinewidth\": 0, \"ticks\": \"\"}, \"colorscale\": [[0.0, \"#0d0887\"], [0.1111111111111111, \"#46039f\"], [0.2222222222222222, \"#7201a8\"], [0.3333333333333333, \"#9c179e\"], [0.4444444444444444, \"#bd3786\"], [0.5555555555555556, \"#d8576b\"], [0.6666666666666666, \"#ed7953\"], [0.7777777777777778, \"#fb9f3a\"], [0.8888888888888888, \"#fdca26\"], [1.0, \"#f0f921\"]], \"type\": \"heatmap\"}], \"heatmapgl\": [{\"colorbar\": {\"outlinewidth\": 0, \"ticks\": \"\"}, \"colorscale\": [[0.0, \"#0d0887\"], [0.1111111111111111, \"#46039f\"], [0.2222222222222222, \"#7201a8\"], [0.3333333333333333, \"#9c179e\"], [0.4444444444444444, \"#bd3786\"], [0.5555555555555556, \"#d8576b\"], [0.6666666666666666, \"#ed7953\"], [0.7777777777777778, \"#fb9f3a\"], [0.8888888888888888, \"#fdca26\"], [1.0, \"#f0f921\"]], \"type\": \"heatmapgl\"}], \"histogram\": [{\"marker\": {\"colorbar\": {\"outlinewidth\": 0, \"ticks\": \"\"}}, \"type\": \"histogram\"}], \"histogram2d\": [{\"colorbar\": {\"outlinewidth\": 0, \"ticks\": \"\"}, \"colorscale\": [[0.0, \"#0d0887\"], [0.1111111111111111, \"#46039f\"], [0.2222222222222222, \"#7201a8\"], [0.3333333333333333, \"#9c179e\"], [0.4444444444444444, \"#bd3786\"], [0.5555555555555556, \"#d8576b\"], [0.6666666666666666, \"#ed7953\"], [0.7777777777777778, \"#fb9f3a\"], [0.8888888888888888, \"#fdca26\"], [1.0, \"#f0f921\"]], \"type\": \"histogram2d\"}], \"histogram2dcontour\": [{\"colorbar\": {\"outlinewidth\": 0, \"ticks\": \"\"}, \"colorscale\": [[0.0, \"#0d0887\"], [0.1111111111111111, \"#46039f\"], [0.2222222222222222, \"#7201a8\"], [0.3333333333333333, \"#9c179e\"], [0.4444444444444444, \"#bd3786\"], [0.5555555555555556, \"#d8576b\"], [0.6666666666666666, \"#ed7953\"], [0.7777777777777778, \"#fb9f3a\"], [0.8888888888888888, \"#fdca26\"], [1.0, \"#f0f921\"]], \"type\": \"histogram2dcontour\"}], \"mesh3d\": [{\"colorbar\": {\"outlinewidth\": 0, \"ticks\": \"\"}, \"type\": \"mesh3d\"}], \"parcoords\": [{\"line\": {\"colorbar\": {\"outlinewidth\": 0, \"ticks\": \"\"}}, \"type\": \"parcoords\"}], \"pie\": [{\"automargin\": true, \"type\": \"pie\"}], \"scatter\": [{\"marker\": {\"colorbar\": {\"outlinewidth\": 0, \"ticks\": \"\"}}, \"type\": \"scatter\"}], \"scatter3d\": [{\"line\": {\"colorbar\": {\"outlinewidth\": 0, \"ticks\": \"\"}}, \"marker\": {\"colorbar\": {\"outlinewidth\": 0, \"ticks\": \"\"}}, \"type\": \"scatter3d\"}], \"scattercarpet\": [{\"marker\": {\"colorbar\": {\"outlinewidth\": 0, \"ticks\": \"\"}}, \"type\": \"scattercarpet\"}], \"scattergeo\": [{\"marker\": {\"colorbar\": {\"outlinewidth\": 0, \"ticks\": \"\"}}, \"type\": \"scattergeo\"}], \"scattergl\": [{\"marker\": {\"colorbar\": {\"outlinewidth\": 0, \"ticks\": \"\"}}, \"type\": \"scattergl\"}], \"scattermapbox\": [{\"marker\": {\"colorbar\": {\"outlinewidth\": 0, \"ticks\": \"\"}}, \"type\": \"scattermapbox\"}], \"scatterpolar\": [{\"marker\": {\"colorbar\": {\"outlinewidth\": 0, \"ticks\": \"\"}}, \"type\": \"scatterpolar\"}], \"scatterpolargl\": [{\"marker\": {\"colorbar\": {\"outlinewidth\": 0, \"ticks\": \"\"}}, \"type\": \"scatterpolargl\"}], \"scatterternary\": [{\"marker\": {\"colorbar\": {\"outlinewidth\": 0, \"ticks\": \"\"}}, \"type\": \"scatterternary\"}], \"surface\": [{\"colorbar\": {\"outlinewidth\": 0, \"ticks\": \"\"}, \"colorscale\": [[0.0, \"#0d0887\"], [0.1111111111111111, \"#46039f\"], [0.2222222222222222, \"#7201a8\"], [0.3333333333333333, \"#9c179e\"], [0.4444444444444444, \"#bd3786\"], [0.5555555555555556, \"#d8576b\"], [0.6666666666666666, \"#ed7953\"], [0.7777777777777778, \"#fb9f3a\"], [0.8888888888888888, \"#fdca26\"], [1.0, \"#f0f921\"]], \"type\": \"surface\"}], \"table\": [{\"cells\": {\"fill\": {\"color\": \"#EBF0F8\"}, \"line\": {\"color\": \"white\"}}, \"header\": {\"fill\": {\"color\": \"#C8D4E3\"}, \"line\": {\"color\": \"white\"}}, \"type\": \"table\"}]}, \"layout\": {\"annotationdefaults\": {\"arrowcolor\": \"#2a3f5f\", \"arrowhead\": 0, \"arrowwidth\": 1}, \"coloraxis\": {\"colorbar\": {\"outlinewidth\": 0, \"ticks\": \"\"}}, \"colorscale\": {\"diverging\": [[0, \"#8e0152\"], [0.1, \"#c51b7d\"], [0.2, \"#de77ae\"], [0.3, \"#f1b6da\"], [0.4, \"#fde0ef\"], [0.5, \"#f7f7f7\"], [0.6, \"#e6f5d0\"], [0.7, \"#b8e186\"], [0.8, \"#7fbc41\"], [0.9, \"#4d9221\"], [1, \"#276419\"]], \"sequential\": [[0.0, \"#0d0887\"], [0.1111111111111111, \"#46039f\"], [0.2222222222222222, \"#7201a8\"], [0.3333333333333333, \"#9c179e\"], [0.4444444444444444, \"#bd3786\"], [0.5555555555555556, \"#d8576b\"], [0.6666666666666666, \"#ed7953\"], [0.7777777777777778, \"#fb9f3a\"], [0.8888888888888888, \"#fdca26\"], [1.0, \"#f0f921\"]], \"sequentialminus\": [[0.0, \"#0d0887\"], [0.1111111111111111, \"#46039f\"], [0.2222222222222222, \"#7201a8\"], [0.3333333333333333, \"#9c179e\"], [0.4444444444444444, \"#bd3786\"], [0.5555555555555556, \"#d8576b\"], [0.6666666666666666, \"#ed7953\"], [0.7777777777777778, \"#fb9f3a\"], [0.8888888888888888, \"#fdca26\"], [1.0, \"#f0f921\"]]}, \"colorway\": [\"#636efa\", \"#EF553B\", \"#00cc96\", \"#ab63fa\", \"#FFA15A\", \"#19d3f3\", \"#FF6692\", \"#B6E880\", \"#FF97FF\", \"#FECB52\"], \"font\": {\"color\": \"#2a3f5f\"}, \"geo\": {\"bgcolor\": \"white\", \"lakecolor\": \"white\", \"landcolor\": \"#E5ECF6\", \"showlakes\": true, \"showland\": true, \"subunitcolor\": \"white\"}, \"hoverlabel\": {\"align\": \"left\"}, \"hovermode\": \"closest\", \"mapbox\": {\"style\": \"light\"}, \"paper_bgcolor\": \"white\", \"plot_bgcolor\": \"#E5ECF6\", \"polar\": {\"angularaxis\": {\"gridcolor\": \"white\", \"linecolor\": \"white\", \"ticks\": \"\"}, \"bgcolor\": \"#E5ECF6\", \"radialaxis\": {\"gridcolor\": \"white\", \"linecolor\": \"white\", \"ticks\": \"\"}}, \"scene\": {\"xaxis\": {\"backgroundcolor\": \"#E5ECF6\", \"gridcolor\": \"white\", \"gridwidth\": 2, \"linecolor\": \"white\", \"showbackground\": true, \"ticks\": \"\", \"zerolinecolor\": \"white\"}, \"yaxis\": {\"backgroundcolor\": \"#E5ECF6\", \"gridcolor\": \"white\", \"gridwidth\": 2, \"linecolor\": \"white\", \"showbackground\": true, \"ticks\": \"\", \"zerolinecolor\": \"white\"}, \"zaxis\": {\"backgroundcolor\": \"#E5ECF6\", \"gridcolor\": \"white\", \"gridwidth\": 2, \"linecolor\": \"white\", \"showbackground\": true, \"ticks\": \"\", \"zerolinecolor\": \"white\"}}, \"shapedefaults\": {\"line\": {\"color\": \"#2a3f5f\"}}, \"ternary\": {\"aaxis\": {\"gridcolor\": \"white\", \"linecolor\": \"white\", \"ticks\": \"\"}, \"baxis\": {\"gridcolor\": \"white\", \"linecolor\": \"white\", \"ticks\": \"\"}, \"bgcolor\": \"#E5ECF6\", \"caxis\": {\"gridcolor\": \"white\", \"linecolor\": \"white\", \"ticks\": \"\"}}, \"title\": {\"x\": 0.05}, \"xaxis\": {\"automargin\": true, \"gridcolor\": \"white\", \"linecolor\": \"white\", \"ticks\": \"\", \"title\": {\"standoff\": 15}, \"zerolinecolor\": \"white\", \"zerolinewidth\": 2}, \"yaxis\": {\"automargin\": true, \"gridcolor\": \"white\", \"linecolor\": \"white\", \"ticks\": \"\", \"title\": {\"standoff\": 15}, \"zerolinecolor\": \"white\", \"zerolinewidth\": 2}}}, \"title\": {\"text\": \"Confusion matrix test set - model Node2Vec Stellargraph: \\\"predicted labels\\\" vs \\\"true labels\\\"\"}, \"xaxis\": {\"dtick\": 1, \"gridcolor\": \"rgb(0, 0, 0)\", \"side\": \"bottom\", \"ticks\": \"\", \"title\": {\"text\": \"Predicted labels\"}}, \"yaxis\": {\"dtick\": 1, \"ticks\": \"\", \"ticksuffix\": \"  \", \"title\": {\"text\": \"True labels\"}}},\n",
       "                        {\"responsive\": true}\n",
       "                    ).then(function(){\n",
       "                            \n",
       "var gd = document.getElementById('e1f80078-d9e2-425f-b6ac-2ce129a93429');\n",
       "var x = new MutationObserver(function (mutations, observer) {{\n",
       "        var display = window.getComputedStyle(gd).display;\n",
       "        if (!display || display === 'none') {{\n",
       "            console.log([gd, 'removed!']);\n",
       "            Plotly.purge(gd);\n",
       "            observer.disconnect();\n",
       "        }}\n",
       "}});\n",
       "\n",
       "// Listen for the removal of the full notebook cells\n",
       "var notebookContainer = gd.closest('#notebook-container');\n",
       "if (notebookContainer) {{\n",
       "    x.observe(notebookContainer, {childList: true});\n",
       "}}\n",
       "\n",
       "// Listen for the clearing of the current output cell\n",
       "var outputEl = gd.closest('.output');\n",
       "if (outputEl) {{\n",
       "    x.observe(outputEl, {childList: true});\n",
       "}}\n",
       "\n",
       "                        })\n",
       "                };\n",
       "                \n",
       "            </script>\n",
       "        </div>\n",
       "</body>\n",
       "</html>"
      ]
     },
     "metadata": {
      "tags": []
     },
     "output_type": "display_data"
    }
   ],
   "source": [
    "x = [0, 1]\n",
    "\n",
    "fig9 = ff.create_annotated_heatmap(matrix_confusion_test_stellargraph, x = x, y = x)\n",
    "\n",
    "update1 = fig9.update_layout(title = 'Confusion matrix test set - model Node2Vec Stellargraph: \"predicted labels\" vs \"true labels\"')\n",
    "update2 = fig9.update_xaxes(title = 'Predicted labels', side = 'bottom')\n",
    "update3 = fig9.update_yaxes(title = 'True labels')\n",
    "\n",
    "fig9.show()"
   ]
  },
  {
   "cell_type": "code",
   "execution_count": 45,
   "metadata": {
    "executionInfo": {
     "elapsed": 2665,
     "status": "ok",
     "timestamp": 1601283189575,
     "user": {
      "displayName": "A D",
      "photoUrl": "",
      "userId": "14584707532892118607"
     },
     "user_tz": -120
    },
    "id": "8LHUUYwPj1L6"
   },
   "outputs": [],
   "source": [
    "# Calculate edge features for test data\n",
    "link_features = link_examples_to_features(\n",
    "    examples_test, embedding_test, best_result[\"binary_operator\"]\n",
    ")\n",
    "\n",
    "# Learn a projection from 128 dimensions to 2\n",
    "pca = PCA(n_components=2)\n",
    "X_transformed = pca.fit_transform(link_features)"
   ]
  },
  {
   "cell_type": "code",
   "execution_count": 49,
   "metadata": {
    "colab": {
     "base_uri": "https://localhost:8080/",
     "height": 1000
    },
    "executionInfo": {
     "elapsed": 1159,
     "status": "ok",
     "timestamp": 1601283278296,
     "user": {
      "displayName": "A D",
      "photoUrl": "",
      "userId": "14584707532892118607"
     },
     "user_tz": -120
    },
    "id": "10Ou4EfQ6nj2",
    "outputId": "b9235143-11dd-4460-846a-a18b84dfb659"
   },
   "outputs": [
    {
     "data": {
      "text/plain": [
       "array([['107', '505'],\n",
       "       ['395', '518'],\n",
       "       ['227', '577'],\n",
       "       ['389', '451'],\n",
       "       ['353', '441'],\n",
       "       ['151', '597'],\n",
       "       ['289', '510'],\n",
       "       ['374', '311'],\n",
       "       ['365', '398'],\n",
       "       ['179', '518'],\n",
       "       ['179', '596'],\n",
       "       ['182', '317'],\n",
       "       ['84', '545'],\n",
       "       ['187', '270'],\n",
       "       ['48', '518'],\n",
       "       ['217', '229'],\n",
       "       ['466', '334'],\n",
       "       ['86', '578'],\n",
       "       ['128', '131'],\n",
       "       ['182', '198'],\n",
       "       ['299', '356'],\n",
       "       ['288', '317'],\n",
       "       ['225', '290'],\n",
       "       ['90', '238'],\n",
       "       ['101', '329'],\n",
       "       ['90', '227'],\n",
       "       ['321', '404'],\n",
       "       ['90', '597'],\n",
       "       ['427', '478'],\n",
       "       ['217', '439'],\n",
       "       ['135', '446'],\n",
       "       ['357', '515'],\n",
       "       ['32', '265'],\n",
       "       ['311', '613'],\n",
       "       ['166', '182'],\n",
       "       ['208', '601'],\n",
       "       ['414', '518'],\n",
       "       ['254', '265'],\n",
       "       ['517', '235'],\n",
       "       ['89', '558'],\n",
       "       ['235', '578'],\n",
       "       ['45', '518'],\n",
       "       ['147', '527'],\n",
       "       ['522', '559'],\n",
       "       ['276', '555'],\n",
       "       ['90', '351'],\n",
       "       ['372', '389'],\n",
       "       ['485', '259'],\n",
       "       ['75', '400'],\n",
       "       ['154', '210'],\n",
       "       ['212', '259'],\n",
       "       ['131', '248'],\n",
       "       ['56', '601'],\n",
       "       ['352', '616'],\n",
       "       ['501', '527'],\n",
       "       ['158', '437'],\n",
       "       ['244', '224'],\n",
       "       ['238', '289'],\n",
       "       ['134', '143'],\n",
       "       ['217', '580'],\n",
       "       ['217', '577'],\n",
       "       ['445', '229'],\n",
       "       ['265', '616'],\n",
       "       ['284', '545'],\n",
       "       ['90', '580'],\n",
       "       ['593', '597'],\n",
       "       ['265', '611'],\n",
       "       ['374', '334'],\n",
       "       ['252', '437'],\n",
       "       ['130', '355'],\n",
       "       ['89', '288'],\n",
       "       ['265', '458'],\n",
       "       ['198', '238'],\n",
       "       ['159', '360'],\n",
       "       ['470', '352'],\n",
       "       ['67', '340'],\n",
       "       ['398', '522'],\n",
       "       ['143', '407'],\n",
       "       ['345', '451'],\n",
       "       ['288', '570'],\n",
       "       ['276', '398'],\n",
       "       ['554', '389'],\n",
       "       ['89', '343'],\n",
       "       ['555', '565'],\n",
       "       ['597', '601'],\n",
       "       ['202', '343'],\n",
       "       ['56', '383'],\n",
       "       ['491', '566'],\n",
       "       ['245', '509'],\n",
       "       ['116', '248'],\n",
       "       ['119', '334'],\n",
       "       ['357', '543'],\n",
       "       ['67', '249'],\n",
       "       ['361', '603'],\n",
       "       ['43', '67'],\n",
       "       ['372', '616'],\n",
       "       ['89', '182'],\n",
       "       ['417', '578'],\n",
       "       ['342', '343'],\n",
       "       ['149', '276'],\n",
       "       ['212', '264'],\n",
       "       ['164', '491'],\n",
       "       ['169', '181'],\n",
       "       ['56', '198'],\n",
       "       ['254', '505'],\n",
       "       ['70', '275'],\n",
       "       ['265', '599'],\n",
       "       ['536', '558'],\n",
       "       ['116', '593'],\n",
       "       ['82', '389'],\n",
       "       ['151', '345'],\n",
       "       ['107', '265'],\n",
       "       ['228', '392'],\n",
       "       ['505', '550'],\n",
       "       ['265', '375'],\n",
       "       ['154', '252'],\n",
       "       ['271', '603'],\n",
       "       ['312', '389'],\n",
       "       ['224', '363'],\n",
       "       ['117', '119'],\n",
       "       ['208', '343'],\n",
       "       ['70', '265'],\n",
       "       ['169', '282'],\n",
       "       ['340', '473'],\n",
       "       ['245', '611'],\n",
       "       ['198', '265'],\n",
       "       ['217', '245'],\n",
       "       ['445', '576'],\n",
       "       ['195', '597'],\n",
       "       ['343', '558'],\n",
       "       ['90', '340'],\n",
       "       ['56', '87'],\n",
       "       ['149', '522'],\n",
       "       ['67', '434'],\n",
       "       ['524', '566'],\n",
       "       ['56', '611'],\n",
       "       ['498', '352'],\n",
       "       ['319', '398'],\n",
       "       ['198', '229'],\n",
       "       ['151', '580'],\n",
       "       ['289', '505'],\n",
       "       ['290', '563'],\n",
       "       ['182', '300'],\n",
       "       ['83', '288'],\n",
       "       ['225', '469'],\n",
       "       ['315', '524'],\n",
       "       ['182', '229'],\n",
       "       ['302', '536'],\n",
       "       ['248', '505'],\n",
       "       ['164', '515'],\n",
       "       ['143', '265'],\n",
       "       ['618', '471'],\n",
       "       ['545', '613'],\n",
       "       ['289', '317'],\n",
       "       ['58', '601'],\n",
       "       ['593', '576'],\n",
       "       ['62', '193'],\n",
       "       ['502', '126'],\n",
       "       ['372', '465'],\n",
       "       ['70', '102'],\n",
       "       ['75', '334'],\n",
       "       ['182', '375'],\n",
       "       ['60', '389'],\n",
       "       ['137', '329'],\n",
       "       ['229', '505'],\n",
       "       ['265', '288'],\n",
       "       ['70', '116'],\n",
       "       ['70', '181'],\n",
       "       ['67', '352'],\n",
       "       ['242', '434'],\n",
       "       ['288', '576'],\n",
       "       ['522', '555'],\n",
       "       ['217', '289'],\n",
       "       ['90', '208'],\n",
       "       ['136', '536'],\n",
       "       ['70', '570'],\n",
       "       ['274', '374'],\n",
       "       ['150', '329'],\n",
       "       ['377', '608'],\n",
       "       ['265', '352'],\n",
       "       ['340', '434'],\n",
       "       ['524', '579'],\n",
       "       ['142', '164'],\n",
       "       ['166', '183'],\n",
       "       ['39', '576'],\n",
       "       ['397', '581'],\n",
       "       ['288', '340'],\n",
       "       ['109', '181'],\n",
       "       ['68', '340'],\n",
       "       ['75', '117'],\n",
       "       ['67', '317'],\n",
       "       ['70', '189'],\n",
       "       ['516', '334'],\n",
       "       ['39', '509'],\n",
       "       ['195', '340'],\n",
       "       ['265', '350'],\n",
       "       ['151', '289'],\n",
       "       ['240', '450'],\n",
       "       ['172', '599'],\n",
       "       ['87', '229'],\n",
       "       ['279', '501'],\n",
       "       ['253', '498'],\n",
       "       ['143', '397'],\n",
       "       ['116', '536'],\n",
       "       ['265', '386'],\n",
       "       ['70', '611'],\n",
       "       ['70', '505'],\n",
       "       ['176', '427'],\n",
       "       ['498', '587'],\n",
       "       ['265', '302'],\n",
       "       ['215', '489'],\n",
       "       ['617', '59'],\n",
       "       ['563', '287'],\n",
       "       ['254', '60'],\n",
       "       ['86', '31'],\n",
       "       ['61', '536'],\n",
       "       ['278', '42'],\n",
       "       ['367', '511'],\n",
       "       ['5', '425'],\n",
       "       ['522', '150'],\n",
       "       ['607', '106'],\n",
       "       ['185', '477'],\n",
       "       ['201', '503'],\n",
       "       ['55', '409'],\n",
       "       ['207', '497'],\n",
       "       ['22', '514'],\n",
       "       ['243', '210'],\n",
       "       ['88', '181'],\n",
       "       ['575', '467'],\n",
       "       ['578', '432'],\n",
       "       ['558', '258'],\n",
       "       ['162', '115'],\n",
       "       ['458', '205'],\n",
       "       ['361', '96'],\n",
       "       ['424', '232'],\n",
       "       ['240', '141'],\n",
       "       ['420', '24'],\n",
       "       ['11', '429'],\n",
       "       ['581', '599'],\n",
       "       ['96', '521'],\n",
       "       ['535', '397'],\n",
       "       ['601', '505'],\n",
       "       ['166', '190'],\n",
       "       ['351', '222'],\n",
       "       ['415', '290'],\n",
       "       ['221', '437'],\n",
       "       ['227', '347'],\n",
       "       ['118', '601'],\n",
       "       ['76', '109'],\n",
       "       ['436', '289'],\n",
       "       ['142', '462'],\n",
       "       ['72', '310'],\n",
       "       ['467', '197'],\n",
       "       ['51', '392'],\n",
       "       ['471', '263'],\n",
       "       ['222', '373'],\n",
       "       ['286', '439'],\n",
       "       ['28', '94'],\n",
       "       ['258', '331'],\n",
       "       ['382', '70'],\n",
       "       ['530', '487'],\n",
       "       ['82', '420'],\n",
       "       ['274', '279'],\n",
       "       ['453', '484'],\n",
       "       ['213', '162'],\n",
       "       ['452', '305'],\n",
       "       ['588', '303'],\n",
       "       ['171', '223'],\n",
       "       ['384', '110'],\n",
       "       ['342', '582'],\n",
       "       ['133', '365'],\n",
       "       ['492', '357'],\n",
       "       ['131', '143'],\n",
       "       ['252', '516'],\n",
       "       ['173', '275'],\n",
       "       ['206', '217'],\n",
       "       ['437', '186'],\n",
       "       ['4', '163'],\n",
       "       ['455', '604'],\n",
       "       ['2', '120'],\n",
       "       ['195', '211'],\n",
       "       ['235', '84'],\n",
       "       ['385', '316'],\n",
       "       ['464', '354'],\n",
       "       ['159', '469'],\n",
       "       ['423', '321'],\n",
       "       ['135', '161'],\n",
       "       ['203', '260'],\n",
       "       ['418', '470'],\n",
       "       ['8', '302'],\n",
       "       ['468', '54'],\n",
       "       ['426', '372'],\n",
       "       ['311', '573'],\n",
       "       ['344', '343'],\n",
       "       ['488', '515'],\n",
       "       ['50', '332'],\n",
       "       ['333', '391'],\n",
       "       ['604', '86'],\n",
       "       ['263', '446'],\n",
       "       ['611', '605'],\n",
       "       ['356', '571'],\n",
       "       ['138', '145'],\n",
       "       ['268', '444'],\n",
       "       ['326', '77'],\n",
       "       ['561', '418'],\n",
       "       ['602', '403'],\n",
       "       ['569', '553'],\n",
       "       ['143', '221'],\n",
       "       ['397', '34'],\n",
       "       ['250', '335'],\n",
       "       ['69', '239'],\n",
       "       ['368', '494'],\n",
       "       ['288', '512'],\n",
       "       ['20', '554'],\n",
       "       ['472', '482'],\n",
       "       ['466', '578'],\n",
       "       ['610', '495'],\n",
       "       ['202', '225'],\n",
       "       ['375', '257'],\n",
       "       ['583', '344'],\n",
       "       ['340', '212'],\n",
       "       ['58', '416'],\n",
       "       ['217', '542'],\n",
       "       ['321', '493'],\n",
       "       ['591', '72'],\n",
       "       ['448', '129'],\n",
       "       ['208', '399'],\n",
       "       ['117', '20'],\n",
       "       ['616', '381'],\n",
       "       ['152', '411'],\n",
       "       ['381', '185'],\n",
       "       ['400', '506'],\n",
       "       ['132', '204'],\n",
       "       ['242', '240'],\n",
       "       ['528', '131'],\n",
       "       ['516', '180'],\n",
       "       ['502', '374'],\n",
       "       ['483', '363'],\n",
       "       ['552', '548'],\n",
       "       ['440', '89'],\n",
       "       ['26', '139'],\n",
       "       ['1', '175'],\n",
       "       ['428', '602'],\n",
       "       ['176', '256'],\n",
       "       ['388', '580'],\n",
       "       ['336', '268'],\n",
       "       ['414', '616'],\n",
       "       ['550', '148'],\n",
       "       ['543', '76'],\n",
       "       ['62', '585'],\n",
       "       ['548', '361'],\n",
       "       ['279', '269'],\n",
       "       ['301', '182'],\n",
       "       ['141', '153'],\n",
       "       ['134', '5'],\n",
       "       ['565', '498'],\n",
       "       ['17', '614'],\n",
       "       ['153', '16'],\n",
       "       ['392', '151'],\n",
       "       ['238', '157'],\n",
       "       ['192', '382'],\n",
       "       ['0', '333'],\n",
       "       ['314', '113'],\n",
       "       ['573', '301'],\n",
       "       ['459', '176'],\n",
       "       ['401', '140'],\n",
       "       ['451', '555'],\n",
       "       ['214', '375'],\n",
       "       ['553', '334'],\n",
       "       ['84', '434'],\n",
       "       ['484', '296'],\n",
       "       ['383', '226'],\n",
       "       ['29', '443'],\n",
       "       ['371', '112'],\n",
       "       ['71', '167'],\n",
       "       ['332', '56'],\n",
       "       ['412', '326'],\n",
       "       ['248', '249'],\n",
       "       ['350', '576'],\n",
       "       ['172', '592'],\n",
       "       ['292', '479'],\n",
       "       ['79', '483'],\n",
       "       ['441', '608'],\n",
       "       ['149', '533'],\n",
       "       ['498', '196'],\n",
       "       ['531', '473'],\n",
       "       ['35', '556'],\n",
       "       ['334', '475'],\n",
       "       ['102', '207'],\n",
       "       ['200', '540'],\n",
       "       ['589', '383'],\n",
       "       ['123', '51'],\n",
       "       ['335', '264'],\n",
       "       ['199', '327'],\n",
       "       ['432', '396'],\n",
       "       ['39', '389'],\n",
       "       ['38', '237'],\n",
       "       ['31', '559'],\n",
       "       ['130', '285'],\n",
       "       ['319', '558'],\n",
       "       ['277', '236'],\n",
       "       ['137', '46'],\n",
       "       ['93', '267'],\n",
       "       ['478', '281'],\n",
       "       ['511', '299'],\n",
       "       ['30', '214'],\n",
       "       ['289', '274'],\n",
       "       ['493', '393'],\n",
       "       ['556', '367'],\n",
       "       ['482', '74'],\n",
       "       ['352', '90'],\n",
       "       ['303', '398'],\n",
       "       ['505', '426'],\n",
       "       ['325', '531'],\n",
       "       ['364', '62'],\n",
       "       ['586', '11'],\n",
       "       ['499', '93'],\n",
       "       ['460', '26'],\n",
       "       ['9', '452'],\n",
       "       ['259', '99']], dtype=object)"
      ]
     },
     "execution_count": 49,
     "metadata": {
      "tags": []
     },
     "output_type": "execute_result"
    }
   ],
   "source": [
    "examples_test"
   ]
  },
  {
   "cell_type": "code",
   "execution_count": 54,
   "metadata": {
    "executionInfo": {
     "elapsed": 1389,
     "status": "ok",
     "timestamp": 1601283558823,
     "user": {
      "displayName": "A D",
      "photoUrl": "",
      "userId": "14584707532892118607"
     },
     "user_tz": -120
    },
    "id": "QbPFmtlHhQXx"
   },
   "outputs": [],
   "source": [
    "X_transformed_df = pd.DataFrame(X_transformed, columns = ['pca_1', 'pca_2'])\n",
    "X_transformed_df['link'] = labels_test.astype('str')\n",
    "X_transformed_df['node_1'] = examples_test[:, 0]\n",
    "X_transformed_df['node_2'] = examples_test[:, 1]\n",
    "X_transformed_df['nodes_1_2'] = X_transformed_df['node_1'] + '_' + X_transformed_df['node_2']"
   ]
  },
  {
   "cell_type": "code",
   "execution_count": 55,
   "metadata": {
    "colab": {
     "base_uri": "https://localhost:8080/",
     "height": 419
    },
    "executionInfo": {
     "elapsed": 1609,
     "status": "ok",
     "timestamp": 1601283574466,
     "user": {
      "displayName": "A D",
      "photoUrl": "",
      "userId": "14584707532892118607"
     },
     "user_tz": -120
    },
    "id": "Xra32L7I8DTV",
    "outputId": "e9858c52-502a-414d-e9f5-fd3d7b638cc9"
   },
   "outputs": [
    {
     "data": {
      "text/html": [
       "<div>\n",
       "<style scoped>\n",
       "    .dataframe tbody tr th:only-of-type {\n",
       "        vertical-align: middle;\n",
       "    }\n",
       "\n",
       "    .dataframe tbody tr th {\n",
       "        vertical-align: top;\n",
       "    }\n",
       "\n",
       "    .dataframe thead th {\n",
       "        text-align: right;\n",
       "    }\n",
       "</style>\n",
       "<table border=\"1\" class=\"dataframe\">\n",
       "  <thead>\n",
       "    <tr style=\"text-align: right;\">\n",
       "      <th></th>\n",
       "      <th>pca_1</th>\n",
       "      <th>pca_2</th>\n",
       "      <th>link</th>\n",
       "      <th>node_1</th>\n",
       "      <th>node_2</th>\n",
       "      <th>nodes_1_2</th>\n",
       "    </tr>\n",
       "  </thead>\n",
       "  <tbody>\n",
       "    <tr>\n",
       "      <th>0</th>\n",
       "      <td>-0.438900</td>\n",
       "      <td>0.022154</td>\n",
       "      <td>1</td>\n",
       "      <td>107</td>\n",
       "      <td>505</td>\n",
       "      <td>107_505</td>\n",
       "    </tr>\n",
       "    <tr>\n",
       "      <th>1</th>\n",
       "      <td>-0.490669</td>\n",
       "      <td>0.063806</td>\n",
       "      <td>1</td>\n",
       "      <td>395</td>\n",
       "      <td>518</td>\n",
       "      <td>395_518</td>\n",
       "    </tr>\n",
       "    <tr>\n",
       "      <th>2</th>\n",
       "      <td>-0.215391</td>\n",
       "      <td>0.034008</td>\n",
       "      <td>1</td>\n",
       "      <td>227</td>\n",
       "      <td>577</td>\n",
       "      <td>227_577</td>\n",
       "    </tr>\n",
       "    <tr>\n",
       "      <th>3</th>\n",
       "      <td>-0.330631</td>\n",
       "      <td>0.010727</td>\n",
       "      <td>1</td>\n",
       "      <td>389</td>\n",
       "      <td>451</td>\n",
       "      <td>389_451</td>\n",
       "    </tr>\n",
       "    <tr>\n",
       "      <th>4</th>\n",
       "      <td>-0.661562</td>\n",
       "      <td>0.130402</td>\n",
       "      <td>1</td>\n",
       "      <td>353</td>\n",
       "      <td>441</td>\n",
       "      <td>353_441</td>\n",
       "    </tr>\n",
       "    <tr>\n",
       "      <th>...</th>\n",
       "      <td>...</td>\n",
       "      <td>...</td>\n",
       "      <td>...</td>\n",
       "      <td>...</td>\n",
       "      <td>...</td>\n",
       "      <td>...</td>\n",
       "    </tr>\n",
       "    <tr>\n",
       "      <th>415</th>\n",
       "      <td>1.142947</td>\n",
       "      <td>0.249201</td>\n",
       "      <td>0</td>\n",
       "      <td>586</td>\n",
       "      <td>11</td>\n",
       "      <td>586_11</td>\n",
       "    </tr>\n",
       "    <tr>\n",
       "      <th>416</th>\n",
       "      <td>0.566811</td>\n",
       "      <td>-0.214378</td>\n",
       "      <td>0</td>\n",
       "      <td>499</td>\n",
       "      <td>93</td>\n",
       "      <td>499_93</td>\n",
       "    </tr>\n",
       "    <tr>\n",
       "      <th>417</th>\n",
       "      <td>1.083993</td>\n",
       "      <td>-0.644624</td>\n",
       "      <td>0</td>\n",
       "      <td>460</td>\n",
       "      <td>26</td>\n",
       "      <td>460_26</td>\n",
       "    </tr>\n",
       "    <tr>\n",
       "      <th>418</th>\n",
       "      <td>1.410936</td>\n",
       "      <td>0.726746</td>\n",
       "      <td>0</td>\n",
       "      <td>9</td>\n",
       "      <td>452</td>\n",
       "      <td>9_452</td>\n",
       "    </tr>\n",
       "    <tr>\n",
       "      <th>419</th>\n",
       "      <td>1.607284</td>\n",
       "      <td>0.011428</td>\n",
       "      <td>0</td>\n",
       "      <td>259</td>\n",
       "      <td>99</td>\n",
       "      <td>259_99</td>\n",
       "    </tr>\n",
       "  </tbody>\n",
       "</table>\n",
       "<p>420 rows × 6 columns</p>\n",
       "</div>"
      ],
      "text/plain": [
       "        pca_1     pca_2 link node_1 node_2 nodes_1_2\n",
       "0   -0.438900  0.022154    1    107    505   107_505\n",
       "1   -0.490669  0.063806    1    395    518   395_518\n",
       "2   -0.215391  0.034008    1    227    577   227_577\n",
       "3   -0.330631  0.010727    1    389    451   389_451\n",
       "4   -0.661562  0.130402    1    353    441   353_441\n",
       "..        ...       ...  ...    ...    ...       ...\n",
       "415  1.142947  0.249201    0    586     11    586_11\n",
       "416  0.566811 -0.214378    0    499     93    499_93\n",
       "417  1.083993 -0.644624    0    460     26    460_26\n",
       "418  1.410936  0.726746    0      9    452     9_452\n",
       "419  1.607284  0.011428    0    259     99    259_99\n",
       "\n",
       "[420 rows x 6 columns]"
      ]
     },
     "execution_count": 55,
     "metadata": {
      "tags": []
     },
     "output_type": "execute_result"
    }
   ],
   "source": [
    "X_transformed_df"
   ]
  },
  {
   "cell_type": "code",
   "execution_count": 51,
   "metadata": {
    "colab": {
     "base_uri": "https://localhost:8080/",
     "height": 34
    },
    "executionInfo": {
     "elapsed": 965,
     "status": "ok",
     "timestamp": 1601283357266,
     "user": {
      "displayName": "A D",
      "photoUrl": "",
      "userId": "14584707532892118607"
     },
     "user_tz": -120
    },
    "id": "PBUHUGSMkITf",
    "outputId": "2cc7f67d-5a1b-40bb-cd06-ec1ce9235cf3"
   },
   "outputs": [
    {
     "data": {
      "text/plain": [
       "(420, 3)"
      ]
     },
     "execution_count": 51,
     "metadata": {
      "tags": []
     },
     "output_type": "execute_result"
    }
   ],
   "source": [
    "X_transformed_df.shape"
   ]
  },
  {
   "cell_type": "code",
   "execution_count": 58,
   "metadata": {
    "colab": {
     "base_uri": "https://localhost:8080/",
     "height": 542
    },
    "executionInfo": {
     "elapsed": 1223,
     "status": "ok",
     "timestamp": 1601283743471,
     "user": {
      "displayName": "A D",
      "photoUrl": "",
      "userId": "14584707532892118607"
     },
     "user_tz": -120
    },
    "id": "xuCKRAXfg8C2",
    "outputId": "07f4d72e-60b9-4510-b96d-9b310ebdf97e"
   },
   "outputs": [
    {
     "data": {
      "text/html": [
       "<html>\n",
       "<head><meta charset=\"utf-8\" /></head>\n",
       "<body>\n",
       "    <div>\n",
       "            <script src=\"https://cdnjs.cloudflare.com/ajax/libs/mathjax/2.7.5/MathJax.js?config=TeX-AMS-MML_SVG\"></script><script type=\"text/javascript\">if (window.MathJax) {MathJax.Hub.Config({SVG: {font: \"STIX-Web\"}});}</script>\n",
       "                <script type=\"text/javascript\">window.PlotlyConfig = {MathJaxConfig: 'local'};</script>\n",
       "        <script src=\"https://cdn.plot.ly/plotly-latest.min.js\"></script>    \n",
       "            <div id=\"2b34fd53-96d3-412b-afd1-fc603311cc0e\" class=\"plotly-graph-div\" style=\"height:525px; width:100%;\"></div>\n",
       "            <script type=\"text/javascript\">\n",
       "                \n",
       "                    window.PLOTLYENV=window.PLOTLYENV || {};\n",
       "                    \n",
       "                if (document.getElementById(\"2b34fd53-96d3-412b-afd1-fc603311cc0e\")) {\n",
       "                    Plotly.newPlot(\n",
       "                        '2b34fd53-96d3-412b-afd1-fc603311cc0e',\n",
       "                        [{\"hoverlabel\": {\"namelength\": 0}, \"hovertemplate\": \"<b>%{hovertext}</b><br><br>link=1<br>pca_1=%{x}<br>pca_2=%{y}\", \"hovertext\": [\"107_505\", \"395_518\", \"227_577\", \"389_451\", \"353_441\", \"151_597\", \"289_510\", \"374_311\", \"365_398\", \"179_518\", \"179_596\", \"182_317\", \"84_545\", \"187_270\", \"48_518\", \"217_229\", \"466_334\", \"86_578\", \"128_131\", \"182_198\", \"299_356\", \"288_317\", \"225_290\", \"90_238\", \"101_329\", \"90_227\", \"321_404\", \"90_597\", \"427_478\", \"217_439\", \"135_446\", \"357_515\", \"32_265\", \"311_613\", \"166_182\", \"208_601\", \"414_518\", \"254_265\", \"517_235\", \"89_558\", \"235_578\", \"45_518\", \"147_527\", \"522_559\", \"276_555\", \"90_351\", \"372_389\", \"485_259\", \"75_400\", \"154_210\", \"212_259\", \"131_248\", \"56_601\", \"352_616\", \"501_527\", \"158_437\", \"244_224\", \"238_289\", \"134_143\", \"217_580\", \"217_577\", \"445_229\", \"265_616\", \"284_545\", \"90_580\", \"593_597\", \"265_611\", \"374_334\", \"252_437\", \"130_355\", \"89_288\", \"265_458\", \"198_238\", \"159_360\", \"470_352\", \"67_340\", \"398_522\", \"143_407\", \"345_451\", \"288_570\", \"276_398\", \"554_389\", \"89_343\", \"555_565\", \"597_601\", \"202_343\", \"56_383\", \"491_566\", \"245_509\", \"116_248\", \"119_334\", \"357_543\", \"67_249\", \"361_603\", \"43_67\", \"372_616\", \"89_182\", \"417_578\", \"342_343\", \"149_276\", \"212_264\", \"164_491\", \"169_181\", \"56_198\", \"254_505\", \"70_275\", \"265_599\", \"536_558\", \"116_593\", \"82_389\", \"151_345\", \"107_265\", \"228_392\", \"505_550\", \"265_375\", \"154_252\", \"271_603\", \"312_389\", \"224_363\", \"117_119\", \"208_343\", \"70_265\", \"169_282\", \"340_473\", \"245_611\", \"198_265\", \"217_245\", \"445_576\", \"195_597\", \"343_558\", \"90_340\", \"56_87\", \"149_522\", \"67_434\", \"524_566\", \"56_611\", \"498_352\", \"319_398\", \"198_229\", \"151_580\", \"289_505\", \"290_563\", \"182_300\", \"83_288\", \"225_469\", \"315_524\", \"182_229\", \"302_536\", \"248_505\", \"164_515\", \"143_265\", \"618_471\", \"545_613\", \"289_317\", \"58_601\", \"593_576\", \"62_193\", \"502_126\", \"372_465\", \"70_102\", \"75_334\", \"182_375\", \"60_389\", \"137_329\", \"229_505\", \"265_288\", \"70_116\", \"70_181\", \"67_352\", \"242_434\", \"288_576\", \"522_555\", \"217_289\", \"90_208\", \"136_536\", \"70_570\", \"274_374\", \"150_329\", \"377_608\", \"265_352\", \"340_434\", \"524_579\", \"142_164\", \"166_183\", \"39_576\", \"397_581\", \"288_340\", \"109_181\", \"68_340\", \"75_117\", \"67_317\", \"70_189\", \"516_334\", \"39_509\", \"195_340\", \"265_350\", \"151_289\", \"240_450\", \"172_599\", \"87_229\", \"279_501\", \"253_498\", \"143_397\", \"116_536\", \"265_386\", \"70_611\", \"70_505\", \"176_427\", \"498_587\", \"265_302\"], \"legendgroup\": \"link=1\", \"marker\": {\"color\": \"#636efa\", \"symbol\": \"circle\"}, \"mode\": \"markers\", \"name\": \"link=1\", \"showlegend\": true, \"type\": \"scatter\", \"x\": [-0.4389004046415343, -0.4906694708178284, -0.21539074256624927, -0.33063102626861396, -0.6615616258545661, -0.5783685860912664, -0.5128378798131783, -0.6334967468105003, -0.5670798524811198, -0.47704547918435664, -0.5623291195433965, -0.36729636562158763, -0.640987549234591, -0.5956642608886784, -0.5085340472749519, -0.3819959852746136, -0.6924836032978635, -0.595099333406229, -0.48114017606333415, -0.3894443346624996, -0.5321328015378209, -0.4632585281752204, -0.5480147833763336, -0.5124760925503357, -0.5142723207281776, -0.33109408277147906, -0.5305680728530501, -0.5709088807230298, -0.7038949051878819, -0.44991662780479436, -0.43426855774740414, -0.5237612534819637, -0.4522848932250282, -0.5218307276172504, -0.30837559900764105, -0.3873431359082259, -0.2746942570377813, -0.45268875622379723, -0.5628910885054488, -0.5467915962259972, -0.16291505738803266, -0.3945993001638094, -0.6874590078228116, -0.6327829643271937, -0.5279122393404386, -0.5669993096124967, -0.32549575109720275, -0.7040159665927831, -0.7087835701993682, -0.6375060819932645, -0.6881368160340018, -0.4457143812729898, -0.5324741314389765, -0.1783041717277282, -0.6237399314275646, -0.6069540855297441, -0.40044224357149416, -0.4486441370034036, -0.4055846315169973, -0.3726387237373681, -0.3542644035856817, -0.4719395211651408, -0.4622465845792421, -0.658814318154977, -0.40968785241829925, -0.4349519361627223, -0.5723437766689277, -0.6380910639065506, -0.5920946181023814, -0.4639011796944765, -0.5036231800764647, -0.32110577766034787, -0.46291691766650495, -0.47660618398077387, -0.5002374226451999, -0.5998654931056948, -0.5791172392166389, -0.27682603078574775, -0.15808455494111956, -0.4326705042728382, -0.6560155662290325, -0.31465087525661495, -0.5282667705157759, -0.5321924567569732, -0.4943222824887299, -0.4573570414516704, -0.3544491510877122, -0.5492707840176525, -0.4238592813506027, -0.3421866000317842, -0.7060718472287173, -0.5753043255428788, -0.5567885995617167, -0.5354658969826068, -0.49929625558048185, -0.5399896919480797, -0.48014969380310857, -0.6043924866169134, -0.5067938134798918, -0.5868530982246655, -0.5558455421448176, -0.4828586517553231, -0.16001863755919665, -0.5920108642321354, -0.4632848825938565, -0.41658623684548113, -0.3207612667989574, -0.44266645819088646, -0.5236256913509231, -0.15674980942747688, -0.2739221993152811, -0.38704763758504895, 0.012845601039382001, -0.4408847291762238, -0.4400847104344814, -0.6286608284274836, -0.22835699710749718, -0.4720516252441836, -0.5348748511775193, -0.7118449897204474, -0.4508363083478187, -0.27296178765192675, -0.49803836350887043, -0.47992662434587885, -0.387742111062503, -0.4095220105106568, -0.362082852879187, -0.32619287956486565, -0.5032758456074001, -0.4517134173320979, -0.5410415044707261, -0.5771092654811129, -0.670453634340943, -0.4167837985150735, -0.5096530238523345, -0.5006973053220404, -0.26299449286720145, -0.5619531635218689, -0.3997655245414034, -0.44115493920499893, -0.49472661526102657, -0.6147885188065542, -0.38752227417091994, -0.45797308172864964, -0.5484806965825739, -0.5488968471592539, -0.4447194461786356, -0.3083010927208013, -0.46828654646508167, -0.44524122819052253, -0.334643714742047, -0.23769928167127036, -0.6767271004252052, -0.4130173057406058, -0.40611001722406304, -0.45388713079150445, -0.5287888242151755, -0.6791731456191984, -0.5148777294312962, -0.31025160258010026, -0.6925176301505699, -0.3898597127437075, -0.4906355144205805, -0.6776420239353723, -0.4030671957251741, -0.3908525998119944, -0.39893906358847586, -0.3457369108973898, -0.26945087014835073, -0.38423339876128887, -0.33501233877721004, -0.5349119731678079, -0.41763802759917584, -0.47694244696531635, -0.36054415074316765, -0.36244955203952195, -0.5899450520431375, -0.656733876186463, -0.5708809029204065, -0.1789977103659656, -0.46172656350436986, -0.5545580915850009, -0.3687968426712226, -0.290950852865278, -0.38560081346298686, -0.26833734342994664, -0.5838337551889458, -0.34640545526712124, -0.5178230271166007, -0.7032700294724306, -0.54339428455501, -0.4900997682346385, -0.7119739575609796, -0.5360427909907254, -0.44843217317977596, -0.43304734639894427, -0.5555329314943113, -0.5184492242324011, -0.3776170803895008, -0.49080849722627434, -0.66377414764877, -0.5074718878577124, -0.35917086688121136, -0.4168617715910431, -0.16519818647328655, -0.36594894553801827, -0.45471929768581354, -0.5055956114847189, -0.4989155104527115, -0.31030423765724585], \"xaxis\": \"x\", \"y\": [0.02215441361834372, 0.06380577291478189, 0.034007646152424346, 0.01072741954687425, 0.13040203286141597, 0.09479608657724088, 0.0715005282929203, 0.10694323276959161, 0.12811903838075941, 0.1079365305637964, 0.106123346039966, 0.05937144622857205, 0.1271363997977423, 0.11495010304400236, 0.1200311411903915, 0.09632529311299172, 0.12933664149854465, 0.07701334909142606, 0.054051357990931206, 0.09096019923198445, 0.11356122586683276, 0.028816772692774873, 0.057593039411269586, 0.085868835799697, 0.17712809565186005, 0.03967727693980308, 0.05807810066394363, 0.08172209589052608, 0.14257161628643122, 0.06989379346766908, 0.05996024197223024, 0.0674060569563668, -0.04243506442060242, 0.06998488640870802, 0.06715966758599036, -0.06058945331135327, -0.03792634267736834, 0.02597887552869533, 0.06631215874637675, 0.13384616699289428, -0.13958612403479978, 0.07369413004085404, 0.09564490099716692, 0.0938226045310298, 0.05096856147293996, 0.09423967927382444, -0.013971241063705547, 0.13961800749392003, 0.12570743563067713, 0.11109869721825241, 0.1422086027755182, 0.005476049176744905, 0.05080461118961202, -0.2024418310188585, 0.04946343004034452, 0.13285649472488192, -0.023344683108420212, 0.14227878976206848, -0.01428463968767217, 0.0033069852111029334, 0.030764958957562597, -0.024722882571168208, 0.0533664129434564, 0.12105597408773736, 0.056137539187358934, 0.004644639814246277, 0.07693528026842181, 0.11052721375173441, 0.13457432686781728, 0.04255079147782705, 0.02402298945379664, 0.001922242681539251, 0.029622578828172114, 0.0588627445850842, 0.05090976471601805, 0.07331848012875751, 0.11761570368629672, -0.008189370763177823, -0.09272058510713686, 0.013959150375384524, 0.11129264330928806, 0.04041603774324416, 0.037260602746627, 0.19850645703021275, 0.06592774663908338, 0.04197305027973212, 0.07237285806112663, 0.1407587055677528, 0.03352976914940409, -0.05669903961644157, 0.13040353935284887, 0.08857494010866053, 0.07589063064663475, 0.056448958717376096, 0.06845058730199004, 0.06272186477008657, 0.04886067642723751, 0.09766699448542293, -0.01938224367339807, 0.08478473499912301, 0.1721305077503759, 0.046489313364645006, -0.0806585342740195, 0.07773268771192615, -0.007454648696755281, 0.05312502903883751, -0.04446737503323923, 0.06398725221858326, 0.038905787805850356, -0.16059359101078163, -0.03527015333311034, 0.04162964138013028, -0.1452764826547586, 0.019146234664532396, 0.01319372117706818, 0.10816782731054961, -0.030725176127119357, 0.06365171902716553, 0.07069754866815398, 0.13036397899676594, -0.04118307757025988, 0.06541555878120932, 0.06847197271701544, -0.0066059213487875855, 0.02942789831870075, 0.03815232903165042, -0.018220715540266295, 0.020203740544431855, 0.06445155178931902, 0.06061456352553634, 0.07946561123148302, 0.09805735871004623, 0.1157667270116257, 0.03823733784084634, 0.15892986303719117, 0.10299356538921003, -0.05878868023357487, 0.09197483587565812, 0.11373381275338752, 0.012413106657141494, 0.053834727969342244, 0.09195898015826616, -0.02619832982710372, 0.025993244315486067, 0.08267654879750871, 0.04942536675081362, 0.034313557654780676, 0.015958883825939366, 0.06955513914286542, 0.041695129077927544, -0.04626749811601259, -0.10189043372838082, 0.12010595985776613, 0.03972756228102678, 0.1053815997797424, 0.004183637557461813, 0.04815977996992895, 0.12956615287078788, 0.03341042615610162, -0.07392155362329329, 0.127111035838511, 0.01900916205520519, 0.09097061607326798, 0.10936050554640414, 0.10273624917403094, 0.01574999875276123, 0.028046779994111114, 0.053497738915096696, -0.0808893060803005, 0.10373964058302405, 0.0207395615082766, 0.07628876539404435, 0.0565108246125303, -0.01098840841707494, -0.024823645784698877, -0.016938286110062893, 0.09567684119035788, 0.11294963278287733, 0.16086484974654683, -0.1414410822937481, 0.02655149104671303, 0.12674118229816364, -0.0033844245158182857, 0.05492869091029451, 0.03871472253671407, -0.051975726841819885, 0.09936541530571986, 0.020853664441360446, 0.1369598800125536, 0.12644506502241448, 0.08329321527435031, 0.0708824620085474, 0.13385665311827716, 0.03704914975077087, 0.04176016618062, -0.01511467323565582, 0.08824157418442452, 0.12652044313527547, -0.0035057332484691923, 0.037364218147120716, 0.11946814503211584, 0.05317345390165142, -0.00261149779660591, -0.006641747553869972, -0.06976254483050104, 0.05440468861185873, 0.026666294796759724, 0.15729381180729823, 0.05827638143973889, 0.03667911438715887], \"yaxis\": \"y\"}, {\"hoverlabel\": {\"namelength\": 0}, \"hovertemplate\": \"<b>%{hovertext}</b><br><br>link=0<br>pca_1=%{x}<br>pca_2=%{y}\", \"hovertext\": [\"215_489\", \"617_59\", \"563_287\", \"254_60\", \"86_31\", \"61_536\", \"278_42\", \"367_511\", \"5_425\", \"522_150\", \"607_106\", \"185_477\", \"201_503\", \"55_409\", \"207_497\", \"22_514\", \"243_210\", \"88_181\", \"575_467\", \"578_432\", \"558_258\", \"162_115\", \"458_205\", \"361_96\", \"424_232\", \"240_141\", \"420_24\", \"11_429\", \"581_599\", \"96_521\", \"535_397\", \"601_505\", \"166_190\", \"351_222\", \"415_290\", \"221_437\", \"227_347\", \"118_601\", \"76_109\", \"436_289\", \"142_462\", \"72_310\", \"467_197\", \"51_392\", \"471_263\", \"222_373\", \"286_439\", \"28_94\", \"258_331\", \"382_70\", \"530_487\", \"82_420\", \"274_279\", \"453_484\", \"213_162\", \"452_305\", \"588_303\", \"171_223\", \"384_110\", \"342_582\", \"133_365\", \"492_357\", \"131_143\", \"252_516\", \"173_275\", \"206_217\", \"437_186\", \"4_163\", \"455_604\", \"2_120\", \"195_211\", \"235_84\", \"385_316\", \"464_354\", \"159_469\", \"423_321\", \"135_161\", \"203_260\", \"418_470\", \"8_302\", \"468_54\", \"426_372\", \"311_573\", \"344_343\", \"488_515\", \"50_332\", \"333_391\", \"604_86\", \"263_446\", \"611_605\", \"356_571\", \"138_145\", \"268_444\", \"326_77\", \"561_418\", \"602_403\", \"569_553\", \"143_221\", \"397_34\", \"250_335\", \"69_239\", \"368_494\", \"288_512\", \"20_554\", \"472_482\", \"466_578\", \"610_495\", \"202_225\", \"375_257\", \"583_344\", \"340_212\", \"58_416\", \"217_542\", \"321_493\", \"591_72\", \"448_129\", \"208_399\", \"117_20\", \"616_381\", \"152_411\", \"381_185\", \"400_506\", \"132_204\", \"242_240\", \"528_131\", \"516_180\", \"502_374\", \"483_363\", \"552_548\", \"440_89\", \"26_139\", \"1_175\", \"428_602\", \"176_256\", \"388_580\", \"336_268\", \"414_616\", \"550_148\", \"543_76\", \"62_585\", \"548_361\", \"279_269\", \"301_182\", \"141_153\", \"134_5\", \"565_498\", \"17_614\", \"153_16\", \"392_151\", \"238_157\", \"192_382\", \"0_333\", \"314_113\", \"573_301\", \"459_176\", \"401_140\", \"451_555\", \"214_375\", \"553_334\", \"84_434\", \"484_296\", \"383_226\", \"29_443\", \"371_112\", \"71_167\", \"332_56\", \"412_326\", \"248_249\", \"350_576\", \"172_592\", \"292_479\", \"79_483\", \"441_608\", \"149_533\", \"498_196\", \"531_473\", \"35_556\", \"334_475\", \"102_207\", \"200_540\", \"589_383\", \"123_51\", \"335_264\", \"199_327\", \"432_396\", \"39_389\", \"38_237\", \"31_559\", \"130_285\", \"319_558\", \"277_236\", \"137_46\", \"93_267\", \"478_281\", \"511_299\", \"30_214\", \"289_274\", \"493_393\", \"556_367\", \"482_74\", \"352_90\", \"303_398\", \"505_426\", \"325_531\", \"364_62\", \"586_11\", \"499_93\", \"460_26\", \"9_452\", \"259_99\"], \"legendgroup\": \"link=0\", \"marker\": {\"color\": \"#EF553B\", \"symbol\": \"circle\"}, \"mode\": \"markers\", \"name\": \"link=0\", \"showlegend\": true, \"type\": \"scatter\", \"x\": [1.3430319796827612, -0.4628919345329419, 0.3345183954841318, -0.4558954749451424, 0.3221207352333461, -0.26243324010781566, 0.42929324194734025, 0.595901231741881, 0.8093122947197656, 0.783223688029258, 0.006310016494972007, 1.028652656397347, 1.0215440396768207, 1.4930098186947096, 1.0677056079913168, -0.6574122827523309, 0.5767641378294671, -0.24809620355570963, 0.582219689624306, -0.1490939339533887, -0.29756693829243486, 0.6975931197721712, -0.371550695038329, 0.24866092313253435, 0.39687933093320793, 1.582444779882337, 1.6141964107168425, 0.8730686272772515, -0.3662695039532002, 0.7551911191058089, 0.9942385826287239, -0.4515614103070219, 0.5437215025505475, 0.588017831200992, 0.8752860376487125, 0.5778503156484727, 0.4292994359767378, 0.2406854504127621, 0.43762729954763946, -0.3708692760155386, 0.41347806441019663, 0.9001550273630816, 0.3849837683919472, 0.8436675225220017, 0.3673597940931672, 0.7878919762036783, -0.08980279284320156, 1.2025655414643568, 0.9978570354729517, 1.5868066072818612, 0.6606307142674663, 0.6927943690249565, 0.558031803708151, 0.29814692887779015, 0.9856668945896504, 1.0711246327232242, 0.10221383126670636, 1.7134792621175374, -0.24675355278535366, -0.08052122308192136, 0.4705167448175619, 0.16191486978814293, -0.3478158090317329, 0.5800757322855014, 0.14788351521842716, -0.49950904713124056, 1.528265399733856, 0.9959247753162571, -0.23718092683770858, -0.36339965907166244, 0.3687217097404232, 1.479358328172591, 0.8088671880100945, -0.25207703519994096, -0.07214778184324498, 0.33870953548360877, -0.4025632410618125, 0.4564404706900857, 0.3992414556627888, -0.057252530007178615, -0.12678605060229178, -0.33144549979614185, 0.35377670931039673, 0.3773272438334025, -0.49119380837764975, 0.29873060834055126, 0.802158932636099, 0.0647789093926227, 1.2326848689624825, 0.7463999461373803, 0.30158996712750474, 0.9418271309145171, 0.5290199642826574, 1.0080712275191517, 1.2172305115188802, 0.5350197064706044, -0.14125119941940342, -0.2960643941897587, -0.11095140538608243, 0.6403896928880288, -0.1086815613938804, 0.6585856775172946, 0.20967369138239292, 0.04175362148903736, 0.17274914438428485, 1.8378872843000107, 0.40511153646680503, 0.019719801435555226, -0.42908890394897914, 1.3671240124910644, 1.2153417283475063, -0.28296890948366193, 0.9419215525536428, 0.026001141929930537, 1.2058794784105913, 0.6423201080443908, 0.03342139174188793, 1.7427594733009901, -0.3579695713868681, 1.924158898109302, 0.019939830288226153, 1.5661229046431338, 1.149374598312823, -0.019146216036217373, -0.5697369963355556, 0.5894309971686661, 0.7345276736889685, 0.2543391766129528, 0.8458429119200904, -0.3443019742411997, 0.46279554350328117, -0.6183200733931011, -0.4681466428441197, -0.05600137608054217, 0.07082210888641849, 0.29674851224186277, 0.10631952853463189, -0.2745826091226177, 0.5062376523900681, -0.15086542543871553, 0.879661992515227, 1.4978569458799444, 0.7224404721324185, 2.1497193312882517, 1.15717903160468, 0.6719001226146896, 0.5122951868920188, 1.913199756525543, -0.14537555544369204, -0.3863087586055019, 0.9077146018050217, 0.6496863158572638, 0.28348148676359625, -0.24100399631140246, 0.7945415384306124, 0.04914196931304667, 0.15417014958208958, 1.16534207810568, 1.905224399647634, 1.1744713926480075, 0.7433356716778942, 1.0846307551558567, 0.34712392058517805, 1.182649098215801, -0.06580861349030805, 0.33895499393546435, 0.3332047868929388, -0.5630880340871833, -0.4759068848965246, -0.32762886024536925, 0.51608747916846, 0.6485280253717172, 1.8304820911186348, 0.7833657218565651, 0.5610545432389069, -0.41835321401753556, 0.3895982053933587, 0.5454732660888403, -0.3892900058385158, 1.7059817326246245, -0.23004770845608374, 0.15305440751723634, 1.1111545203105087, -0.4680359408522926, -0.29117458230333176, -0.30857061757473747, 0.7151034870729843, 0.6959307911859596, -0.11355843567800254, 0.44297502953785617, -0.24912432927598777, 1.606311407000635, 1.0089875032625284, 0.8867148173601916, 0.03242404608313614, 1.255407950380411, 1.8035836878107112, 0.6939760538680583, 0.584224312107624, 0.9711232774736346, -0.26359623490705164, 0.5634799181796548, -0.2579673348848557, -0.3741610413939663, -0.4072628352834671, 1.142946737350157, 0.5668109825511537, 1.0839925988027876, 1.4109357035506562, 1.6072840339232104], \"xaxis\": \"x\", \"y\": [0.028880881877199432, 0.05857000945539934, -0.23235968035478702, 0.036909946978509335, -0.1124413500879547, -0.08622938183817638, -0.6460087591806923, -0.7684551149802891, -0.15198568204418145, 0.1422101312894772, -0.017163086129969914, 0.29484157924930715, 0.6521231046246977, 0.43956583692922824, 0.22215358457921297, 0.1121771773526201, 0.4955633781356629, -0.05715396550277289, -1.0059952440782796, -0.09591936689061586, 0.032008906277207344, 0.3646565619341279, -0.020884898849044275, 0.28063219848609205, -0.06270609512429863, -0.11480705124354589, -0.5576711410020858, -0.10108235542168739, 0.02354412572052107, 0.19191451383937722, 0.09157571228190317, 0.03435429988727668, 0.09714450066446811, -0.8636539522092759, 0.004249337317413027, 0.45094010928473005, -0.6635428556256182, -0.236957873835782, 0.14205480982340513, 0.008941557149649476, -0.3125608053093009, 0.452385970464916, -0.8651255115791718, 0.25919619757526147, 0.47443581701361626, -1.2637429693299478, -0.07096774439162956, -1.3909868808298367, 0.6462361963067743, 0.9353368548047079, -0.46808819936475304, -0.15172282620928945, 0.08945069809834555, -0.12498875388651505, -0.29840981443620646, 0.22369636928474654, -0.04433081984761629, 0.5342019351391167, -0.008127326771052726, -0.13206619369598127, -0.926424478083224, -0.03485767917421484, 0.050512293002577466, -0.05795731530162644, 0.016432303552685937, 0.010259058740453894, 0.14952505182561357, -0.276654592506846, 0.059449372478543504, 0.019347023524630656, 0.059383028926596616, 0.7272169949599285, -0.4868260114712743, -0.0777235077602788, -0.1187921715798483, -0.9665768859452161, 0.013434166718553969, -0.20364953927582544, -0.07549342059075, -0.13124883666693782, -0.19010062735156888, 0.016366830072543737, 0.5541703199248407, -0.2530891377757156, 0.10750659104339501, -0.6281379427542824, 0.006705929207416796, -0.1031188040139583, 0.955512122412098, -0.18292503833812046, -0.07593418680977468, -0.027698667045870973, -0.21809641205821959, -0.15397914241666888, -0.3316017648216674, -0.340079648374266, 0.1656204124896303, 0.02637518490865338, -0.08593709363916478, -0.32569692239195464, -0.15199231611167055, -1.0296881007415741, -0.25671291372351385, -0.07774837319621104, -0.10086603303650306, 0.9829574847642804, -0.4854106152156215, -0.17992005921542875, 0.03797341844061733, -0.5437266743330498, 0.28135834510265506, 0.09757328756779372, 0.4908774944285862, -0.06555472105590253, 0.14089397301529236, -0.43821337331002214, -0.3506599749906844, 0.91939112941325, 0.05813216570112426, 1.6844913086097981, -0.06820033319567026, 0.5699460716323104, 0.2134681480732309, 0.007509603147465782, 0.053870118761673136, -0.29729886649414633, -0.08228446091111097, -0.10023160163618852, -0.0038250174376123283, 0.018417987121379157, -0.2375086790804842, 0.08206272251390279, 0.013960972458153465, 0.16487958144959797, -0.007322142684265611, -0.29422344358615155, -0.25701567572967393, 0.0815888385885095, -0.20223134860534608, -0.009463903847497361, 0.34303767594654555, -0.010062495165213027, -0.036230531029500856, -0.8279196201673088, 0.693068602077689, -1.0215268318806559, 0.1496160902492905, 0.05414138574316747, 0.12515589276056904, 0.07672308542117436, 0.23169451021125798, -0.5823764363031162, -0.7373821255781258, 0.042883737248920355, 0.012808129715296733, -0.05927229205722541, -0.6192821000627097, 0.6442622690636384, 1.1942702888505436, 0.8685284862155397, -0.6999292816241006, -1.173494746254221, -0.45494867976041864, -1.324084788841296, -0.07485288434361882, -0.8988401476951927, -0.03668577279706794, 0.03913565793027559, 0.04082520029419383, 0.03396128356449356, -0.5214094162866331, -0.2166292183855352, 1.285843323774284, -0.17464123945163237, -0.735786510444158, 0.0009017324441592694, 0.07257274729586097, 0.24043991197915157, 0.054756703984803395, 0.02277253386781441, 0.06293380774702886, -0.012030062359500935, -0.0002180544957439132, 0.12917728982086546, 0.15749142302919922, -0.016122095456555883, 0.5907978727210311, -0.9939337607658779, 0.011403024525474889, -0.8545721728792318, 0.08671818284762559, 0.7380136471589943, -0.7297237951681775, -0.10487238265793505, -0.11729074486239427, 0.010112058047293145, 1.0548847409373814, -0.15029321605627913, -0.18669148033250654, -0.19904507661171894, -0.08883771529538739, -0.6795498766914966, 0.002819152708635648, 0.057925595713807544, 0.11280100854017328, 0.24920093962591988, -0.21437818135500133, -0.6446241391979842, 0.7267460010178443, 0.011427827582466967], \"yaxis\": \"y\"}],\n",
       "                        {\"legend\": {\"tracegroupgap\": 0}, \"template\": {\"data\": {\"bar\": [{\"error_x\": {\"color\": \"#2a3f5f\"}, \"error_y\": {\"color\": \"#2a3f5f\"}, \"marker\": {\"line\": {\"color\": \"#E5ECF6\", \"width\": 0.5}}, \"type\": \"bar\"}], \"barpolar\": [{\"marker\": {\"line\": {\"color\": \"#E5ECF6\", \"width\": 0.5}}, \"type\": \"barpolar\"}], \"carpet\": [{\"aaxis\": {\"endlinecolor\": \"#2a3f5f\", \"gridcolor\": \"white\", \"linecolor\": \"white\", \"minorgridcolor\": \"white\", \"startlinecolor\": \"#2a3f5f\"}, \"baxis\": {\"endlinecolor\": \"#2a3f5f\", \"gridcolor\": \"white\", \"linecolor\": \"white\", \"minorgridcolor\": \"white\", \"startlinecolor\": \"#2a3f5f\"}, \"type\": \"carpet\"}], \"choropleth\": [{\"colorbar\": {\"outlinewidth\": 0, \"ticks\": \"\"}, \"type\": \"choropleth\"}], \"contour\": [{\"colorbar\": {\"outlinewidth\": 0, \"ticks\": \"\"}, \"colorscale\": [[0.0, \"#0d0887\"], [0.1111111111111111, \"#46039f\"], [0.2222222222222222, \"#7201a8\"], [0.3333333333333333, \"#9c179e\"], [0.4444444444444444, \"#bd3786\"], [0.5555555555555556, \"#d8576b\"], [0.6666666666666666, \"#ed7953\"], [0.7777777777777778, \"#fb9f3a\"], [0.8888888888888888, \"#fdca26\"], [1.0, \"#f0f921\"]], \"type\": \"contour\"}], \"contourcarpet\": [{\"colorbar\": {\"outlinewidth\": 0, \"ticks\": \"\"}, \"type\": \"contourcarpet\"}], \"heatmap\": [{\"colorbar\": {\"outlinewidth\": 0, \"ticks\": \"\"}, \"colorscale\": [[0.0, \"#0d0887\"], [0.1111111111111111, \"#46039f\"], [0.2222222222222222, \"#7201a8\"], [0.3333333333333333, \"#9c179e\"], [0.4444444444444444, \"#bd3786\"], [0.5555555555555556, \"#d8576b\"], [0.6666666666666666, \"#ed7953\"], [0.7777777777777778, \"#fb9f3a\"], [0.8888888888888888, \"#fdca26\"], [1.0, \"#f0f921\"]], \"type\": \"heatmap\"}], \"heatmapgl\": [{\"colorbar\": {\"outlinewidth\": 0, \"ticks\": \"\"}, \"colorscale\": [[0.0, \"#0d0887\"], [0.1111111111111111, \"#46039f\"], [0.2222222222222222, \"#7201a8\"], [0.3333333333333333, \"#9c179e\"], [0.4444444444444444, \"#bd3786\"], [0.5555555555555556, \"#d8576b\"], [0.6666666666666666, \"#ed7953\"], [0.7777777777777778, \"#fb9f3a\"], [0.8888888888888888, \"#fdca26\"], [1.0, \"#f0f921\"]], \"type\": \"heatmapgl\"}], \"histogram\": [{\"marker\": {\"colorbar\": {\"outlinewidth\": 0, \"ticks\": \"\"}}, \"type\": \"histogram\"}], \"histogram2d\": [{\"colorbar\": {\"outlinewidth\": 0, \"ticks\": \"\"}, \"colorscale\": [[0.0, \"#0d0887\"], [0.1111111111111111, \"#46039f\"], [0.2222222222222222, \"#7201a8\"], [0.3333333333333333, \"#9c179e\"], [0.4444444444444444, \"#bd3786\"], [0.5555555555555556, \"#d8576b\"], [0.6666666666666666, \"#ed7953\"], [0.7777777777777778, \"#fb9f3a\"], [0.8888888888888888, \"#fdca26\"], [1.0, \"#f0f921\"]], \"type\": \"histogram2d\"}], \"histogram2dcontour\": [{\"colorbar\": {\"outlinewidth\": 0, \"ticks\": \"\"}, \"colorscale\": [[0.0, \"#0d0887\"], [0.1111111111111111, \"#46039f\"], [0.2222222222222222, \"#7201a8\"], [0.3333333333333333, \"#9c179e\"], [0.4444444444444444, \"#bd3786\"], [0.5555555555555556, \"#d8576b\"], [0.6666666666666666, \"#ed7953\"], [0.7777777777777778, \"#fb9f3a\"], [0.8888888888888888, \"#fdca26\"], [1.0, \"#f0f921\"]], \"type\": \"histogram2dcontour\"}], \"mesh3d\": [{\"colorbar\": {\"outlinewidth\": 0, \"ticks\": \"\"}, \"type\": \"mesh3d\"}], \"parcoords\": [{\"line\": {\"colorbar\": {\"outlinewidth\": 0, \"ticks\": \"\"}}, \"type\": \"parcoords\"}], \"pie\": [{\"automargin\": true, \"type\": \"pie\"}], \"scatter\": [{\"marker\": {\"colorbar\": {\"outlinewidth\": 0, \"ticks\": \"\"}}, \"type\": \"scatter\"}], \"scatter3d\": [{\"line\": {\"colorbar\": {\"outlinewidth\": 0, \"ticks\": \"\"}}, \"marker\": {\"colorbar\": {\"outlinewidth\": 0, \"ticks\": \"\"}}, \"type\": \"scatter3d\"}], \"scattercarpet\": [{\"marker\": {\"colorbar\": {\"outlinewidth\": 0, \"ticks\": \"\"}}, \"type\": \"scattercarpet\"}], \"scattergeo\": [{\"marker\": {\"colorbar\": {\"outlinewidth\": 0, \"ticks\": \"\"}}, \"type\": \"scattergeo\"}], \"scattergl\": [{\"marker\": {\"colorbar\": {\"outlinewidth\": 0, \"ticks\": \"\"}}, \"type\": \"scattergl\"}], \"scattermapbox\": [{\"marker\": {\"colorbar\": {\"outlinewidth\": 0, \"ticks\": \"\"}}, \"type\": \"scattermapbox\"}], \"scatterpolar\": [{\"marker\": {\"colorbar\": {\"outlinewidth\": 0, \"ticks\": \"\"}}, \"type\": \"scatterpolar\"}], \"scatterpolargl\": [{\"marker\": {\"colorbar\": {\"outlinewidth\": 0, \"ticks\": \"\"}}, \"type\": \"scatterpolargl\"}], \"scatterternary\": [{\"marker\": {\"colorbar\": {\"outlinewidth\": 0, \"ticks\": \"\"}}, \"type\": \"scatterternary\"}], \"surface\": [{\"colorbar\": {\"outlinewidth\": 0, \"ticks\": \"\"}, \"colorscale\": [[0.0, \"#0d0887\"], [0.1111111111111111, \"#46039f\"], [0.2222222222222222, \"#7201a8\"], [0.3333333333333333, \"#9c179e\"], [0.4444444444444444, \"#bd3786\"], [0.5555555555555556, \"#d8576b\"], [0.6666666666666666, \"#ed7953\"], [0.7777777777777778, \"#fb9f3a\"], [0.8888888888888888, \"#fdca26\"], [1.0, \"#f0f921\"]], \"type\": \"surface\"}], \"table\": [{\"cells\": {\"fill\": {\"color\": \"#EBF0F8\"}, \"line\": {\"color\": \"white\"}}, \"header\": {\"fill\": {\"color\": \"#C8D4E3\"}, \"line\": {\"color\": \"white\"}}, \"type\": \"table\"}]}, \"layout\": {\"annotationdefaults\": {\"arrowcolor\": \"#2a3f5f\", \"arrowhead\": 0, \"arrowwidth\": 1}, \"coloraxis\": {\"colorbar\": {\"outlinewidth\": 0, \"ticks\": \"\"}}, \"colorscale\": {\"diverging\": [[0, \"#8e0152\"], [0.1, \"#c51b7d\"], [0.2, \"#de77ae\"], [0.3, \"#f1b6da\"], [0.4, \"#fde0ef\"], [0.5, \"#f7f7f7\"], [0.6, \"#e6f5d0\"], [0.7, \"#b8e186\"], [0.8, \"#7fbc41\"], [0.9, \"#4d9221\"], [1, \"#276419\"]], \"sequential\": [[0.0, \"#0d0887\"], [0.1111111111111111, \"#46039f\"], [0.2222222222222222, \"#7201a8\"], [0.3333333333333333, \"#9c179e\"], [0.4444444444444444, \"#bd3786\"], [0.5555555555555556, \"#d8576b\"], [0.6666666666666666, \"#ed7953\"], [0.7777777777777778, \"#fb9f3a\"], [0.8888888888888888, \"#fdca26\"], [1.0, \"#f0f921\"]], \"sequentialminus\": [[0.0, \"#0d0887\"], [0.1111111111111111, \"#46039f\"], [0.2222222222222222, \"#7201a8\"], [0.3333333333333333, \"#9c179e\"], [0.4444444444444444, \"#bd3786\"], [0.5555555555555556, \"#d8576b\"], [0.6666666666666666, \"#ed7953\"], [0.7777777777777778, \"#fb9f3a\"], [0.8888888888888888, \"#fdca26\"], [1.0, \"#f0f921\"]]}, \"colorway\": [\"#636efa\", \"#EF553B\", \"#00cc96\", \"#ab63fa\", \"#FFA15A\", \"#19d3f3\", \"#FF6692\", \"#B6E880\", \"#FF97FF\", \"#FECB52\"], \"font\": {\"color\": \"#2a3f5f\"}, \"geo\": {\"bgcolor\": \"white\", \"lakecolor\": \"white\", \"landcolor\": \"#E5ECF6\", \"showlakes\": true, \"showland\": true, \"subunitcolor\": \"white\"}, \"hoverlabel\": {\"align\": \"left\"}, \"hovermode\": \"closest\", \"mapbox\": {\"style\": \"light\"}, \"paper_bgcolor\": \"white\", \"plot_bgcolor\": \"#E5ECF6\", \"polar\": {\"angularaxis\": {\"gridcolor\": \"white\", \"linecolor\": \"white\", \"ticks\": \"\"}, \"bgcolor\": \"#E5ECF6\", \"radialaxis\": {\"gridcolor\": \"white\", \"linecolor\": \"white\", \"ticks\": \"\"}}, \"scene\": {\"xaxis\": {\"backgroundcolor\": \"#E5ECF6\", \"gridcolor\": \"white\", \"gridwidth\": 2, \"linecolor\": \"white\", \"showbackground\": true, \"ticks\": \"\", \"zerolinecolor\": \"white\"}, \"yaxis\": {\"backgroundcolor\": \"#E5ECF6\", \"gridcolor\": \"white\", \"gridwidth\": 2, \"linecolor\": \"white\", \"showbackground\": true, \"ticks\": \"\", \"zerolinecolor\": \"white\"}, \"zaxis\": {\"backgroundcolor\": \"#E5ECF6\", \"gridcolor\": \"white\", \"gridwidth\": 2, \"linecolor\": \"white\", \"showbackground\": true, \"ticks\": \"\", \"zerolinecolor\": \"white\"}}, \"shapedefaults\": {\"line\": {\"color\": \"#2a3f5f\"}}, \"ternary\": {\"aaxis\": {\"gridcolor\": \"white\", \"linecolor\": \"white\", \"ticks\": \"\"}, \"baxis\": {\"gridcolor\": \"white\", \"linecolor\": \"white\", \"ticks\": \"\"}, \"bgcolor\": \"#E5ECF6\", \"caxis\": {\"gridcolor\": \"white\", \"linecolor\": \"white\", \"ticks\": \"\"}}, \"title\": {\"x\": 0.05}, \"xaxis\": {\"automargin\": true, \"gridcolor\": \"white\", \"linecolor\": \"white\", \"ticks\": \"\", \"title\": {\"standoff\": 15}, \"zerolinecolor\": \"white\", \"zerolinewidth\": 2}, \"yaxis\": {\"automargin\": true, \"gridcolor\": \"white\", \"linecolor\": \"white\", \"ticks\": \"\", \"title\": {\"standoff\": 15}, \"zerolinecolor\": \"white\", \"zerolinewidth\": 2}}}, \"title\": {\"text\": \"Scatter plot of test edges features transformed with a PCA\"}, \"xaxis\": {\"anchor\": \"y\", \"domain\": [0.0, 1.0], \"title\": {\"text\": \"pca_1\"}}, \"yaxis\": {\"anchor\": \"x\", \"domain\": [0.0, 1.0], \"title\": {\"text\": \"pca_2\"}}},\n",
       "                        {\"responsive\": true}\n",
       "                    ).then(function(){\n",
       "                            \n",
       "var gd = document.getElementById('2b34fd53-96d3-412b-afd1-fc603311cc0e');\n",
       "var x = new MutationObserver(function (mutations, observer) {{\n",
       "        var display = window.getComputedStyle(gd).display;\n",
       "        if (!display || display === 'none') {{\n",
       "            console.log([gd, 'removed!']);\n",
       "            Plotly.purge(gd);\n",
       "            observer.disconnect();\n",
       "        }}\n",
       "}});\n",
       "\n",
       "// Listen for the removal of the full notebook cells\n",
       "var notebookContainer = gd.closest('#notebook-container');\n",
       "if (notebookContainer) {{\n",
       "    x.observe(notebookContainer, {childList: true});\n",
       "}}\n",
       "\n",
       "// Listen for the clearing of the current output cell\n",
       "var outputEl = gd.closest('.output');\n",
       "if (outputEl) {{\n",
       "    x.observe(outputEl, {childList: true});\n",
       "}}\n",
       "\n",
       "                        })\n",
       "                };\n",
       "                \n",
       "            </script>\n",
       "        </div>\n",
       "</body>\n",
       "</html>"
      ]
     },
     "metadata": {
      "tags": []
     },
     "output_type": "display_data"
    }
   ],
   "source": [
    "# Plot a scatter of the reconstructed MSE\n",
    "fig10 = px.scatter(X_transformed_df, x=\"pca_1\", y=\"pca_2\", color=\"link\",\\\n",
    "                   hover_name=X_transformed_df['nodes_1_2'], title='Scatter plot of test edges features transformed with a PCA')\n",
    "\n",
    "fig10.show()"
   ]
  },
  {
   "cell_type": "markdown",
   "metadata": {
    "id": "grsz9DaaPyGd"
   },
   "source": [
    "## Other libraries to explore: [linkpred](https://pypi.org/project/linkpred/), [DGL](https://docs.dgl.ai/guide/training-link.html)"
   ]
  }
 ],
 "metadata": {
  "colab": {
   "collapsed_sections": [
    "bRryyOWYhTEg",
    "jALU9MSqhY7t",
    "lj-PEFcyhpPe",
    "LtIGwIcMVUHm",
    "YgyI7Cd8L8im",
    "efMd4oTHiFO8",
    "2C1cAQJIknVv",
    "bNZjnTAdkxPr",
    "YCG_mpqXk8Fk",
    "tcR1DAyQW08b",
    "78qDmbRAR9Hu",
    "_xMtVnUtlXal",
    "74Inc2Z4llbO",
    "peZA0Y9kl4sE",
    "3UVGoTstmAdt",
    "FLaWm1RE2aCE",
    "f5Ykm9jfmM65",
    "MKkomJNnX9Q9"
   ],
   "name": "link_prediction_fb_food_pages.ipynb",
   "provenance": []
  },
  "kernelspec": {
   "display_name": "Python 3",
   "language": "python",
   "name": "python3"
  },
  "language_info": {
   "codemirror_mode": {
    "name": "ipython",
    "version": 3
   },
   "file_extension": ".py",
   "mimetype": "text/x-python",
   "name": "python",
   "nbconvert_exporter": "python",
   "pygments_lexer": "ipython3",
   "version": "3.7.6"
  }
 },
 "nbformat": 4,
 "nbformat_minor": 1
}
